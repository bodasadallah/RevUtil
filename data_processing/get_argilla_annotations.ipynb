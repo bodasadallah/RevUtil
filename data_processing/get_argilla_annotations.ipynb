{
 "cells": [
  {
   "cell_type": "code",
   "execution_count": 19,
   "metadata": {},
   "outputs": [
    {
     "name": "stdout",
     "output_type": "stream",
     "text": [
      "/home/abdelrahman.sadallah/mbzuai/review_rewrite\n"
     ]
    }
   ],
   "source": [
    "import argilla as rg\n",
    "from datasets import load_dataset\n",
    "import os\n",
    "import sys\n",
    "from pathlib import Path\n",
    "module_path = Path(os.path.abspath(\"\")).parent\n",
    "print(module_path)\n",
    "sys.path.append(str(module_path))\n",
    "import inference.utils as utils\n",
    "from dotenv import load_dotenv\n",
    "load_dotenv()\n",
    "\n",
    "argilla_api_url = os.getenv(\"argilla_api_url\")\n",
    "argilla_api_key = os.getenv(\"argilla_api_key\")\n",
    "\n",
    "client = rg.Argilla(\n",
    "  api_url=argilla_api_url,\n",
    "  api_key=argilla_api_key\n",
    ")"
   ]
  },
  {
   "cell_type": "code",
   "execution_count": 20,
   "metadata": {},
   "outputs": [],
   "source": [
    "\n",
    "## get annotations\n",
    "credentials_file = '../data/human_annotation_2.1/annotators_credentials.txt'\n",
    "annotators_credentials = utils.read_from_file(credentials_file)\n",
    "NUM_ANNOTATORS = len(annotators_credentials)\n",
    "\n",
    "annotators = []\n",
    "datasets = client.datasets.list()\n",
    "human_annotations = []\n",
    "annotations = []\n",
    "for user in client.users:\n",
    "\n",
    "    # if user.role != \"annotator\":\n",
    "    #     continue\n",
    "    annotators.append({\n",
    "        'user': user,\n",
    "    })\n",
    "\n",
    "for ws in client.workspaces:\n",
    "    ws_name = ws.name\n",
    "    ds_name = ws.datasets[0].name\n",
    "\n",
    "    ds = client.datasets(workspace=ws_name, name=ds_name)\n",
    "    \n",
    "    if ds.progress()['completed'] >= 10:\n",
    "        human_annotations.append(ds)\n",
    "\n",
    "\n",
    "\n",
    "\n"
   ]
  },
  {
   "cell_type": "code",
   "execution_count": null,
   "metadata": {},
   "outputs": [],
   "source": []
  },
  {
   "cell_type": "code",
   "execution_count": 21,
   "metadata": {},
   "outputs": [
    {
     "name": "stderr",
     "output_type": "stream",
     "text": [
      "Saving the dataset (1/1 shards): 100%|██████████| 50/50 [00:00<00:00, 5432.47 examples/s]\n",
      "Saving the dataset (1/1 shards): 100%|██████████| 50/50 [00:00<00:00, 5455.08 examples/s]\n",
      "Saving the dataset (1/1 shards): 100%|██████████| 50/50 [00:00<00:00, 4517.58 examples/s]\n",
      "Saving the dataset (1/1 shards): 100%|██████████| 50/50 [00:00<00:00, 6160.85 examples/s]\n",
      "Saving the dataset (1/1 shards): 100%|██████████| 50/50 [00:00<00:00, 5899.16 examples/s]\n",
      "Saving the dataset (1/1 shards): 100%|██████████| 50/50 [00:00<00:00, 5982.29 examples/s]\n",
      "Saving the dataset (1/1 shards): 100%|██████████| 50/50 [00:00<00:00, 6714.54 examples/s]\n",
      "Saving the dataset (1/1 shards): 100%|██████████| 50/50 [00:00<00:00, 6123.61 examples/s]\n",
      "Saving the dataset (1/1 shards): 100%|██████████| 50/50 [00:00<00:00, 6113.79 examples/s]\n",
      "Saving the dataset (1/1 shards): 100%|██████████| 50/50 [00:00<00:00, 6174.27 examples/s]\n",
      "Saving the dataset (1/1 shards): 100%|██████████| 50/50 [00:00<00:00, 6314.06 examples/s]\n",
      "Saving the dataset (1/1 shards): 100%|██████████| 50/50 [00:00<00:00, 6183.74 examples/s]\n",
      "Saving the dataset (1/1 shards): 100%|██████████| 50/50 [00:00<00:00, 5815.57 examples/s]\n",
      "Saving the dataset (1/1 shards): 100%|██████████| 50/50 [00:00<00:00, 6086.46 examples/s]\n"
     ]
    }
   ],
   "source": [
    "for ds in human_annotations:\n",
    "    annotator_id = ds.name.split('_')[-1]\n",
    "    hf_ds = ds.records.to_datasets()\n",
    "    hf_ds.save_to_disk(f'../data/human_annotation_2.1/{annotator_id}')"
   ]
  }
 ],
 "metadata": {
  "kernelspec": {
   "display_name": "Python 3",
   "language": "python",
   "name": "python3"
  },
  "language_info": {
   "codemirror_mode": {
    "name": "ipython",
    "version": 3
   },
   "file_extension": ".py",
   "mimetype": "text/x-python",
   "name": "python",
   "nbconvert_exporter": "python",
   "pygments_lexer": "ipython3",
   "version": "3.10.14"
  }
 },
 "nbformat": 4,
 "nbformat_minor": 2
}
