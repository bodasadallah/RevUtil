{
 "cells": [
  {
   "cell_type": "code",
   "execution_count": 2,
   "metadata": {},
   "outputs": [
    {
     "name": "stdout",
     "output_type": "stream",
     "text": [
      "1\n",
      "2\n",
      "3\n",
      "4\n"
     ]
    }
   ],
   "source": [
    "import pandas as pd\n",
    "import numpy as np\n",
    "import sys\n",
    "import os\n",
    "import json\n",
    "import datasets\n",
    "parent_dir = os.path.abspath(os.path.join(os.getcwd(), \"..\"))\n",
    "sys.path.append(parent_dir)\n",
    "\n",
    "from utils import *\n",
    "\n",
    "aspects = [ 'actionability', 'grounding_specificity', 'verifiability', 'helpfulness']\n",
    "# labels = pd.re{ad_csv('/home/abdelrahman.sadallah/mbzuai/review_rewrite/data/human_annotation_gathered/all_human_annotations_processed.csv')\n",
    "human_data = {}\n",
    "for aspect in aspects:\n",
    "    human_data[aspect] = []\n",
    "    for conf in ['gold','silver', 'hard']:\n",
    "        raw_data = datasets.load_dataset('boda/review_evaluation_human_annotation', aspect, split=conf).to_pandas()\n",
    "        human_data[aspect].append(raw_data)\n",
    "\n",
    "    human_data[aspect] = pd.concat(human_data[aspect])\n",
    "\n",
    "    print(len(human_data))\n"
   ]
  },
  {
   "cell_type": "code",
   "execution_count": 7,
   "metadata": {},
   "outputs": [
    {
     "name": "stdout",
     "output_type": "stream",
     "text": [
      "not valid points for actionability is 0\n",
      "not valid points for grounding_specificity is 0\n",
      "not valid points for verifiability is 0\n",
      "not valid points for helpfulness is 0\n"
     ]
    }
   ],
   "source": [
    "final_data = {\n",
    "}\n",
    "\n",
    "\n",
    "for aspect in aspects:\n",
    "    not_valid_points = 0\n",
    "    final_data[aspect] = {\n",
    "          'boda' : [],\n",
    "    '6686ebe474531e4a1975636f' : [],\n",
    "    '6740484e188a64793529ee77' : [],\n",
    "    }\n",
    "    aspect_data = human_data[aspect]\n",
    "\n",
    "    for i, row in aspect_data.iterrows():\n",
    "        # data = row[aspect].replace(\"'\", \"\\\"\")\n",
    "        data = row[aspect]\n",
    "        # data = json.loads(data)\n",
    "        labels = data['labels']\n",
    "        annotators = data['annotators']\n",
    "        for label, annotator in zip(labels, annotators):\n",
    "            found = False\n",
    "            if len(annotators) != 3:\n",
    "                not_valid_points += 1\n",
    "                continue\n",
    "            ## search for the annotator in the unique id map\n",
    "\n",
    "            final_data[aspect][annotator].append(label)\n",
    "            # for key in final_data[aspect]:\n",
    "            #     if annotator in annotators_unique_id_batch_id_map[key]:\n",
    "            #         final_data[aspect][key].append(label)\n",
    "            #         found = True\n",
    "                    \n",
    "            # if not found:\n",
    "            #     print(f'annotator {annotator} not found in the unique id map')\n",
    "               \n",
    "    print(f'not valid points for {aspect} is {not_valid_points}')\n",
    "        \n"
   ]
  },
  {
   "cell_type": "code",
   "execution_count": 11,
   "metadata": {},
   "outputs": [
    {
     "name": "stdout",
     "output_type": "stream",
     "text": [
      "Aspect: actionability\n",
      "Number of data points: 1055\n",
      "Aspect: grounding_specificity\n",
      "Number of data points: 1054\n",
      "Aspect: verifiability\n",
      "Number of data points: 1054\n",
      "Aspect: helpfulness\n",
      "Number of data points: 1054\n"
     ]
    }
   ],
   "source": [
    "prinaple_name = {\n",
    "    'boda' : 'boda',\n",
    "    '6686ebe474531e4a1975636f' : 'Annotator_X',\n",
    "    '6740484e188a64793529ee77' : 'Annotator_Y',\n",
    "}\n",
    "\n",
    "with open('human_annotators_agreemetn.txt', 'w') as f:\n",
    "\n",
    "    for aspect in aspects:\n",
    "        \n",
    "        ## calculate the agreement between each pair of annotators\n",
    "        annotators = ['boda', '6686ebe474531e4a1975636f', '6740484e188a64793529ee77']\n",
    "        print(f'Aspect: {aspect}')\n",
    "        print(f'Number of data points: {len(final_data[aspect][annotators[0]])}')\n",
    "\n",
    "        aspect_average_results = { \"f1\": 0.0, \"kappa\": 0.0, \"kappa_quadratic\": 0.0,}\n",
    "        if aspect == 'verifiability':\n",
    "            aspect_average_results['f1_X'] = 0.0\n",
    "\n",
    "        \n",
    "        for i in range(len(annotators)):\n",
    "            for j in range(i+1, len(annotators)):\n",
    "                annotator1 = annotators[i]\n",
    "                annotator2 = annotators[j]\n",
    "                data1 = final_data[aspect][annotator1]\n",
    "                data2 = final_data[aspect][annotator2]\n",
    "\n",
    "                annotator1 = prinaple_name[annotator1]\n",
    "                annotator2 = prinaple_name[annotator2]\n",
    "\n",
    "                agreement = get_stats(data1, data2, aspect)\n",
    "\n",
    "                for key in aspect_average_results:\n",
    "                    aspect_average_results[key] += agreement[key]\n",
    "        \n",
    "        for key in aspect_average_results:\n",
    "            aspect_average_results[key] /= 3\n",
    "        f.write(f'Aspect: {aspect}\\n')\n",
    "        f.write(f'Average agreement between annotators\\n')\n",
    "        f.write(f'F1: {aspect_average_results[\"f1\"]}\\n')\n",
    "        f.write(f'Kappa: {aspect_average_results[\"kappa\"]}\\n')\n",
    "        f.write(f'Kappa Quadratic: {aspect_average_results[\"kappa_quadratic\"]}\\n')\n",
    "        if aspect == 'verifiability':\n",
    "            f.write(f'F1_X: {aspect_average_results[\"f1_X\"]}\\n')\n",
    "        f.write('\\n\\n')\n",
    "\n",
    "\n",
    "        \n",
    "\n",
    "\n"
   ]
  }
 ],
 "metadata": {
  "kernelspec": {
   "display_name": "Python 3",
   "language": "python",
   "name": "python3"
  },
  "language_info": {
   "codemirror_mode": {
    "name": "ipython",
    "version": 3
   },
   "file_extension": ".py",
   "mimetype": "text/x-python",
   "name": "python",
   "nbconvert_exporter": "python",
   "pygments_lexer": "ipython3",
   "version": "3.10.14"
  }
 },
 "nbformat": 4,
 "nbformat_minor": 2
}
