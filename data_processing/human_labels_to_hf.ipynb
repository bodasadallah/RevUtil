{
 "cells": [
  {
   "cell_type": "code",
   "execution_count": 1,
   "metadata": {},
   "outputs": [],
   "source": [
    "import pandas as pd\n",
    "import numpy as np\n",
    "import datasets\n",
    "import os\n",
    "import sys\n",
    "import ast\n",
    "parent_dir = os.path.abspath(os.path.join(os.getcwd(), \"..\"))\n",
    "sys.path.append(parent_dir)\n",
    "import utils\n",
    "\n",
    "human_data = pd.read_csv('/home/abdelrahman.sadallah/mbzuai/review_rewrite/data/human_annotation_gathered/all_human_annotations_processed.csv')\n",
    "aspects = [ 'actionability', 'grounding_specificity','verifiability', 'helpfulness', 'addressed_to_author','valid_point','addressed_to_author']\n",
    "\n",
    "accepted_annotators = ['boda', '6740484e188a64793529ee77', '6686ebe474531e4a1975636f']"
   ]
  },
  {
   "cell_type": "code",
   "execution_count": 2,
   "metadata": {},
   "outputs": [
    {
     "data": {
      "text/html": [
       "<div>\n",
       "<style scoped>\n",
       "    .dataframe tbody tr th:only-of-type {\n",
       "        vertical-align: middle;\n",
       "    }\n",
       "\n",
       "    .dataframe tbody tr th {\n",
       "        vertical-align: top;\n",
       "    }\n",
       "\n",
       "    .dataframe thead th {\n",
       "        text-align: right;\n",
       "    }\n",
       "</style>\n",
       "<table border=\"1\" class=\"dataframe\">\n",
       "  <thead>\n",
       "    <tr style=\"text-align: right;\">\n",
       "      <th></th>\n",
       "      <th>review_point</th>\n",
       "      <th>paper_id</th>\n",
       "      <th>venue</th>\n",
       "      <th>focused_review</th>\n",
       "      <th>actionability</th>\n",
       "      <th>actionability_label</th>\n",
       "      <th>actionability_label_type</th>\n",
       "      <th>batch</th>\n",
       "      <th>grounding_specificity</th>\n",
       "      <th>grounding_specificity_label</th>\n",
       "      <th>...</th>\n",
       "      <th>helpfulness_label_type</th>\n",
       "      <th>professional_tone</th>\n",
       "      <th>professional_tone_label</th>\n",
       "      <th>professional_tone_label_type</th>\n",
       "      <th>valid_point</th>\n",
       "      <th>valid_point_label</th>\n",
       "      <th>valid_point_label_type</th>\n",
       "      <th>addressed_to_author</th>\n",
       "      <th>addressed_to_author_label</th>\n",
       "      <th>addressed_to_author_label_type</th>\n",
       "    </tr>\n",
       "  </thead>\n",
       "  <tbody>\n",
       "    <tr>\n",
       "      <th>0</th>\n",
       "      <td>- There were too many missing details (for exa...</td>\n",
       "      <td>ARR_2022_60_review</td>\n",
       "      <td>ARR_2022</td>\n",
       "      <td>- Underdefined and conflation of concepts - Se...</td>\n",
       "      <td>{'annotators': ['fZav2G06', 'DVRTnFRi', 'boda'...</td>\n",
       "      <td>4.0</td>\n",
       "      <td>silver</td>\n",
       "      <td>1</td>\n",
       "      <td>{'annotators': ['fZav2G06', 'DVRTnFRi', 'boda'...</td>\n",
       "      <td>NaN</td>\n",
       "      <td>...</td>\n",
       "      <td>NaN</td>\n",
       "      <td>{'annotators': ['fZav2G06', 'DVRTnFRi', 'boda'...</td>\n",
       "      <td>1.0</td>\n",
       "      <td>silver</td>\n",
       "      <td>{'annotators': ['fZav2G06', 'DVRTnFRi', 'boda'...</td>\n",
       "      <td>0.0</td>\n",
       "      <td>silver</td>\n",
       "      <td>{'annotators': [], 'labels': []}</td>\n",
       "      <td>NaN</td>\n",
       "      <td>NaN</td>\n",
       "    </tr>\n",
       "    <tr>\n",
       "      <th>1</th>\n",
       "      <td>- Section 4.3, model parameters and training. ...</td>\n",
       "      <td>ACL_2017_333_review</td>\n",
       "      <td>ACL_2017</td>\n",
       "      <td>There are some few details on the implementati...</td>\n",
       "      <td>{'annotators': ['fZav2G06', 'DVRTnFRi', 'boda'...</td>\n",
       "      <td>5.0</td>\n",
       "      <td>gold</td>\n",
       "      <td>1</td>\n",
       "      <td>{'annotators': ['fZav2G06', 'DVRTnFRi', 'boda'...</td>\n",
       "      <td>5.0</td>\n",
       "      <td>...</td>\n",
       "      <td>gold</td>\n",
       "      <td>{'annotators': ['fZav2G06', 'DVRTnFRi', 'boda'...</td>\n",
       "      <td>1.0</td>\n",
       "      <td>gold</td>\n",
       "      <td>{'annotators': ['fZav2G06', 'DVRTnFRi', 'boda'...</td>\n",
       "      <td>0.0</td>\n",
       "      <td>silver</td>\n",
       "      <td>{'annotators': [], 'labels': []}</td>\n",
       "      <td>NaN</td>\n",
       "      <td>NaN</td>\n",
       "    </tr>\n",
       "    <tr>\n",
       "      <th>2</th>\n",
       "      <td>- The differences in results in Table 2 are ve...</td>\n",
       "      <td>ARR_2022_269_review</td>\n",
       "      <td>ARR_2022</td>\n",
       "      <td>- It is not clear for me about the novelty of ...</td>\n",
       "      <td>{'annotators': ['fZav2G06', 'DVRTnFRi', 'boda'...</td>\n",
       "      <td>1.0</td>\n",
       "      <td>silver</td>\n",
       "      <td>1</td>\n",
       "      <td>{'annotators': ['fZav2G06', 'DVRTnFRi', 'boda'...</td>\n",
       "      <td>NaN</td>\n",
       "      <td>...</td>\n",
       "      <td>NaN</td>\n",
       "      <td>{'annotators': ['fZav2G06', 'DVRTnFRi', 'boda'...</td>\n",
       "      <td>1.0</td>\n",
       "      <td>silver</td>\n",
       "      <td>{'annotators': ['DVRTnFRi', 'boda'], 'labels':...</td>\n",
       "      <td>NaN</td>\n",
       "      <td>NaN</td>\n",
       "      <td>{'annotators': [], 'labels': []}</td>\n",
       "      <td>NaN</td>\n",
       "      <td>NaN</td>\n",
       "    </tr>\n",
       "  </tbody>\n",
       "</table>\n",
       "<p>3 rows × 26 columns</p>\n",
       "</div>"
      ],
      "text/plain": [
       "                                        review_point             paper_id  \\\n",
       "0  - There were too many missing details (for exa...   ARR_2022_60_review   \n",
       "1  - Section 4.3, model parameters and training. ...  ACL_2017_333_review   \n",
       "2  - The differences in results in Table 2 are ve...  ARR_2022_269_review   \n",
       "\n",
       "      venue                                     focused_review  \\\n",
       "0  ARR_2022  - Underdefined and conflation of concepts - Se...   \n",
       "1  ACL_2017  There are some few details on the implementati...   \n",
       "2  ARR_2022  - It is not clear for me about the novelty of ...   \n",
       "\n",
       "                                       actionability  actionability_label  \\\n",
       "0  {'annotators': ['fZav2G06', 'DVRTnFRi', 'boda'...                  4.0   \n",
       "1  {'annotators': ['fZav2G06', 'DVRTnFRi', 'boda'...                  5.0   \n",
       "2  {'annotators': ['fZav2G06', 'DVRTnFRi', 'boda'...                  1.0   \n",
       "\n",
       "  actionability_label_type  batch  \\\n",
       "0                   silver      1   \n",
       "1                     gold      1   \n",
       "2                   silver      1   \n",
       "\n",
       "                               grounding_specificity  \\\n",
       "0  {'annotators': ['fZav2G06', 'DVRTnFRi', 'boda'...   \n",
       "1  {'annotators': ['fZav2G06', 'DVRTnFRi', 'boda'...   \n",
       "2  {'annotators': ['fZav2G06', 'DVRTnFRi', 'boda'...   \n",
       "\n",
       "   grounding_specificity_label  ... helpfulness_label_type  \\\n",
       "0                          NaN  ...                    NaN   \n",
       "1                          5.0  ...                   gold   \n",
       "2                          NaN  ...                    NaN   \n",
       "\n",
       "                                   professional_tone professional_tone_label  \\\n",
       "0  {'annotators': ['fZav2G06', 'DVRTnFRi', 'boda'...                     1.0   \n",
       "1  {'annotators': ['fZav2G06', 'DVRTnFRi', 'boda'...                     1.0   \n",
       "2  {'annotators': ['fZav2G06', 'DVRTnFRi', 'boda'...                     1.0   \n",
       "\n",
       "  professional_tone_label_type  \\\n",
       "0                       silver   \n",
       "1                         gold   \n",
       "2                       silver   \n",
       "\n",
       "                                         valid_point  valid_point_label  \\\n",
       "0  {'annotators': ['fZav2G06', 'DVRTnFRi', 'boda'...                0.0   \n",
       "1  {'annotators': ['fZav2G06', 'DVRTnFRi', 'boda'...                0.0   \n",
       "2  {'annotators': ['DVRTnFRi', 'boda'], 'labels':...                NaN   \n",
       "\n",
       "  valid_point_label_type               addressed_to_author  \\\n",
       "0                 silver  {'annotators': [], 'labels': []}   \n",
       "1                 silver  {'annotators': [], 'labels': []}   \n",
       "2                    NaN  {'annotators': [], 'labels': []}   \n",
       "\n",
       "   addressed_to_author_label addressed_to_author_label_type  \n",
       "0                        NaN                            NaN  \n",
       "1                        NaN                            NaN  \n",
       "2                        NaN                            NaN  \n",
       "\n",
       "[3 rows x 26 columns]"
      ]
     },
     "execution_count": 2,
     "metadata": {},
     "output_type": "execute_result"
    }
   ],
   "source": [
    "human_data.head(3)"
   ]
  },
  {
   "cell_type": "code",
   "execution_count": 3,
   "metadata": {},
   "outputs": [],
   "source": [
    "from collections import Counter\n",
    "\n",
    "def most_frequent_value(arr):\n",
    "    count = Counter(arr)\n",
    "    most_common_value, frequency = count.most_common(1)[0]\n",
    "    return most_common_value, frequency"
   ]
  },
  {
   "cell_type": "code",
   "execution_count": 12,
   "metadata": {},
   "outputs": [],
   "source": [
    "processed_data = {}\n",
    "for aspect in aspects:\n",
    "    rows = []\n",
    "    include_columns = ['review_point','paper_id','venue','focused_review','batch', f'{aspect}',f'{aspect}_label', f'{aspect}_label_type']\n",
    "    aspect_data = human_data[include_columns]\n",
    "    for index, row in aspect_data.iterrows():\n",
    "        temp_row = row.copy()\n",
    "        labels_dict = ast.literal_eval(row[f'{aspect}'])\n",
    "        new_labels = []\n",
    "        new_annotators = []\n",
    "\n",
    "        # if 'boda' not in labels_dict['annotators']:\n",
    "        #     print(row)\n",
    "        \n",
    "        for annotator, label in zip(labels_dict['annotators'], labels_dict['labels']):\n",
    "            if utils.annotators_unique_id_batch_id_map_inv[annotator] in accepted_annotators:\n",
    "                new_labels.append(label)\n",
    "                new_annotators.append(utils.annotators_unique_id_batch_id_map_inv[annotator])\n",
    "\n",
    "        temp_row[f'{aspect}'] = {'annotators': new_annotators, 'labels': new_labels}\n",
    "\n",
    "        if len(new_labels) < 3:\n",
    "            continue\n",
    "\n",
    "        value, freq = most_frequent_value(new_labels)\n",
    "        if freq >= 3:\n",
    "            temp_row[f'{aspect}_label'] = value\n",
    "            temp_row[f'{aspect}_label_type'] = 'gold'\n",
    "        elif freq == 2:\n",
    "            temp_row[f'{aspect}_label'] = value\n",
    "            temp_row[f'{aspect}_label_type'] = 'silver'\n",
    "        else:\n",
    "            temp_row[f'{aspect}_label'] = value\n",
    "            temp_row[f'{aspect}_label_type'] = 'hard'\n",
    "        \n",
    "        rows.append(temp_row)\n",
    "        \n",
    "\n",
    "\n",
    "    processed_data[aspect] = pd.DataFrame(rows)"
   ]
  },
  {
   "cell_type": "code",
   "execution_count": 15,
   "metadata": {},
   "outputs": [],
   "source": [
    "hf_data = {}\n",
    "for aspect in aspects:\n",
    "    ds = {}\n",
    "\n",
    "    ds['gold'] = processed_data[aspect][processed_data[aspect][f'{aspect}_label_type'] == 'gold']\n",
    "    ds['silver'] = processed_data[aspect][processed_data[aspect][f'{aspect}_label_type'] == 'silver']\n",
    "    ds['hard'] = processed_data[aspect][processed_data[aspect][f'{aspect}_label_type'] == 'hard']\n",
    "\n",
    "    hf_data[aspect] = ds\n"
   ]
  },
  {
   "cell_type": "code",
   "execution_count": 20,
   "metadata": {},
   "outputs": [
    {
     "data": {
      "application/vnd.jupyter.widget-view+json": {
       "model_id": "30b34e91f2264af892ddb6f54ef10e0f",
       "version_major": 2,
       "version_minor": 0
      },
      "text/plain": [
       "Uploading the dataset shards:   0%|          | 0/1 [00:00<?, ?it/s]"
      ]
     },
     "metadata": {},
     "output_type": "display_data"
    },
    {
     "data": {
      "application/vnd.jupyter.widget-view+json": {
       "model_id": "2c74579493964a8ea9b90d372eb20eb8",
       "version_major": 2,
       "version_minor": 0
      },
      "text/plain": [
       "Creating parquet from Arrow format:   0%|          | 0/1 [00:00<?, ?ba/s]"
      ]
     },
     "metadata": {},
     "output_type": "display_data"
    },
    {
     "data": {
      "application/vnd.jupyter.widget-view+json": {
       "model_id": "a1440324ecc544dd9260393a215ac11f",
       "version_major": 2,
       "version_minor": 0
      },
      "text/plain": [
       "Uploading the dataset shards:   0%|          | 0/1 [00:00<?, ?it/s]"
      ]
     },
     "metadata": {},
     "output_type": "display_data"
    },
    {
     "data": {
      "application/vnd.jupyter.widget-view+json": {
       "model_id": "40f9393860c447f297c6dbebfda6b3c3",
       "version_major": 2,
       "version_minor": 0
      },
      "text/plain": [
       "Creating parquet from Arrow format:   0%|          | 0/1 [00:00<?, ?ba/s]"
      ]
     },
     "metadata": {},
     "output_type": "display_data"
    },
    {
     "data": {
      "application/vnd.jupyter.widget-view+json": {
       "model_id": "73bad89b855c4292af6ec9d738a32d49",
       "version_major": 2,
       "version_minor": 0
      },
      "text/plain": [
       "README.md:   0%|          | 0.00/739 [00:00<?, ?B/s]"
      ]
     },
     "metadata": {},
     "output_type": "display_data"
    },
    {
     "data": {
      "application/vnd.jupyter.widget-view+json": {
       "model_id": "0f5da925316f43dd80e8c29d472bda31",
       "version_major": 2,
       "version_minor": 0
      },
      "text/plain": [
       "Uploading the dataset shards:   0%|          | 0/1 [00:00<?, ?it/s]"
      ]
     },
     "metadata": {},
     "output_type": "display_data"
    },
    {
     "data": {
      "application/vnd.jupyter.widget-view+json": {
       "model_id": "9cfd9db5987c4c4d91b21fafab63d8a1",
       "version_major": 2,
       "version_minor": 0
      },
      "text/plain": [
       "Creating parquet from Arrow format:   0%|          | 0/1 [00:00<?, ?ba/s]"
      ]
     },
     "metadata": {},
     "output_type": "display_data"
    },
    {
     "data": {
      "application/vnd.jupyter.widget-view+json": {
       "model_id": "dea63a01d966452ca9f2dc6d59635889",
       "version_major": 2,
       "version_minor": 0
      },
      "text/plain": [
       "README.md:   0%|          | 0.00/1.50k [00:00<?, ?B/s]"
      ]
     },
     "metadata": {},
     "output_type": "display_data"
    },
    {
     "data": {
      "application/vnd.jupyter.widget-view+json": {
       "model_id": "842c5e84564343fd9dee094072bc4730",
       "version_major": 2,
       "version_minor": 0
      },
      "text/plain": [
       "Uploading the dataset shards:   0%|          | 0/1 [00:00<?, ?it/s]"
      ]
     },
     "metadata": {},
     "output_type": "display_data"
    },
    {
     "data": {
      "application/vnd.jupyter.widget-view+json": {
       "model_id": "bc95297044074895b0b97f7fcca98a5e",
       "version_major": 2,
       "version_minor": 0
      },
      "text/plain": [
       "Creating parquet from Arrow format:   0%|          | 0/1 [00:00<?, ?ba/s]"
      ]
     },
     "metadata": {},
     "output_type": "display_data"
    },
    {
     "data": {
      "application/vnd.jupyter.widget-view+json": {
       "model_id": "09994ed2d0a8489eb2b1325457a1ba30",
       "version_major": 2,
       "version_minor": 0
      },
      "text/plain": [
       "README.md:   0%|          | 0.00/2.20k [00:00<?, ?B/s]"
      ]
     },
     "metadata": {},
     "output_type": "display_data"
    },
    {
     "data": {
      "application/vnd.jupyter.widget-view+json": {
       "model_id": "3c84443eacbd411aa5804b7b8e124af8",
       "version_major": 2,
       "version_minor": 0
      },
      "text/plain": [
       "Uploading the dataset shards:   0%|          | 0/1 [00:00<?, ?it/s]"
      ]
     },
     "metadata": {},
     "output_type": "display_data"
    },
    {
     "data": {
      "application/vnd.jupyter.widget-view+json": {
       "model_id": "59ab5fa87ad742968be3d69227cecd76",
       "version_major": 2,
       "version_minor": 0
      },
      "text/plain": [
       "Creating parquet from Arrow format: 0ba [00:00, ?ba/s]"
      ]
     },
     "metadata": {},
     "output_type": "display_data"
    },
    {
     "data": {
      "application/vnd.jupyter.widget-view+json": {
       "model_id": "ee8803f9c11647ca9bd933f35b57423d",
       "version_major": 2,
       "version_minor": 0
      },
      "text/plain": [
       "README.md:   0%|          | 0.00/2.90k [00:00<?, ?B/s]"
      ]
     },
     "metadata": {},
     "output_type": "display_data"
    },
    {
     "data": {
      "application/vnd.jupyter.widget-view+json": {
       "model_id": "d751ece0d7a14160bb10a2ead6f73ac1",
       "version_major": 2,
       "version_minor": 0
      },
      "text/plain": [
       "Uploading the dataset shards:   0%|          | 0/1 [00:00<?, ?it/s]"
      ]
     },
     "metadata": {},
     "output_type": "display_data"
    },
    {
     "data": {
      "application/vnd.jupyter.widget-view+json": {
       "model_id": "4bd6bfc1384e4b70acdc5affeabacf98",
       "version_major": 2,
       "version_minor": 0
      },
      "text/plain": [
       "Creating parquet from Arrow format: 0ba [00:00, ?ba/s]"
      ]
     },
     "metadata": {},
     "output_type": "display_data"
    },
    {
     "data": {
      "application/vnd.jupyter.widget-view+json": {
       "model_id": "002435d8cd4e46e7a5eade5cf6cca967",
       "version_major": 2,
       "version_minor": 0
      },
      "text/plain": [
       "README.md:   0%|          | 0.00/3.55k [00:00<?, ?B/s]"
      ]
     },
     "metadata": {},
     "output_type": "display_data"
    }
   ],
   "source": [
    "for key in hf_data.keys():\n",
    "    dataset_dict = datasets.DatasetDict()\n",
    "    for sub_key in hf_data[key].keys():\n",
    "        aspect_hf_ds = datasets.Dataset.from_pandas(hf_data[key][sub_key])\n",
    "        dataset_dict[sub_key] = aspect_hf_ds\n",
    "\n",
    "    aspect_hf_ds.push_to_hub(f\"boda/review_evaluation_human_annotation\", config_name=key, private=True)"
   ]
  }
 ],
 "metadata": {
  "kernelspec": {
   "display_name": "Python 3",
   "language": "python",
   "name": "python3"
  },
  "language_info": {
   "codemirror_mode": {
    "name": "ipython",
    "version": 3
   },
   "file_extension": ".py",
   "mimetype": "text/x-python",
   "name": "python",
   "nbconvert_exporter": "python",
   "pygments_lexer": "ipython3",
   "version": "3.10.14"
  }
 },
 "nbformat": 4,
 "nbformat_minor": 2
}
