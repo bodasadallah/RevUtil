{
 "cells": [
  {
   "cell_type": "code",
   "execution_count": 8,
   "metadata": {},
   "outputs": [],
   "source": [
    "import pandas as pd\n",
    "import numpy as np\n",
    "import datasets\n",
    "import os\n",
    "import sys\n",
    "import ast\n",
    "parent_dir = os.path.abspath(os.path.join(os.getcwd(), \"..\"))\n",
    "sys.path.append(parent_dir)\n",
    "import utils\n",
    "\n",
    "human_data = pd.read_csv('/home/abdelrahman.sadallah/mbzuai/review_rewrite/data/human_annotation_gathered/all_human_annotations_processed.csv')\n",
    "aspects = [ 'actionability', 'grounding_specificity','verifiability', 'helpfulness', 'addressed_to_author','valid_point','professional_tone']\n",
    "\n",
    "accepted_annotators = ['boda', '6740484e188a64793529ee77', '6686ebe474531e4a1975636f']"
   ]
  },
  {
   "cell_type": "code",
   "execution_count": 9,
   "metadata": {},
   "outputs": [
    {
     "data": {
      "text/html": [
       "<div>\n",
       "<style scoped>\n",
       "    .dataframe tbody tr th:only-of-type {\n",
       "        vertical-align: middle;\n",
       "    }\n",
       "\n",
       "    .dataframe tbody tr th {\n",
       "        vertical-align: top;\n",
       "    }\n",
       "\n",
       "    .dataframe thead th {\n",
       "        text-align: right;\n",
       "    }\n",
       "</style>\n",
       "<table border=\"1\" class=\"dataframe\">\n",
       "  <thead>\n",
       "    <tr style=\"text-align: right;\">\n",
       "      <th></th>\n",
       "      <th>review_point</th>\n",
       "      <th>paper_id</th>\n",
       "      <th>venue</th>\n",
       "      <th>focused_review</th>\n",
       "      <th>actionability</th>\n",
       "      <th>actionability_label</th>\n",
       "      <th>actionability_label_type</th>\n",
       "      <th>batch</th>\n",
       "      <th>grounding_specificity</th>\n",
       "      <th>grounding_specificity_label</th>\n",
       "      <th>...</th>\n",
       "      <th>helpfulness_label_type</th>\n",
       "      <th>professional_tone</th>\n",
       "      <th>professional_tone_label</th>\n",
       "      <th>professional_tone_label_type</th>\n",
       "      <th>valid_point</th>\n",
       "      <th>valid_point_label</th>\n",
       "      <th>valid_point_label_type</th>\n",
       "      <th>addressed_to_author</th>\n",
       "      <th>addressed_to_author_label</th>\n",
       "      <th>addressed_to_author_label_type</th>\n",
       "    </tr>\n",
       "  </thead>\n",
       "  <tbody>\n",
       "    <tr>\n",
       "      <th>0</th>\n",
       "      <td>- There were too many missing details (for exa...</td>\n",
       "      <td>ARR_2022_60_review</td>\n",
       "      <td>ARR_2022</td>\n",
       "      <td>- Underdefined and conflation of concepts - Se...</td>\n",
       "      <td>{'annotators': ['fZav2G06', 'DVRTnFRi', 'boda'...</td>\n",
       "      <td>4.0</td>\n",
       "      <td>silver</td>\n",
       "      <td>1</td>\n",
       "      <td>{'annotators': ['fZav2G06', 'DVRTnFRi', 'boda'...</td>\n",
       "      <td>NaN</td>\n",
       "      <td>...</td>\n",
       "      <td>NaN</td>\n",
       "      <td>{'annotators': ['fZav2G06', 'DVRTnFRi', 'boda'...</td>\n",
       "      <td>1.0</td>\n",
       "      <td>silver</td>\n",
       "      <td>{'annotators': ['fZav2G06', 'DVRTnFRi', 'boda'...</td>\n",
       "      <td>0.0</td>\n",
       "      <td>silver</td>\n",
       "      <td>{'annotators': [], 'labels': []}</td>\n",
       "      <td>NaN</td>\n",
       "      <td>NaN</td>\n",
       "    </tr>\n",
       "    <tr>\n",
       "      <th>1</th>\n",
       "      <td>- Section 4.3, model parameters and training. ...</td>\n",
       "      <td>ACL_2017_333_review</td>\n",
       "      <td>ACL_2017</td>\n",
       "      <td>There are some few details on the implementati...</td>\n",
       "      <td>{'annotators': ['fZav2G06', 'DVRTnFRi', 'boda'...</td>\n",
       "      <td>5.0</td>\n",
       "      <td>gold</td>\n",
       "      <td>1</td>\n",
       "      <td>{'annotators': ['fZav2G06', 'DVRTnFRi', 'boda'...</td>\n",
       "      <td>5.0</td>\n",
       "      <td>...</td>\n",
       "      <td>gold</td>\n",
       "      <td>{'annotators': ['fZav2G06', 'DVRTnFRi', 'boda'...</td>\n",
       "      <td>1.0</td>\n",
       "      <td>gold</td>\n",
       "      <td>{'annotators': ['fZav2G06', 'DVRTnFRi', 'boda'...</td>\n",
       "      <td>0.0</td>\n",
       "      <td>silver</td>\n",
       "      <td>{'annotators': [], 'labels': []}</td>\n",
       "      <td>NaN</td>\n",
       "      <td>NaN</td>\n",
       "    </tr>\n",
       "    <tr>\n",
       "      <th>2</th>\n",
       "      <td>- The differences in results in Table 2 are ve...</td>\n",
       "      <td>ARR_2022_269_review</td>\n",
       "      <td>ARR_2022</td>\n",
       "      <td>- It is not clear for me about the novelty of ...</td>\n",
       "      <td>{'annotators': ['fZav2G06', 'DVRTnFRi', 'boda'...</td>\n",
       "      <td>1.0</td>\n",
       "      <td>silver</td>\n",
       "      <td>1</td>\n",
       "      <td>{'annotators': ['fZav2G06', 'DVRTnFRi', 'boda'...</td>\n",
       "      <td>NaN</td>\n",
       "      <td>...</td>\n",
       "      <td>NaN</td>\n",
       "      <td>{'annotators': ['fZav2G06', 'DVRTnFRi', 'boda'...</td>\n",
       "      <td>1.0</td>\n",
       "      <td>silver</td>\n",
       "      <td>{'annotators': ['DVRTnFRi', 'boda'], 'labels':...</td>\n",
       "      <td>NaN</td>\n",
       "      <td>NaN</td>\n",
       "      <td>{'annotators': [], 'labels': []}</td>\n",
       "      <td>NaN</td>\n",
       "      <td>NaN</td>\n",
       "    </tr>\n",
       "  </tbody>\n",
       "</table>\n",
       "<p>3 rows × 26 columns</p>\n",
       "</div>"
      ],
      "text/plain": [
       "                                        review_point             paper_id  \\\n",
       "0  - There were too many missing details (for exa...   ARR_2022_60_review   \n",
       "1  - Section 4.3, model parameters and training. ...  ACL_2017_333_review   \n",
       "2  - The differences in results in Table 2 are ve...  ARR_2022_269_review   \n",
       "\n",
       "      venue                                     focused_review  \\\n",
       "0  ARR_2022  - Underdefined and conflation of concepts - Se...   \n",
       "1  ACL_2017  There are some few details on the implementati...   \n",
       "2  ARR_2022  - It is not clear for me about the novelty of ...   \n",
       "\n",
       "                                       actionability  actionability_label  \\\n",
       "0  {'annotators': ['fZav2G06', 'DVRTnFRi', 'boda'...                  4.0   \n",
       "1  {'annotators': ['fZav2G06', 'DVRTnFRi', 'boda'...                  5.0   \n",
       "2  {'annotators': ['fZav2G06', 'DVRTnFRi', 'boda'...                  1.0   \n",
       "\n",
       "  actionability_label_type  batch  \\\n",
       "0                   silver      1   \n",
       "1                     gold      1   \n",
       "2                   silver      1   \n",
       "\n",
       "                               grounding_specificity  \\\n",
       "0  {'annotators': ['fZav2G06', 'DVRTnFRi', 'boda'...   \n",
       "1  {'annotators': ['fZav2G06', 'DVRTnFRi', 'boda'...   \n",
       "2  {'annotators': ['fZav2G06', 'DVRTnFRi', 'boda'...   \n",
       "\n",
       "   grounding_specificity_label  ... helpfulness_label_type  \\\n",
       "0                          NaN  ...                    NaN   \n",
       "1                          5.0  ...                   gold   \n",
       "2                          NaN  ...                    NaN   \n",
       "\n",
       "                                   professional_tone professional_tone_label  \\\n",
       "0  {'annotators': ['fZav2G06', 'DVRTnFRi', 'boda'...                     1.0   \n",
       "1  {'annotators': ['fZav2G06', 'DVRTnFRi', 'boda'...                     1.0   \n",
       "2  {'annotators': ['fZav2G06', 'DVRTnFRi', 'boda'...                     1.0   \n",
       "\n",
       "  professional_tone_label_type  \\\n",
       "0                       silver   \n",
       "1                         gold   \n",
       "2                       silver   \n",
       "\n",
       "                                         valid_point  valid_point_label  \\\n",
       "0  {'annotators': ['fZav2G06', 'DVRTnFRi', 'boda'...                0.0   \n",
       "1  {'annotators': ['fZav2G06', 'DVRTnFRi', 'boda'...                0.0   \n",
       "2  {'annotators': ['DVRTnFRi', 'boda'], 'labels':...                NaN   \n",
       "\n",
       "  valid_point_label_type               addressed_to_author  \\\n",
       "0                 silver  {'annotators': [], 'labels': []}   \n",
       "1                 silver  {'annotators': [], 'labels': []}   \n",
       "2                    NaN  {'annotators': [], 'labels': []}   \n",
       "\n",
       "   addressed_to_author_label addressed_to_author_label_type  \n",
       "0                        NaN                            NaN  \n",
       "1                        NaN                            NaN  \n",
       "2                        NaN                            NaN  \n",
       "\n",
       "[3 rows x 26 columns]"
      ]
     },
     "execution_count": 9,
     "metadata": {},
     "output_type": "execute_result"
    }
   ],
   "source": [
    "human_data.head(3)"
   ]
  },
  {
   "cell_type": "code",
   "execution_count": 10,
   "metadata": {},
   "outputs": [],
   "source": [
    "from collections import Counter\n",
    "\n",
    "def most_frequent_value(arr):\n",
    "    count = Counter(arr)\n",
    "    most_common_value, frequency = count.most_common(1)[0]\n",
    "    return most_common_value, frequency"
   ]
  },
  {
   "cell_type": "code",
   "execution_count": 11,
   "metadata": {},
   "outputs": [
    {
     "name": "stderr",
     "output_type": "stream",
     "text": [
      "/tmp/ipykernel_3255480/1811724354.py:8: SettingWithCopyWarning: \n",
      "A value is trying to be set on a copy of a slice from a DataFrame.\n",
      "Try using .loc[row_indexer,col_indexer] = value instead\n",
      "\n",
      "See the caveats in the documentation: https://pandas.pydata.org/pandas-docs/stable/user_guide/indexing.html#returning-a-view-versus-a-copy\n",
      "  aspect_data['id'] = aspect_data.index\n",
      "/tmp/ipykernel_3255480/1811724354.py:8: SettingWithCopyWarning: \n",
      "A value is trying to be set on a copy of a slice from a DataFrame.\n",
      "Try using .loc[row_indexer,col_indexer] = value instead\n",
      "\n",
      "See the caveats in the documentation: https://pandas.pydata.org/pandas-docs/stable/user_guide/indexing.html#returning-a-view-versus-a-copy\n",
      "  aspect_data['id'] = aspect_data.index\n",
      "/tmp/ipykernel_3255480/1811724354.py:8: SettingWithCopyWarning: \n",
      "A value is trying to be set on a copy of a slice from a DataFrame.\n",
      "Try using .loc[row_indexer,col_indexer] = value instead\n",
      "\n",
      "See the caveats in the documentation: https://pandas.pydata.org/pandas-docs/stable/user_guide/indexing.html#returning-a-view-versus-a-copy\n",
      "  aspect_data['id'] = aspect_data.index\n",
      "/tmp/ipykernel_3255480/1811724354.py:8: SettingWithCopyWarning: \n",
      "A value is trying to be set on a copy of a slice from a DataFrame.\n",
      "Try using .loc[row_indexer,col_indexer] = value instead\n",
      "\n",
      "See the caveats in the documentation: https://pandas.pydata.org/pandas-docs/stable/user_guide/indexing.html#returning-a-view-versus-a-copy\n",
      "  aspect_data['id'] = aspect_data.index\n",
      "/tmp/ipykernel_3255480/1811724354.py:8: SettingWithCopyWarning: \n",
      "A value is trying to be set on a copy of a slice from a DataFrame.\n",
      "Try using .loc[row_indexer,col_indexer] = value instead\n",
      "\n",
      "See the caveats in the documentation: https://pandas.pydata.org/pandas-docs/stable/user_guide/indexing.html#returning-a-view-versus-a-copy\n",
      "  aspect_data['id'] = aspect_data.index\n",
      "/tmp/ipykernel_3255480/1811724354.py:8: SettingWithCopyWarning: \n",
      "A value is trying to be set on a copy of a slice from a DataFrame.\n",
      "Try using .loc[row_indexer,col_indexer] = value instead\n",
      "\n",
      "See the caveats in the documentation: https://pandas.pydata.org/pandas-docs/stable/user_guide/indexing.html#returning-a-view-versus-a-copy\n",
      "  aspect_data['id'] = aspect_data.index\n",
      "/tmp/ipykernel_3255480/1811724354.py:8: SettingWithCopyWarning: \n",
      "A value is trying to be set on a copy of a slice from a DataFrame.\n",
      "Try using .loc[row_indexer,col_indexer] = value instead\n",
      "\n",
      "See the caveats in the documentation: https://pandas.pydata.org/pandas-docs/stable/user_guide/indexing.html#returning-a-view-versus-a-copy\n",
      "  aspect_data['id'] = aspect_data.index\n"
     ]
    }
   ],
   "source": [
    "processed_data = {}\n",
    "for aspect in aspects:\n",
    "    rows = []\n",
    "    include_columns = ['review_point','paper_id','venue','focused_review','batch', f'{aspect}',f'{aspect}_label', f'{aspect}_label_type']\n",
    "    aspect_data = human_data[include_columns]\n",
    "\n",
    "    ### add ID column\n",
    "    aspect_data['id'] = aspect_data.index\n",
    "\n",
    "    for index, row in aspect_data.iterrows():\n",
    "        temp_row = row.copy()\n",
    "        labels_dict = ast.literal_eval(row[f'{aspect}'])\n",
    "        new_labels = []\n",
    "        new_annotators = []\n",
    "\n",
    "        # if 'boda' not in labels_dict['annotators']:\n",
    "        #     print(row)\n",
    "        \n",
    "        for annotator, label in zip(labels_dict['annotators'], labels_dict['labels']):\n",
    "            if utils.annotators_unique_id_batch_id_map_inv[annotator] in accepted_annotators:\n",
    "                new_labels.append(label)\n",
    "                new_annotators.append(utils.annotators_unique_id_batch_id_map_inv[annotator])\n",
    "\n",
    "        temp_row[f'{aspect}'] = {'annotators': new_annotators, 'labels': new_labels}\n",
    "\n",
    "        if len(new_labels) < 3:\n",
    "            continue\n",
    "\n",
    "        value, freq = most_frequent_value(new_labels)\n",
    "        if freq >= 3:\n",
    "            temp_row[f'{aspect}_label'] = value\n",
    "            temp_row[f'{aspect}_label_type'] = 'gold'\n",
    "        elif freq == 2:\n",
    "            temp_row[f'{aspect}_label'] = value\n",
    "            temp_row[f'{aspect}_label_type'] = 'silver'\n",
    "        else:\n",
    "            temp_row[f'{aspect}_label'] = value\n",
    "            temp_row[f'{aspect}_label_type'] = 'hard'\n",
    "        \n",
    "        rows.append(temp_row)\n",
    "        \n",
    "\n",
    "\n",
    "    processed_data[aspect] = pd.DataFrame(rows)"
   ]
  },
  {
   "cell_type": "code",
   "execution_count": 12,
   "metadata": {},
   "outputs": [],
   "source": [
    "hf_data = {}\n",
    "for aspect in aspects:\n",
    "    ds = {}\n",
    "\n",
    "    ds['gold'] = processed_data[aspect][processed_data[aspect][f'{aspect}_label_type'] == 'gold']\n",
    "    ds['silver'] = processed_data[aspect][processed_data[aspect][f'{aspect}_label_type'] == 'silver']\n",
    "    ds['hard'] = processed_data[aspect][processed_data[aspect][f'{aspect}_label_type'] == 'hard']\n",
    "\n",
    "    hf_data[aspect] = ds\n"
   ]
  },
  {
   "cell_type": "code",
   "execution_count": 13,
   "metadata": {},
   "outputs": [
    {
     "data": {
      "text/html": [
       "<div>\n",
       "<style scoped>\n",
       "    .dataframe tbody tr th:only-of-type {\n",
       "        vertical-align: middle;\n",
       "    }\n",
       "\n",
       "    .dataframe tbody tr th {\n",
       "        vertical-align: top;\n",
       "    }\n",
       "\n",
       "    .dataframe thead th {\n",
       "        text-align: right;\n",
       "    }\n",
       "</style>\n",
       "<table border=\"1\" class=\"dataframe\">\n",
       "  <thead>\n",
       "    <tr style=\"text-align: right;\">\n",
       "      <th></th>\n",
       "      <th>review_point</th>\n",
       "      <th>paper_id</th>\n",
       "      <th>venue</th>\n",
       "      <th>focused_review</th>\n",
       "      <th>batch</th>\n",
       "      <th>addressed_to_author</th>\n",
       "      <th>addressed_to_author_label</th>\n",
       "      <th>addressed_to_author_label_type</th>\n",
       "      <th>id</th>\n",
       "    </tr>\n",
       "  </thead>\n",
       "  <tbody>\n",
       "  </tbody>\n",
       "</table>\n",
       "</div>"
      ],
      "text/plain": [
       "Empty DataFrame\n",
       "Columns: [review_point, paper_id, venue, focused_review, batch, addressed_to_author, addressed_to_author_label, addressed_to_author_label_type, id]\n",
       "Index: []"
      ]
     },
     "execution_count": 13,
     "metadata": {},
     "output_type": "execute_result"
    }
   ],
   "source": [
    "hf_data['addressed_to_author']['hard']"
   ]
  },
  {
   "cell_type": "code",
   "execution_count": 14,
   "metadata": {},
   "outputs": [
    {
     "name": "stdout",
     "output_type": "stream",
     "text": [
      "actionability gold (295, 9)\n"
     ]
    },
    {
     "data": {
      "application/vnd.jupyter.widget-view+json": {
       "model_id": "aa5cfd7a0e204505aae8930898445e18",
       "version_major": 2,
       "version_minor": 0
      },
      "text/plain": [
       "Uploading the dataset shards:   0%|          | 0/1 [00:00<?, ?it/s]"
      ]
     },
     "metadata": {},
     "output_type": "display_data"
    },
    {
     "data": {
      "application/vnd.jupyter.widget-view+json": {
       "model_id": "8e40e14638cc4bd09ad11f3aa4a9aef1",
       "version_major": 2,
       "version_minor": 0
      },
      "text/plain": [
       "Creating parquet from Arrow format:   0%|          | 0/1 [00:00<?, ?ba/s]"
      ]
     },
     "metadata": {},
     "output_type": "display_data"
    },
    {
     "name": "stdout",
     "output_type": "stream",
     "text": [
      "actionability silver (581, 9)\n"
     ]
    },
    {
     "data": {
      "application/vnd.jupyter.widget-view+json": {
       "model_id": "8b9ba256519b429ab7cb68761728d299",
       "version_major": 2,
       "version_minor": 0
      },
      "text/plain": [
       "Uploading the dataset shards:   0%|          | 0/1 [00:00<?, ?it/s]"
      ]
     },
     "metadata": {},
     "output_type": "display_data"
    },
    {
     "data": {
      "application/vnd.jupyter.widget-view+json": {
       "model_id": "2805ae1c3fbd43b9ba41dca4a486d50b",
       "version_major": 2,
       "version_minor": 0
      },
      "text/plain": [
       "Creating parquet from Arrow format:   0%|          | 0/1 [00:00<?, ?ba/s]"
      ]
     },
     "metadata": {},
     "output_type": "display_data"
    },
    {
     "data": {
      "application/vnd.jupyter.widget-view+json": {
       "model_id": "bcd6ab253643454a9cb20f348718aa80",
       "version_major": 2,
       "version_minor": 0
      },
      "text/plain": [
       "README.md:   0%|          | 0.00/721 [00:00<?, ?B/s]"
      ]
     },
     "metadata": {},
     "output_type": "display_data"
    },
    {
     "name": "stdout",
     "output_type": "stream",
     "text": [
      "actionability hard (179, 9)\n"
     ]
    },
    {
     "data": {
      "application/vnd.jupyter.widget-view+json": {
       "model_id": "74a6c58a97ef40c3b36641cd75f965f7",
       "version_major": 2,
       "version_minor": 0
      },
      "text/plain": [
       "Uploading the dataset shards:   0%|          | 0/1 [00:00<?, ?it/s]"
      ]
     },
     "metadata": {},
     "output_type": "display_data"
    },
    {
     "data": {
      "application/vnd.jupyter.widget-view+json": {
       "model_id": "0cf47095439f44cb8d2355c7ae1f57ed",
       "version_major": 2,
       "version_minor": 0
      },
      "text/plain": [
       "Creating parquet from Arrow format:   0%|          | 0/1 [00:00<?, ?ba/s]"
      ]
     },
     "metadata": {},
     "output_type": "display_data"
    },
    {
     "data": {
      "application/vnd.jupyter.widget-view+json": {
       "model_id": "b4f3f8e2a97f4a84bbdf3c80da0b8ef7",
       "version_major": 2,
       "version_minor": 0
      },
      "text/plain": [
       "README.md:   0%|          | 0.00/836 [00:00<?, ?B/s]"
      ]
     },
     "metadata": {},
     "output_type": "display_data"
    },
    {
     "name": "stdout",
     "output_type": "stream",
     "text": [
      "grounding_specificity gold (402, 9)\n"
     ]
    },
    {
     "data": {
      "application/vnd.jupyter.widget-view+json": {
       "model_id": "5c69ee95a1e84a6587ed8b19b97666c8",
       "version_major": 2,
       "version_minor": 0
      },
      "text/plain": [
       "Uploading the dataset shards:   0%|          | 0/1 [00:00<?, ?it/s]"
      ]
     },
     "metadata": {},
     "output_type": "display_data"
    },
    {
     "data": {
      "application/vnd.jupyter.widget-view+json": {
       "model_id": "7f71ad3fb4284f90bff2693a8f98d325",
       "version_major": 2,
       "version_minor": 0
      },
      "text/plain": [
       "Creating parquet from Arrow format:   0%|          | 0/1 [00:00<?, ?ba/s]"
      ]
     },
     "metadata": {},
     "output_type": "display_data"
    },
    {
     "data": {
      "application/vnd.jupyter.widget-view+json": {
       "model_id": "ea4c7d74da974107930e0c894544bc02",
       "version_major": 2,
       "version_minor": 0
      },
      "text/plain": [
       "README.md:   0%|          | 0.00/942 [00:00<?, ?B/s]"
      ]
     },
     "metadata": {},
     "output_type": "display_data"
    },
    {
     "name": "stdout",
     "output_type": "stream",
     "text": [
      "grounding_specificity silver (503, 9)\n"
     ]
    },
    {
     "data": {
      "application/vnd.jupyter.widget-view+json": {
       "model_id": "ca8cafadbf154525a2980654d7b3333b",
       "version_major": 2,
       "version_minor": 0
      },
      "text/plain": [
       "Uploading the dataset shards:   0%|          | 0/1 [00:00<?, ?it/s]"
      ]
     },
     "metadata": {},
     "output_type": "display_data"
    },
    {
     "data": {
      "application/vnd.jupyter.widget-view+json": {
       "model_id": "c134649decd7401b9926852088940de2",
       "version_major": 2,
       "version_minor": 0
      },
      "text/plain": [
       "Creating parquet from Arrow format:   0%|          | 0/1 [00:00<?, ?ba/s]"
      ]
     },
     "metadata": {},
     "output_type": "display_data"
    },
    {
     "data": {
      "application/vnd.jupyter.widget-view+json": {
       "model_id": "41ab3aff0cba48a7b75d50b8bba1b949",
       "version_major": 2,
       "version_minor": 0
      },
      "text/plain": [
       "README.md:   0%|          | 0.00/1.68k [00:00<?, ?B/s]"
      ]
     },
     "metadata": {},
     "output_type": "display_data"
    },
    {
     "name": "stdout",
     "output_type": "stream",
     "text": [
      "grounding_specificity hard (149, 9)\n"
     ]
    },
    {
     "data": {
      "application/vnd.jupyter.widget-view+json": {
       "model_id": "25868d96d1cf42449dd7b500333a98ff",
       "version_major": 2,
       "version_minor": 0
      },
      "text/plain": [
       "Uploading the dataset shards:   0%|          | 0/1 [00:00<?, ?it/s]"
      ]
     },
     "metadata": {},
     "output_type": "display_data"
    },
    {
     "data": {
      "application/vnd.jupyter.widget-view+json": {
       "model_id": "3916c069c8a54280a109aabbe7cc498b",
       "version_major": 2,
       "version_minor": 0
      },
      "text/plain": [
       "Creating parquet from Arrow format:   0%|          | 0/1 [00:00<?, ?ba/s]"
      ]
     },
     "metadata": {},
     "output_type": "display_data"
    },
    {
     "data": {
      "application/vnd.jupyter.widget-view+json": {
       "model_id": "1793b056c21f4ded948f56d5a0d2fda7",
       "version_major": 2,
       "version_minor": 0
      },
      "text/plain": [
       "README.md:   0%|          | 0.00/1.80k [00:00<?, ?B/s]"
      ]
     },
     "metadata": {},
     "output_type": "display_data"
    },
    {
     "name": "stdout",
     "output_type": "stream",
     "text": [
      "verifiability gold (133, 9)\n"
     ]
    },
    {
     "data": {
      "application/vnd.jupyter.widget-view+json": {
       "model_id": "32b4258e10db4eb0b08df92b5004ecaa",
       "version_major": 2,
       "version_minor": 0
      },
      "text/plain": [
       "Uploading the dataset shards:   0%|          | 0/1 [00:00<?, ?it/s]"
      ]
     },
     "metadata": {},
     "output_type": "display_data"
    },
    {
     "data": {
      "application/vnd.jupyter.widget-view+json": {
       "model_id": "4e2a26f487f846a9b77e0367a03fb824",
       "version_major": 2,
       "version_minor": 0
      },
      "text/plain": [
       "Creating parquet from Arrow format:   0%|          | 0/1 [00:00<?, ?ba/s]"
      ]
     },
     "metadata": {},
     "output_type": "display_data"
    },
    {
     "data": {
      "application/vnd.jupyter.widget-view+json": {
       "model_id": "25ade5ce9d434da4b439759acab2fc35",
       "version_major": 2,
       "version_minor": 0
      },
      "text/plain": [
       "README.md:   0%|          | 0.00/1.92k [00:00<?, ?B/s]"
      ]
     },
     "metadata": {},
     "output_type": "display_data"
    },
    {
     "name": "stdout",
     "output_type": "stream",
     "text": [
      "verifiability silver (597, 9)\n"
     ]
    },
    {
     "data": {
      "application/vnd.jupyter.widget-view+json": {
       "model_id": "f7067c5b6400426f9f659310bd592ea2",
       "version_major": 2,
       "version_minor": 0
      },
      "text/plain": [
       "Uploading the dataset shards:   0%|          | 0/1 [00:00<?, ?it/s]"
      ]
     },
     "metadata": {},
     "output_type": "display_data"
    },
    {
     "data": {
      "application/vnd.jupyter.widget-view+json": {
       "model_id": "a397f17ae0424881a1dc2a236f3a44ab",
       "version_major": 2,
       "version_minor": 0
      },
      "text/plain": [
       "Creating parquet from Arrow format:   0%|          | 0/1 [00:00<?, ?ba/s]"
      ]
     },
     "metadata": {},
     "output_type": "display_data"
    },
    {
     "data": {
      "application/vnd.jupyter.widget-view+json": {
       "model_id": "2b4295254a6044039b6b03ac2f99f132",
       "version_major": 2,
       "version_minor": 0
      },
      "text/plain": [
       "README.md:   0%|          | 0.00/2.61k [00:00<?, ?B/s]"
      ]
     },
     "metadata": {},
     "output_type": "display_data"
    },
    {
     "name": "stdout",
     "output_type": "stream",
     "text": [
      "verifiability hard (324, 9)\n"
     ]
    },
    {
     "data": {
      "application/vnd.jupyter.widget-view+json": {
       "model_id": "babf25dd3e0d41f4b4d034ba472828dc",
       "version_major": 2,
       "version_minor": 0
      },
      "text/plain": [
       "Uploading the dataset shards:   0%|          | 0/1 [00:00<?, ?it/s]"
      ]
     },
     "metadata": {},
     "output_type": "display_data"
    },
    {
     "data": {
      "application/vnd.jupyter.widget-view+json": {
       "model_id": "214fd820f5ad45489dc8c93a29b8dcff",
       "version_major": 2,
       "version_minor": 0
      },
      "text/plain": [
       "Creating parquet from Arrow format:   0%|          | 0/1 [00:00<?, ?ba/s]"
      ]
     },
     "metadata": {},
     "output_type": "display_data"
    },
    {
     "data": {
      "application/vnd.jupyter.widget-view+json": {
       "model_id": "40c3b58bc2e541f0a15cd07fffc02851",
       "version_major": 2,
       "version_minor": 0
      },
      "text/plain": [
       "README.md:   0%|          | 0.00/2.72k [00:00<?, ?B/s]"
      ]
     },
     "metadata": {},
     "output_type": "display_data"
    },
    {
     "name": "stdout",
     "output_type": "stream",
     "text": [
      "helpfulness gold (211, 9)\n"
     ]
    },
    {
     "data": {
      "application/vnd.jupyter.widget-view+json": {
       "model_id": "4bf77b79528142f394324cbe710c9235",
       "version_major": 2,
       "version_minor": 0
      },
      "text/plain": [
       "Uploading the dataset shards:   0%|          | 0/1 [00:00<?, ?it/s]"
      ]
     },
     "metadata": {},
     "output_type": "display_data"
    },
    {
     "data": {
      "application/vnd.jupyter.widget-view+json": {
       "model_id": "32e471219f4e412c8a89697888d7845a",
       "version_major": 2,
       "version_minor": 0
      },
      "text/plain": [
       "Creating parquet from Arrow format:   0%|          | 0/1 [00:00<?, ?ba/s]"
      ]
     },
     "metadata": {},
     "output_type": "display_data"
    },
    {
     "data": {
      "application/vnd.jupyter.widget-view+json": {
       "model_id": "3085154e4cd14f30aa74b5c242e583c5",
       "version_major": 2,
       "version_minor": 0
      },
      "text/plain": [
       "README.md:   0%|          | 0.00/2.83k [00:00<?, ?B/s]"
      ]
     },
     "metadata": {},
     "output_type": "display_data"
    },
    {
     "name": "stdout",
     "output_type": "stream",
     "text": [
      "helpfulness silver (589, 9)\n"
     ]
    },
    {
     "data": {
      "application/vnd.jupyter.widget-view+json": {
       "model_id": "ba1ca59bc6b94785bac47eaf4d7c8d4a",
       "version_major": 2,
       "version_minor": 0
      },
      "text/plain": [
       "Uploading the dataset shards:   0%|          | 0/1 [00:00<?, ?it/s]"
      ]
     },
     "metadata": {},
     "output_type": "display_data"
    },
    {
     "data": {
      "application/vnd.jupyter.widget-view+json": {
       "model_id": "acb3306e116944c68409c830e5beec49",
       "version_major": 2,
       "version_minor": 0
      },
      "text/plain": [
       "Creating parquet from Arrow format:   0%|          | 0/1 [00:00<?, ?ba/s]"
      ]
     },
     "metadata": {},
     "output_type": "display_data"
    },
    {
     "data": {
      "application/vnd.jupyter.widget-view+json": {
       "model_id": "971cdf73037747f08da4af11a6f11b79",
       "version_major": 2,
       "version_minor": 0
      },
      "text/plain": [
       "README.md:   0%|          | 0.00/3.51k [00:00<?, ?B/s]"
      ]
     },
     "metadata": {},
     "output_type": "display_data"
    },
    {
     "name": "stdout",
     "output_type": "stream",
     "text": [
      "helpfulness hard (254, 9)\n"
     ]
    },
    {
     "data": {
      "application/vnd.jupyter.widget-view+json": {
       "model_id": "cc508986dd204cd59868cf8270ba69ff",
       "version_major": 2,
       "version_minor": 0
      },
      "text/plain": [
       "Uploading the dataset shards:   0%|          | 0/1 [00:00<?, ?it/s]"
      ]
     },
     "metadata": {},
     "output_type": "display_data"
    },
    {
     "data": {
      "application/vnd.jupyter.widget-view+json": {
       "model_id": "410573fb9797427aaa6254f96973e850",
       "version_major": 2,
       "version_minor": 0
      },
      "text/plain": [
       "Creating parquet from Arrow format:   0%|          | 0/1 [00:00<?, ?ba/s]"
      ]
     },
     "metadata": {},
     "output_type": "display_data"
    },
    {
     "data": {
      "application/vnd.jupyter.widget-view+json": {
       "model_id": "f5a1305bf1124089ab826041e5fad171",
       "version_major": 2,
       "version_minor": 0
      },
      "text/plain": [
       "README.md:   0%|          | 0.00/3.62k [00:00<?, ?B/s]"
      ]
     },
     "metadata": {},
     "output_type": "display_data"
    },
    {
     "name": "stdout",
     "output_type": "stream",
     "text": [
      "addressed_to_author gold (728, 9)\n"
     ]
    },
    {
     "data": {
      "application/vnd.jupyter.widget-view+json": {
       "model_id": "2a972510873d4916ab01a0f27bb7ea3c",
       "version_major": 2,
       "version_minor": 0
      },
      "text/plain": [
       "Uploading the dataset shards:   0%|          | 0/1 [00:00<?, ?it/s]"
      ]
     },
     "metadata": {},
     "output_type": "display_data"
    },
    {
     "data": {
      "application/vnd.jupyter.widget-view+json": {
       "model_id": "2f65bb4541a94f1c8e7dddc5350cc9f9",
       "version_major": 2,
       "version_minor": 0
      },
      "text/plain": [
       "Creating parquet from Arrow format:   0%|          | 0/1 [00:00<?, ?ba/s]"
      ]
     },
     "metadata": {},
     "output_type": "display_data"
    },
    {
     "data": {
      "application/vnd.jupyter.widget-view+json": {
       "model_id": "506bf71be8a64e40bab0e80a4b4a59f0",
       "version_major": 2,
       "version_minor": 0
      },
      "text/plain": [
       "README.md:   0%|          | 0.00/3.72k [00:00<?, ?B/s]"
      ]
     },
     "metadata": {},
     "output_type": "display_data"
    },
    {
     "name": "stdout",
     "output_type": "stream",
     "text": [
      "addressed_to_author silver (252, 9)\n"
     ]
    },
    {
     "data": {
      "application/vnd.jupyter.widget-view+json": {
       "model_id": "6f774546b74f47c9a52bb74b47789a74",
       "version_major": 2,
       "version_minor": 0
      },
      "text/plain": [
       "Uploading the dataset shards:   0%|          | 0/1 [00:00<?, ?it/s]"
      ]
     },
     "metadata": {},
     "output_type": "display_data"
    },
    {
     "data": {
      "application/vnd.jupyter.widget-view+json": {
       "model_id": "fb041a0872894c8cb4799e5704d5a42f",
       "version_major": 2,
       "version_minor": 0
      },
      "text/plain": [
       "Creating parquet from Arrow format:   0%|          | 0/1 [00:00<?, ?ba/s]"
      ]
     },
     "metadata": {},
     "output_type": "display_data"
    },
    {
     "data": {
      "application/vnd.jupyter.widget-view+json": {
       "model_id": "c750dfeea3df472abd4fc8ba7661bb71",
       "version_major": 2,
       "version_minor": 0
      },
      "text/plain": [
       "README.md:   0%|          | 0.00/4.45k [00:00<?, ?B/s]"
      ]
     },
     "metadata": {},
     "output_type": "display_data"
    },
    {
     "name": "stdout",
     "output_type": "stream",
     "text": [
      "addressed_to_author hard (0, 9)\n",
      "valid_point gold (838, 9)\n"
     ]
    },
    {
     "data": {
      "application/vnd.jupyter.widget-view+json": {
       "model_id": "99541c9d4251461791efaae36c868f79",
       "version_major": 2,
       "version_minor": 0
      },
      "text/plain": [
       "Uploading the dataset shards:   0%|          | 0/1 [00:00<?, ?it/s]"
      ]
     },
     "metadata": {},
     "output_type": "display_data"
    },
    {
     "data": {
      "application/vnd.jupyter.widget-view+json": {
       "model_id": "9ed6588c8e7746f79b937e43c26999ed",
       "version_major": 2,
       "version_minor": 0
      },
      "text/plain": [
       "Creating parquet from Arrow format:   0%|          | 0/1 [00:00<?, ?ba/s]"
      ]
     },
     "metadata": {},
     "output_type": "display_data"
    },
    {
     "data": {
      "application/vnd.jupyter.widget-view+json": {
       "model_id": "6170c79a2b474a06a039251683e6c03d",
       "version_major": 2,
       "version_minor": 0
      },
      "text/plain": [
       "README.md:   0%|          | 0.00/4.57k [00:00<?, ?B/s]"
      ]
     },
     "metadata": {},
     "output_type": "display_data"
    },
    {
     "name": "stdout",
     "output_type": "stream",
     "text": [
      "valid_point silver (169, 9)\n"
     ]
    },
    {
     "data": {
      "application/vnd.jupyter.widget-view+json": {
       "model_id": "453f52a64d5449ca820499987423cea1",
       "version_major": 2,
       "version_minor": 0
      },
      "text/plain": [
       "Uploading the dataset shards:   0%|          | 0/1 [00:00<?, ?it/s]"
      ]
     },
     "metadata": {},
     "output_type": "display_data"
    },
    {
     "data": {
      "application/vnd.jupyter.widget-view+json": {
       "model_id": "3f9c03bb1bea42a1b54c901e6d6f2f4f",
       "version_major": 2,
       "version_minor": 0
      },
      "text/plain": [
       "Creating parquet from Arrow format:   0%|          | 0/1 [00:00<?, ?ba/s]"
      ]
     },
     "metadata": {},
     "output_type": "display_data"
    },
    {
     "data": {
      "application/vnd.jupyter.widget-view+json": {
       "model_id": "ecd3ac30eeac443a9387e3c43ed82d99",
       "version_major": 2,
       "version_minor": 0
      },
      "text/plain": [
       "README.md:   0%|          | 0.00/5.25k [00:00<?, ?B/s]"
      ]
     },
     "metadata": {},
     "output_type": "display_data"
    },
    {
     "name": "stdout",
     "output_type": "stream",
     "text": [
      "valid_point hard (0, 9)\n",
      "professional_tone gold (1027, 9)\n"
     ]
    },
    {
     "data": {
      "application/vnd.jupyter.widget-view+json": {
       "model_id": "121eb5193b7d41489dbcd372e65cf11a",
       "version_major": 2,
       "version_minor": 0
      },
      "text/plain": [
       "Uploading the dataset shards:   0%|          | 0/1 [00:00<?, ?it/s]"
      ]
     },
     "metadata": {},
     "output_type": "display_data"
    },
    {
     "data": {
      "application/vnd.jupyter.widget-view+json": {
       "model_id": "6a87d3c436cf45a88a8c3fe67d6f1d76",
       "version_major": 2,
       "version_minor": 0
      },
      "text/plain": [
       "Creating parquet from Arrow format:   0%|          | 0/2 [00:00<?, ?ba/s]"
      ]
     },
     "metadata": {},
     "output_type": "display_data"
    },
    {
     "data": {
      "application/vnd.jupyter.widget-view+json": {
       "model_id": "e423449b474a4975bdc6122e1cf2ef66",
       "version_major": 2,
       "version_minor": 0
      },
      "text/plain": [
       "README.md:   0%|          | 0.00/5.36k [00:00<?, ?B/s]"
      ]
     },
     "metadata": {},
     "output_type": "display_data"
    },
    {
     "name": "stdout",
     "output_type": "stream",
     "text": [
      "professional_tone silver (22, 9)\n"
     ]
    },
    {
     "data": {
      "application/vnd.jupyter.widget-view+json": {
       "model_id": "af7229edb0424abea5fcaef8e5a3a1b4",
       "version_major": 2,
       "version_minor": 0
      },
      "text/plain": [
       "Uploading the dataset shards:   0%|          | 0/1 [00:00<?, ?it/s]"
      ]
     },
     "metadata": {},
     "output_type": "display_data"
    },
    {
     "data": {
      "application/vnd.jupyter.widget-view+json": {
       "model_id": "d99c67b25e3e48cdbb648c95b6734249",
       "version_major": 2,
       "version_minor": 0
      },
      "text/plain": [
       "Creating parquet from Arrow format:   0%|          | 0/1 [00:00<?, ?ba/s]"
      ]
     },
     "metadata": {},
     "output_type": "display_data"
    },
    {
     "data": {
      "application/vnd.jupyter.widget-view+json": {
       "model_id": "888297f9db944686963a5d8fa6504ca4",
       "version_major": 2,
       "version_minor": 0
      },
      "text/plain": [
       "README.md:   0%|          | 0.00/6.08k [00:00<?, ?B/s]"
      ]
     },
     "metadata": {},
     "output_type": "display_data"
    },
    {
     "name": "stdout",
     "output_type": "stream",
     "text": [
      "professional_tone hard (0, 9)\n"
     ]
    }
   ],
   "source": [
    "for aspect in aspects:\n",
    "    for split in ['gold', 'silver', 'hard']:\n",
    "        print(aspect, split, hf_data[aspect][split].shape)\n",
    "        if hf_data[aspect][split].shape[0] == 0:\n",
    "            continue\n",
    "        hd_ds = datasets.Dataset.from_pandas(hf_data[aspect][split])\n",
    "\n",
    "        if  '__index_level_0__' in hd_ds.column_names:\n",
    "            hd_ds = hd_ds.remove_columns(['__index_level_0__'])\n",
    "\n",
    "        hd_ds.push_to_hub(\n",
    "            f\"boda/review_evaluation_human_annotation\",\n",
    "            split=split,\n",
    "            config_name=aspect, private=True)\n",
    "\n"
   ]
  },
  {
   "cell_type": "code",
   "execution_count": 15,
   "metadata": {},
   "outputs": [],
   "source": [
    "# for key in hf_data.keys():\n",
    "#     dataset_dict = datasets.DatasetDict()\n",
    "#     for sub_key in hf_data[key].keys():\n",
    "#         aspect_hf_ds = datasets.Dataset.from_pandas(hf_data[key][sub_key])\n",
    "#         dataset_dict[sub_key] = aspect_hf_ds\n",
    "\n",
    "#     aspect_hf_ds.push_to_hub(f\"boda/review_evaluation_human_annotation\", config_name=key, private=True)"
   ]
  }
 ],
 "metadata": {
  "kernelspec": {
   "display_name": "Python 3",
   "language": "python",
   "name": "python3"
  },
  "language_info": {
   "codemirror_mode": {
    "name": "ipython",
    "version": 3
   },
   "file_extension": ".py",
   "mimetype": "text/x-python",
   "name": "python",
   "nbconvert_exporter": "python",
   "pygments_lexer": "ipython3",
   "version": "3.10.14"
  }
 },
 "nbformat": 4,
 "nbformat_minor": 2
}
