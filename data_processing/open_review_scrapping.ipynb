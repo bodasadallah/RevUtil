{
 "cells": [
  {
   "cell_type": "code",
   "execution_count": 87,
   "metadata": {},
   "outputs": [],
   "source": [
    "import openreview\n",
    "import json"
   ]
  },
  {
   "cell_type": "code",
   "execution_count": 95,
   "metadata": {},
   "outputs": [
    {
     "name": "stderr",
     "output_type": "stream",
     "text": [
      "Getting V2 Notes: 100%|█████████▉| 11660/11672 [00:29<00:00, 395.09it/s]"
     ]
    },
    {
     "name": "stdout",
     "output_type": "stream",
     "text": [
      "Found 11672 submissions\n",
      "group: ICLR.cc/2025/Conference\n"
     ]
    },
    {
     "name": "stderr",
     "output_type": "stream",
     "text": [
      "\n"
     ]
    }
   ],
   "source": [
    "\n",
    "\n",
    "\n",
    "output_file='iclr2025_papers.json'\n",
    "# Initialize the OpenReview client\n",
    "# Define ICLR 2024 conference ID\n",
    "venue_id = \"ICLR.cc/2025/Conference\"\n",
    "client = openreview.api.OpenReviewClient(baseurl='https://api2.openreview.net')\n",
    "\n",
    "venue_group = client.get_group(venue_id)\n",
    "submission_name = venue_group.content['submission_name']['value']\n",
    "submissions = client.get_all_notes(invitation=f'{venue_id}/-/{submission_name}', details='directReplies')\n",
    "\n",
    "print(f'Found {len(submissions)} submissions')\n",
    "print(f'group: {venue_group.id}')"
   ]
  },
  {
   "cell_type": "code",
   "execution_count": 96,
   "metadata": {},
   "outputs": [
    {
     "name": "stdout",
     "output_type": "stream",
     "text": [
      "dict_keys(['id', 'forum', 'content', 'invitations', 'cdate', 'odate', 'mdate', 'signatures', 'writers', 'readers', 'license'])\n"
     ]
    },
    {
     "data": {
      "text/plain": [
       "{'directReplies': [{'content': {'summary': {'value': 'The submission studies contextual bandits with cross learning. Previously, the existing regret bound held in expectation. The submission refines the regret analysis so that the regret bound holds with high probability. The main contribution is to show how the weak dependency structure can be exploited to solve a concentration difficulty in the previous analysis.'},\n",
       "    'soundness': {'value': 3},\n",
       "    'presentation': {'value': 3},\n",
       "    'contribution': {'value': 3},\n",
       "    'strengths': {'value': '- The submission points out the difficulty that prevents the previous work from achieving a bound with high probability (lines 167–176).\\n- Identify the weak dependency between epochs (line 386).\\n- Devise a new technique to solve the unbounded issue induced by the weak dependency (the treatment for the Bias5e them in lines 395–411).'},\n",
       "    'weaknesses': {'value': '- (1) Section 3.2 contains several subtopics, such as the regret decomposition, the discussion of each decomposed term, and the analysis strategy for the challenging term. A better editorial layout would improve the readability.\\n- (2) The sentence “Notably, …” in line 111 is confusing. It seems unrealistic to be able to observe the loss for every context $c$. It also does not match the algorithm’s (Algorithm 1) behavior.'},\n",
       "    'questions': {'value': '- (1) Is the concept class $C$ a finite set? If so, what is the reason for assuming a finite concept class $C$? Practically speaking, the contextual information would be like a vector in a compact set, as it is very unlikely to see two identical users.\\n- (2) Where is the variable in Theorem 1 that characterizes the property of $C$? How does this variable appear in the bound proved in this submission?\\n- (3) Could you please provide more evidence or further discussion of the applicability of the technique developed here so that we can better appreciate its potential?'},\n",
       "    'flag_for_ethics_review': {'value': ['No ethics review needed.']},\n",
       "    'rating': {'value': 6},\n",
       "    'confidence': {'value': 4},\n",
       "    'code_of_conduct': {'value': 'Yes'}},\n",
       "   'id': 'Is5Qh2Gs5x',\n",
       "   'forum': 'zzR1Uskhj0',\n",
       "   'replyto': 'zzR1Uskhj0',\n",
       "   'signatures': ['ICLR.cc/2025/Conference/Submission11051/Reviewer_8LjP'],\n",
       "   'nonreaders': [],\n",
       "   'readers': ['everyone'],\n",
       "   'writers': ['ICLR.cc/2025/Conference',\n",
       "    'ICLR.cc/2025/Conference/Submission11051/Reviewer_8LjP'],\n",
       "   'number': 1,\n",
       "   'invitations': ['ICLR.cc/2025/Conference/Submission11051/-/Official_Review',\n",
       "    'ICLR.cc/2025/Conference/-/Edit'],\n",
       "   'domain': 'ICLR.cc/2025/Conference',\n",
       "   'tcdate': 1730682341151,\n",
       "   'cdate': 1730682341151,\n",
       "   'tmdate': 1731427551914,\n",
       "   'mdate': 1731427551914,\n",
       "   'license': 'CC BY 4.0',\n",
       "   'version': 2},\n",
       "  {'content': {'summary': {'value': 'The paper studied adversarial context bandits in a special setting where the losses of arm $a_i$ could be observed under all contexts when the algorithm plays arm $a_i$. The goal, like in classical adversarial bandit problems, is to minimize the regret compared to the loss of the best arm in hindsight. The paper focuses on the setting where the loss sequence is adversarial and the context is stochastic with an unknown distribution. A recent work of SZ [NeurIPS’23] designed an algorithm with *expected* regret of $\\\\tilde{O}(\\\\sqrt{KT})$ in this setting, where $K$ is the number of arms. This paper conducted a renewed analysis of the algorithm in SZ  [NeurIPS’23], and the main result is that the algorithm could actually achieve $\\\\tilde{O}(\\\\sqrt{KT})$ with high probability.\\n\\nThe main technique of the paper is heavily influenced by the previous work of SZ [NeurIPS’23]. In a nutshell, the low-regret guarantee of the algorithm crucially relies on the concentration of unbiased estimation of $E_{c}[\\\\ell_{t,c}(a)]$. Here, we cannot exactly compute the quantity since the distribution of the context is unknown. The key idea of SZ [NeurIPS’23] is to commit two steps for each EXP3 step and use one of them to estimate the distribution of the context. On top of that, this paper further utilized the weak dependency between epochs, and derived a martingale argument to get high-probability regret.'},\n",
       "    'soundness': {'value': 4},\n",
       "    'presentation': {'value': 3},\n",
       "    'contribution': {'value': 3},\n",
       "    'strengths': {'value': 'In general, my opinion of this paper is positive. The paper appears to require a great deal of background to be able to parse. Despite this, I believe the paper did reasonably well in terms of explaining the existing work and its techniques. Getting high probability bounds in adversarial bandits usually requires some neat observations and technical steps. Although I’m not able to follow all the steps in the short time frame, I do think the paper contains some nice technical observations and ideas.'},\n",
       "    'weaknesses': {'value': \"Although I'm mostly supportive, I think I couldn’t strongly champion the paper due to the following reasons:\\n- The scope of contribution: although the paper does contain some neat technical observations, the contribution appears to be somehow incremental. After all, this is a new analysis of an existing algorithm, and the new analysis is not something that improves the previous bound (but instead is to get a high-probability bound). Again, I do acknowledge that such contributions are non-trivial. However, I do not think it’s enough for me to champion the paper.\\n- If the paper is going to be mainly accepted due to the techniques: then, I do not think the paper contains a substantial amount of new ideas. I appreciate the technical observations, and I agree that the steps are non-trivial. However, if the conceptual message is not as strong, and the merits of the paper mainly lie in the techniques, then the bar would inevitably be higher. \\n- For a conference like ICLR, the lack of experiments could be an issue. I am *not* letting this affect my score since I often advocate learning theory papers. However, I do want to raise this point since it is common for ML conferences to ask for experiments.\"},\n",
       "    'questions': {'value': \"- Should the definition of regret on page 3 be reversed? As in, you are subtracting the loss of the best arm with the loss of a policy, which should be a negative value (if with positive regret). This would change the decomposition of the regret on page 5 as well, but it seems nothing would affect the correctness.\\n- I think the full algorithm description of the algorithm in SZ [NeurIPS’23] (or some simpler version of the description) could be shown much earlier in the paper. This would be helpful for readers who are not familiar with the previous algorithm.\\n- Also, stating the main theorem in a preliminary section looks very non-standard to me. I’m not letting this affect my score, but please consider re-organizing this.\\n- The meaning of 'with high probability' was never explained in the paper -- as in, it could mean with probability $1-1/K$ or with probability $0.99$. I think your bound gives the former, and this should be stated explicitly.\"},\n",
       "    'flag_for_ethics_review': {'value': ['No ethics review needed.']},\n",
       "    'rating': {'value': 6},\n",
       "    'confidence': {'value': 3},\n",
       "    'code_of_conduct': {'value': 'Yes'}},\n",
       "   'id': 'Hsumvt7DeH',\n",
       "   'forum': 'zzR1Uskhj0',\n",
       "   'replyto': 'zzR1Uskhj0',\n",
       "   'signatures': ['ICLR.cc/2025/Conference/Submission11051/Reviewer_Sstz'],\n",
       "   'nonreaders': [],\n",
       "   'readers': ['everyone'],\n",
       "   'writers': ['ICLR.cc/2025/Conference',\n",
       "    'ICLR.cc/2025/Conference/Submission11051/Reviewer_Sstz'],\n",
       "   'number': 2,\n",
       "   'invitations': ['ICLR.cc/2025/Conference/Submission11051/-/Official_Review',\n",
       "    'ICLR.cc/2025/Conference/-/Edit'],\n",
       "   'domain': 'ICLR.cc/2025/Conference',\n",
       "   'tcdate': 1731016880828,\n",
       "   'cdate': 1731016880828,\n",
       "   'tmdate': 1731427668129,\n",
       "   'mdate': 1731427668129,\n",
       "   'license': 'CC BY 4.0',\n",
       "   'version': 2},\n",
       "  {'content': {'summary': {'value': 'The paper studies cross learning in contextual adversarial linear bandits where the learner observes the losses of all contexts in each round. Recent work in Schneider et al. proposed an algorithm with a regret upper bound only in expectation. The paper studies the same algorithm and proves that the regret upper bound holds with high probability.'},\n",
       "    'soundness': {'value': 4},\n",
       "    'presentation': {'value': 3},\n",
       "    'contribution': {'value': 3},\n",
       "    'strengths': {'value': '- The paper proves a high probability lower bound which is stronger than the in expectation bound in the literature.\\n- The analysis uses a nice observation that the different epochs in the algorithm are only weakly dependent which enables to prove a small bound for the cumulative bias across all epochs\\n- While standard martingale inequalities cannot directly upper bound the cumulative bias, a novel technique is proposed to address this'},\n",
       "    'weaknesses': {'value': 'Can the reduction in [1] be used to map the multi-context to a single context problem? The technique is proposed for non-adversarial losses, however, the action set map from distributional to fixed should not be affected by that.\\nI understand that the paper only focuses on analyzing an existing algorithm. However, a comparison with such technique in the related work is needed to justify the use of such algorithm or suggest alternative techniques to address the problem.\\n\\n[1] \"Contexts can be cheap: Solving stochastic contextual bandits with linear bandit algorithms.\" The Thirty Sixth Annual Conference on Learning Theory. PMLR, 2023.'},\n",
       "    'questions': {'value': 'please see weaknesses'},\n",
       "    'flag_for_ethics_review': {'value': ['No ethics review needed.']},\n",
       "    'rating': {'value': 8},\n",
       "    'confidence': {'value': 3},\n",
       "    'code_of_conduct': {'value': 'Yes'}},\n",
       "   'id': 'smWIsNwjkv',\n",
       "   'forum': 'zzR1Uskhj0',\n",
       "   'replyto': 'zzR1Uskhj0',\n",
       "   'signatures': ['ICLR.cc/2025/Conference/Submission11051/Reviewer_uDyZ'],\n",
       "   'nonreaders': [],\n",
       "   'readers': ['everyone'],\n",
       "   'writers': ['ICLR.cc/2025/Conference',\n",
       "    'ICLR.cc/2025/Conference/Submission11051/Reviewer_uDyZ'],\n",
       "   'number': 3,\n",
       "   'invitations': ['ICLR.cc/2025/Conference/Submission11051/-/Official_Review',\n",
       "    'ICLR.cc/2025/Conference/-/Edit'],\n",
       "   'domain': 'ICLR.cc/2025/Conference',\n",
       "   'tcdate': 1731054710221,\n",
       "   'cdate': 1731054710221,\n",
       "   'tmdate': 1731427666945,\n",
       "   'mdate': 1731427666945,\n",
       "   'license': 'CC BY 4.0',\n",
       "   'version': 2},\n",
       "  {'content': {'summary': {'value': 'This paper addresses the challenge of achieving high-probability regret bounds in the adversarial contextual bandit framework, where the learner encounters varying contexts and must minimize cumulative loss over time. The focus is on \"cross-learning\" contextual bandits, where learners can observe losses for all possible contexts, not just the current one. \\n\\nResults leverage weak dependencies between epochs and refine existing martingale inequalities, by exploiting interdependencies in observations. This analysis ultimately shows that the algorithm is effective in adversarial settings, even with unknown context distributions.'},\n",
       "    'soundness': {'value': 3},\n",
       "    'presentation': {'value': 3},\n",
       "    'contribution': {'value': 3},\n",
       "    'strengths': {'value': 'The paper proposes a new look at an existing problem and provides a completely novel analysis in their work. The ideas and techniques proposed are completely new and can be of independent interest. This is particularly true for the martingale concentration result.'},\n",
       "    'weaknesses': {'value': 'See questions.'},\n",
       "    'questions': {'value': 'While the result is good, I am uncertain about its significance because neither the problem nor the algorithm proposed are new. There are no extensions of this result, no experiments. I am not sure if this is standalone result is significant enough to be published at a premier conference.'},\n",
       "    'flag_for_ethics_review': {'value': ['No ethics review needed.']},\n",
       "    'rating': {'value': 5},\n",
       "    'confidence': {'value': 3},\n",
       "    'code_of_conduct': {'value': 'Yes'}},\n",
       "   'id': 'UfYuXDF8OO',\n",
       "   'forum': 'zzR1Uskhj0',\n",
       "   'replyto': 'zzR1Uskhj0',\n",
       "   'signatures': ['ICLR.cc/2025/Conference/Submission11051/Reviewer_NZtQ'],\n",
       "   'nonreaders': [],\n",
       "   'readers': ['everyone'],\n",
       "   'writers': ['ICLR.cc/2025/Conference',\n",
       "    'ICLR.cc/2025/Conference/Submission11051/Reviewer_NZtQ'],\n",
       "   'number': 4,\n",
       "   'invitations': ['ICLR.cc/2025/Conference/Submission11051/-/Official_Review',\n",
       "    'ICLR.cc/2025/Conference/-/Edit'],\n",
       "   'domain': 'ICLR.cc/2025/Conference',\n",
       "   'tcdate': 1731056506679,\n",
       "   'cdate': 1731056506679,\n",
       "   'tmdate': 1731427666096,\n",
       "   'mdate': 1731427666096,\n",
       "   'license': 'CC BY 4.0',\n",
       "   'version': 2},\n",
       "  {'content': {'summary': {'value': 'The paper proposes an algorithm that achieves high probability regret bound (which is stronger than the expected regret bound) for the cross-learning contextual bandits under unknown context distribution by developing refined martingale inequalities.'},\n",
       "    'soundness': {'value': 2},\n",
       "    'presentation': {'value': 1},\n",
       "    'contribution': {'value': 2},\n",
       "    'strengths': {'value': '1. The paper clearly presents the challenging point with detailed technical expressions and the novelty of the analysis.'},\n",
       "    'weaknesses': {'value': '1. The explanation is only focused on technical side without the explanation of the algorithm. I suggest authors to spend more time including more explanations and organizing the paper.'},\n",
       "    'questions': {'value': '1. What is the intuition behind the algorithm?\\n2. How the indicator function $F_e$ resolves the unbounded martingale inequalties?'},\n",
       "    'flag_for_ethics_review': {'value': ['No ethics review needed.']},\n",
       "    'rating': {'value': 3},\n",
       "    'confidence': {'value': 3},\n",
       "    'code_of_conduct': {'value': 'Yes'}},\n",
       "   'id': 'NLrlOlSugS',\n",
       "   'forum': 'zzR1Uskhj0',\n",
       "   'replyto': 'zzR1Uskhj0',\n",
       "   'signatures': ['ICLR.cc/2025/Conference/Submission11051/Reviewer_NaxM'],\n",
       "   'nonreaders': [],\n",
       "   'readers': ['everyone'],\n",
       "   'writers': ['ICLR.cc/2025/Conference',\n",
       "    'ICLR.cc/2025/Conference/Submission11051/Reviewer_NaxM'],\n",
       "   'number': 5,\n",
       "   'invitations': ['ICLR.cc/2025/Conference/Submission11051/-/Official_Review',\n",
       "    'ICLR.cc/2025/Conference/-/Edit'],\n",
       "   'domain': 'ICLR.cc/2025/Conference',\n",
       "   'tcdate': 1731417267340,\n",
       "   'cdate': 1731417267340,\n",
       "   'tmdate': 1731427666950,\n",
       "   'mdate': 1731427666950,\n",
       "   'license': 'CC BY 4.0',\n",
       "   'version': 2}]}"
      ]
     },
     "execution_count": 96,
     "metadata": {},
     "output_type": "execute_result"
    }
   ],
   "source": [
    "# Print the fields of the first submission\n",
    "first_submission = submissions[0]\n",
    "print(first_submission.to_json().keys())\n",
    "first_submission.details"
   ]
  },
  {
   "cell_type": "code",
   "execution_count": null,
   "metadata": {},
   "outputs": [],
   "source": []
  },
  {
   "cell_type": "code",
   "execution_count": 97,
   "metadata": {},
   "outputs": [
    {
     "name": "stdout",
     "output_type": "stream",
     "text": [
      "title: {'value': 'High Probability Bounds for Cross-Learning Contextual Bandits with Unknown Context Distributions'}\n",
      "keywords: {'value': ['contextual bandits', 'cross-learning', 'high-probability bounds']}\n",
      "abstract: {'value': 'Motivated by applications in online bidding and sleeping bandits, we examine the problem of contextual bandits with cross learning, where the learner observes the loss associated with the action across all possible contexts, not just the current round’s context. Our focus is on a setting where losses are chosen adversarially, and contexts are sampled i.i.d. from a specific distribution. This problem was first studied by  Balseiro et al. (2019), who proposed an algorithm that achieves near-optimal regret under the assumption that the context distribution is known in advance. However, this assumption is often unrealistic. To address this issue, Schneider & Zimmert (2023) recently proposed a new algorithm that achieves nearly optimal expected regret. It is well-known that expected regret can be significantly weaker than high-probability bounds. In this paper, we present a novel, in-depth analysis of their algorithm and demonstrate that it actually achieves near-optimal regret with $\\\\textit{high probability}$. There are steps in the original analysis by Schneider & Zimmert (2023) that lead only to an expected bound by nature. In our analysis, we introduce several new insights. Specifically, we make extensive use of the weak dependency structure between different epochs, which was overlooked in previous analyses. Additionally, standard martingale inequalities are not directly applicable, so we refine martingale inequalities to complete our analysis.'}\n",
      "primary_area: {'value': 'learning theory'}\n",
      "code_of_ethics: {'value': 'I acknowledge that I and all co-authors of this work have read and commit to adhering to the ICLR Code of Ethics.'}\n",
      "submission_guidelines: {'value': 'I certify that this submission complies with the submission instructions as described on https://iclr.cc/Conferences/2025/AuthorGuide.'}\n",
      "reciprocal_reviewing: {'value': 'I understand the reciprocal reviewing requirement as described on https://iclr.cc/Conferences/2025/CallForPapers. If none of the authors are registered as a reviewer, it may result in a desk rejection at the discretion of the program chairs. To request an exception, please complete this form at https://forms.gle/Huojr6VjkFxiQsUp6.'}\n",
      "anonymous_url: {'value': 'I certify that there is no URL (e.g., github page) that could be used to find authors’ identity.'}\n",
      "no_acknowledgement_section: {'value': 'I certify that there is no acknowledgement section in this submission for double blind review.'}\n",
      "venue: {'value': 'ICLR 2025 Conference Submission'}\n",
      "venueid: {'value': 'ICLR.cc/2025/Conference/Submission'}\n",
      "TLDR: {'value': 'We give a nearly optimal high probability bound for the cross-learning contextual bandits with unknown context distributions.'}\n",
      "pdf: {'value': '/pdf/668f80e4183cd90e61a74d9534032aa7473a0bd7.pdf'}\n",
      "_bibtex: {'value': '@inproceedings{\\nanonymous2024high,\\ntitle={High Probability Bounds for Cross-Learning Contextual Bandits with Unknown Context Distributions},\\nauthor={Anonymous},\\nbooktitle={Submitted to The Thirteenth International Conference on Learning Representations},\\nyear={2024},\\nurl={https://openreview.net/forum?id=zzR1Uskhj0},\\nnote={under review}\\n}'}\n"
     ]
    }
   ],
   "source": [
    "for k,v in submissions[0].content.items():\n",
    "    print(f'{k}: {v}')\n",
    "\n",
    "# venue_id = \"ICLR.cc/2024/Conference\"\n",
    "# output_file='emnlp2023_papers.json'\n",
    "\n",
    "review_name = venue_group.content['review_name']['value']\n",
    "total_reviews = 0\n",
    "entries = []\n",
    "for i,s in enumerate(submissions):\n",
    "    cur_paper_details = s.to_json()\n",
    "    cur_paper_details['reviews'] = s.details['directReplies']\n",
    "    entries.append(cur_paper_details)\n",
    "\n",
    "import json\n",
    "\n",
    "# Save the submissions to a JSON file\n",
    "with open(output_file, 'w') as f:\n",
    "    json.dump(entries, f)"
   ]
  },
  {
   "cell_type": "code",
   "execution_count": 98,
   "metadata": {},
   "outputs": [],
   "source": [
    "## Read the JSON file\n",
    "with open(output_file, 'r') as f:\n",
    "    submissions = json.load(f)\n",
    "\n",
    "    "
   ]
  },
  {
   "cell_type": "code",
   "execution_count": 99,
   "metadata": {},
   "outputs": [
    {
     "data": {
      "text/plain": [
       "{'content': {'summary': {'value': 'The submission studies contextual bandits with cross learning. Previously, the existing regret bound held in expectation. The submission refines the regret analysis so that the regret bound holds with high probability. The main contribution is to show how the weak dependency structure can be exploited to solve a concentration difficulty in the previous analysis.'},\n",
       "  'soundness': {'value': 3},\n",
       "  'presentation': {'value': 3},\n",
       "  'contribution': {'value': 3},\n",
       "  'strengths': {'value': '- The submission points out the difficulty that prevents the previous work from achieving a bound with high probability (lines 167–176).\\n- Identify the weak dependency between epochs (line 386).\\n- Devise a new technique to solve the unbounded issue induced by the weak dependency (the treatment for the Bias5e them in lines 395–411).'},\n",
       "  'weaknesses': {'value': '- (1) Section 3.2 contains several subtopics, such as the regret decomposition, the discussion of each decomposed term, and the analysis strategy for the challenging term. A better editorial layout would improve the readability.\\n- (2) The sentence “Notably, …” in line 111 is confusing. It seems unrealistic to be able to observe the loss for every context $c$. It also does not match the algorithm’s (Algorithm 1) behavior.'},\n",
       "  'questions': {'value': '- (1) Is the concept class $C$ a finite set? If so, what is the reason for assuming a finite concept class $C$? Practically speaking, the contextual information would be like a vector in a compact set, as it is very unlikely to see two identical users.\\n- (2) Where is the variable in Theorem 1 that characterizes the property of $C$? How does this variable appear in the bound proved in this submission?\\n- (3) Could you please provide more evidence or further discussion of the applicability of the technique developed here so that we can better appreciate its potential?'},\n",
       "  'flag_for_ethics_review': {'value': ['No ethics review needed.']},\n",
       "  'rating': {'value': 6},\n",
       "  'confidence': {'value': 4},\n",
       "  'code_of_conduct': {'value': 'Yes'}},\n",
       " 'id': 'Is5Qh2Gs5x',\n",
       " 'forum': 'zzR1Uskhj0',\n",
       " 'replyto': 'zzR1Uskhj0',\n",
       " 'signatures': ['ICLR.cc/2025/Conference/Submission11051/Reviewer_8LjP'],\n",
       " 'nonreaders': [],\n",
       " 'readers': ['everyone'],\n",
       " 'writers': ['ICLR.cc/2025/Conference',\n",
       "  'ICLR.cc/2025/Conference/Submission11051/Reviewer_8LjP'],\n",
       " 'number': 1,\n",
       " 'invitations': ['ICLR.cc/2025/Conference/Submission11051/-/Official_Review',\n",
       "  'ICLR.cc/2025/Conference/-/Edit'],\n",
       " 'domain': 'ICLR.cc/2025/Conference',\n",
       " 'tcdate': 1730682341151,\n",
       " 'cdate': 1730682341151,\n",
       " 'tmdate': 1731427551914,\n",
       " 'mdate': 1731427551914,\n",
       " 'license': 'CC BY 4.0',\n",
       " 'version': 2}"
      ]
     },
     "execution_count": 99,
     "metadata": {},
     "output_type": "execute_result"
    }
   ],
   "source": [
    "submissions[0]['reviews'][0]"
   ]
  }
 ],
 "metadata": {
  "kernelspec": {
   "display_name": "Python 3",
   "language": "python",
   "name": "python3"
  },
  "language_info": {
   "codemirror_mode": {
    "name": "ipython",
    "version": 3
   },
   "file_extension": ".py",
   "mimetype": "text/x-python",
   "name": "python",
   "nbconvert_exporter": "python",
   "pygments_lexer": "ipython3",
   "version": "3.10.14"
  }
 },
 "nbformat": 4,
 "nbformat_minor": 2
}
