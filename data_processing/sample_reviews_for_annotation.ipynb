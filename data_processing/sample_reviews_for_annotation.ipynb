{
 "cells": [
  {
   "cell_type": "code",
   "execution_count": 1,
   "metadata": {},
   "outputs": [
    {
     "name": "stderr",
     "output_type": "stream",
     "text": [
      "/home/abdelrahman.sadallah/mambaforge/envs/nlp/lib/python3.10/site-packages/tqdm/auto.py:21: TqdmWarning: IProgress not found. Please update jupyter and ipywidgets. See https://ipywidgets.readthedocs.io/en/stable/user_install.html\n",
      "  from .autonotebook import tqdm as notebook_tqdm\n"
     ]
    }
   ],
   "source": [
    "import pandas as pd\n",
    "import ast\n",
    "import datasets\n",
    "all  = pd.read_csv(f'/home/abdelrahman.sadallah/mbzuai/review_rewrite/data/all_review_points.csv')"
   ]
  },
  {
   "cell_type": "code",
   "execution_count": 2,
   "metadata": {},
   "outputs": [
    {
     "data": {
      "text/plain": [
       "207187"
      ]
     },
     "execution_count": 2,
     "metadata": {},
     "output_type": "execute_result"
    }
   ],
   "source": [
    "len(all)"
   ]
  },
  {
   "cell_type": "code",
   "execution_count": 3,
   "metadata": {},
   "outputs": [
    {
     "data": {
      "text/html": [
       "<div>\n",
       "<style scoped>\n",
       "    .dataframe tbody tr th:only-of-type {\n",
       "        vertical-align: middle;\n",
       "    }\n",
       "\n",
       "    .dataframe tbody tr th {\n",
       "        vertical-align: top;\n",
       "    }\n",
       "\n",
       "    .dataframe thead th {\n",
       "        text-align: right;\n",
       "    }\n",
       "</style>\n",
       "<table border=\"1\" class=\"dataframe\">\n",
       "  <thead>\n",
       "    <tr style=\"text-align: right;\">\n",
       "      <th></th>\n",
       "      <th>paper_id</th>\n",
       "      <th>venue</th>\n",
       "      <th>focused_review</th>\n",
       "      <th>point</th>\n",
       "    </tr>\n",
       "  </thead>\n",
       "  <tbody>\n",
       "    <tr>\n",
       "      <th>0</th>\n",
       "      <td>ACL_2017_614_review</td>\n",
       "      <td>ACL_2017</td>\n",
       "      <td>- I don't understand effectiveness of the mult...</td>\n",
       "      <td>- I don't understand effectiveness of the mult...</td>\n",
       "    </tr>\n",
       "    <tr>\n",
       "      <th>1</th>\n",
       "      <td>ACL_2017_614_review</td>\n",
       "      <td>ACL_2017</td>\n",
       "      <td>- I don't understand effectiveness of the mult...</td>\n",
       "      <td>- The paper is not fully clear on a first read...</td>\n",
       "    </tr>\n",
       "    <tr>\n",
       "      <th>2</th>\n",
       "      <td>ACL_2017_614_review</td>\n",
       "      <td>ACL_2017</td>\n",
       "      <td>- I don't understand effectiveness of the mult...</td>\n",
       "      <td>- The relatively poor performance on nouns mak...</td>\n",
       "    </tr>\n",
       "    <tr>\n",
       "      <th>3</th>\n",
       "      <td>ACL_2017_614_review</td>\n",
       "      <td>ACL_2017</td>\n",
       "      <td>- I don't understand effectiveness of the mult...</td>\n",
       "      <td>-General Discussion: The paper is mostly strai...</td>\n",
       "    </tr>\n",
       "    <tr>\n",
       "      <th>4</th>\n",
       "      <td>ACL_2017_614_review</td>\n",
       "      <td>ACL_2017</td>\n",
       "      <td>- I don't understand effectiveness of the mult...</td>\n",
       "      <td>- Lines 367-368 : Why does X^{P} need to be sy...</td>\n",
       "    </tr>\n",
       "  </tbody>\n",
       "</table>\n",
       "</div>"
      ],
      "text/plain": [
       "              paper_id     venue  \\\n",
       "0  ACL_2017_614_review  ACL_2017   \n",
       "1  ACL_2017_614_review  ACL_2017   \n",
       "2  ACL_2017_614_review  ACL_2017   \n",
       "3  ACL_2017_614_review  ACL_2017   \n",
       "4  ACL_2017_614_review  ACL_2017   \n",
       "\n",
       "                                      focused_review  \\\n",
       "0  - I don't understand effectiveness of the mult...   \n",
       "1  - I don't understand effectiveness of the mult...   \n",
       "2  - I don't understand effectiveness of the mult...   \n",
       "3  - I don't understand effectiveness of the mult...   \n",
       "4  - I don't understand effectiveness of the mult...   \n",
       "\n",
       "                                               point  \n",
       "0  - I don't understand effectiveness of the mult...  \n",
       "1  - The paper is not fully clear on a first read...  \n",
       "2  - The relatively poor performance on nouns mak...  \n",
       "3  -General Discussion: The paper is mostly strai...  \n",
       "4  - Lines 367-368 : Why does X^{P} need to be sy...  "
      ]
     },
     "execution_count": 3,
     "metadata": {},
     "output_type": "execute_result"
    }
   ],
   "source": [
    "all.head()"
   ]
  },
  {
   "cell_type": "code",
   "execution_count": null,
   "metadata": {},
   "outputs": [
    {
     "name": "stderr",
     "output_type": "stream",
     "text": [
      "/tmp/ipykernel_692970/2537484748.py:8: DeprecationWarning: DataFrameGroupBy.apply operated on the grouping columns. This behavior is deprecated, and in a future version of pandas the grouping columns will be excluded from the operation. Either pass `include_groups=False` to exclude the groupings or explicitly select the grouping columns after groupby to silence this warning.\n",
      "  grouped.apply(lambda group: group.sample(n=min(len(group), samples_per_group), random_state=42))\n"
     ]
    }
   ],
   "source": [
    "# Total number of samples\n",
    "total_samples = 1200\n",
    "\n",
    "# Uniform sampling\n",
    "grouped = all.groupby(\"venue\")\n",
    "samples_per_group = max(1, total_samples // grouped.ngroups)  # Divide total_samples evenly\n",
    "sampled_df = (\n",
    "    grouped.apply(lambda group: group.sample(n=min(len(group), samples_per_group), random_state=42))\n",
    "    .reset_index(drop=True)\n",
    ")\n",
    "\n",
    "# If more rows are still needed due to rounding, sample the remainder\n",
    "remainder = total_samples - len(sampled_df)\n",
    "if remainder > 0:\n",
    "    remaining_sample = all.loc[~all.index.isin(sampled_df.index)].sample(n=remainder, random_state=42)\n",
    "    sampled_df = pd.concat([sampled_df, remaining_sample]).reset_index(drop=True)"
   ]
  },
  {
   "cell_type": "code",
   "execution_count": 5,
   "metadata": {},
   "outputs": [
    {
     "data": {
      "text/plain": [
       "venue\n",
       "ACL_2017      80\n",
       "ARR_2022      80\n",
       "EMNLP_2023    80\n",
       "ICLR_2021     80\n",
       "ICLR_2022     80\n",
       "ICLR_2023     80\n",
       "ICLR_2024     80\n",
       "ICLR_2025     80\n",
       "NIPS_2016     80\n",
       "NIPS_2017     80\n",
       "NIPS_2018     80\n",
       "NIPS_2019     80\n",
       "NIPS_2020     80\n",
       "NIPS_2021     80\n",
       "NIPS_2022     80\n",
       "Name: count, dtype: int64"
      ]
     },
     "execution_count": 5,
     "metadata": {},
     "output_type": "execute_result"
    }
   ],
   "source": [
    "sampled_df.value_counts(\"venue\")"
   ]
  },
  {
   "cell_type": "code",
   "execution_count": 6,
   "metadata": {},
   "outputs": [],
   "source": [
    "sampled_df.to_csv(f'/home/abdelrahman.sadallah/mbzuai/review_rewrite/data/human_annotation_sampled.csv', index=False)"
   ]
  },
  {
   "cell_type": "code",
   "execution_count": 6,
   "metadata": {},
   "outputs": [],
   "source": [
    "## add columns: actionability\tgrounding_specificity\tverifiability\thelpfulness\tappropriateness\tDo you need full review?\n",
    "sampled_df[\"actionability\"] = \"\"\n",
    "sampled_df[\"grounding_specificity\"] = \"\"\n",
    "sampled_df[\"verifiability\"] = \"\"\n",
    "sampled_df[\"helpfulness\"] = \"\"\n",
    "sampled_df[\"appropriateness\"] = \"\"\n",
    "sampled_df[\"Do you need full review?\"] = \"\"\n"
   ]
  },
  {
   "cell_type": "code",
   "execution_count": 12,
   "metadata": {},
   "outputs": [],
   "source": [
    "## load HF authentication token from .env file\n",
    "import os\n",
    "from dotenv import load_dotenv\n",
    "load_dotenv()\n",
    "hf_token = os.getenv(\"HF_TOKEN\")\n"
   ]
  },
  {
   "cell_type": "code",
   "execution_count": 14,
   "metadata": {},
   "outputs": [
    {
     "name": "stderr",
     "output_type": "stream",
     "text": [
      "Creating parquet from Arrow format: 100%|██████████| 1/1 [00:00<00:00, 132.06ba/s]\n",
      "Uploading the dataset shards: 100%|██████████| 1/1 [00:01<00:00,  1.40s/it]\n"
     ]
    },
    {
     "data": {
      "text/plain": [
       "CommitInfo(commit_url='https://huggingface.co/datasets/boda/review_rewrite_test/commit/f5ed869dd440f121408094446dbc4f6929e170af', commit_message='Upload dataset', commit_description='', oid='f5ed869dd440f121408094446dbc4f6929e170af', pr_url=None, pr_revision=None, pr_num=None)"
      ]
     },
     "execution_count": 14,
     "metadata": {},
     "output_type": "execute_result"
    }
   ],
   "source": [
    "# Convert DataFrame to Dataset\n",
    "ds = datasets.Dataset.from_pandas(sampled_df)\n",
    "\n",
    "# Push the dataset to the Hugging Face Hub\n",
    "ds.push_to_hub(\"boda/review_rewrite_test\",token=hf_token)"
   ]
  },
  {
   "cell_type": "code",
   "execution_count": 14,
   "metadata": {},
   "outputs": [],
   "source": [
    "# sampled_df.to_csv(f'/home/abdelrahman.sadallah/mbzuai/review_rewrite/data/100_point_for_manual_annotation.csv', index=False)"
   ]
  }
 ],
 "metadata": {
  "kernelspec": {
   "display_name": "Python 3",
   "language": "python",
   "name": "python3"
  },
  "language_info": {
   "codemirror_mode": {
    "name": "ipython",
    "version": 3
   },
   "file_extension": ".py",
   "mimetype": "text/x-python",
   "name": "python",
   "nbconvert_exporter": "python",
   "pygments_lexer": "ipython3",
   "version": "3.10.14"
  }
 },
 "nbformat": 4,
 "nbformat_minor": 2
}
