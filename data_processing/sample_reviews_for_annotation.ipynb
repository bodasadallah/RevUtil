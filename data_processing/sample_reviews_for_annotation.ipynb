{
 "cells": [
  {
   "cell_type": "code",
   "execution_count": 13,
   "metadata": {},
   "outputs": [],
   "source": [
    "import pandas as pd\n",
    "import ast\n",
    "import datasets\n",
    "all  = pd.read_csv(f'/home/abdelrahman.sadallah/mbzuai/review_rewrite/data/all_review_points.csv')\n",
    "\n",
    "taken = pd.read_csv(f'../data/taken_1k_samples_human_annotation_sampled.csv')['point']\n",
    "taken  = pd.concat([taken, pd.read_csv(f'/home/abdelrahman.sadallah/mbzuai/review_rewrite/data/human_annotation_gathered/all_human_annotations_processed.csv')['review_point']])"
   ]
  },
  {
   "cell_type": "code",
   "execution_count": 14,
   "metadata": {},
   "outputs": [
    {
     "name": "stdout",
     "output_type": "stream",
     "text": [
      "207187\n"
     ]
    }
   ],
   "source": [
    "print(len(all))\n",
    "## remove the taken samples from all\n",
    "all = all[~all['point'].isin(taken)]"
   ]
  },
  {
   "cell_type": "code",
   "execution_count": 15,
   "metadata": {},
   "outputs": [
    {
     "data": {
      "text/plain": [
       "206119"
      ]
     },
     "execution_count": 15,
     "metadata": {},
     "output_type": "execute_result"
    }
   ],
   "source": [
    "len(all)"
   ]
  },
  {
   "cell_type": "code",
   "execution_count": 16,
   "metadata": {},
   "outputs": [
    {
     "name": "stderr",
     "output_type": "stream",
     "text": [
      "/tmp/ipykernel_2199146/2537484748.py:8: DeprecationWarning: DataFrameGroupBy.apply operated on the grouping columns. This behavior is deprecated, and in a future version of pandas the grouping columns will be excluded from the operation. Either pass `include_groups=False` to exclude the groupings or explicitly select the grouping columns after groupby to silence this warning.\n",
      "  grouped.apply(lambda group: group.sample(n=min(len(group), samples_per_group), random_state=42))\n"
     ]
    }
   ],
   "source": [
    "# Total number of samples\n",
    "total_samples = 1200\n",
    "\n",
    "# Uniform sampling\n",
    "grouped = all.groupby(\"venue\")\n",
    "samples_per_group = max(1, total_samples // grouped.ngroups)  # Divide total_samples evenly\n",
    "sampled_df = (\n",
    "    grouped.apply(lambda group: group.sample(n=min(len(group), samples_per_group), random_state=42))\n",
    "    .reset_index(drop=True)\n",
    ")\n",
    "\n",
    "# If more rows are still needed due to rounding, sample the remainder\n",
    "remainder = total_samples - len(sampled_df)\n",
    "if remainder > 0:\n",
    "    remaining_sample = all.loc[~all.index.isin(sampled_df.index)].sample(n=remainder, random_state=42)\n",
    "    sampled_df = pd.concat([sampled_df, remaining_sample]).reset_index(drop=True)"
   ]
  },
  {
   "cell_type": "code",
   "execution_count": 17,
   "metadata": {},
   "outputs": [
    {
     "data": {
      "text/plain": [
       "venue\n",
       "ICLR_2025     93\n",
       "ICLR_2024     88\n",
       "ACL_2017      80\n",
       "ARR_2022      80\n",
       "EMNLP_2023    80\n",
       "ICLR_2021     80\n",
       "ICLR_2022     80\n",
       "ICLR_2023     80\n",
       "NIPS_2017     80\n",
       "NIPS_2018     80\n",
       "NIPS_2019     80\n",
       "NIPS_2020     80\n",
       "NIPS_2021     80\n",
       "NIPS_2022     80\n",
       "NIPS_2016     59\n",
       "Name: count, dtype: int64"
      ]
     },
     "execution_count": 17,
     "metadata": {},
     "output_type": "execute_result"
    }
   ],
   "source": [
    "sampled_df.value_counts(\"venue\")"
   ]
  },
  {
   "cell_type": "code",
   "execution_count": 18,
   "metadata": {},
   "outputs": [],
   "source": [
    "sampled_df.to_csv(f'/home/abdelrahman.sadallah/mbzuai/review_rewrite/data/unfiltered_sampled_data.csv', index=False)"
   ]
  },
  {
   "cell_type": "code",
   "execution_count": 6,
   "metadata": {},
   "outputs": [],
   "source": [
    "# ## add columns: actionability\tgrounding_specificity\tverifiability\thelpfulness\tappropriateness\tDo you need full review?\n",
    "# sampled_df[\"actionability\"] = \"\"\n",
    "# sampled_df[\"grounding_specificity\"] = \"\"\n",
    "# sampled_df[\"verifiability\"] = \"\"\n",
    "# sampled_df[\"helpfulness\"] = \"\"\n",
    "# sampled_df[\"appropriateness\"] = \"\"\n",
    "# sampled_df[\"Do you need full review?\"] = \"\"\n",
    "# ## load HF authentication token from .env file\n",
    "# import os\n",
    "# from dotenv import load_dotenv\n",
    "# load_dotenv()\n",
    "# hf_token = os.getenv(\"HF_TOKEN\")\n",
    "# # Convert DataFrame to Dataset\n",
    "# ds = datasets.Dataset.from_pandas(sampled_df)\n",
    "\n",
    "# # Push the dataset to the Hugging Face Hub\n",
    "# ds.push_to_hub(\"boda/review_rewrite_test\",token=hf_token)"
   ]
  },
  {
   "cell_type": "code",
   "execution_count": 14,
   "metadata": {},
   "outputs": [],
   "source": [
    "# sampled_df.to_csv(f'/home/abdelrahman.sadallah/mbzuai/review_rewrite/data/100_point_for_manual_annotation.csv', index=False)"
   ]
  }
 ],
 "metadata": {
  "kernelspec": {
   "display_name": "Python 3",
   "language": "python",
   "name": "python3"
  },
  "language_info": {
   "codemirror_mode": {
    "name": "ipython",
    "version": 3
   },
   "file_extension": ".py",
   "mimetype": "text/x-python",
   "name": "python",
   "nbconvert_exporter": "python",
   "pygments_lexer": "ipython3",
   "version": "3.10.14"
  }
 },
 "nbformat": 4,
 "nbformat_minor": 2
}
