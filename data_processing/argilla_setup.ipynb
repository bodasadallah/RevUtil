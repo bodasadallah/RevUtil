{
 "cells": [
  {
   "cell_type": "code",
   "execution_count": 1,
   "metadata": {},
   "outputs": [
    {
     "name": "stderr",
     "output_type": "stream",
     "text": [
      "/home/abdelrahman.sadallah/mambaforge/envs/nlp/lib/python3.10/site-packages/tqdm/auto.py:21: TqdmWarning: IProgress not found. Please update jupyter and ipywidgets. See https://ipywidgets.readthedocs.io/en/stable/user_install.html\n",
      "  from .autonotebook import tqdm as notebook_tqdm\n"
     ]
    },
    {
     "name": "stdout",
     "output_type": "stream",
     "text": [
      "/home/abdelrahman.sadallah/mbzuai/review_rewrite\n"
     ]
    }
   ],
   "source": [
    "import argilla as rg\n",
    "from datasets import load_dataset\n",
    "import os\n",
    "import sys\n",
    "from pathlib import Path\n",
    "module_path = Path(os.path.abspath(\"\")).parent\n",
    "print(module_path)\n",
    "sys.path.append(str(module_path))\n",
    "import inference.utils as utils\n",
    "from dotenv import load_dotenv\n",
    "load_dotenv()\n",
    "\n",
    "argilla_api_url = os.getenv(\"argilla_api_url\")\n",
    "argilla_api_key = os.getenv(\"argilla_api_key\")\n",
    "\n",
    "client = rg.Argilla(\n",
    "  api_url=argilla_api_url,\n",
    "  api_key=argilla_api_key\n",
    ")\n",
    "\n"
   ]
  },
  {
   "cell_type": "code",
   "execution_count": 2,
   "metadata": {},
   "outputs": [
    {
     "data": {
      "text/plain": [
       "'boda'"
      ]
     },
     "execution_count": 2,
     "metadata": {},
     "output_type": "execute_result"
    }
   ],
   "source": [
    "client.me.username"
   ]
  },
  {
   "cell_type": "code",
   "execution_count": 3,
   "metadata": {},
   "outputs": [],
   "source": [
    "##### Create Admin user\n",
    "owner_user = rg.User(\n",
    "    username=\"tim\",\n",
    "    first_name=\"Tim\",\n",
    "    last_name=\"Baumgärtner\",\n",
    "    role=\"owner\",\n",
    "    password=\"123456789\",\n",
    "    client=client\n",
    ")\n",
    "\n",
    "if not client.users(owner_user.username):\n",
    "    owner_user.create()"
   ]
  },
  {
   "cell_type": "code",
   "execution_count": 5,
   "metadata": {},
   "outputs": [],
   "source": [
    "\n",
    "NUM_ANNOTATORS = 30\n",
    "credentials_file = '../data/human_annotation_2.1/annotators_credentials.txt'\n",
    "\n",
    "## Create a list of uesrnames and passwords with \n",
    "user_data = utils.generate_username_password_list(NUM_ANNOTATORS)\n",
    "utils.save_to_file( user_data, credentials_file)\n"
   ]
  },
  {
   "cell_type": "code",
   "execution_count": 6,
   "metadata": {},
   "outputs": [
    {
     "name": "stderr",
     "output_type": "stream",
     "text": [
      "/home/abdelrahman.sadallah/mambaforge/envs/nlp/lib/python3.10/site-packages/argilla/client.py:253: UserWarning: Workspace with name '2B7nNvBS' not found.\n",
      "  warnings.warn(f\"Workspace with name {name!r} not found.\")\n"
     ]
    },
    {
     "name": "stdout",
     "output_type": "stream",
     "text": [
      "Created workspace for 2B7nNvBS\n"
     ]
    },
    {
     "name": "stderr",
     "output_type": "stream",
     "text": [
      "/home/abdelrahman.sadallah/mambaforge/envs/nlp/lib/python3.10/site-packages/argilla/client.py:253: UserWarning: Workspace with name '731Nlbes' not found.\n",
      "  warnings.warn(f\"Workspace with name {name!r} not found.\")\n"
     ]
    },
    {
     "name": "stdout",
     "output_type": "stream",
     "text": [
      "Created workspace for 731Nlbes\n"
     ]
    },
    {
     "name": "stderr",
     "output_type": "stream",
     "text": [
      "/home/abdelrahman.sadallah/mambaforge/envs/nlp/lib/python3.10/site-packages/argilla/client.py:253: UserWarning: Workspace with name '320cKdje' not found.\n",
      "  warnings.warn(f\"Workspace with name {name!r} not found.\")\n"
     ]
    },
    {
     "name": "stdout",
     "output_type": "stream",
     "text": [
      "Created workspace for 320cKdje\n"
     ]
    },
    {
     "name": "stderr",
     "output_type": "stream",
     "text": [
      "/home/abdelrahman.sadallah/mambaforge/envs/nlp/lib/python3.10/site-packages/argilla/client.py:253: UserWarning: Workspace with name 'TSEeNPul' not found.\n",
      "  warnings.warn(f\"Workspace with name {name!r} not found.\")\n"
     ]
    },
    {
     "name": "stdout",
     "output_type": "stream",
     "text": [
      "Created workspace for TSEeNPul\n"
     ]
    },
    {
     "name": "stderr",
     "output_type": "stream",
     "text": [
      "/home/abdelrahman.sadallah/mambaforge/envs/nlp/lib/python3.10/site-packages/argilla/client.py:253: UserWarning: Workspace with name 'pDfr2FBL' not found.\n",
      "  warnings.warn(f\"Workspace with name {name!r} not found.\")\n"
     ]
    },
    {
     "name": "stdout",
     "output_type": "stream",
     "text": [
      "Created workspace for pDfr2FBL\n"
     ]
    },
    {
     "name": "stderr",
     "output_type": "stream",
     "text": [
      "/home/abdelrahman.sadallah/mambaforge/envs/nlp/lib/python3.10/site-packages/argilla/client.py:253: UserWarning: Workspace with name 'b5x6Pkpn' not found.\n",
      "  warnings.warn(f\"Workspace with name {name!r} not found.\")\n"
     ]
    },
    {
     "name": "stdout",
     "output_type": "stream",
     "text": [
      "Created workspace for b5x6Pkpn\n"
     ]
    },
    {
     "name": "stderr",
     "output_type": "stream",
     "text": [
      "/home/abdelrahman.sadallah/mambaforge/envs/nlp/lib/python3.10/site-packages/argilla/client.py:253: UserWarning: Workspace with name 'Xd4Tg6Xy' not found.\n",
      "  warnings.warn(f\"Workspace with name {name!r} not found.\")\n"
     ]
    },
    {
     "name": "stdout",
     "output_type": "stream",
     "text": [
      "Created workspace for Xd4Tg6Xy\n"
     ]
    },
    {
     "name": "stderr",
     "output_type": "stream",
     "text": [
      "/home/abdelrahman.sadallah/mambaforge/envs/nlp/lib/python3.10/site-packages/argilla/client.py:253: UserWarning: Workspace with name 'vFlbfvyi' not found.\n",
      "  warnings.warn(f\"Workspace with name {name!r} not found.\")\n"
     ]
    },
    {
     "name": "stdout",
     "output_type": "stream",
     "text": [
      "Created workspace for vFlbfvyi\n"
     ]
    },
    {
     "name": "stderr",
     "output_type": "stream",
     "text": [
      "/home/abdelrahman.sadallah/mambaforge/envs/nlp/lib/python3.10/site-packages/argilla/client.py:253: UserWarning: Workspace with name 'DSr8p8Lw' not found.\n",
      "  warnings.warn(f\"Workspace with name {name!r} not found.\")\n"
     ]
    },
    {
     "name": "stdout",
     "output_type": "stream",
     "text": [
      "Created workspace for DSr8p8Lw\n"
     ]
    },
    {
     "name": "stderr",
     "output_type": "stream",
     "text": [
      "/home/abdelrahman.sadallah/mambaforge/envs/nlp/lib/python3.10/site-packages/argilla/client.py:253: UserWarning: Workspace with name 'BftSNhXP' not found.\n",
      "  warnings.warn(f\"Workspace with name {name!r} not found.\")\n"
     ]
    },
    {
     "name": "stdout",
     "output_type": "stream",
     "text": [
      "Created workspace for BftSNhXP\n"
     ]
    },
    {
     "name": "stderr",
     "output_type": "stream",
     "text": [
      "/home/abdelrahman.sadallah/mambaforge/envs/nlp/lib/python3.10/site-packages/argilla/client.py:253: UserWarning: Workspace with name 'oMSKhfAa' not found.\n",
      "  warnings.warn(f\"Workspace with name {name!r} not found.\")\n"
     ]
    },
    {
     "name": "stdout",
     "output_type": "stream",
     "text": [
      "Created workspace for oMSKhfAa\n"
     ]
    },
    {
     "name": "stderr",
     "output_type": "stream",
     "text": [
      "/home/abdelrahman.sadallah/mambaforge/envs/nlp/lib/python3.10/site-packages/argilla/client.py:253: UserWarning: Workspace with name 'MyyO2QwF' not found.\n",
      "  warnings.warn(f\"Workspace with name {name!r} not found.\")\n"
     ]
    },
    {
     "name": "stdout",
     "output_type": "stream",
     "text": [
      "Created workspace for MyyO2QwF\n"
     ]
    },
    {
     "name": "stderr",
     "output_type": "stream",
     "text": [
      "/home/abdelrahman.sadallah/mambaforge/envs/nlp/lib/python3.10/site-packages/argilla/client.py:253: UserWarning: Workspace with name 'IPUbJL0Z' not found.\n",
      "  warnings.warn(f\"Workspace with name {name!r} not found.\")\n"
     ]
    },
    {
     "name": "stdout",
     "output_type": "stream",
     "text": [
      "Created workspace for IPUbJL0Z\n"
     ]
    },
    {
     "name": "stderr",
     "output_type": "stream",
     "text": [
      "/home/abdelrahman.sadallah/mambaforge/envs/nlp/lib/python3.10/site-packages/argilla/client.py:253: UserWarning: Workspace with name 'ZGOQesrg' not found.\n",
      "  warnings.warn(f\"Workspace with name {name!r} not found.\")\n"
     ]
    },
    {
     "name": "stdout",
     "output_type": "stream",
     "text": [
      "Created workspace for ZGOQesrg\n"
     ]
    },
    {
     "name": "stderr",
     "output_type": "stream",
     "text": [
      "/home/abdelrahman.sadallah/mambaforge/envs/nlp/lib/python3.10/site-packages/argilla/client.py:253: UserWarning: Workspace with name 'kQ1RPcB0' not found.\n",
      "  warnings.warn(f\"Workspace with name {name!r} not found.\")\n"
     ]
    },
    {
     "name": "stdout",
     "output_type": "stream",
     "text": [
      "Created workspace for kQ1RPcB0\n"
     ]
    },
    {
     "name": "stderr",
     "output_type": "stream",
     "text": [
      "/home/abdelrahman.sadallah/mambaforge/envs/nlp/lib/python3.10/site-packages/argilla/client.py:253: UserWarning: Workspace with name 'tmzP5jtp' not found.\n",
      "  warnings.warn(f\"Workspace with name {name!r} not found.\")\n"
     ]
    },
    {
     "name": "stdout",
     "output_type": "stream",
     "text": [
      "Created workspace for tmzP5jtp\n"
     ]
    },
    {
     "name": "stderr",
     "output_type": "stream",
     "text": [
      "/home/abdelrahman.sadallah/mambaforge/envs/nlp/lib/python3.10/site-packages/argilla/client.py:253: UserWarning: Workspace with name '6C4v0hK9' not found.\n",
      "  warnings.warn(f\"Workspace with name {name!r} not found.\")\n"
     ]
    },
    {
     "name": "stdout",
     "output_type": "stream",
     "text": [
      "Created workspace for 6C4v0hK9\n"
     ]
    },
    {
     "name": "stderr",
     "output_type": "stream",
     "text": [
      "/home/abdelrahman.sadallah/mambaforge/envs/nlp/lib/python3.10/site-packages/argilla/client.py:253: UserWarning: Workspace with name 'LbMNie2g' not found.\n",
      "  warnings.warn(f\"Workspace with name {name!r} not found.\")\n"
     ]
    },
    {
     "name": "stdout",
     "output_type": "stream",
     "text": [
      "Created workspace for LbMNie2g\n"
     ]
    },
    {
     "name": "stderr",
     "output_type": "stream",
     "text": [
      "/home/abdelrahman.sadallah/mambaforge/envs/nlp/lib/python3.10/site-packages/argilla/client.py:253: UserWarning: Workspace with name 'TxZsPCly' not found.\n",
      "  warnings.warn(f\"Workspace with name {name!r} not found.\")\n"
     ]
    },
    {
     "name": "stdout",
     "output_type": "stream",
     "text": [
      "Created workspace for TxZsPCly\n"
     ]
    },
    {
     "name": "stderr",
     "output_type": "stream",
     "text": [
      "/home/abdelrahman.sadallah/mambaforge/envs/nlp/lib/python3.10/site-packages/argilla/client.py:253: UserWarning: Workspace with name 'e9NNd3mE' not found.\n",
      "  warnings.warn(f\"Workspace with name {name!r} not found.\")\n"
     ]
    },
    {
     "name": "stdout",
     "output_type": "stream",
     "text": [
      "Created workspace for e9NNd3mE\n"
     ]
    },
    {
     "name": "stderr",
     "output_type": "stream",
     "text": [
      "/home/abdelrahman.sadallah/mambaforge/envs/nlp/lib/python3.10/site-packages/argilla/client.py:253: UserWarning: Workspace with name 'DPIEQqB8' not found.\n",
      "  warnings.warn(f\"Workspace with name {name!r} not found.\")\n"
     ]
    },
    {
     "name": "stdout",
     "output_type": "stream",
     "text": [
      "Created workspace for DPIEQqB8\n"
     ]
    },
    {
     "name": "stderr",
     "output_type": "stream",
     "text": [
      "/home/abdelrahman.sadallah/mambaforge/envs/nlp/lib/python3.10/site-packages/argilla/client.py:253: UserWarning: Workspace with name '4laP8fqV' not found.\n",
      "  warnings.warn(f\"Workspace with name {name!r} not found.\")\n"
     ]
    },
    {
     "name": "stdout",
     "output_type": "stream",
     "text": [
      "Created workspace for 4laP8fqV\n"
     ]
    },
    {
     "name": "stderr",
     "output_type": "stream",
     "text": [
      "/home/abdelrahman.sadallah/mambaforge/envs/nlp/lib/python3.10/site-packages/argilla/client.py:253: UserWarning: Workspace with name 'czbGpupT' not found.\n",
      "  warnings.warn(f\"Workspace with name {name!r} not found.\")\n"
     ]
    },
    {
     "name": "stdout",
     "output_type": "stream",
     "text": [
      "Created workspace for czbGpupT\n"
     ]
    },
    {
     "name": "stderr",
     "output_type": "stream",
     "text": [
      "/home/abdelrahman.sadallah/mambaforge/envs/nlp/lib/python3.10/site-packages/argilla/client.py:253: UserWarning: Workspace with name 'h5AVuWCe' not found.\n",
      "  warnings.warn(f\"Workspace with name {name!r} not found.\")\n"
     ]
    },
    {
     "name": "stdout",
     "output_type": "stream",
     "text": [
      "Created workspace for h5AVuWCe\n"
     ]
    },
    {
     "name": "stderr",
     "output_type": "stream",
     "text": [
      "/home/abdelrahman.sadallah/mambaforge/envs/nlp/lib/python3.10/site-packages/argilla/client.py:253: UserWarning: Workspace with name 'WfNX9of1' not found.\n",
      "  warnings.warn(f\"Workspace with name {name!r} not found.\")\n"
     ]
    },
    {
     "name": "stdout",
     "output_type": "stream",
     "text": [
      "Created workspace for WfNX9of1\n"
     ]
    },
    {
     "name": "stderr",
     "output_type": "stream",
     "text": [
      "/home/abdelrahman.sadallah/mambaforge/envs/nlp/lib/python3.10/site-packages/argilla/client.py:253: UserWarning: Workspace with name 'tZCLxauR' not found.\n",
      "  warnings.warn(f\"Workspace with name {name!r} not found.\")\n"
     ]
    },
    {
     "name": "stdout",
     "output_type": "stream",
     "text": [
      "Created workspace for tZCLxauR\n"
     ]
    },
    {
     "name": "stderr",
     "output_type": "stream",
     "text": [
      "/home/abdelrahman.sadallah/mambaforge/envs/nlp/lib/python3.10/site-packages/argilla/client.py:253: UserWarning: Workspace with name '3le7odam' not found.\n",
      "  warnings.warn(f\"Workspace with name {name!r} not found.\")\n"
     ]
    },
    {
     "name": "stdout",
     "output_type": "stream",
     "text": [
      "Created workspace for 3le7odam\n"
     ]
    },
    {
     "name": "stderr",
     "output_type": "stream",
     "text": [
      "/home/abdelrahman.sadallah/mambaforge/envs/nlp/lib/python3.10/site-packages/argilla/client.py:253: UserWarning: Workspace with name '0YJ7lqtk' not found.\n",
      "  warnings.warn(f\"Workspace with name {name!r} not found.\")\n"
     ]
    },
    {
     "name": "stdout",
     "output_type": "stream",
     "text": [
      "Created workspace for 0YJ7lqtk\n"
     ]
    },
    {
     "name": "stderr",
     "output_type": "stream",
     "text": [
      "/home/abdelrahman.sadallah/mambaforge/envs/nlp/lib/python3.10/site-packages/argilla/client.py:253: UserWarning: Workspace with name 'yeY2DVSH' not found.\n",
      "  warnings.warn(f\"Workspace with name {name!r} not found.\")\n"
     ]
    },
    {
     "name": "stdout",
     "output_type": "stream",
     "text": [
      "Created workspace for yeY2DVSH\n"
     ]
    },
    {
     "name": "stderr",
     "output_type": "stream",
     "text": [
      "/home/abdelrahman.sadallah/mambaforge/envs/nlp/lib/python3.10/site-packages/argilla/client.py:253: UserWarning: Workspace with name 'oKlh1xlj' not found.\n",
      "  warnings.warn(f\"Workspace with name {name!r} not found.\")\n"
     ]
    },
    {
     "name": "stdout",
     "output_type": "stream",
     "text": [
      "Created workspace for oKlh1xlj\n"
     ]
    },
    {
     "name": "stderr",
     "output_type": "stream",
     "text": [
      "/home/abdelrahman.sadallah/mambaforge/envs/nlp/lib/python3.10/site-packages/argilla/client.py:253: UserWarning: Workspace with name 'tim' not found.\n",
      "  warnings.warn(f\"Workspace with name {name!r} not found.\")\n"
     ]
    },
    {
     "name": "stdout",
     "output_type": "stream",
     "text": [
      "Created workspace for tim\n"
     ]
    },
    {
     "name": "stderr",
     "output_type": "stream",
     "text": [
      "/home/abdelrahman.sadallah/mambaforge/envs/nlp/lib/python3.10/site-packages/argilla/client.py:253: UserWarning: Workspace with name 'boda' not found.\n",
      "  warnings.warn(f\"Workspace with name {name!r} not found.\")\n"
     ]
    },
    {
     "name": "stdout",
     "output_type": "stream",
     "text": [
      "Created workspace for boda\n"
     ]
    }
   ],
   "source": [
    "### Create annotator Users\n",
    "\n",
    "annotators = []\n",
    "\n",
    "annotators_credentials = utils.read_from_file(credentials_file)\n",
    "\n",
    "assert len(annotators_credentials) == NUM_ANNOTATORS\n",
    "\n",
    "\n",
    "## delete all users and workspaces\n",
    "for user in client.users:\n",
    "    if user.role == 'annotator':\n",
    "        user.delete()\n",
    "        \n",
    "## Delete all datasets\n",
    "for ds in client.datasets:\n",
    "    ds.delete()\n",
    "for workspace in client.workspaces:\n",
    "    workspace.delete()\n",
    "\n",
    "for i in range(NUM_ANNOTATORS):\n",
    "    \n",
    "    ## Create user\n",
    "\n",
    "    annotator_user = rg.User(\n",
    "        username=annotators_credentials[i]['username'],\n",
    "        password=annotators_credentials[i]['password'],\n",
    "        role=\"annotator\",\n",
    "        client=client\n",
    "    )\n",
    "\n",
    "    annotator_user.create()\n",
    "\n",
    "    ## create workspace per uesr\n",
    "    if not client.workspaces(annotator_user.username):\n",
    "        rg.Workspace(\n",
    "            name=annotator_user.username,\n",
    "            client=client\n",
    "        ).create()\n",
    "        print(f\"Created workspace for {annotator_user.username}\")\n",
    "\n",
    "    ## add user to workspace\n",
    "    client.workspaces(annotator_user.username).add_user(annotator_user.username)\n",
    "\n",
    "    ##\n",
    "    annotators.append({'user': annotator_user, 'workspace': client.workspaces(annotator_user.username)})\n",
    "\n",
    "## Create a workspace for the owner\n",
    "if not client.workspaces(owner_user.username):\n",
    "    rg.Workspace(\n",
    "        name=owner_user.username,\n",
    "        client=client\n",
    "    ).create()\n",
    "    print(f\"Created workspace for {owner_user.username}\")\n",
    "\n",
    "## Create a workspace for the Boda\n",
    "if not client.workspaces('boda'):\n",
    "    rg.Workspace(\n",
    "        name='boda',\n",
    "        client=client\n",
    "    ).create()\n",
    "    print(f\"Created workspace for boda\")\n",
    "    "
   ]
  },
  {
   "cell_type": "code",
   "execution_count": 7,
   "metadata": {},
   "outputs": [],
   "source": [
    "### Define Fields \n",
    "fields = [\n",
    "rg.TextField(\n",
    "    name=\"review_point\",\n",
    "    title=\"Review Point\",\n",
    "    use_markdown=False,\n",
    "    required=True,\n",
    "    description=\"Review point extracted from the full review. You are only required to evalutae this specific review poin, and not the full review.\",\n",
    "),\n",
    "# rg.TextField(\n",
    "#     name=\"review\",\n",
    "#     title=\"Review\",\n",
    "#     use_markdown=False,\n",
    "#     required=True,\n",
    "#     description=\"Full review text. Only use this if you needed context to evaluate the review point.\",\n",
    "# ),\n",
    "]"
   ]
  },
  {
   "cell_type": "code",
   "execution_count": 8,
   "metadata": {},
   "outputs": [],
   "source": [
    "questions = [\n",
    "rg.LabelQuestion(\n",
    "    name=\"actionability\",\n",
    "    labels={\n",
    "    \"1\": \"Unactionable\", \n",
    "    \"2\": \"Borderline Actionable\", \n",
    "    \"3\": \"Somewhat Actionable\", \n",
    "    \"4\": \"Mostly Actionable\", \n",
    "    \"5\": \"Highly Actionable\"\n",
    "    },\n",
    "    title=\"What is the Actiobability of the Review Point?\",\n",
    "    description='''\n",
    "Actionability refers to the clarity and specificity of guidance provided in review comments, ensuring authors know what actions to take to improve their work. Highly actionable feedback is both explicit and concrete, offering direct suggestions or clearly defined steps that authors can easily implement, whereas less actionable feedback may be vague, implicit, or leave authors uncertain about how to proceed. \n",
    "    ''',\n",
    "    required=True,\n",
    "    visible_labels=None\n",
    "),\n",
    "\n",
    "\n",
    "rg.LabelQuestion(\n",
    "    name=\"grounding_specificity\",\n",
    "    labels={\n",
    "        \"1\": \"Not Grounded\",\n",
    "        \"2\": \"Weakly grounded and not specific\",\n",
    "        \"3\": \"Weakly grounded and specific\",\n",
    "        \"4\": \"Fully grounded and not specific\",\n",
    "        \"5\": \"Fully grounded and specific\"},\n",
    "    title=\"How Grounded and Specific is the Review Point?\",\n",
    "    description='''Grounding and specificity refer to how clearly a review comment identifies the specific part of a paper being addressed (grounding) and how detailed the comment is in explaining the issue or suggestion (specificity). These aspects are crucial for ensuring authors can accurately pinpoint and address the feedback, improving the quality and relevance of revisions.''',\n",
    "    required=True,\n",
    "    visible_labels=5),\n",
    "\n",
    "rg.LabelQuestion(\n",
    "    name=\"verifiability\",\n",
    "    labels={\n",
    "        \"1\": \"Unverifiable\",\n",
    "        \"2\": \"Borderline verifiable\",\n",
    "        \"3\": \"Somewhat verifiable\",\n",
    "        \"4\": \"Mostly verifiable\",\n",
    "        \"5\": \"Fully verifiable\",\n",
    "        \"X\": \"No Claim\"},\n",
    "    title=\"How Verifiable is the Review Point?\",\n",
    "    description='''Verifiability refers to assessing whether a comment contains a claim or subjective opinion and, if so, how well that claim is supported with justification. Justification can include logical reasoning, common-sense arguments, or references, ensuring the claim is clear, substantiated, and helpful for authors to act upon.''',\n",
    "    required=True,\n",
    "    visible_labels=6),\n",
    "\n",
    "rg.LabelQuestion(\n",
    "    name=\"helpfulness\",\n",
    "    labels={\n",
    "        \"1\": \"The comment is not helpful at all\",\n",
    "        \"2\": \"The comment is barely helpful\",\n",
    "        \"3\": \"The comment is somewhat helpful\",\n",
    "        \"4\": \"The comment is mostly helpful\",\n",
    "        \"5\": \"The comment is highly helpful\"},\n",
    "    title=\"How Helpful is the Review Point?\",\n",
    "    description='''\n",
    "Helpfulness measures the value of a review comment to authors in improving their work, rated on a scale from 1 (not helpful at all) to 5 (highly helpful). Higher scores correspond to comments that identify weaknesses with clear, actionable suggestions, while lower scores reflect vague or unconstructive feedback that offers little guidance.''',\n",
    "    required=True,\n",
    "    visible_labels=5),\n",
    "\n",
    "rg.LabelQuestion(\n",
    "    name=\"professional_tone\",\n",
    "    labels={\n",
    "        \"0\": \"No\",\n",
    "        \"1\": \"Yes\",},\n",
    "    title=\"Is the review conducted in a Professional Tone?\",\n",
    "    description='''\n",
    "Professional Tone assesses the formality, respect, and clarity of language in peer reviews, ensuring constructive, respectful, and impartial feedback that fosters collaboration and focuses on the work rather than the individual.''',\n",
    "    required=True,\n",
    "    # visible_labels=2\n",
    "    ),\n",
    "\n",
    "rg.LabelQuestion(\n",
    "    name=\"valid_point\",\n",
    "    labels={\n",
    "        \"0\": \"No\",\n",
    "        \"1\": \"Yes\",},\n",
    "    title=\"Is this review point not complete (it can not be evaluated)?\",\n",
    "    description=\"If the review point is not complete, please select 'Yes'. Otherwise, select 'No'.\",\n",
    "    required=False,\n",
    ")\n",
    "# rg.LabelQuestion(\n",
    "# name=\"need_full_review\",\n",
    "# labels={\n",
    "#     \"0\": \"No\",\n",
    "#     \"1\": \"Yes\"},\n",
    "# title=\"Do you need to see the full review to evaluate the review point?\",\n",
    "# description='''\n",
    "# If you need to see the full review to evaluate the review point, please select \"Yes\". Otherwise, select \"No\".''',\n",
    "# required=False,\n",
    "# visible_labels=2),  \n",
    "\n",
    "# rg.TextQuestion(\n",
    "#     name=\"prolific_id\",\n",
    "#     title=\"Please provide your Prolific ID (you only need to do this once)\",\n",
    "#     description=\"Please provide your Prolific ID to link your annotations to your profile. You only need to do this once.\",\n",
    "#     required=False,\n",
    "#     use_markdown=False\n",
    "# )\n",
    "\n",
    "\n",
    "]"
   ]
  },
  {
   "cell_type": "code",
   "execution_count": 9,
   "metadata": {},
   "outputs": [],
   "source": [
    "## read a markdown file and store it into string\n",
    "with open('/home/abdelrahman.sadallah/mbzuai/review_rewrite/data/guidelines_short.md', 'r') as file:\n",
    "    guidelines =  file.read()"
   ]
  },
  {
   "cell_type": "code",
   "execution_count": 10,
   "metadata": {},
   "outputs": [],
   "source": [
    "\n",
    "settings = rg.Settings(\n",
    "    fields=fields,\n",
    "    questions=questions,\n",
    "    guidelines=guidelines,\n",
    "    allow_extra_metadata=True,\n",
    "    distribution=rg.TaskDistribution(min_submitted=1),\n",
    ")\n",
    "\n"
   ]
  },
  {
   "cell_type": "code",
   "execution_count": 11,
   "metadata": {},
   "outputs": [],
   "source": [
    "hf_dataset = load_dataset(\"boda/review_evaluation_test_batch_2\", split=\"train\")\n",
    "\n",
    "## take only first 25 entries \n",
    "hf_dataset = hf_dataset.select(range(50))\n",
    "\n",
    "## save the chosen ids to a file\n"
   ]
  },
  {
   "cell_type": "code",
   "execution_count": 12,
   "metadata": {},
   "outputs": [],
   "source": [
    "\n",
    "# hf_dataset = hf_dataset.remove_columns(column_names=['paper_id', 'venue','actionability',\n",
    "#  'grounding_specificity',\n",
    "#  'verifiability',\n",
    "#  'helpfulness',\n",
    "#  'appropriateness',\n",
    "#  'Do you need full review?'])"
   ]
  },
  {
   "cell_type": "code",
   "execution_count": 13,
   "metadata": {},
   "outputs": [
    {
     "name": "stderr",
     "output_type": "stream",
     "text": [
      "/home/abdelrahman.sadallah/mambaforge/envs/nlp/lib/python3.10/site-packages/argilla/client.py:354: UserWarning: Dataset with name 'review_evaluation' not found in workspace '2B7nNvBS'\n",
      "  warnings.warn(f\"Dataset with name {name!r} not found in workspace {workspace.name!r}\")\n",
      "/home/abdelrahman.sadallah/mambaforge/envs/nlp/lib/python3.10/site-packages/argilla/records/_io/_datasets.py:265: UserWarning: Record id column not found in Hugging Face dataset. Using row index and split for record ids.\n",
      "  warnings.warn(\n",
      "/home/abdelrahman.sadallah/mambaforge/envs/nlp/lib/python3.10/site-packages/argilla/records/_mapping/_mapper.py:89: UserWarning: Keys ['paper_id', 'venue', 'focused_review', 'point'] in data are not present in the mapping and will be ignored.\n",
      "  warnings.warn(f\"Keys {unknown_keys} in data are not present in the mapping and will be ignored.\")\n"
     ]
    },
    {
     "data": {
      "text/html": [
       "<pre style=\"white-space:pre;overflow-x:auto;line-height:normal;font-family:Menlo,'DejaVu Sans Mono',consolas,'Courier New',monospace\">DatasetRecords: The provided batch size <span style=\"color: #008080; text-decoration-color: #008080; font-weight: bold\">256</span> was normalized. Using value <span style=\"color: #008080; text-decoration-color: #008080; font-weight: bold\">50</span>.\n",
       "</pre>\n"
      ],
      "text/plain": [
       "DatasetRecords: The provided batch size \u001b[1;36m256\u001b[0m was normalized. Using value \u001b[1;36m50\u001b[0m.\n"
      ]
     },
     "metadata": {},
     "output_type": "display_data"
    },
    {
     "name": "stderr",
     "output_type": "stream",
     "text": [
      "Sending records...: 100%|██████████| 1/1 [00:02<00:00,  2.16s/batch]\n",
      "/home/abdelrahman.sadallah/mambaforge/envs/nlp/lib/python3.10/site-packages/argilla/records/_io/_datasets.py:265: UserWarning: Record id column not found in Hugging Face dataset. Using row index and split for record ids.\n",
      "  warnings.warn(\n"
     ]
    },
    {
     "data": {
      "text/html": [
       "<pre style=\"white-space:pre;overflow-x:auto;line-height:normal;font-family:Menlo,'DejaVu Sans Mono',consolas,'Courier New',monospace\">DatasetRecords: The provided batch size <span style=\"color: #008080; text-decoration-color: #008080; font-weight: bold\">256</span> was normalized. Using value <span style=\"color: #008080; text-decoration-color: #008080; font-weight: bold\">50</span>.\n",
       "</pre>\n"
      ],
      "text/plain": [
       "DatasetRecords: The provided batch size \u001b[1;36m256\u001b[0m was normalized. Using value \u001b[1;36m50\u001b[0m.\n"
      ]
     },
     "metadata": {},
     "output_type": "display_data"
    },
    {
     "name": "stderr",
     "output_type": "stream",
     "text": [
      "Sending records...: 100%|██████████| 1/1 [00:02<00:00,  2.53s/batch]\n"
     ]
    },
    {
     "data": {
      "text/html": [
       "<pre style=\"white-space:pre;overflow-x:auto;line-height:normal;font-family:Menlo,'DejaVu Sans Mono',consolas,'Courier New',monospace\">DatasetRecords: The provided batch size <span style=\"color: #008080; text-decoration-color: #008080; font-weight: bold\">256</span> was normalized. Using value <span style=\"color: #008080; text-decoration-color: #008080; font-weight: bold\">50</span>.\n",
       "</pre>\n"
      ],
      "text/plain": [
       "DatasetRecords: The provided batch size \u001b[1;36m256\u001b[0m was normalized. Using value \u001b[1;36m50\u001b[0m.\n"
      ]
     },
     "metadata": {},
     "output_type": "display_data"
    },
    {
     "name": "stderr",
     "output_type": "stream",
     "text": [
      "Sending records...: 100%|██████████| 1/1 [00:02<00:00,  2.31s/batch]\n"
     ]
    },
    {
     "data": {
      "text/html": [
       "<pre style=\"white-space:pre;overflow-x:auto;line-height:normal;font-family:Menlo,'DejaVu Sans Mono',consolas,'Courier New',monospace\">DatasetRecords: The provided batch size <span style=\"color: #008080; text-decoration-color: #008080; font-weight: bold\">256</span> was normalized. Using value <span style=\"color: #008080; text-decoration-color: #008080; font-weight: bold\">50</span>.\n",
       "</pre>\n"
      ],
      "text/plain": [
       "DatasetRecords: The provided batch size \u001b[1;36m256\u001b[0m was normalized. Using value \u001b[1;36m50\u001b[0m.\n"
      ]
     },
     "metadata": {},
     "output_type": "display_data"
    },
    {
     "name": "stderr",
     "output_type": "stream",
     "text": [
      "Sending records...: 100%|██████████| 1/1 [00:02<00:00,  2.58s/batch]\n"
     ]
    },
    {
     "data": {
      "text/html": [
       "<pre style=\"white-space:pre;overflow-x:auto;line-height:normal;font-family:Menlo,'DejaVu Sans Mono',consolas,'Courier New',monospace\">DatasetRecords: The provided batch size <span style=\"color: #008080; text-decoration-color: #008080; font-weight: bold\">256</span> was normalized. Using value <span style=\"color: #008080; text-decoration-color: #008080; font-weight: bold\">50</span>.\n",
       "</pre>\n"
      ],
      "text/plain": [
       "DatasetRecords: The provided batch size \u001b[1;36m256\u001b[0m was normalized. Using value \u001b[1;36m50\u001b[0m.\n"
      ]
     },
     "metadata": {},
     "output_type": "display_data"
    },
    {
     "name": "stderr",
     "output_type": "stream",
     "text": [
      "Sending records...: 100%|██████████| 1/1 [00:02<00:00,  2.41s/batch]\n"
     ]
    },
    {
     "data": {
      "text/html": [
       "<pre style=\"white-space:pre;overflow-x:auto;line-height:normal;font-family:Menlo,'DejaVu Sans Mono',consolas,'Courier New',monospace\">DatasetRecords: The provided batch size <span style=\"color: #008080; text-decoration-color: #008080; font-weight: bold\">256</span> was normalized. Using value <span style=\"color: #008080; text-decoration-color: #008080; font-weight: bold\">50</span>.\n",
       "</pre>\n"
      ],
      "text/plain": [
       "DatasetRecords: The provided batch size \u001b[1;36m256\u001b[0m was normalized. Using value \u001b[1;36m50\u001b[0m.\n"
      ]
     },
     "metadata": {},
     "output_type": "display_data"
    },
    {
     "name": "stderr",
     "output_type": "stream",
     "text": [
      "Sending records...: 100%|██████████| 1/1 [00:02<00:00,  2.28s/batch]\n"
     ]
    },
    {
     "data": {
      "text/html": [
       "<pre style=\"white-space:pre;overflow-x:auto;line-height:normal;font-family:Menlo,'DejaVu Sans Mono',consolas,'Courier New',monospace\">DatasetRecords: The provided batch size <span style=\"color: #008080; text-decoration-color: #008080; font-weight: bold\">256</span> was normalized. Using value <span style=\"color: #008080; text-decoration-color: #008080; font-weight: bold\">50</span>.\n",
       "</pre>\n"
      ],
      "text/plain": [
       "DatasetRecords: The provided batch size \u001b[1;36m256\u001b[0m was normalized. Using value \u001b[1;36m50\u001b[0m.\n"
      ]
     },
     "metadata": {},
     "output_type": "display_data"
    },
    {
     "name": "stderr",
     "output_type": "stream",
     "text": [
      "Sending records...: 100%|██████████| 1/1 [00:02<00:00,  2.75s/batch]\n"
     ]
    },
    {
     "data": {
      "text/html": [
       "<pre style=\"white-space:pre;overflow-x:auto;line-height:normal;font-family:Menlo,'DejaVu Sans Mono',consolas,'Courier New',monospace\">DatasetRecords: The provided batch size <span style=\"color: #008080; text-decoration-color: #008080; font-weight: bold\">256</span> was normalized. Using value <span style=\"color: #008080; text-decoration-color: #008080; font-weight: bold\">50</span>.\n",
       "</pre>\n"
      ],
      "text/plain": [
       "DatasetRecords: The provided batch size \u001b[1;36m256\u001b[0m was normalized. Using value \u001b[1;36m50\u001b[0m.\n"
      ]
     },
     "metadata": {},
     "output_type": "display_data"
    },
    {
     "name": "stderr",
     "output_type": "stream",
     "text": [
      "Sending records...: 100%|██████████| 1/1 [00:02<00:00,  2.24s/batch]\n"
     ]
    },
    {
     "data": {
      "text/html": [
       "<pre style=\"white-space:pre;overflow-x:auto;line-height:normal;font-family:Menlo,'DejaVu Sans Mono',consolas,'Courier New',monospace\">DatasetRecords: The provided batch size <span style=\"color: #008080; text-decoration-color: #008080; font-weight: bold\">256</span> was normalized. Using value <span style=\"color: #008080; text-decoration-color: #008080; font-weight: bold\">50</span>.\n",
       "</pre>\n"
      ],
      "text/plain": [
       "DatasetRecords: The provided batch size \u001b[1;36m256\u001b[0m was normalized. Using value \u001b[1;36m50\u001b[0m.\n"
      ]
     },
     "metadata": {},
     "output_type": "display_data"
    },
    {
     "name": "stderr",
     "output_type": "stream",
     "text": [
      "Sending records...: 100%|██████████| 1/1 [00:02<00:00,  2.16s/batch]\n"
     ]
    },
    {
     "data": {
      "text/html": [
       "<pre style=\"white-space:pre;overflow-x:auto;line-height:normal;font-family:Menlo,'DejaVu Sans Mono',consolas,'Courier New',monospace\">DatasetRecords: The provided batch size <span style=\"color: #008080; text-decoration-color: #008080; font-weight: bold\">256</span> was normalized. Using value <span style=\"color: #008080; text-decoration-color: #008080; font-weight: bold\">50</span>.\n",
       "</pre>\n"
      ],
      "text/plain": [
       "DatasetRecords: The provided batch size \u001b[1;36m256\u001b[0m was normalized. Using value \u001b[1;36m50\u001b[0m.\n"
      ]
     },
     "metadata": {},
     "output_type": "display_data"
    },
    {
     "name": "stderr",
     "output_type": "stream",
     "text": [
      "Sending records...: 100%|██████████| 1/1 [00:02<00:00,  2.34s/batch]\n"
     ]
    },
    {
     "data": {
      "text/html": [
       "<pre style=\"white-space:pre;overflow-x:auto;line-height:normal;font-family:Menlo,'DejaVu Sans Mono',consolas,'Courier New',monospace\">DatasetRecords: The provided batch size <span style=\"color: #008080; text-decoration-color: #008080; font-weight: bold\">256</span> was normalized. Using value <span style=\"color: #008080; text-decoration-color: #008080; font-weight: bold\">50</span>.\n",
       "</pre>\n"
      ],
      "text/plain": [
       "DatasetRecords: The provided batch size \u001b[1;36m256\u001b[0m was normalized. Using value \u001b[1;36m50\u001b[0m.\n"
      ]
     },
     "metadata": {},
     "output_type": "display_data"
    },
    {
     "name": "stderr",
     "output_type": "stream",
     "text": [
      "Sending records...: 100%|██████████| 1/1 [00:02<00:00,  2.26s/batch]\n"
     ]
    },
    {
     "data": {
      "text/html": [
       "<pre style=\"white-space:pre;overflow-x:auto;line-height:normal;font-family:Menlo,'DejaVu Sans Mono',consolas,'Courier New',monospace\">DatasetRecords: The provided batch size <span style=\"color: #008080; text-decoration-color: #008080; font-weight: bold\">256</span> was normalized. Using value <span style=\"color: #008080; text-decoration-color: #008080; font-weight: bold\">50</span>.\n",
       "</pre>\n"
      ],
      "text/plain": [
       "DatasetRecords: The provided batch size \u001b[1;36m256\u001b[0m was normalized. Using value \u001b[1;36m50\u001b[0m.\n"
      ]
     },
     "metadata": {},
     "output_type": "display_data"
    },
    {
     "name": "stderr",
     "output_type": "stream",
     "text": [
      "Sending records...: 100%|██████████| 1/1 [00:02<00:00,  2.48s/batch]\n"
     ]
    },
    {
     "data": {
      "text/html": [
       "<pre style=\"white-space:pre;overflow-x:auto;line-height:normal;font-family:Menlo,'DejaVu Sans Mono',consolas,'Courier New',monospace\">DatasetRecords: The provided batch size <span style=\"color: #008080; text-decoration-color: #008080; font-weight: bold\">256</span> was normalized. Using value <span style=\"color: #008080; text-decoration-color: #008080; font-weight: bold\">50</span>.\n",
       "</pre>\n"
      ],
      "text/plain": [
       "DatasetRecords: The provided batch size \u001b[1;36m256\u001b[0m was normalized. Using value \u001b[1;36m50\u001b[0m.\n"
      ]
     },
     "metadata": {},
     "output_type": "display_data"
    },
    {
     "name": "stderr",
     "output_type": "stream",
     "text": [
      "Sending records...: 100%|██████████| 1/1 [00:02<00:00,  2.64s/batch]\n"
     ]
    },
    {
     "data": {
      "text/html": [
       "<pre style=\"white-space:pre;overflow-x:auto;line-height:normal;font-family:Menlo,'DejaVu Sans Mono',consolas,'Courier New',monospace\">DatasetRecords: The provided batch size <span style=\"color: #008080; text-decoration-color: #008080; font-weight: bold\">256</span> was normalized. Using value <span style=\"color: #008080; text-decoration-color: #008080; font-weight: bold\">50</span>.\n",
       "</pre>\n"
      ],
      "text/plain": [
       "DatasetRecords: The provided batch size \u001b[1;36m256\u001b[0m was normalized. Using value \u001b[1;36m50\u001b[0m.\n"
      ]
     },
     "metadata": {},
     "output_type": "display_data"
    },
    {
     "name": "stderr",
     "output_type": "stream",
     "text": [
      "Sending records...: 100%|██████████| 1/1 [00:02<00:00,  2.50s/batch]\n"
     ]
    },
    {
     "data": {
      "text/html": [
       "<pre style=\"white-space:pre;overflow-x:auto;line-height:normal;font-family:Menlo,'DejaVu Sans Mono',consolas,'Courier New',monospace\">DatasetRecords: The provided batch size <span style=\"color: #008080; text-decoration-color: #008080; font-weight: bold\">256</span> was normalized. Using value <span style=\"color: #008080; text-decoration-color: #008080; font-weight: bold\">50</span>.\n",
       "</pre>\n"
      ],
      "text/plain": [
       "DatasetRecords: The provided batch size \u001b[1;36m256\u001b[0m was normalized. Using value \u001b[1;36m50\u001b[0m.\n"
      ]
     },
     "metadata": {},
     "output_type": "display_data"
    },
    {
     "name": "stderr",
     "output_type": "stream",
     "text": [
      "Sending records...: 100%|██████████| 1/1 [00:02<00:00,  2.63s/batch]\n"
     ]
    },
    {
     "data": {
      "text/html": [
       "<pre style=\"white-space:pre;overflow-x:auto;line-height:normal;font-family:Menlo,'DejaVu Sans Mono',consolas,'Courier New',monospace\">DatasetRecords: The provided batch size <span style=\"color: #008080; text-decoration-color: #008080; font-weight: bold\">256</span> was normalized. Using value <span style=\"color: #008080; text-decoration-color: #008080; font-weight: bold\">50</span>.\n",
       "</pre>\n"
      ],
      "text/plain": [
       "DatasetRecords: The provided batch size \u001b[1;36m256\u001b[0m was normalized. Using value \u001b[1;36m50\u001b[0m.\n"
      ]
     },
     "metadata": {},
     "output_type": "display_data"
    },
    {
     "name": "stderr",
     "output_type": "stream",
     "text": [
      "Sending records...: 100%|██████████| 1/1 [00:02<00:00,  2.45s/batch]\n"
     ]
    },
    {
     "data": {
      "text/html": [
       "<pre style=\"white-space:pre;overflow-x:auto;line-height:normal;font-family:Menlo,'DejaVu Sans Mono',consolas,'Courier New',monospace\">DatasetRecords: The provided batch size <span style=\"color: #008080; text-decoration-color: #008080; font-weight: bold\">256</span> was normalized. Using value <span style=\"color: #008080; text-decoration-color: #008080; font-weight: bold\">50</span>.\n",
       "</pre>\n"
      ],
      "text/plain": [
       "DatasetRecords: The provided batch size \u001b[1;36m256\u001b[0m was normalized. Using value \u001b[1;36m50\u001b[0m.\n"
      ]
     },
     "metadata": {},
     "output_type": "display_data"
    },
    {
     "name": "stderr",
     "output_type": "stream",
     "text": [
      "Sending records...: 100%|██████████| 1/1 [00:02<00:00,  2.47s/batch]\n"
     ]
    },
    {
     "data": {
      "text/html": [
       "<pre style=\"white-space:pre;overflow-x:auto;line-height:normal;font-family:Menlo,'DejaVu Sans Mono',consolas,'Courier New',monospace\">DatasetRecords: The provided batch size <span style=\"color: #008080; text-decoration-color: #008080; font-weight: bold\">256</span> was normalized. Using value <span style=\"color: #008080; text-decoration-color: #008080; font-weight: bold\">50</span>.\n",
       "</pre>\n"
      ],
      "text/plain": [
       "DatasetRecords: The provided batch size \u001b[1;36m256\u001b[0m was normalized. Using value \u001b[1;36m50\u001b[0m.\n"
      ]
     },
     "metadata": {},
     "output_type": "display_data"
    },
    {
     "name": "stderr",
     "output_type": "stream",
     "text": [
      "Sending records...: 100%|██████████| 1/1 [00:02<00:00,  2.58s/batch]\n"
     ]
    },
    {
     "data": {
      "text/html": [
       "<pre style=\"white-space:pre;overflow-x:auto;line-height:normal;font-family:Menlo,'DejaVu Sans Mono',consolas,'Courier New',monospace\">DatasetRecords: The provided batch size <span style=\"color: #008080; text-decoration-color: #008080; font-weight: bold\">256</span> was normalized. Using value <span style=\"color: #008080; text-decoration-color: #008080; font-weight: bold\">50</span>.\n",
       "</pre>\n"
      ],
      "text/plain": [
       "DatasetRecords: The provided batch size \u001b[1;36m256\u001b[0m was normalized. Using value \u001b[1;36m50\u001b[0m.\n"
      ]
     },
     "metadata": {},
     "output_type": "display_data"
    },
    {
     "name": "stderr",
     "output_type": "stream",
     "text": [
      "Sending records...: 100%|██████████| 1/1 [00:02<00:00,  2.75s/batch]\n"
     ]
    },
    {
     "data": {
      "text/html": [
       "<pre style=\"white-space:pre;overflow-x:auto;line-height:normal;font-family:Menlo,'DejaVu Sans Mono',consolas,'Courier New',monospace\">DatasetRecords: The provided batch size <span style=\"color: #008080; text-decoration-color: #008080; font-weight: bold\">256</span> was normalized. Using value <span style=\"color: #008080; text-decoration-color: #008080; font-weight: bold\">50</span>.\n",
       "</pre>\n"
      ],
      "text/plain": [
       "DatasetRecords: The provided batch size \u001b[1;36m256\u001b[0m was normalized. Using value \u001b[1;36m50\u001b[0m.\n"
      ]
     },
     "metadata": {},
     "output_type": "display_data"
    },
    {
     "name": "stderr",
     "output_type": "stream",
     "text": [
      "Sending records...: 100%|██████████| 1/1 [00:02<00:00,  2.56s/batch]\n"
     ]
    },
    {
     "data": {
      "text/html": [
       "<pre style=\"white-space:pre;overflow-x:auto;line-height:normal;font-family:Menlo,'DejaVu Sans Mono',consolas,'Courier New',monospace\">DatasetRecords: The provided batch size <span style=\"color: #008080; text-decoration-color: #008080; font-weight: bold\">256</span> was normalized. Using value <span style=\"color: #008080; text-decoration-color: #008080; font-weight: bold\">50</span>.\n",
       "</pre>\n"
      ],
      "text/plain": [
       "DatasetRecords: The provided batch size \u001b[1;36m256\u001b[0m was normalized. Using value \u001b[1;36m50\u001b[0m.\n"
      ]
     },
     "metadata": {},
     "output_type": "display_data"
    },
    {
     "name": "stderr",
     "output_type": "stream",
     "text": [
      "Sending records...: 100%|██████████| 1/1 [00:02<00:00,  2.36s/batch]\n"
     ]
    },
    {
     "data": {
      "text/html": [
       "<pre style=\"white-space:pre;overflow-x:auto;line-height:normal;font-family:Menlo,'DejaVu Sans Mono',consolas,'Courier New',monospace\">DatasetRecords: The provided batch size <span style=\"color: #008080; text-decoration-color: #008080; font-weight: bold\">256</span> was normalized. Using value <span style=\"color: #008080; text-decoration-color: #008080; font-weight: bold\">50</span>.\n",
       "</pre>\n"
      ],
      "text/plain": [
       "DatasetRecords: The provided batch size \u001b[1;36m256\u001b[0m was normalized. Using value \u001b[1;36m50\u001b[0m.\n"
      ]
     },
     "metadata": {},
     "output_type": "display_data"
    },
    {
     "name": "stderr",
     "output_type": "stream",
     "text": [
      "Sending records...: 100%|██████████| 1/1 [00:02<00:00,  2.62s/batch]\n"
     ]
    },
    {
     "data": {
      "text/html": [
       "<pre style=\"white-space:pre;overflow-x:auto;line-height:normal;font-family:Menlo,'DejaVu Sans Mono',consolas,'Courier New',monospace\">DatasetRecords: The provided batch size <span style=\"color: #008080; text-decoration-color: #008080; font-weight: bold\">256</span> was normalized. Using value <span style=\"color: #008080; text-decoration-color: #008080; font-weight: bold\">50</span>.\n",
       "</pre>\n"
      ],
      "text/plain": [
       "DatasetRecords: The provided batch size \u001b[1;36m256\u001b[0m was normalized. Using value \u001b[1;36m50\u001b[0m.\n"
      ]
     },
     "metadata": {},
     "output_type": "display_data"
    },
    {
     "name": "stderr",
     "output_type": "stream",
     "text": [
      "Sending records...: 100%|██████████| 1/1 [00:02<00:00,  2.71s/batch]\n"
     ]
    },
    {
     "data": {
      "text/html": [
       "<pre style=\"white-space:pre;overflow-x:auto;line-height:normal;font-family:Menlo,'DejaVu Sans Mono',consolas,'Courier New',monospace\">DatasetRecords: The provided batch size <span style=\"color: #008080; text-decoration-color: #008080; font-weight: bold\">256</span> was normalized. Using value <span style=\"color: #008080; text-decoration-color: #008080; font-weight: bold\">50</span>.\n",
       "</pre>\n"
      ],
      "text/plain": [
       "DatasetRecords: The provided batch size \u001b[1;36m256\u001b[0m was normalized. Using value \u001b[1;36m50\u001b[0m.\n"
      ]
     },
     "metadata": {},
     "output_type": "display_data"
    },
    {
     "name": "stderr",
     "output_type": "stream",
     "text": [
      "Sending records...: 100%|██████████| 1/1 [00:02<00:00,  2.26s/batch]\n"
     ]
    },
    {
     "data": {
      "text/html": [
       "<pre style=\"white-space:pre;overflow-x:auto;line-height:normal;font-family:Menlo,'DejaVu Sans Mono',consolas,'Courier New',monospace\">DatasetRecords: The provided batch size <span style=\"color: #008080; text-decoration-color: #008080; font-weight: bold\">256</span> was normalized. Using value <span style=\"color: #008080; text-decoration-color: #008080; font-weight: bold\">50</span>.\n",
       "</pre>\n"
      ],
      "text/plain": [
       "DatasetRecords: The provided batch size \u001b[1;36m256\u001b[0m was normalized. Using value \u001b[1;36m50\u001b[0m.\n"
      ]
     },
     "metadata": {},
     "output_type": "display_data"
    },
    {
     "name": "stderr",
     "output_type": "stream",
     "text": [
      "Sending records...: 100%|██████████| 1/1 [00:03<00:00,  3.15s/batch]\n"
     ]
    },
    {
     "data": {
      "text/html": [
       "<pre style=\"white-space:pre;overflow-x:auto;line-height:normal;font-family:Menlo,'DejaVu Sans Mono',consolas,'Courier New',monospace\">DatasetRecords: The provided batch size <span style=\"color: #008080; text-decoration-color: #008080; font-weight: bold\">256</span> was normalized. Using value <span style=\"color: #008080; text-decoration-color: #008080; font-weight: bold\">50</span>.\n",
       "</pre>\n"
      ],
      "text/plain": [
       "DatasetRecords: The provided batch size \u001b[1;36m256\u001b[0m was normalized. Using value \u001b[1;36m50\u001b[0m.\n"
      ]
     },
     "metadata": {},
     "output_type": "display_data"
    },
    {
     "name": "stderr",
     "output_type": "stream",
     "text": [
      "Sending records...: 100%|██████████| 1/1 [00:02<00:00,  2.59s/batch]\n"
     ]
    },
    {
     "data": {
      "text/html": [
       "<pre style=\"white-space:pre;overflow-x:auto;line-height:normal;font-family:Menlo,'DejaVu Sans Mono',consolas,'Courier New',monospace\">DatasetRecords: The provided batch size <span style=\"color: #008080; text-decoration-color: #008080; font-weight: bold\">256</span> was normalized. Using value <span style=\"color: #008080; text-decoration-color: #008080; font-weight: bold\">50</span>.\n",
       "</pre>\n"
      ],
      "text/plain": [
       "DatasetRecords: The provided batch size \u001b[1;36m256\u001b[0m was normalized. Using value \u001b[1;36m50\u001b[0m.\n"
      ]
     },
     "metadata": {},
     "output_type": "display_data"
    },
    {
     "name": "stderr",
     "output_type": "stream",
     "text": [
      "Sending records...: 100%|██████████| 1/1 [00:02<00:00,  2.66s/batch]\n"
     ]
    },
    {
     "data": {
      "text/html": [
       "<pre style=\"white-space:pre;overflow-x:auto;line-height:normal;font-family:Menlo,'DejaVu Sans Mono',consolas,'Courier New',monospace\">DatasetRecords: The provided batch size <span style=\"color: #008080; text-decoration-color: #008080; font-weight: bold\">256</span> was normalized. Using value <span style=\"color: #008080; text-decoration-color: #008080; font-weight: bold\">50</span>.\n",
       "</pre>\n"
      ],
      "text/plain": [
       "DatasetRecords: The provided batch size \u001b[1;36m256\u001b[0m was normalized. Using value \u001b[1;36m50\u001b[0m.\n"
      ]
     },
     "metadata": {},
     "output_type": "display_data"
    },
    {
     "name": "stderr",
     "output_type": "stream",
     "text": [
      "Sending records...: 100%|██████████| 1/1 [00:03<00:00,  3.52s/batch]\n"
     ]
    },
    {
     "data": {
      "text/html": [
       "<pre style=\"white-space:pre;overflow-x:auto;line-height:normal;font-family:Menlo,'DejaVu Sans Mono',consolas,'Courier New',monospace\">DatasetRecords: The provided batch size <span style=\"color: #008080; text-decoration-color: #008080; font-weight: bold\">256</span> was normalized. Using value <span style=\"color: #008080; text-decoration-color: #008080; font-weight: bold\">50</span>.\n",
       "</pre>\n"
      ],
      "text/plain": [
       "DatasetRecords: The provided batch size \u001b[1;36m256\u001b[0m was normalized. Using value \u001b[1;36m50\u001b[0m.\n"
      ]
     },
     "metadata": {},
     "output_type": "display_data"
    },
    {
     "name": "stderr",
     "output_type": "stream",
     "text": [
      "Sending records...: 100%|██████████| 1/1 [00:03<00:00,  3.89s/batch]\n"
     ]
    },
    {
     "data": {
      "text/html": [
       "<pre style=\"white-space:pre;overflow-x:auto;line-height:normal;font-family:Menlo,'DejaVu Sans Mono',consolas,'Courier New',monospace\">DatasetRecords: The provided batch size <span style=\"color: #008080; text-decoration-color: #008080; font-weight: bold\">256</span> was normalized. Using value <span style=\"color: #008080; text-decoration-color: #008080; font-weight: bold\">50</span>.\n",
       "</pre>\n"
      ],
      "text/plain": [
       "DatasetRecords: The provided batch size \u001b[1;36m256\u001b[0m was normalized. Using value \u001b[1;36m50\u001b[0m.\n"
      ]
     },
     "metadata": {},
     "output_type": "display_data"
    },
    {
     "name": "stderr",
     "output_type": "stream",
     "text": [
      "Sending records...: 100%|██████████| 1/1 [00:04<00:00,  4.70s/batch]\n"
     ]
    },
    {
     "data": {
      "text/html": [
       "<pre style=\"white-space:pre;overflow-x:auto;line-height:normal;font-family:Menlo,'DejaVu Sans Mono',consolas,'Courier New',monospace\">DatasetRecords: The provided batch size <span style=\"color: #008080; text-decoration-color: #008080; font-weight: bold\">256</span> was normalized. Using value <span style=\"color: #008080; text-decoration-color: #008080; font-weight: bold\">50</span>.\n",
       "</pre>\n"
      ],
      "text/plain": [
       "DatasetRecords: The provided batch size \u001b[1;36m256\u001b[0m was normalized. Using value \u001b[1;36m50\u001b[0m.\n"
      ]
     },
     "metadata": {},
     "output_type": "display_data"
    },
    {
     "name": "stderr",
     "output_type": "stream",
     "text": [
      "Sending records...: 100%|██████████| 1/1 [00:04<00:00,  4.15s/batch]\n"
     ]
    },
    {
     "data": {
      "text/html": [
       "<pre style=\"white-space:pre;overflow-x:auto;line-height:normal;font-family:Menlo,'DejaVu Sans Mono',consolas,'Courier New',monospace\">DatasetRecords: The provided batch size <span style=\"color: #008080; text-decoration-color: #008080; font-weight: bold\">256</span> was normalized. Using value <span style=\"color: #008080; text-decoration-color: #008080; font-weight: bold\">50</span>.\n",
       "</pre>\n"
      ],
      "text/plain": [
       "DatasetRecords: The provided batch size \u001b[1;36m256\u001b[0m was normalized. Using value \u001b[1;36m50\u001b[0m.\n"
      ]
     },
     "metadata": {},
     "output_type": "display_data"
    },
    {
     "name": "stderr",
     "output_type": "stream",
     "text": [
      "Sending records...: 100%|██████████| 1/1 [00:02<00:00,  2.27s/batch]\n"
     ]
    },
    {
     "data": {
      "text/plain": [
       "DatasetRecords(Dataset(id=UUID('57e8c578-4a13-465b-871a-5f8aace67b1e') inserted_at=datetime.datetime(2025, 1, 7, 14, 2, 2, 800421) updated_at=datetime.datetime(2025, 1, 7, 14, 2, 5, 642431) name='review_evaluation_boda' status='ready' guidelines=\"### General instructions:  \\n- For each aspect, classify the review point to the most suitable category it belongs to.  \\n- The review point you are evaluating is addressed to the draft’s authors, who have the best knowledge of the draft's content.  \\n- The primary purpose of the review is to help/guide authors in improving their drafts. Keep this in mind while evaluating the review point. Whenever you encounter a borderline case, think: *“Will this review point help authors improve their draft?”*  \\n- If you don’t have enough context to judge the review point or the review point is not complete, then choose the most suitable labels and mark the review as not complete.  \\n- Ignore statements that are mainly mentioning strengths points. Do this by clicking the **discard** button.  \\n- If you think a review point belongs to multiple categories, give it the **lower** label.\\n- You should evaluate each aspect independently ( a review point can have the highest score on one aspect but the lowest for the other)  \\n\\n\\n# Aspects\\n\\n# Actionability  \\n\\n## Why is it important?  \\nThis aspect is essential because one of the main goals of a review is to provide specific guidance for reviewers on how they can improve the current draft.  \\nAlso, it’s important to note that just giving an action comment is not enough, as sometimes this action is ambiguous and hard to follow. Hence, we should evaluate actionability according to two points:  \\n- **Is the action stated directly, or do you need to infer it? (Explicit vs. Implicit)**  \\n- **After identifying the action, do you know how to apply it, or the action is vague? (Concrete vs. Vague)**  \\n\\n \\nIt’s more important for actions to be **concrete** so the authors know how to apply them. It’s also preferred that actions be stated **directly** rather than inferred.  \\n\\n\\n\\n## Definitions  \\n- **Explicit:** direct, explicit, or apparent actions or suggestions. Authors can directly identify modifications that they should apply to their draft. Clarification questions should be treated as explicit statements if they give a direct action.\\n- **Implicit:** actions that can be deduced. This can be in the form of questions that need to be addressed or missing parts that need to be added. Actions are not stated directly, but the authors can infer what needs to be done after reading the comment.  \\n- **Concrete:** After Identifying the action, the authors know exactly what needs to be done and how to apply the action.  \\n- **Vague:** After Identifying the action, the authors still don’t know how to carry out this action.  \\n\\n---\\n\\n## Categories:  \\n\\n### 1: Unactionable  \\nThe comment lacks any meaningful information to help the authors to improve the paper. After reading the comment, the authors do not know what they should do.  \\n\\n\\n### 2: Borderline Actionable  \\nThe comment includes an implicitly stated action, or the action can be inferred. Further, the action itself is vague and lacks detail on how to apply it.\\n\\n\\n\\n### 3: Somewhat Actionable  \\nThe comment explicitly states an action but is vague on how to execute it. \\n\\n\\n### 4: Mostly Actionable  \\nThe comment implicitly states an action but concretely states how to implement the inferred action.\\n\\n\\n### 5: Highly Actionable  \\nThe comment contains explicit action and concrete details on how to implement it. The authors know exactly how to apply it.\\n\\n# Grounding and Specificity  \\n\\n## Why is this important?  \\nThis aspect measures how explicitly a review comment is based on a part of the paper. This is important so the authors know which part of their paper causes the issue and needs to be revised. Further, it measures how specifically the comment identifies what is the issue with this part of the paper. This aspect has two dimensions: (1) what part of the paper does this comment address, and (2) what is wrong with this part?  \\n\\n### Definitions:  \\n**Grounding:** measures how well the authors can identify what is being addressed by the comment. (This can be no grounding, weak grounding, or full grounding).  \\n- Weak grounding means that the author can’t precisely identify the part of the paper being addressed by the point, but they have some hint or guess about it.  \\n- Full grounding means the authors can accurately identify which part is being addressed. This can be done by:  \\n  - Making literal mentions of sections, tables, figures, etc.  \\n  - The point discusses something unique to the paper that the authors can identify.  \\n  - General comments that do not need to mention specific parts of the paper, but the authors can easily infer which parts are addressed.  \\n\\n**Specificity:** measures how much the reviewer detailed what is wrong/missing in this area. If the comment mentions some external work, it also measures whether it mentions specific examples.  \\n\\n### Categories:  \\n#### 1: Not Grounded  \\nThis comment is not grounded at all. It does not identify a specific area in the paper. The comment is highly unspecific.  \\n\\n\\n#### 2: Weakly grounded and not specific  \\nThe authors can not confidently determine which part the comment addresses. Further, the comment does not specify what needs to be addressed in this part.  \\n\\n#### 3: Weakly grounded and specific  \\nThe authors can not confidently determine which part the comment addresses. However, the comment clearly specifies what needs to be addressed in this part.  \\n\\n#### 4: Fully grounded and under-specific  \\nThe comment explicitly mentions which part of that paper it addresses, or it should be obvious to the authors. However, this comment does not specify what needs to be addressed in this part.  \\n\\n#### 5: Fully grounded and specific  \\nThe comment explicitly mentions which part of that paper it addresses, it is obvious to the authors. The comment specifies what needs to be addressed in this part.  \\n\\n---\\n\\n# Verifiability:\\n\\n## Why is this important?\\nThis aspect measures whether there is a claim (i.e. a subjective opinion) in the comment and how well it is verified. You need to detect first whether this review comment contains any claims. If there are any, evaluate how well the reviewer justifies or proves this claim by providing logical reasoning, using common sense or providing references. The claims' justification or validation can come before or after the claim. Claims don’t need to be stated directly; they can also be inferred.\\n\\n## Definitions:\\n\\n### Opinion & Claims\\n- Subjective statements. For example, an opinion or a stand that the reviewer takes (like a disagreement with an experimental choice).\\n- Any suggestions or requests for changes. For example, stating that something is worth discussing, should be removed, or added.\\n- Any comments judging some parts of the paper. For example, stating something is hard to read, not detailed enough, or comments about how good or bad some section of the paper is.\\n- Any deductions or inferred observations that go beyond just stating facts or results from the paper.\\n- Generally, any phrases where the reviewer should provide evidence to back up their claim and help the authors understand it better. This can be direct or indirect:\\n  **Ex:** “Important methods like X are not discussed”. We can infer that the reviewer suggests that method X should be discussed. Hence, the reviewer should state why this method should be discussed.\\n\\n### Verification\\n- The claim is verified by providing logical reasoning.\\n- The claim is verified through common sense knowledge in the field. For example, referring to certain commonly used practices or standards.\\n- The claim is verified by providing external references.\\n\\n### Normal Statements\\n- General statements about the paper, that don’t include an opinion.\\n- Objective and factual statements that don’t need any kind of verification.\\n- Asking for clarifications and general questions.\\n- Logical statements, or things that can be inferred directly.\\n- We treat positive claims as normal sentences, as they are of little use to the authors to improve their paper.\\n  **Example:** This paper is well written, and the experimentation methods are well designed.\\n\\n---\\n\\n## Categories\\n\\n### 1: Unverifiable\\nThe comment contains a claim without any supporting evidence or justification.  \\n\\n\\n\\n### 2: Borderline Verifiable\\nThe comment provides some support for its claim, but it is insufficient, vague, or not fully articulated. The authors will struggle to follow the justification.  \\n\\n\\n\\n### 3: Somewhat Verifiable\\nThe comment provides support for its claim, but one or more key elements are missing, such as specific examples, detailed explanations, or supporting references. It requires significant effort from the authors to follow the justification.  \\n\\n\\n### 4: Mostly Verifiable\\nThe comment’s claim is sufficiently supported but has minor gaps. The reviewer could provide a more detailed explanation or reference to support their claims.  \\n\\n\\n### 5: Fully Verifiable\\nThe claim is thoroughly supported by explicit, sufficient, and robust evidence. This can be done by:\\n- Clear and precise reasoning or explanation.\\n- References to external works/data, when applicable, are specific and relevant.\\n- Common-sense arguments are logically unassailable.  \\n\\n\\n---\\n\\n### X - No Claim\\nThe comment does not contain any claim, opinion, or suggestion and consists of only factual, descriptive statements that do not require any justification.  \\n\\n--- \\n# Helpfulness:  \\nAssign a subjective score (1–5) to reflect the value of the review comment to the authors.  \\n\\n---   \\n\\n# Professional Tone\\nThis evaluates the professionalism of peer review feedback, focusing on formality, respect, and clarity. It ensures constructive, respectful, and impartial feedback that avoids personal attacks and centers on the work, fostering collaboration and improvement.\" allow_extra_metadata=True distribution=OverlapTaskDistributionModel(strategy='overlap', min_submitted=1) workspace_id=UUID('4de01cc8-822e-4140-b8be-20ecc47e3e7c') last_activity_at=datetime.datetime(2025, 1, 7, 14, 2, 5, 642431)))"
      ]
     },
     "execution_count": 13,
     "metadata": {},
     "output_type": "execute_result"
    }
   ],
   "source": [
    "DATA = client.datasets(name=\"review_evaluation\")\n",
    "\n",
    "\n",
    "## Delete all datasets\n",
    "for ds in client.datasets:\n",
    "    ds.delete()\n",
    "\n",
    "### Create dataset for each user\n",
    "for i in range(NUM_ANNOTATORS):\n",
    "    dataset = rg.Dataset(\n",
    "        name=f\"review_evaluation_{annotators[i]['user'].username}\",\n",
    "        workspace=annotators[i]['workspace'],\n",
    "        settings=settings,\n",
    "    )\n",
    "    dataset.create()\n",
    "    dataset.records.log(records=hf_dataset, mapping={\"point\": \"review_point\"})\n",
    "    # dataset.records.log(records=hf_dataset, mapping={\"focused_review\": \"review\", \"point\": \"review_point\"})\n",
    "\n",
    "## Create dataset for Boda, and Tim\n",
    "dataset = rg.Dataset(\n",
    "    name=f\"review_evaluation_tim\",\n",
    "    workspace=client.workspaces('tim'),\n",
    "    settings=settings,\n",
    ")\n",
    "dataset.create()\n",
    "dataset.records.log(records=hf_dataset, mapping={\"point\": \"review_point\"})\n",
    "dataset = rg.Dataset(\n",
    "    name=f\"review_evaluation_boda\",\n",
    "    workspace=client.workspaces('boda'),\n",
    "    settings=settings,\n",
    ")\n",
    "dataset.create()\n",
    "dataset.records.log(records=hf_dataset, mapping={\"point\": \"review_point\"})\n",
    "\n",
    "\n",
    "\n"
   ]
  },
  {
   "cell_type": "code",
   "execution_count": 14,
   "metadata": {},
   "outputs": [
    {
     "data": {
      "text/html": [
       "<h3>Datasets</h3><table><tr><th>name</th><th>id</th><th>workspace_id</th><th>updated_at</th></tr><tr><td>review_evaluation_2B7nNvBS</td><td>e5759d21-c69d-4fd8-968b-158032a64ce6</td><td>63bf1fbc-4e49-497f-9c7f-a5d33d1265df</td><td>2025-01-07T13:58:02.436637</td></tr><tr><td>review_evaluation_731Nlbes</td><td>7690fc43-cfea-444f-ac9e-090bcc4953f9</td><td>43a664b2-704b-47ce-8806-18cc419e4f2d</td><td>2025-01-07T13:58:12.778620</td></tr><tr><td>review_evaluation_320cKdje</td><td>4bd44eee-79e9-456c-b095-8580bbfb23d5</td><td>93c92798-13ad-4705-bcaf-d5d7d8e64d91</td><td>2025-01-07T13:58:20.028249</td></tr><tr><td>review_evaluation_TSEeNPul</td><td>d2747d05-6ada-4b19-a76e-650e9fa1d108</td><td>04edbfc0-9d75-45df-bf18-3ac9153e3385</td><td>2025-01-07T13:58:27.270023</td></tr><tr><td>review_evaluation_pDfr2FBL</td><td>ec253563-66df-4736-a971-5b6532892e8d</td><td>46b9ec1b-9275-4e5c-8100-91a8599dc02a</td><td>2025-01-07T13:58:34.705220</td></tr><tr><td>review_evaluation_b5x6Pkpn</td><td>ad053921-b888-44ec-9921-07d7c983f90f</td><td>04bf3530-d671-4372-9e30-10de0c7ccbee</td><td>2025-01-07T13:58:41.930386</td></tr><tr><td>review_evaluation_Xd4Tg6Xy</td><td>3ac18ffa-e4d8-4919-a5fa-a3fa7dc79400</td><td>bad4583f-844a-4d4a-916c-18cf77cc3776</td><td>2025-01-07T13:58:49.177366</td></tr><tr><td>review_evaluation_vFlbfvyi</td><td>2784e9c0-fb32-434b-bfec-488ad0c98c3c</td><td>6c0d38c4-c66e-4118-ac1e-7ac15e8aee4e</td><td>2025-01-07T13:58:56.722550</td></tr><tr><td>review_evaluation_DSr8p8Lw</td><td>66a37e29-5369-479d-9a5d-7e55c06bf209</td><td>dbc91e53-d02e-4cce-bc69-dea4b34af80f</td><td>2025-01-07T13:59:03.922223</td></tr><tr><td>review_evaluation_BftSNhXP</td><td>b177f978-6b15-4831-a281-1f8b9ee3cc07</td><td>62d90c9f-a1fb-450e-860f-dcafb79a2080</td><td>2025-01-07T13:59:10.798977</td></tr><tr><td>review_evaluation_oMSKhfAa</td><td>8ad2b4d2-7eaf-418a-9312-139a83bbb056</td><td>fd256ead-527e-4117-bb9f-1cbfb5740833</td><td>2025-01-07T13:59:17.880711</td></tr><tr><td>review_evaluation_MyyO2QwF</td><td>cf849916-365b-4106-9742-9f03915d48f0</td><td>16bfce7d-9aa4-449a-899b-23e915603ee3</td><td>2025-01-07T13:59:24.904602</td></tr><tr><td>review_evaluation_IPUbJL0Z</td><td>d47a9d90-b60f-452c-9a18-ebeaa6cabce0</td><td>6ee7706c-a545-424a-aeef-9ab770effce6</td><td>2025-01-07T13:59:32.326561</td></tr><tr><td>review_evaluation_ZGOQesrg</td><td>a606b99d-8a9b-42d9-bce8-9ff04bcb9474</td><td>55e85f07-48ce-41d1-8495-c4cec5baeaf0</td><td>2025-01-07T13:59:39.838511</td></tr><tr><td>review_evaluation_kQ1RPcB0</td><td>0b8664fd-7f4e-4a8c-a322-6a9280a030f0</td><td>022c8daf-5710-4530-ad47-bfc761413e8d</td><td>2025-01-07T13:59:47.237083</td></tr><tr><td>review_evaluation_tmzP5jtp</td><td>65daf800-bde2-4bcb-a82a-4dd41ba92cf1</td><td>a4f6932f-1305-4f0b-b00c-ddba8bab1c60</td><td>2025-01-07T13:59:54.703040</td></tr><tr><td>review_evaluation_6C4v0hK9</td><td>32a3efca-dcf8-40b6-81d3-2a9b40159359</td><td>98558212-6dc8-4bc1-97f9-b40c5fe73743</td><td>2025-01-07T14:00:02.042735</td></tr><tr><td>review_evaluation_LbMNie2g</td><td>89f6a338-40e5-42bc-8591-795720779bac</td><td>1d75feb7-9e4e-4994-a3f9-9cb56af9f052</td><td>2025-01-07T14:00:09.437638</td></tr><tr><td>review_evaluation_TxZsPCly</td><td>d28d00a8-2908-4f34-bd0a-15ddf8fbc340</td><td>379e36c3-417c-402c-a146-9f9383e8bef2</td><td>2025-01-07T14:00:16.835981</td></tr><tr><td>review_evaluation_e9NNd3mE</td><td>e0f5f205-caed-4f67-836b-8b58ecc1803a</td><td>cf80df3d-f4ed-4e84-a312-fc683d787295</td><td>2025-01-07T14:00:24.656762</td></tr><tr><td>review_evaluation_DPIEQqB8</td><td>420ec197-0f09-4418-a1cd-da3b6072a15f</td><td>c15b3726-e574-4d50-85ca-5ad1e8b57331</td><td>2025-01-07T14:00:32.125080</td></tr><tr><td>review_evaluation_4laP8fqV</td><td>559521a9-3522-4384-b7f8-d4e05e5bd530</td><td>204fbf94-b12d-4f40-bed0-6b1e4a7c81dc</td><td>2025-01-07T14:00:39.240996</td></tr><tr><td>review_evaluation_czbGpupT</td><td>2a233ead-dded-459d-962b-87a750c10f9b</td><td>cf39dce0-4c19-4b99-818c-fdba39f37bbe</td><td>2025-01-07T14:00:47.181599</td></tr><tr><td>review_evaluation_h5AVuWCe</td><td>adea2212-29b2-4aed-8452-9de354712839</td><td>dd43ce90-cd9f-4d4a-8150-2e9429d0543c</td><td>2025-01-07T14:00:55.015427</td></tr><tr><td>review_evaluation_WfNX9of1</td><td>e7da68b3-067a-4ec6-9b4c-de1df28bd42c</td><td>a3e0478a-53c1-4a8f-9580-2f4bd9c3a07b</td><td>2025-01-07T14:01:02.141593</td></tr><tr><td>review_evaluation_tZCLxauR</td><td>c6e5db31-c7b1-4955-84b3-1241c2b8ad35</td><td>b50ecad9-23be-4bb0-8220-ecde00ad0478</td><td>2025-01-07T14:01:11.010948</td></tr><tr><td>review_evaluation_3le7odam</td><td>fd36630d-34bc-4e8e-8d2b-402afb5353f2</td><td>d4f13f63-f778-4747-8439-11e1685281e5</td><td>2025-01-07T14:01:18.940030</td></tr><tr><td>review_evaluation_0YJ7lqtk</td><td>1845d1cb-8359-4fb3-8c40-be237088d633</td><td>401f46c6-0dd9-45ec-9a2c-385075d74b4b</td><td>2025-01-07T14:01:26.486972</td></tr><tr><td>review_evaluation_yeY2DVSH</td><td>b7df3fc2-4a29-454f-8248-66955bb2813c</td><td>5fd75271-5b47-45a5-a058-f9673835a836</td><td>2025-01-07T14:01:36.357637</td></tr><tr><td>review_evaluation_oKlh1xlj</td><td>639a18dc-6efa-4280-b215-a719aa97a0cc</td><td>10098b59-6311-4467-9fba-c5d0edb06f1f</td><td>2025-01-07T14:01:45.486840</td></tr><tr><td>review_evaluation_tim</td><td>b2b03006-57f6-4ce8-afc5-c4fb398d68e0</td><td>fa6c0d67-a640-4d36-b164-76d3bd832b7d</td><td>2025-01-07T14:01:56.378201</td></tr><tr><td>review_evaluation_boda</td><td>57e8c578-4a13-465b-871a-5f8aace67b1e</td><td>4de01cc8-822e-4140-b8be-20ecc47e3e7c</td><td>2025-01-07T14:02:05.642431</td></tr></table>"
      ],
      "text/plain": [
       "<argilla.client.Datasets at 0x7f7d0aaa37c0>"
      ]
     },
     "execution_count": 14,
     "metadata": {},
     "output_type": "execute_result"
    }
   ],
   "source": [
    "client.datasets"
   ]
  }
 ],
 "metadata": {
  "kernelspec": {
   "display_name": "Python 3",
   "language": "python",
   "name": "python3"
  },
  "language_info": {
   "codemirror_mode": {
    "name": "ipython",
    "version": 3
   },
   "file_extension": ".py",
   "mimetype": "text/x-python",
   "name": "python",
   "nbconvert_exporter": "python",
   "pygments_lexer": "ipython3",
   "version": "3.10.14"
  }
 },
 "nbformat": 4,
 "nbformat_minor": 2
}
