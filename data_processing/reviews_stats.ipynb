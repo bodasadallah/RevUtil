{
 "cells": [
  {
   "cell_type": "code",
   "execution_count": 12,
   "metadata": {},
   "outputs": [],
   "source": [
    "\n",
    "import pandas as pd\n",
    "import numpy as np\n",
    "import matplotlib.pyplot as plt\n",
    "df = pd.read_csv('/home/abdelrahman.sadallah/mbzuai/review_rewrite/data/all_review_points.csv')"
   ]
  },
  {
   "cell_type": "code",
   "execution_count": 13,
   "metadata": {},
   "outputs": [
    {
     "data": {
      "text/plain": [
       "207187"
      ]
     },
     "execution_count": 13,
     "metadata": {},
     "output_type": "execute_result"
    }
   ],
   "source": [
    "len(df)"
   ]
  },
  {
   "cell_type": "code",
   "execution_count": 28,
   "metadata": {},
   "outputs": [
    {
     "data": {
      "text/plain": [
       "['ACL_2017',\n",
       " 'ARR_2022',\n",
       " 'EMNLP_2023',\n",
       " 'ICLR_2021',\n",
       " 'ICLR_2022',\n",
       " 'ICLR_2023',\n",
       " 'ICLR_2024',\n",
       " 'ICLR_2025',\n",
       " 'NIPS_2016',\n",
       " 'NIPS_2017',\n",
       " 'NIPS_2018',\n",
       " 'NIPS_2019',\n",
       " 'NIPS_2020',\n",
       " 'NIPS_2021',\n",
       " 'NIPS_2022']"
      ]
     },
     "execution_count": 28,
     "metadata": {},
     "output_type": "execute_result"
    }
   ],
   "source": [
    "sorted(df['venue'].unique())"
   ]
  },
  {
   "cell_type": "code",
   "execution_count": 19,
   "metadata": {},
   "outputs": [
    {
     "name": "stdout",
     "output_type": "stream",
     "text": [
      "venue_name\n",
      "ICLR     186706\n",
      "NIPS       9622\n",
      "EMNLP      8616\n",
      "ARR        1701\n",
      "ACL         542\n",
      "Name: count, dtype: int64\n"
     ]
    },
    {
     "data": {
      "text/plain": [
       "207187"
      ]
     },
     "execution_count": 19,
     "metadata": {},
     "output_type": "execute_result"
    }
   ],
   "source": [
    "# Extract venue name without the year\n",
    "df['venue_name'] = df['venue'].str.extract(r'([A-Z]+)')\n",
    "\n",
    "# Generate value counts for the 'venue_name' column\n",
    "venue_name_counts = df['venue_name'].value_counts()\n",
    "print(venue_name_counts)\n",
    "venue_name_counts.sum()"
   ]
  },
  {
   "cell_type": "code",
   "execution_count": 16,
   "metadata": {},
   "outputs": [
    {
     "name": "stdout",
     "output_type": "stream",
     "text": [
      "venue\n",
      "ICLR_2025     11371\n",
      "ICLR_2024      7068\n",
      "EMNLP_2023     1741\n",
      "NIPS_2020      1417\n",
      "ICLR_2023       816\n",
      "ICLR_2022       507\n",
      "NIPS_2022       332\n",
      "ARR_2022        273\n",
      "ICLR_2021       216\n",
      "NIPS_2018       205\n",
      "NIPS_2021       164\n",
      "NIPS_2019       137\n",
      "ACL_2017        101\n",
      "NIPS_2017        58\n",
      "NIPS_2016        40\n",
      "Name: count, dtype: int64\n"
     ]
    }
   ],
   "source": [
    "# Group by 'paper_id' and count unique entries\n",
    "grouped_df = df.drop_duplicates(subset='paper_id')\n",
    "\n",
    "# Generate value counts for the 'venue' column\n",
    "venue_counts = grouped_df['venue'].value_counts()\n",
    "print(venue_counts)"
   ]
  },
  {
   "cell_type": "code",
   "execution_count": 18,
   "metadata": {},
   "outputs": [
    {
     "name": "stdout",
     "output_type": "stream",
     "text": [
      "venue_name\n",
      "ICLR     19978\n",
      "NIPS      2353\n",
      "EMNLP     1741\n",
      "ARR        273\n",
      "ACL        101\n",
      "Name: count, dtype: int64\n"
     ]
    },
    {
     "name": "stderr",
     "output_type": "stream",
     "text": [
      "/tmp/ipykernel_919503/2063891472.py:2: SettingWithCopyWarning: \n",
      "A value is trying to be set on a copy of a slice from a DataFrame.\n",
      "Try using .loc[row_indexer,col_indexer] = value instead\n",
      "\n",
      "See the caveats in the documentation: https://pandas.pydata.org/pandas-docs/stable/user_guide/indexing.html#returning-a-view-versus-a-copy\n",
      "  grouped_df['venue_name'] = grouped_df['venue'].str.extract(r'([A-Z]+)')\n"
     ]
    },
    {
     "data": {
      "text/plain": [
       "24446"
      ]
     },
     "execution_count": 18,
     "metadata": {},
     "output_type": "execute_result"
    }
   ],
   "source": [
    "# Extract venue name without the year\n",
    "grouped_df['venue_name'] = grouped_df['venue'].str.extract(r'([A-Z]+)')\n",
    "\n",
    "# Generate value counts for the 'venue_name' column\n",
    "venue_name_counts = grouped_df['venue_name'].value_counts()\n",
    "print(venue_name_counts)\n",
    "\n",
    "## sum \n",
    "venue_name_counts.sum()\n"
   ]
  },
  {
   "cell_type": "markdown",
   "metadata": {},
   "source": []
  },
  {
   "cell_type": "markdown",
   "metadata": {},
   "source": []
  }
 ],
 "metadata": {
  "kernelspec": {
   "display_name": "Python 3",
   "language": "python",
   "name": "python3"
  },
  "language_info": {
   "codemirror_mode": {
    "name": "ipython",
    "version": 3
   },
   "file_extension": ".py",
   "mimetype": "text/x-python",
   "name": "python",
   "nbconvert_exporter": "python",
   "pygments_lexer": "ipython3",
   "version": "3.10.14"
  }
 },
 "nbformat": 4,
 "nbformat_minor": 2
}
