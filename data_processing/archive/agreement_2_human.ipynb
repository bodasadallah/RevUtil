{
 "cells": [
  {
   "cell_type": "code",
   "execution_count": 43,
   "metadata": {},
   "outputs": [],
   "source": [
    "import numpy as np\n",
    "from sklearn.metrics import confusion_matrix, ConfusionMatrixDisplay, f1_score,cohen_kappa_score\n",
    "import pandas as pd\n",
    "\n",
    "\n"
   ]
  },
  {
   "cell_type": "code",
   "execution_count": 44,
   "metadata": {},
   "outputs": [],
   "source": [
    "df = pd.read_csv('/home/abdelrahman.sadallah/mbzuai/review_rewrite/data/Batch_2/B2_Annotations-Boda.csv')\n",
    "df2 = pd.read_csv('/home/abdelrahman.sadallah/mbzuai/review_rewrite/data/Batch_2/B2_Annotations-Tim.csv')\n",
    "df3 = pd.read_csv('/home/abdelrahman.sadallah/mbzuai/review_rewrite/data/Batch_2/B2_Annotations-Prof. Ted.csv')\n",
    "# df3 = None"
   ]
  },
  {
   "cell_type": "code",
   "execution_count": 45,
   "metadata": {},
   "outputs": [],
   "source": [
    "column1 = ['human_actionability', 'human_specificity', 'human_verifiability','human_politeness']\n"
   ]
  },
  {
   "cell_type": "code",
   "execution_count": 46,
   "metadata": {},
   "outputs": [
    {
     "name": "stdout",
     "output_type": "stream",
     "text": [
      "49\n",
      "40\n",
      "50\n"
     ]
    }
   ],
   "source": [
    "num_rows_with_values = len(df.dropna(subset=column1))\n",
    "print(num_rows_with_values)\n",
    "num_rows_with_values = len(df2.dropna(subset=column1[:-1]))\n",
    "print(num_rows_with_values)\n",
    "num_rows_with_values = len(df3.dropna(subset=column1))\n",
    "print(num_rows_with_values)"
   ]
  },
  {
   "cell_type": "code",
   "execution_count": null,
   "metadata": {},
   "outputs": [],
   "source": []
  },
  {
   "cell_type": "code",
   "execution_count": 47,
   "metadata": {},
   "outputs": [],
   "source": [
    "# ########3 Merge 0 labels with 1\n",
    "# for col in column1:\n",
    "#     df[col] = df[col].replace(0, 1).replace('0', 1)\n",
    "#     df2[col] = df2[col].replace(0, 1).replace('0', 1)\n",
    "#     df3[col] = df3[col].replace(0, 1).replace('0', 1)"
   ]
  },
  {
   "cell_type": "code",
   "execution_count": 48,
   "metadata": {},
   "outputs": [],
   "source": [
    "# start from 39 row \n",
    "# df = df.iloc[39:]\n",
    "# for col in column1:\n",
    "#     print(df3.iloc[37:][col].value_counts())"
   ]
  },
  {
   "cell_type": "code",
   "execution_count": 49,
   "metadata": {},
   "outputs": [],
   "source": [
    "\n",
    "# annotator_1_column = ['human_actionability', 'human_specificity', 'human_verifiability']\n",
    "\n",
    "# annotator_1 = {}\n",
    "# annotator_2 = {}\n",
    "# for i in range(len(column1)):\n",
    "#     # mini_df = df[[column1[i],column2[i]]].dropna()\n",
    "#     mini_df1 = df3[[column1[i]]]\n",
    "#     mini_df2 = df2[[column1[i]]]\n",
    "#     # mini_df1 = mini_df1.merge(mini_df2)\n",
    "#     mini_df1[column1[i] + '_2'] = mini_df2[column1[i]]\n",
    "#     mini_df = mini_df1.dropna()\n",
    "\n",
    "\n",
    "\n",
    "#     # print(mini_df.shape)\n",
    "#     # print(mini_df)\n",
    "#     annotator_1[column1[i].split('_')[1]] = []\n",
    "#     annotator_2[column1[i].split('_')[1]] = []\n",
    "\n",
    "#     column_names = [column1[i] , column1[i] + '_2']\n",
    "#     for x,y in zip(mini_df[column_names[0]], mini_df[column_names[1]]):\n",
    "#         x = str(int(x))\n",
    "#         y = str(int(y))\n",
    "#         if x in ['0','1', '-1'] and y in ['0','1', '-1']:\n",
    "#             annotator_1[column1[i].split('_')[1]].append(x)\n",
    "#             annotator_2[column1[i].split('_')[1]].append(y)\n",
    "#         else:\n",
    "#             print(x,y)\n"
   ]
  },
  {
   "cell_type": "code",
   "execution_count": 50,
   "metadata": {},
   "outputs": [],
   "source": [
    "# for x,y in zip(annotator_1['specificity'],annotator_2['specificity']):\n",
    "#     print(x,y)\n",
    "\n",
    "# print(f\" Kappa Score: {cohen_kappa_score(tim['specificity'], boda['specificity'])}\")"
   ]
  },
  {
   "cell_type": "code",
   "execution_count": 51,
   "metadata": {},
   "outputs": [],
   "source": [
    "# for key in annotator_1:\n",
    "#     print(f'Agreement Statistics for {key}')\n",
    "#     print(f' Total number of samples: {len(annotator_1[key])}')\n",
    "#     print(f' F1 Score: {f1_score(annotator_1[key], annotator_2[key], average=\"micro\"):.2f}')\n",
    "#     print(f' Kappa Score: {cohen_kappa_score(annotator_1[key], annotator_2[key]):.2f}')\n",
    "#     print(f' Linear Kappa Score: {cohen_kappa_score(annotator_1[key], annotator_2[key], weights=\"linear\"):.2f}')\n",
    "#     print(f' Quadratic Kappa Score: {cohen_kappa_score(annotator_1[key], annotator_2[key], weights=\"quadratic\"):.2f}')\n",
    "\n",
    "#     print('-' * 50)\n",
    "\n",
    "# print('=' * 50)"
   ]
  },
  {
   "cell_type": "code",
   "execution_count": 52,
   "metadata": {},
   "outputs": [
    {
     "name": "stdout",
     "output_type": "stream",
     "text": [
      "44\n",
      "43\n",
      "41\n"
     ]
    }
   ],
   "source": [
    "columns_to_plot = ['human_actionability', 'human_specificity', 'human_verifiability']\n",
    "\n",
    "# Create a dictionary to store the data for each aspect\n",
    "aspect_data_filtered = {aspect: {'Boda': [], 'Tim': [], 'Ted': []} for aspect in columns_to_plot}\n",
    "\n",
    "# Iterate over each aspect\n",
    "for aspect in columns_to_plot:\n",
    "\n",
    "    ## make a mini  combined dataframe with the aspect column from each annotator\n",
    "    mini_df = pd.concat([df[aspect], df2[aspect], df3[aspect]], axis=1).dropna()\n",
    "    mini_df.columns = ['Boda', 'Tim', 'Ted']\n",
    "\n",
    "    print(len(mini_df))\n",
    "\n",
    "    ## iterate over rows in all three dataframes\n",
    "    for i in range(len(mini_df)):\n",
    "        # print(df.iloc[i][aspect])\n",
    "        \n",
    "        x = str(int(mini_df.iloc[i]['Boda']))\n",
    "        y = str(int(mini_df.iloc[i]['Tim']))\n",
    "        z = str(int(mini_df.iloc[i]['Ted']))\n",
    "        \n",
    "        if x in ['0','1', '-1'] and y in ['0','1', '-1'] and z in ['0','1', '-1']:\n",
    "            aspect_data_filtered[aspect]['Boda'].append(x)\n",
    "            aspect_data_filtered[aspect]['Tim'].append(y)\n",
    "            aspect_data_filtered[aspect]['Ted'].append(z)\n",
    "    "
   ]
  },
  {
   "cell_type": "code",
   "execution_count": 53,
   "metadata": {},
   "outputs": [
    {
     "name": "stdout",
     "output_type": "stream",
     "text": [
      "1 1\n",
      "0 0\n",
      "1 1\n",
      "-1 0\n",
      "1 1\n",
      "1 1\n",
      "1 0\n",
      "1 1\n",
      "1 1\n",
      "1 1\n",
      "1 1\n",
      "1 1\n",
      "-1 0\n",
      "0 1\n",
      "0 1\n",
      "1 1\n",
      "1 1\n",
      "1 1\n",
      "1 1\n",
      "1 1\n",
      "1 1\n",
      "1 1\n",
      "0 1\n",
      "1 1\n",
      "0 1\n",
      "1 -1\n",
      "1 1\n",
      "1 1\n",
      "1 0\n",
      "1 0\n",
      "1 0\n",
      "1 1\n",
      "1 1\n",
      "1 1\n",
      "0 0\n",
      "1 1\n",
      "1 0\n",
      "-1 -1\n",
      "-1 0\n",
      "1 1\n",
      "-1 1\n",
      "1 1\n",
      "0 -1\n"
     ]
    }
   ],
   "source": [
    "for x,y in zip(aspect_data_filtered['human_specificity']['Boda'],aspect_data_filtered['human_specificity']['Tim']):\n",
    "    print(x,y)"
   ]
  },
  {
   "cell_type": "code",
   "execution_count": 59,
   "metadata": {},
   "outputs": [
    {
     "name": "stdout",
     "output_type": "stream",
     "text": [
      "Agreement Statistics for actionability\n",
      " Total number of samples: 44\n",
      " F1 Score: 0.64\n",
      " Kappa Score: 0.38\n",
      " Linear Kappa Score: 0.46\n",
      " Quadratic Kappa Score: 0.54\n",
      "--------------------------------------------------\n",
      "Agreement Statistics for specificity\n",
      " Total number of samples: 28\n",
      " F1 Score: 0.68\n",
      " Kappa Score: 0.15\n",
      " Linear Kappa Score: 0.22\n",
      " Quadratic Kappa Score: 0.31\n",
      "--------------------------------------------------\n",
      "Agreement Statistics for verifiability\n",
      " Total number of samples: 26\n",
      " F1 Score: 0.73\n",
      " Kappa Score: 0.56\n",
      " Linear Kappa Score: 0.61\n",
      " Quadratic Kappa Score: 0.65\n",
      "--------------------------------------------------\n",
      "==================================================\n"
     ]
    }
   ],
   "source": [
    "annotator_1 = 'Tim'\n",
    "annotator_2 = 'Boda'\n",
    "\n",
    "for aspect in columns_to_plot:\n",
    "    annotator1_data = aspect_data_filtered[aspect][annotator_1]\n",
    "    annotator2_data = aspect_data_filtered[aspect][annotator_2]\n",
    "\n",
    "    ################# Remove the samples where the annotators disagree on human_actionability #################\n",
    "    ignore_idecies = []\n",
    "    if aspect != 'human_actionability':\n",
    "        for i in range(len(aspect_data_filtered['human_actionability'][annotator_1])):\n",
    "            if aspect_data_filtered['human_actionability'][annotator_1][i] != aspect_data_filtered['human_actionability'][annotator_2][i]:\n",
    "                ignore_idecies.append(i)      \n",
    "    assert len(annotator1_data) == len(annotator2_data)\n",
    "    annotator1_data = [i for j, i in enumerate(annotator1_data) if j not in ignore_idecies]\n",
    "    annotator2_data = [i for j, i in enumerate(annotator2_data) if j not in ignore_idecies]\n",
    "    assert len(annotator1_data) == len(annotator2_data)\n",
    "    ############################################################################################################\n",
    "\n",
    "    print(f'Agreement Statistics for {aspect.split(\"_\")[1]}')\n",
    "    print(f' Total number of samples: {len(annotator1_data)}')\n",
    "    print(f' F1 Score: {f1_score(annotator1_data,annotator2_data, average=\"micro\"):.2f}')\n",
    "    print(f' Kappa Score: {cohen_kappa_score(annotator1_data, annotator2_data):.2f}')\n",
    "    print(f' Linear Kappa Score: {cohen_kappa_score(annotator1_data, annotator2_data, weights=\"linear\"):.2f}')\n",
    "    print(f' Quadratic Kappa Score: {cohen_kappa_score(annotator1_data, annotator2_data, weights=\"quadratic\"):.2f}')\n",
    "    print('-' * 50)\n",
    "\n",
    "print('=' * 50)"
   ]
  },
  {
   "cell_type": "code",
   "execution_count": 55,
   "metadata": {},
   "outputs": [
    {
     "data": {
      "image/png": "[encoded data removed]",
      "text/plain": [
       "<Figure size 1500x500 with 3 Axes>"
      ]
     },
     "metadata": {},
     "output_type": "display_data"
    }
   ],
   "source": [
    "import matplotlib.pyplot as plt\n",
    "import numpy as np\n",
    "\n",
    "# Redefine data to fit the updated chart structure\n",
    "# Data is now organized by scores for each aspect\n",
    "\n",
    "columns_to_plot = ['human_actionability', 'human_specificity', 'human_verifiability']\n",
    "annotators = ['Boda', 'Tim', 'Ted']\n",
    "\n",
    "# Create chart with separated scores for each aspect\n",
    "fig, axes = plt.subplots(1, 3, figsize=(15, 5))\n",
    "\n",
    "# Define score categories for consistent plotting\n",
    "scores = [-1, 0, 1]\n",
    "x = np.arange(len(scores))  # Score categories\n",
    "\n",
    "for idx, aspect in enumerate(columns_to_plot):\n",
    "    ax = axes[idx]\n",
    "    # Offset position for each annotator\n",
    "    bar_width = 0.1\n",
    "    for i, annotator in enumerate(annotators):\n",
    "        counts = [aspect_data_filtered[aspect][annotator].count(str(score)) for score in scores]\n",
    "        \n",
    "        # Plot bars for each annotator\n",
    "        bars = ax.bar(x + i * bar_width, counts, width=bar_width, label=annotator)\n",
    "        \n",
    "        # Annotate each bar with the count value\n",
    "        for bar in bars:\n",
    "            yval = bar.get_height()\n",
    "            ax.text(\n",
    "                bar.get_x() + bar.get_width() / 2, \n",
    "                yval + 0.1,  # Adjust this value for placement above bars\n",
    "                int(yval), \n",
    "                ha='center', \n",
    "                va='bottom'\n",
    "            )\n",
    "\n",
    "    ax.set_title(f'{aspect.capitalize()} by Score')\n",
    "    ax.set_xlabel('Score')\n",
    "    ax.set_ylabel('Count')\n",
    "    ax.set_xticks(x + bar_width)\n",
    "    ax.set_xticklabels(scores)\n",
    "    ax.legend(title='Annotator', borderpad=0.05)\n",
    "\n",
    "plt.tight_layout()\n",
    "plt.show()\n"
   ]
  }
 ],
 "metadata": {
  "kernelspec": {
   "display_name": "Python 3",
   "language": "python",
   "name": "python3"
  },
  "language_info": {
   "codemirror_mode": {
    "name": "ipython",
    "version": 3
   },
   "file_extension": ".py",
   "mimetype": "text/x-python",
   "name": "python",
   "nbconvert_exporter": "python",
   "pygments_lexer": "ipython3",
   "version": "3.10.14"
  }
 },
 "nbformat": 4,
 "nbformat_minor": 2
}
