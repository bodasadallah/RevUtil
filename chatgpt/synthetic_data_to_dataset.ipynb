{
 "cells": [
  {
   "cell_type": "code",
   "execution_count": 19,
   "metadata": {},
   "outputs": [
    {
     "data": {
      "text/html": [
       "<div>\n",
       "<style scoped>\n",
       "    .dataframe tbody tr th:only-of-type {\n",
       "        vertical-align: middle;\n",
       "    }\n",
       "\n",
       "    .dataframe tbody tr th {\n",
       "        vertical-align: top;\n",
       "    }\n",
       "\n",
       "    .dataframe thead th {\n",
       "        text-align: right;\n",
       "    }\n",
       "</style>\n",
       "<table border=\"1\" class=\"dataframe\">\n",
       "  <thead>\n",
       "    <tr style=\"text-align: right;\">\n",
       "      <th></th>\n",
       "      <th>paper_id</th>\n",
       "      <th>venue</th>\n",
       "      <th>focused_review</th>\n",
       "      <th>review_point</th>\n",
       "      <th>id</th>\n",
       "      <th>chatgpt_verifiability_extraction_score</th>\n",
       "      <th>chatgpt_verifiability_extraction_rationale</th>\n",
       "      <th>prompt</th>\n",
       "    </tr>\n",
       "  </thead>\n",
       "  <tbody>\n",
       "    <tr>\n",
       "      <th>0</th>\n",
       "      <td>NIPS_2022_511</td>\n",
       "      <td>NIPS_2022</td>\n",
       "      <td>1.Some theorems could be better formatted in t...</td>\n",
       "      <td>2. It would be helpful if the authors could fu...</td>\n",
       "      <td>8281</td>\n",
       "      <td>yes</td>\n",
       "      <td>The comment suggests that the authors should f...</td>\n",
       "      <td>\\nThis aspect is aimed to maximize the utiliza...</td>\n",
       "    </tr>\n",
       "    <tr>\n",
       "      <th>1</th>\n",
       "      <td>ACL_2017_365_review</td>\n",
       "      <td>ACL_2017</td>\n",
       "      <td>1) Instead of arguing that the MTL approach re...</td>\n",
       "      <td>- the authors did not respond to my questions ...</td>\n",
       "      <td>354</td>\n",
       "      <td>yes</td>\n",
       "      <td>The comment suggests that the authors did not ...</td>\n",
       "      <td>\\nThis aspect is aimed to maximize the utiliza...</td>\n",
       "    </tr>\n",
       "    <tr>\n",
       "      <th>2</th>\n",
       "      <td>diKRhKs5yl</td>\n",
       "      <td>ICLR_2025</td>\n",
       "      <td>1. Lack of experiments with larger-scale model...</td>\n",
       "      <td>3. In the implementation of tree construction,...</td>\n",
       "      <td>11578</td>\n",
       "      <td>yes</td>\n",
       "      <td>The comment suggests that the implementation o...</td>\n",
       "      <td>\\nThis aspect is aimed to maximize the utiliza...</td>\n",
       "    </tr>\n",
       "    <tr>\n",
       "      <th>3</th>\n",
       "      <td>tqHgSxRwiK</td>\n",
       "      <td>ICLR_2024</td>\n",
       "      <td>1. The premise and contribution of the paper i...</td>\n",
       "      <td>1. The premise and contribution of the paper i...</td>\n",
       "      <td>9274</td>\n",
       "      <td>yes</td>\n",
       "      <td>The review point expresses a lack of clarity r...</td>\n",
       "      <td>\\nThis aspect is aimed to maximize the utiliza...</td>\n",
       "    </tr>\n",
       "    <tr>\n",
       "      <th>4</th>\n",
       "      <td>kBVPD2kJMy</td>\n",
       "      <td>ICLR_2025</td>\n",
       "      <td>Here are the weaknesses of this paper in my op...</td>\n",
       "      <td>2) Clarity and Accessibility: The paper is cha...</td>\n",
       "      <td>9647</td>\n",
       "      <td>yes</td>\n",
       "      <td>The review point contains claims about the cla...</td>\n",
       "      <td>\\nThis aspect is aimed to maximize the utiliza...</td>\n",
       "    </tr>\n",
       "    <tr>\n",
       "      <th>...</th>\n",
       "      <td>...</td>\n",
       "      <td>...</td>\n",
       "      <td>...</td>\n",
       "      <td>...</td>\n",
       "      <td>...</td>\n",
       "      <td>...</td>\n",
       "      <td>...</td>\n",
       "      <td>...</td>\n",
       "    </tr>\n",
       "    <tr>\n",
       "      <th>995</th>\n",
       "      <td>UmdotAAVDe</td>\n",
       "      <td>ICLR_2025</td>\n",
       "      <td>1. As we know LLM often hallucinates. How do t...</td>\n",
       "      <td>1. As we know LLM often hallucinates. How do t...</td>\n",
       "      <td>11453</td>\n",
       "      <td>X</td>\n",
       "      <td>The comment does not contain a claim, opinion,...</td>\n",
       "      <td>\\nThis aspect is aimed to maximize the utiliza...</td>\n",
       "    </tr>\n",
       "    <tr>\n",
       "      <th>996</th>\n",
       "      <td>rWIrdAo2xC</td>\n",
       "      <td>ICLR_2025</td>\n",
       "      <td>1. For GS dataset preparation, stage 1: per-sc...</td>\n",
       "      <td>4. The diffusion model design is very confusin...</td>\n",
       "      <td>9817</td>\n",
       "      <td>yes</td>\n",
       "      <td>The comment claims that \"the diffusion model d...</td>\n",
       "      <td>\\nThis aspect is aimed to maximize the utiliza...</td>\n",
       "    </tr>\n",
       "    <tr>\n",
       "      <th>997</th>\n",
       "      <td>JpyWPfzu0b</td>\n",
       "      <td>ICLR_2024</td>\n",
       "      <td>1) I strongly encourage authors to provide mor...</td>\n",
       "      <td>2) I understand the paper mainly focuses on a ...</td>\n",
       "      <td>11688</td>\n",
       "      <td>yes</td>\n",
       "      <td>The comment expresses an opinion and suggestio...</td>\n",
       "      <td>\\nThis aspect is aimed to maximize the utiliza...</td>\n",
       "    </tr>\n",
       "    <tr>\n",
       "      <th>998</th>\n",
       "      <td>ACL_2017_387_review</td>\n",
       "      <td>ACL_2017</td>\n",
       "      <td>(1) Replicability would be an important concer...</td>\n",
       "      <td>-General Discussion: Overall, this paper is we...</td>\n",
       "      <td>373</td>\n",
       "      <td>yes</td>\n",
       "      <td>The review point contains both positive feedba...</td>\n",
       "      <td>\\nThis aspect is aimed to maximize the utiliza...</td>\n",
       "    </tr>\n",
       "    <tr>\n",
       "      <th>999</th>\n",
       "      <td>ICLR_2023_892</td>\n",
       "      <td>ICLR_2023</td>\n",
       "      <td>I think it would have been nice to also compar...</td>\n",
       "      <td>2) You could have taken a pretrained systems f...</td>\n",
       "      <td>4020</td>\n",
       "      <td>yes</td>\n",
       "      <td>The review point suggests an alternative appro...</td>\n",
       "      <td>\\nThis aspect is aimed to maximize the utiliza...</td>\n",
       "    </tr>\n",
       "  </tbody>\n",
       "</table>\n",
       "<p>1000 rows × 8 columns</p>\n",
       "</div>"
      ],
      "text/plain": [
       "                paper_id      venue  \\\n",
       "0          NIPS_2022_511  NIPS_2022   \n",
       "1    ACL_2017_365_review   ACL_2017   \n",
       "2             diKRhKs5yl  ICLR_2025   \n",
       "3             tqHgSxRwiK  ICLR_2024   \n",
       "4             kBVPD2kJMy  ICLR_2025   \n",
       "..                   ...        ...   \n",
       "995           UmdotAAVDe  ICLR_2025   \n",
       "996           rWIrdAo2xC  ICLR_2025   \n",
       "997           JpyWPfzu0b  ICLR_2024   \n",
       "998  ACL_2017_387_review   ACL_2017   \n",
       "999        ICLR_2023_892  ICLR_2023   \n",
       "\n",
       "                                        focused_review  \\\n",
       "0    1.Some theorems could be better formatted in t...   \n",
       "1    1) Instead of arguing that the MTL approach re...   \n",
       "2    1. Lack of experiments with larger-scale model...   \n",
       "3    1. The premise and contribution of the paper i...   \n",
       "4    Here are the weaknesses of this paper in my op...   \n",
       "..                                                 ...   \n",
       "995  1. As we know LLM often hallucinates. How do t...   \n",
       "996  1. For GS dataset preparation, stage 1: per-sc...   \n",
       "997  1) I strongly encourage authors to provide mor...   \n",
       "998  (1) Replicability would be an important concer...   \n",
       "999  I think it would have been nice to also compar...   \n",
       "\n",
       "                                          review_point     id  \\\n",
       "0    2. It would be helpful if the authors could fu...   8281   \n",
       "1    - the authors did not respond to my questions ...    354   \n",
       "2    3. In the implementation of tree construction,...  11578   \n",
       "3    1. The premise and contribution of the paper i...   9274   \n",
       "4    2) Clarity and Accessibility: The paper is cha...   9647   \n",
       "..                                                 ...    ...   \n",
       "995  1. As we know LLM often hallucinates. How do t...  11453   \n",
       "996  4. The diffusion model design is very confusin...   9817   \n",
       "997  2) I understand the paper mainly focuses on a ...  11688   \n",
       "998  -General Discussion: Overall, this paper is we...    373   \n",
       "999  2) You could have taken a pretrained systems f...   4020   \n",
       "\n",
       "    chatgpt_verifiability_extraction_score  \\\n",
       "0                                      yes   \n",
       "1                                      yes   \n",
       "2                                      yes   \n",
       "3                                      yes   \n",
       "4                                      yes   \n",
       "..                                     ...   \n",
       "995                                      X   \n",
       "996                                    yes   \n",
       "997                                    yes   \n",
       "998                                    yes   \n",
       "999                                    yes   \n",
       "\n",
       "            chatgpt_verifiability_extraction_rationale  \\\n",
       "0    The comment suggests that the authors should f...   \n",
       "1    The comment suggests that the authors did not ...   \n",
       "2    The comment suggests that the implementation o...   \n",
       "3    The review point expresses a lack of clarity r...   \n",
       "4    The review point contains claims about the cla...   \n",
       "..                                                 ...   \n",
       "995  The comment does not contain a claim, opinion,...   \n",
       "996  The comment claims that \"the diffusion model d...   \n",
       "997  The comment expresses an opinion and suggestio...   \n",
       "998  The review point contains both positive feedba...   \n",
       "999  The review point suggests an alternative appro...   \n",
       "\n",
       "                                                prompt  \n",
       "0    \\nThis aspect is aimed to maximize the utiliza...  \n",
       "1    \\nThis aspect is aimed to maximize the utiliza...  \n",
       "2    \\nThis aspect is aimed to maximize the utiliza...  \n",
       "3    \\nThis aspect is aimed to maximize the utiliza...  \n",
       "4    \\nThis aspect is aimed to maximize the utiliza...  \n",
       "..                                                 ...  \n",
       "995  \\nThis aspect is aimed to maximize the utiliza...  \n",
       "996  \\nThis aspect is aimed to maximize the utiliza...  \n",
       "997  \\nThis aspect is aimed to maximize the utiliza...  \n",
       "998  \\nThis aspect is aimed to maximize the utiliza...  \n",
       "999  \\nThis aspect is aimed to maximize the utiliza...  \n",
       "\n",
       "[1000 rows x 8 columns]"
      ]
     },
     "execution_count": 19,
     "metadata": {},
     "output_type": "execute_result"
    }
   ],
   "source": [
    "import pandas as pd\n",
    "import datasets\n",
    "from datasets import load_dataset\n",
    "\n",
    "batch = 0\n",
    "\n",
    "# Load the dataset\n",
    "data = pd.read_excel('outputs/main_data_batch_0_results.xlsx', sheet_name=None)\n",
    "\n",
    "## remove the verifiability_extraction sheet\n",
    "data.pop('verifiability_extraction')"
   ]
  },
  {
   "cell_type": "code",
   "execution_count": 20,
   "metadata": {},
   "outputs": [
    {
     "data": {
      "text/plain": [
       "Index(['paper_id', 'venue', 'focused_review', 'review_point', 'id',\n",
       "       'chatgpt_actionability_score', 'chatgpt_actionability_rationale',\n",
       "       'prompt'],\n",
       "      dtype='object')"
      ]
     },
     "execution_count": 20,
     "metadata": {},
     "output_type": "execute_result"
    }
   ],
   "source": [
    "data['actionability'].columns"
   ]
  },
  {
   "cell_type": "code",
   "execution_count": 21,
   "metadata": {},
   "outputs": [
    {
     "data": {
      "application/vnd.jupyter.widget-view+json": {
       "model_id": "dad6ed9af12c4ea5be0bcdca7612d05e",
       "version_major": 2,
       "version_minor": 0
      },
      "text/plain": [
       "Uploading the dataset shards:   0%|          | 0/1 [00:00<?, ?it/s]"
      ]
     },
     "metadata": {},
     "output_type": "display_data"
    },
    {
     "data": {
      "application/vnd.jupyter.widget-view+json": {
       "model_id": "28ac04ef4e0446f0b9def50c556755c2",
       "version_major": 2,
       "version_minor": 0
      },
      "text/plain": [
       "Creating parquet from Arrow format:   0%|          | 0/1 [00:00<?, ?ba/s]"
      ]
     },
     "metadata": {},
     "output_type": "display_data"
    },
    {
     "data": {
      "application/vnd.jupyter.widget-view+json": {
       "model_id": "94179d03f55c4ea9bd2147d07c4ef768",
       "version_major": 2,
       "version_minor": 0
      },
      "text/plain": [
       "Uploading the dataset shards:   0%|          | 0/1 [00:00<?, ?it/s]"
      ]
     },
     "metadata": {},
     "output_type": "display_data"
    },
    {
     "data": {
      "application/vnd.jupyter.widget-view+json": {
       "model_id": "220655bd8bda4f88bbcec7f6f16d37a4",
       "version_major": 2,
       "version_minor": 0
      },
      "text/plain": [
       "Creating parquet from Arrow format:   0%|          | 0/1 [00:00<?, ?ba/s]"
      ]
     },
     "metadata": {},
     "output_type": "display_data"
    },
    {
     "data": {
      "application/vnd.jupyter.widget-view+json": {
       "model_id": "6838a5fc7d1444c691c6e4b7ba81bf1c",
       "version_major": 2,
       "version_minor": 0
      },
      "text/plain": [
       "README.md:   0%|          | 0.00/3.80k [00:00<?, ?B/s]"
      ]
     },
     "metadata": {},
     "output_type": "display_data"
    },
    {
     "data": {
      "application/vnd.jupyter.widget-view+json": {
       "model_id": "00a904d0e9e144c08a5105348055134d",
       "version_major": 2,
       "version_minor": 0
      },
      "text/plain": [
       "Uploading the dataset shards:   0%|          | 0/1 [00:00<?, ?it/s]"
      ]
     },
     "metadata": {},
     "output_type": "display_data"
    },
    {
     "data": {
      "application/vnd.jupyter.widget-view+json": {
       "model_id": "dd330ea5176e43ca983aa40560e38d1c",
       "version_major": 2,
       "version_minor": 0
      },
      "text/plain": [
       "Creating parquet from Arrow format:   0%|          | 0/1 [00:00<?, ?ba/s]"
      ]
     },
     "metadata": {},
     "output_type": "display_data"
    },
    {
     "data": {
      "application/vnd.jupyter.widget-view+json": {
       "model_id": "5779ecdde10a4a74b0f3dd528e73dfa6",
       "version_major": 2,
       "version_minor": 0
      },
      "text/plain": [
       "Uploading the dataset shards:   0%|          | 0/1 [00:00<?, ?it/s]"
      ]
     },
     "metadata": {},
     "output_type": "display_data"
    },
    {
     "data": {
      "application/vnd.jupyter.widget-view+json": {
       "model_id": "7d97dc6bda73469ab6947669d65db338",
       "version_major": 2,
       "version_minor": 0
      },
      "text/plain": [
       "Creating parquet from Arrow format:   0%|          | 0/1 [00:00<?, ?ba/s]"
      ]
     },
     "metadata": {},
     "output_type": "display_data"
    },
    {
     "data": {
      "application/vnd.jupyter.widget-view+json": {
       "model_id": "e939a2bcb3474d1ebf326bb1fce502b4",
       "version_major": 2,
       "version_minor": 0
      },
      "text/plain": [
       "README.md:   0%|          | 0.00/3.80k [00:00<?, ?B/s]"
      ]
     },
     "metadata": {},
     "output_type": "display_data"
    },
    {
     "data": {
      "application/vnd.jupyter.widget-view+json": {
       "model_id": "1f165af6212f4c19aeed3a8c11383673",
       "version_major": 2,
       "version_minor": 0
      },
      "text/plain": [
       "Uploading the dataset shards:   0%|          | 0/1 [00:00<?, ?it/s]"
      ]
     },
     "metadata": {},
     "output_type": "display_data"
    },
    {
     "data": {
      "application/vnd.jupyter.widget-view+json": {
       "model_id": "77176f17061a4268a8e75f3e5954a733",
       "version_major": 2,
       "version_minor": 0
      },
      "text/plain": [
       "Creating parquet from Arrow format:   0%|          | 0/1 [00:00<?, ?ba/s]"
      ]
     },
     "metadata": {},
     "output_type": "display_data"
    },
    {
     "data": {
      "application/vnd.jupyter.widget-view+json": {
       "model_id": "007fedabb7f34390898914395b0480cd",
       "version_major": 2,
       "version_minor": 0
      },
      "text/plain": [
       "Uploading the dataset shards:   0%|          | 0/1 [00:00<?, ?it/s]"
      ]
     },
     "metadata": {},
     "output_type": "display_data"
    },
    {
     "data": {
      "application/vnd.jupyter.widget-view+json": {
       "model_id": "d5478c8cc72d45549ef6f026fd4ad0c4",
       "version_major": 2,
       "version_minor": 0
      },
      "text/plain": [
       "Creating parquet from Arrow format:   0%|          | 0/1 [00:00<?, ?ba/s]"
      ]
     },
     "metadata": {},
     "output_type": "display_data"
    },
    {
     "data": {
      "application/vnd.jupyter.widget-view+json": {
       "model_id": "c629a288e3aa4efe84a5f7673bbdbecc",
       "version_major": 2,
       "version_minor": 0
      },
      "text/plain": [
       "README.md:   0%|          | 0.00/3.80k [00:00<?, ?B/s]"
      ]
     },
     "metadata": {},
     "output_type": "display_data"
    },
    {
     "data": {
      "application/vnd.jupyter.widget-view+json": {
       "model_id": "5ead2e22b73648179d30a5372bde6950",
       "version_major": 2,
       "version_minor": 0
      },
      "text/plain": [
       "Uploading the dataset shards:   0%|          | 0/1 [00:00<?, ?it/s]"
      ]
     },
     "metadata": {},
     "output_type": "display_data"
    },
    {
     "data": {
      "application/vnd.jupyter.widget-view+json": {
       "model_id": "455f71e821c8448e9f8a8d24d6d23ac6",
       "version_major": 2,
       "version_minor": 0
      },
      "text/plain": [
       "Creating parquet from Arrow format:   0%|          | 0/1 [00:00<?, ?ba/s]"
      ]
     },
     "metadata": {},
     "output_type": "display_data"
    },
    {
     "data": {
      "application/vnd.jupyter.widget-view+json": {
       "model_id": "c743b39387c2463588989ac7ee40f9cf",
       "version_major": 2,
       "version_minor": 0
      },
      "text/plain": [
       "Uploading the dataset shards:   0%|          | 0/1 [00:00<?, ?it/s]"
      ]
     },
     "metadata": {},
     "output_type": "display_data"
    },
    {
     "data": {
      "application/vnd.jupyter.widget-view+json": {
       "model_id": "957d8a797ee44647ac434a4db0a6786a",
       "version_major": 2,
       "version_minor": 0
      },
      "text/plain": [
       "Creating parquet from Arrow format:   0%|          | 0/1 [00:00<?, ?ba/s]"
      ]
     },
     "metadata": {},
     "output_type": "display_data"
    },
    {
     "data": {
      "application/vnd.jupyter.widget-view+json": {
       "model_id": "c6fa1307dc9d4860b7e2ccdb2b3e5717",
       "version_major": 2,
       "version_minor": 0
      },
      "text/plain": [
       "README.md:   0%|          | 0.00/3.80k [00:00<?, ?B/s]"
      ]
     },
     "metadata": {},
     "output_type": "display_data"
    }
   ],
   "source": [
    "### convert the df to dataset and store for each aspect\n",
    "for aspect in data.keys():\n",
    "    dataset = datasets.Dataset.from_pandas(data[aspect]).train_test_split(test_size=0.1)\n",
    "    dataset.push_to_hub(f'boda/review_evaluation_automatic_labels',config_name=aspect )\n",
    "    "
   ]
  },
  {
   "cell_type": "code",
   "execution_count": 22,
   "metadata": {},
   "outputs": [
    {
     "name": "stdout",
     "output_type": "stream",
     "text": [
      "row 9881 not found in verifiability\n",
      "row 5316 not found in verifiability\n"
     ]
    }
   ],
   "source": [
    "merged_df = []\n",
    "\n",
    "### aggregate the different aspects in one dataset\n",
    "for i,row in data['actionability'].iterrows():\n",
    "    row['actionbillity_prompt'] = row['prompt']\n",
    "    ## remove the prompt column\n",
    "    row.pop('prompt')\n",
    "\n",
    "    for aspect in data.keys():\n",
    "        if aspect == 'actionability':\n",
    "            continue\n",
    "        ### get the same row from the other aspects\n",
    "        ## make sure the row exist\n",
    "        if row['id'] not in data[aspect]['id'].values:\n",
    "            print(f'row {row[\"id\"]} not found in {aspect}')\n",
    "            continue\n",
    "        aspect_row = data[aspect][data[aspect]['id'] == row['id']].iloc[0]\n",
    "        row[f'chatgpt_{aspect}_score'] = aspect_row[f'chatgpt_{aspect}_score']\n",
    "        row[f'chatgpt_{aspect}_rationale'] = aspect_row[f'chatgpt_{aspect}_rationale']\n",
    "        row[f'{aspect}_prompt'] = aspect_row['prompt']\n",
    "    merged_df.append(row)\n",
    "\n",
    "merged_df = pd.DataFrame(merged_df)"
   ]
  },
  {
   "cell_type": "code",
   "execution_count": 24,
   "metadata": {},
   "outputs": [
    {
     "data": {
      "application/vnd.jupyter.widget-view+json": {
       "model_id": "985487253e8445e0972a0533002e121d",
       "version_major": 2,
       "version_minor": 0
      },
      "text/plain": [
       "Uploading the dataset shards:   0%|          | 0/1 [00:00<?, ?it/s]"
      ]
     },
     "metadata": {},
     "output_type": "display_data"
    },
    {
     "data": {
      "application/vnd.jupyter.widget-view+json": {
       "model_id": "bba5efdc4cd8423f8e3257f9bdb3e838",
       "version_major": 2,
       "version_minor": 0
      },
      "text/plain": [
       "Creating parquet from Arrow format:   0%|          | 0/1 [00:00<?, ?ba/s]"
      ]
     },
     "metadata": {},
     "output_type": "display_data"
    },
    {
     "data": {
      "application/vnd.jupyter.widget-view+json": {
       "model_id": "28013b238a5a4ef3a5c75af4f2940bd4",
       "version_major": 2,
       "version_minor": 0
      },
      "text/plain": [
       "Uploading the dataset shards:   0%|          | 0/1 [00:00<?, ?it/s]"
      ]
     },
     "metadata": {},
     "output_type": "display_data"
    },
    {
     "data": {
      "application/vnd.jupyter.widget-view+json": {
       "model_id": "5eb3347135a14eb8aef9b30ae00eeef6",
       "version_major": 2,
       "version_minor": 0
      },
      "text/plain": [
       "Creating parquet from Arrow format:   0%|          | 0/1 [00:00<?, ?ba/s]"
      ]
     },
     "metadata": {},
     "output_type": "display_data"
    },
    {
     "data": {
      "application/vnd.jupyter.widget-view+json": {
       "model_id": "cdaee1d9d9d040ff9e720ba052b481f7",
       "version_major": 2,
       "version_minor": 0
      },
      "text/plain": [
       "README.md:   0%|          | 0.00/3.80k [00:00<?, ?B/s]"
      ]
     },
     "metadata": {},
     "output_type": "display_data"
    },
    {
     "data": {
      "text/plain": [
       "CommitInfo(commit_url='https://huggingface.co/datasets/boda/review_evaluation_automatic_labels/commit/6301fb0be139cfe2a6b1a97b2bb19de23a3ad9cf', commit_message='Upload dataset', commit_description='', oid='6301fb0be139cfe2a6b1a97b2bb19de23a3ad9cf', pr_url=None, repo_url=RepoUrl('https://huggingface.co/datasets/boda/review_evaluation_automatic_labels', endpoint='https://huggingface.co', repo_type='dataset', repo_id='boda/review_evaluation_automatic_labels'), pr_revision=None, pr_num=None)"
      ]
     },
     "execution_count": 24,
     "metadata": {},
     "output_type": "execute_result"
    }
   ],
   "source": [
    "## convert the df to dataset and push to hub\n",
    "dataset = datasets.Dataset.from_pandas(merged_df).train_test_split(test_size=0.1)\n",
    "dataset.push_to_hub(f'boda/review_evaluation_automatic_labels',config_name='all' )"
   ]
  }
 ],
 "metadata": {
  "kernelspec": {
   "display_name": "Python 3",
   "language": "python",
   "name": "python3"
  },
  "language_info": {
   "codemirror_mode": {
    "name": "ipython",
    "version": 3
   },
   "file_extension": ".py",
   "mimetype": "text/x-python",
   "name": "python",
   "nbconvert_exporter": "python",
   "pygments_lexer": "ipython3",
   "version": "3.10.14"
  }
 },
 "nbformat": 4,
 "nbformat_minor": 2
}
