{
 "cells": [
  {
   "cell_type": "code",
   "execution_count": 1,
   "metadata": {},
   "outputs": [],
   "source": [
    "import pandas as pd\n",
    "\n",
    "data = pd.read_csv('/home/abdelrahman.sadallah/mbzuai/review_rewrite/data/human_annotation_gathered/all_human_annotations_processed.csv')\n"
   ]
  },
  {
   "cell_type": "code",
   "execution_count": 2,
   "metadata": {},
   "outputs": [
    {
     "data": {
      "text/plain": [
       "Index(['review_point', 'paper_id', 'venue', 'focused_review', 'actionability',\n",
       "       'actionability_label', 'actionability_label_type', 'batch',\n",
       "       'grounding_specificity', 'grounding_specificity_label',\n",
       "       'grounding_specificity_label_type', 'verifiability',\n",
       "       'verifiability_label', 'verifiability_label_type', 'helpfulness',\n",
       "       'helpfulness_label', 'helpfulness_label_type', 'professional_tone',\n",
       "       'professional_tone_label', 'professional_tone_label_type',\n",
       "       'valid_point', 'valid_point_label', 'valid_point_label_type'],\n",
       "      dtype='object')"
      ]
     },
     "execution_count": 2,
     "metadata": {},
     "output_type": "execute_result"
    }
   ],
   "source": [
    "data.columns"
   ]
  },
  {
   "cell_type": "code",
   "execution_count": 8,
   "metadata": {},
   "outputs": [
    {
     "name": "stderr",
     "output_type": "stream",
     "text": [
      "/tmp/ipykernel_3372971/2990642416.py:23: DeprecationWarning: DataFrameGroupBy.apply operated on the grouping columns. This behavior is deprecated, and in a future version of pandas the grouping columns will be excluded from the operation. Either pass `include_groups=False` to exclude the groupings or explicitly select the grouping columns after groupby to silence this warning.\n",
      "  .apply(lambda group: group.sample(n=samples_per_label, random_state=42)\n",
      "/tmp/ipykernel_3372971/2990642416.py:23: DeprecationWarning: DataFrameGroupBy.apply operated on the grouping columns. This behavior is deprecated, and in a future version of pandas the grouping columns will be excluded from the operation. Either pass `include_groups=False` to exclude the groupings or explicitly select the grouping columns after groupby to silence this warning.\n",
      "  .apply(lambda group: group.sample(n=samples_per_label, random_state=42)\n",
      "/tmp/ipykernel_3372971/2990642416.py:23: DeprecationWarning: DataFrameGroupBy.apply operated on the grouping columns. This behavior is deprecated, and in a future version of pandas the grouping columns will be excluded from the operation. Either pass `include_groups=False` to exclude the groupings or explicitly select the grouping columns after groupby to silence this warning.\n",
      "  .apply(lambda group: group.sample(n=samples_per_label, random_state=42)\n",
      "/tmp/ipykernel_3372971/2990642416.py:23: DeprecationWarning: DataFrameGroupBy.apply operated on the grouping columns. This behavior is deprecated, and in a future version of pandas the grouping columns will be excluded from the operation. Either pass `include_groups=False` to exclude the groupings or explicitly select the grouping columns after groupby to silence this warning.\n",
      "  .apply(lambda group: group.sample(n=samples_per_label, random_state=42)\n"
     ]
    },
    {
     "name": "stdout",
     "output_type": "stream",
     "text": [
      "actionability (378, 23)\n",
      "saved actionability data to excel\n",
      "grounding_specificity (336, 23)\n",
      "saved grounding_specificity data to excel\n",
      "verifiability (381, 23)\n",
      "saved verifiability data to excel\n",
      "helpfulness (367, 23)\n",
      "saved helpfulness data to excel\n"
     ]
    }
   ],
   "source": [
    "aspects = [ 'actionability', 'grounding_specificity', 'verifiability', 'helpfulness']\n",
    "samples_per_label = 0\n",
    "data_type = 'silver'\n",
    "\n",
    "# Initialize a dictionary to store sampled data for each aspect\n",
    "def sample_data(data, aspects, samples_per_label, data_type='gold'):\n",
    "\n",
    "    ## if sample per label is 0, return the data without sampling\n",
    "    if samples_per_label == 0:\n",
    "        ## put it to big number so we return all the data\n",
    "        samples_per_label = 1_000_000\n",
    "        \n",
    "    sampled_data = {}\n",
    "    for aspect in aspects:\n",
    "        # Define the relevant columns\n",
    "        label_column = f\"{aspect}_label\"\n",
    "        label_type_column = f\"{aspect}_label_type\"\n",
    "        # Filter rows where label type is 'gold'\n",
    "        aspect_type_rows = data[data[label_type_column] == data_type]\n",
    "        sampled_aspect = (\n",
    "            aspect_type_rows\n",
    "            .groupby(label_column, group_keys=False)\n",
    "            .apply(lambda group: group.sample(n=samples_per_label, random_state=42) \n",
    "                if len(group) >= samples_per_label else group)\n",
    "        )\n",
    "        sampled_data[aspect] = sampled_aspect\n",
    "\n",
    "    return sampled_data\n",
    "\n",
    "\n",
    "sampled_data = sample_data(data, aspects,samples_per_label,data_type)\n",
    "\n",
    "with pd.ExcelWriter(f\"/home/abdelrahman.sadallah/mbzuai/review_rewrite/chatgpt/test_data/{data_type}_human_annotations.xlsx\", mode='w', engine='xlsxwriter') as writer:\n",
    "    for x in aspects:\n",
    "        print(x, sampled_data[x].shape)\n",
    "        ## save the data to excel  with ascpects as sheet nemes\n",
    "        sampled_data[x].to_excel(writer, sheet_name=x, index=False)\n",
    "        print(f\"saved {x} data to excel\")\n"
   ]
  }
 ],
 "metadata": {
  "kernelspec": {
   "display_name": "Python 3",
   "language": "python",
   "name": "python3"
  },
  "language_info": {
   "codemirror_mode": {
    "name": "ipython",
    "version": 3
   },
   "file_extension": ".py",
   "mimetype": "text/x-python",
   "name": "python",
   "nbconvert_exporter": "python",
   "pygments_lexer": "ipython3",
   "version": "3.10.14"
  }
 },
 "nbformat": 4,
 "nbformat_minor": 2
}
