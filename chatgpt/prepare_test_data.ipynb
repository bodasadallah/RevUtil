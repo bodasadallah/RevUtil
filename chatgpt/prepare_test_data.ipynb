{
 "cells": [
  {
   "cell_type": "code",
   "execution_count": 9,
   "metadata": {},
   "outputs": [],
   "source": [
    "import pandas as pd\n",
    "\n",
    "data = pd.read_csv('/home/abdelrahman.sadallah/mbzuai/review_rewrite/data/human_annotation_gathered/all_human_annotations_processed.csv')\n",
    "\n",
    "\n",
    "## choose random 100 samples\n",
    "# data = data.sample(n=100, random_state=1)"
   ]
  },
  {
   "cell_type": "code",
   "execution_count": 10,
   "metadata": {},
   "outputs": [
    {
     "data": {
      "text/plain": [
       "Index(['review_point', 'paper_id', 'venue', 'focused_review', 'actionability',\n",
       "       'actionability_label', 'actionability_label_type', 'batch',\n",
       "       'grounding_specificity', 'grounding_specificity_label',\n",
       "       'grounding_specificity_label_type', 'verifiability',\n",
       "       'verifiability_label', 'verifiability_label_type', 'helpfulness',\n",
       "       'helpfulness_label', 'helpfulness_label_type', 'professional_tone',\n",
       "       'professional_tone_label', 'professional_tone_label_type',\n",
       "       'valid_point', 'valid_point_label', 'valid_point_label_type'],\n",
       "      dtype='object')"
      ]
     },
     "execution_count": 10,
     "metadata": {},
     "output_type": "execute_result"
    }
   ],
   "source": [
    "data.columns"
   ]
  },
  {
   "cell_type": "code",
   "execution_count": 11,
   "metadata": {},
   "outputs": [
    {
     "name": "stdout",
     "output_type": "stream",
     "text": [
      "actionability (47, 4)\n",
      "grounding_specificity (49, 4)\n",
      "verifiability (57, 4)\n",
      "helpfulness (75, 4)\n"
     ]
    },
    {
     "name": "stderr",
     "output_type": "stream",
     "text": [
      "/tmp/ipykernel_3553157/1219742311.py:20: DeprecationWarning: DataFrameGroupBy.apply operated on the grouping columns. This behavior is deprecated, and in a future version of pandas the grouping columns will be excluded from the operation. Either pass `include_groups=False` to exclude the groupings or explicitly select the grouping columns after groupby to silence this warning.\n",
      "  .apply(lambda group: group.sample(n=samples_per_label, random_state=42)\n",
      "/tmp/ipykernel_3553157/1219742311.py:20: DeprecationWarning: DataFrameGroupBy.apply operated on the grouping columns. This behavior is deprecated, and in a future version of pandas the grouping columns will be excluded from the operation. Either pass `include_groups=False` to exclude the groupings or explicitly select the grouping columns after groupby to silence this warning.\n",
      "  .apply(lambda group: group.sample(n=samples_per_label, random_state=42)\n",
      "/tmp/ipykernel_3553157/1219742311.py:20: DeprecationWarning: DataFrameGroupBy.apply operated on the grouping columns. This behavior is deprecated, and in a future version of pandas the grouping columns will be excluded from the operation. Either pass `include_groups=False` to exclude the groupings or explicitly select the grouping columns after groupby to silence this warning.\n",
      "  .apply(lambda group: group.sample(n=samples_per_label, random_state=42)\n",
      "/tmp/ipykernel_3553157/1219742311.py:20: DeprecationWarning: DataFrameGroupBy.apply operated on the grouping columns. This behavior is deprecated, and in a future version of pandas the grouping columns will be excluded from the operation. Either pass `include_groups=False` to exclude the groupings or explicitly select the grouping columns after groupby to silence this warning.\n",
      "  .apply(lambda group: group.sample(n=samples_per_label, random_state=42)\n"
     ]
    }
   ],
   "source": [
    "aspects = [ 'actionability', 'grounding_specificity', 'verifiability', 'helpfulness']\n",
    "samples_per_label = 20\n",
    "# Initialize a dictionary to store sampled data for each aspect\n",
    "sampled_data = {}\n",
    "\n",
    "in_context_examples = {}\n",
    "\n",
    "for aspect in aspects:\n",
    "    # Define the relevant columns\n",
    "    label_column = f\"{aspect}_label\"\n",
    "    label_type_column = f\"{aspect}_label_type\"\n",
    "    \n",
    "    # Filter rows where label type is 'gold'\n",
    "    aspect_gold_rows = data[data[label_type_column] == 'gold']\n",
    "    \n",
    "    # Group by the label and sample 105 rows per label value\n",
    "    sampled_aspect = (\n",
    "        aspect_gold_rows\n",
    "        .groupby(label_column, group_keys=False)\n",
    "        .apply(lambda group: group.sample(n=samples_per_label, random_state=42) \n",
    "               if len(group) >= samples_per_label else group)\n",
    "    )\n",
    "\n",
    "    ## 3 examples of each label to the in context examples,and the rest to the test data\n",
    "    in_context_examples[aspect] = sampled_aspect.groupby(label_column).head(3)\n",
    "    ### take only the focused_review, review_point and the label\n",
    "    in_context_examples[aspect] = in_context_examples[aspect][['review_point', 'focused_review', f'{aspect}_label', aspect]]\n",
    "\n",
    "    sampled_aspect = sampled_aspect.drop(in_context_examples[aspect].index)\n",
    "\n",
    "    \n",
    "    ## only keep the columns that are needed: review_point, paper_id, focused_review, and the aspect, and the label\n",
    "    sampled_aspect = sampled_aspect[['review_point', 'paper_id', 'focused_review', label_column]]\n",
    "\n",
    "    # Store the sampled data in the dictionary\n",
    "    sampled_data[aspect] = sampled_aspect\n",
    "\n",
    "for x in aspects:\n",
    "    print(x, sampled_data[x].shape)\n",
    "    ## save the df\n",
    "    sampled_data[x].to_csv(f'/home/abdelrahman.sadallah/mbzuai/review_rewrite/chatgpt/test_data/{x}_test_data.csv', index=False)\n",
    "# # Combine the sampled data for all aspects if needed\n",
    "# final_sampled_df = pd.concat(sampled_data.values(), ignore_index=True)\n",
    "\n"
   ]
  },
  {
   "cell_type": "code",
   "execution_count": 12,
   "metadata": {},
   "outputs": [],
   "source": [
    "## create excel sheet for the in context examples\n",
    "\n",
    "with pd.ExcelWriter('/home/abdelrahman.sadallah/mbzuai/review_rewrite/chatgpt/test_data/in_context_examples.xlsx') as writer:\n",
    "    for aspect in aspects:\n",
    "        in_context_examples[aspect].to_excel(writer, sheet_name=aspect, index=False)"
   ]
  }
 ],
 "metadata": {
  "kernelspec": {
   "display_name": "Python 3",
   "language": "python",
   "name": "python3"
  },
  "language_info": {
   "codemirror_mode": {
    "name": "ipython",
    "version": 3
   },
   "file_extension": ".py",
   "mimetype": "text/x-python",
   "name": "python",
   "nbconvert_exporter": "python",
   "pygments_lexer": "ipython3",
   "version": "3.10.14"
  }
 },
 "nbformat": 4,
 "nbformat_minor": 2
}
