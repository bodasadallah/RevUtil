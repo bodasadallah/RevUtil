{
 "cells": [
  {
   "cell_type": "code",
   "execution_count": 1,
   "metadata": {},
   "outputs": [
    {
     "name": "stdout",
     "output_type": "stream",
     "text": [
      "========================= Using normal prompt without context ===============================\n"
     ]
    }
   ],
   "source": [
    "import json\n",
    "import pandas as pd\n",
    "import os\n",
    "import sys\n",
    "parent_dir = os.path.abspath(os.path.join(os.getcwd(), \"..\"))\n",
    "sys.path.append(parent_dir)\n",
    "import utils\n",
    "from utils import  get_stats\n",
    "\n",
    "context_path = '/home/abdelrahman.sadallah/mbzuai/review_rewrite/inference/evalute_outputs/base_model/chatgpt/score_only/instruction/all/step-0/review_evaluation_human_annotation/with_context/predictions_context_experiment_with_paper_text_full.jsonl'\n",
    "no_context_path = '/home/abdelrahman.sadallah/mbzuai/review_rewrite/inference/evalute_outputs/base_model/chatgpt/score_only/instruction/all/step-0/review_evaluation_human_annotation/predictions_context_experiment_with_paper_text_full.jsonl'\n",
    "\n",
    "\n",
    "# Load the two JSONL files into DataFrames\n",
    "with open(context_path, 'r') as f:\n",
    "    context_data = [json.loads(line) for line in f]\n",
    "\n",
    "with open(no_context_path, 'r') as f:\n",
    "    no_context_data = [json.loads(line) for line in f]\n",
    "\n",
    "# Assert that both files have the same number of rows\n",
    "assert len(context_data) == len(no_context_data), \"The two files do not have the same number of rows.\"\n"
   ]
  },
  {
   "cell_type": "code",
   "execution_count": 8,
   "metadata": {},
   "outputs": [
    {
     "name": "stdout",
     "output_type": "stream",
     "text": [
      "For aspect 'actionability':\n",
      "  Percentage of same or vary by one: 82.00%\n",
      "For aspect 'grounding_specificity':\n",
      "  Percentage of same or vary by one: 93.00%\n",
      "For aspect 'verifiability':\n",
      "  Percentage of same or vary by one: 89.00%\n",
      "For aspect 'helpfulness':\n",
      "  Percentage of same or vary by one: 93.00%\n"
     ]
    }
   ],
   "source": [
    "aspects = ['actionability', 'grounding_specificity', 'verifiability', 'helpfulness']\n",
    "\n",
    "\n",
    "agreement_stats = {}\n",
    "for aspect in aspects:\n",
    "    context_labels = [entry[f\"{aspect}_label\"] for entry in context_data]\n",
    "    no_context_labels = [entry[f\"{aspect}_label\"] for entry in no_context_data]\n",
    "\n",
    "    if aspect == 'verifiability':\n",
    "        context_labels = [0 if label == 'X' else int(label) for label in context_labels]\n",
    "        no_context_labels = [0 if label == 'X' else int(label) for label in no_context_labels]\n",
    "\n",
    "    same_count = sum(1 for c, n in zip(context_labels, no_context_labels) if c == n)\n",
    "    vary_by_one_count = sum(1 for c, n in zip(context_labels, no_context_labels) if abs(int(c) - int(n)) == 1)\n",
    "\n",
    "    # print(f\"For aspect '{aspect}':\")\n",
    "    # print(f\"  Same labels count: {same_count}\")\n",
    "    # print(f\"  Labels vary by one count: {vary_by_one_count}\")\n",
    "    total_cases = len(context_labels)\n",
    "    same_or_vary_by_one_count = same_count + vary_by_one_count\n",
    "    percentage = (same_or_vary_by_one_count / total_cases) * 100\n",
    "\n",
    "    # print(f\"  Same or vary by one count: {same_or_vary_by_one_count}\")\n",
    "    print(f\"For aspect '{aspect}':\")\n",
    "    print(f\"  Percentage of same or vary by one: {percentage:.2f}%\")\n",
    "\n",
    "\n",
    "#     scores = get_stats(context_labels, no_context_labels,aspect)\n",
    "#     agreement_stats[aspect] = scores\n",
    "\n",
    "# for aspect, stats in agreement_stats.items():\n",
    "#     print(f\"Aspect: {aspect}\")\n",
    "#     for stat_name, stat_value in stats.items():\n",
    "#         print(f\"  {stat_name}: {stat_value}\")\n",
    "#     print()\n"
   ]
  },
  {
   "cell_type": "code",
   "execution_count": null,
   "metadata": {},
   "outputs": [],
   "source": []
  }
 ],
 "metadata": {
  "kernelspec": {
   "display_name": "Python 3",
   "language": "python",
   "name": "python3"
  },
  "language_info": {
   "codemirror_mode": {
    "name": "ipython",
    "version": 3
   },
   "file_extension": ".py",
   "mimetype": "text/x-python",
   "name": "python",
   "nbconvert_exporter": "python",
   "pygments_lexer": "ipython3",
   "version": "3.10.14"
  }
 },
 "nbformat": 4,
 "nbformat_minor": 2
}
