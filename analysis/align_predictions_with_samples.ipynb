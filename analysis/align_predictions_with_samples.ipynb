{
 "cells": [
  {
   "cell_type": "code",
   "execution_count": 1,
   "metadata": {},
   "outputs": [
    {
     "data": {
      "application/vnd.jupyter.widget-view+json": {
       "model_id": "954199599390490da19520c4738cf79f",
       "version_major": 2,
       "version_minor": 0
      },
      "text/plain": [
       "gold-00000-of-00001.parquet:   0%|          | 0.00/557k [00:00<?, ?B/s]"
      ]
     },
     "metadata": {},
     "output_type": "display_data"
    },
    {
     "data": {
      "application/vnd.jupyter.widget-view+json": {
       "model_id": "f10abd8b20b443a190d77a62901564d0",
       "version_major": 2,
       "version_minor": 0
      },
      "text/plain": [
       "silver-00000-of-00001.parquet:   0%|          | 0.00/580k [00:00<?, ?B/s]"
      ]
     },
     "metadata": {},
     "output_type": "display_data"
    },
    {
     "data": {
      "application/vnd.jupyter.widget-view+json": {
       "model_id": "c3d2fde391c74c4a811f79f4e1a01d9d",
       "version_major": 2,
       "version_minor": 0
      },
      "text/plain": [
       "hard-00000-of-00001.parquet:   0%|          | 0.00/188k [00:00<?, ?B/s]"
      ]
     },
     "metadata": {},
     "output_type": "display_data"
    },
    {
     "data": {
      "application/vnd.jupyter.widget-view+json": {
       "model_id": "8f33f78b30384d4b8b9d3fd879205964",
       "version_major": 2,
       "version_minor": 0
      },
      "text/plain": [
       "Generating gold split:   0%|          | 0/402 [00:00<?, ? examples/s]"
      ]
     },
     "metadata": {},
     "output_type": "display_data"
    },
    {
     "data": {
      "application/vnd.jupyter.widget-view+json": {
       "model_id": "33c9e1901a484c3b9237967237617a3d",
       "version_major": 2,
       "version_minor": 0
      },
      "text/plain": [
       "Generating silver split:   0%|          | 0/503 [00:00<?, ? examples/s]"
      ]
     },
     "metadata": {},
     "output_type": "display_data"
    },
    {
     "data": {
      "application/vnd.jupyter.widget-view+json": {
       "model_id": "30b1dfc2a45640b3ba6b4c132f908695",
       "version_major": 2,
       "version_minor": 0
      },
      "text/plain": [
       "Generating hard split:   0%|          | 0/149 [00:00<?, ? examples/s]"
      ]
     },
     "metadata": {},
     "output_type": "display_data"
    },
    {
     "data": {
      "application/vnd.jupyter.widget-view+json": {
       "model_id": "d371ecb11b42461f88c89a30545d4540",
       "version_major": 2,
       "version_minor": 0
      },
      "text/plain": [
       "gold-00000-of-00001.parquet:   0%|          | 0.00/182k [00:00<?, ?B/s]"
      ]
     },
     "metadata": {},
     "output_type": "display_data"
    },
    {
     "data": {
      "application/vnd.jupyter.widget-view+json": {
       "model_id": "300049aabca04a49ba827eac74c7437c",
       "version_major": 2,
       "version_minor": 0
      },
      "text/plain": [
       "silver-00000-of-00001.parquet:   0%|          | 0.00/741k [00:00<?, ?B/s]"
      ]
     },
     "metadata": {},
     "output_type": "display_data"
    },
    {
     "data": {
      "application/vnd.jupyter.widget-view+json": {
       "model_id": "680c7743ee9840589e10f0d48bafd922",
       "version_major": 2,
       "version_minor": 0
      },
      "text/plain": [
       "hard-00000-of-00001.parquet:   0%|          | 0.00/387k [00:00<?, ?B/s]"
      ]
     },
     "metadata": {},
     "output_type": "display_data"
    },
    {
     "data": {
      "application/vnd.jupyter.widget-view+json": {
       "model_id": "967c533050d84411ac96dc2ec54e6e9b",
       "version_major": 2,
       "version_minor": 0
      },
      "text/plain": [
       "Generating gold split:   0%|          | 0/133 [00:00<?, ? examples/s]"
      ]
     },
     "metadata": {},
     "output_type": "display_data"
    },
    {
     "data": {
      "application/vnd.jupyter.widget-view+json": {
       "model_id": "4d1a43fb359b419c9ab313898157b343",
       "version_major": 2,
       "version_minor": 0
      },
      "text/plain": [
       "Generating silver split:   0%|          | 0/597 [00:00<?, ? examples/s]"
      ]
     },
     "metadata": {},
     "output_type": "display_data"
    },
    {
     "data": {
      "application/vnd.jupyter.widget-view+json": {
       "model_id": "0c852229127f44c68082197e2a09c621",
       "version_major": 2,
       "version_minor": 0
      },
      "text/plain": [
       "Generating hard split:   0%|          | 0/324 [00:00<?, ? examples/s]"
      ]
     },
     "metadata": {},
     "output_type": "display_data"
    },
    {
     "data": {
      "application/vnd.jupyter.widget-view+json": {
       "model_id": "bc6588c39bb947ff9ec37d3bdbc453da",
       "version_major": 2,
       "version_minor": 0
      },
      "text/plain": [
       "gold-00000-of-00001.parquet:   0%|          | 0.00/302k [00:00<?, ?B/s]"
      ]
     },
     "metadata": {},
     "output_type": "display_data"
    },
    {
     "data": {
      "application/vnd.jupyter.widget-view+json": {
       "model_id": "33be11f83c7c4792bc7fb04a9ccfc096",
       "version_major": 2,
       "version_minor": 0
      },
      "text/plain": [
       "silver-00000-of-00001.parquet:   0%|          | 0.00/714k [00:00<?, ?B/s]"
      ]
     },
     "metadata": {},
     "output_type": "display_data"
    },
    {
     "data": {
      "application/vnd.jupyter.widget-view+json": {
       "model_id": "29d38c4bf572483496205c0d078489b2",
       "version_major": 2,
       "version_minor": 0
      },
      "text/plain": [
       "hard-00000-of-00001.parquet:   0%|          | 0.00/315k [00:00<?, ?B/s]"
      ]
     },
     "metadata": {},
     "output_type": "display_data"
    },
    {
     "data": {
      "application/vnd.jupyter.widget-view+json": {
       "model_id": "f6baa44acb6e49db83da89fbf0df09a3",
       "version_major": 2,
       "version_minor": 0
      },
      "text/plain": [
       "Generating gold split:   0%|          | 0/211 [00:00<?, ? examples/s]"
      ]
     },
     "metadata": {},
     "output_type": "display_data"
    },
    {
     "data": {
      "application/vnd.jupyter.widget-view+json": {
       "model_id": "2ea339638b064c4b9164abb55e922dc2",
       "version_major": 2,
       "version_minor": 0
      },
      "text/plain": [
       "Generating silver split:   0%|          | 0/589 [00:00<?, ? examples/s]"
      ]
     },
     "metadata": {},
     "output_type": "display_data"
    },
    {
     "data": {
      "application/vnd.jupyter.widget-view+json": {
       "model_id": "88f27543a8ef4698b13905eb28bb2796",
       "version_major": 2,
       "version_minor": 0
      },
      "text/plain": [
       "Generating hard split:   0%|          | 0/254 [00:00<?, ? examples/s]"
      ]
     },
     "metadata": {},
     "output_type": "display_data"
    }
   ],
   "source": [
    "import json\n",
    "import pandas as pd\n",
    "import numpy as np\n",
    "import sys\n",
    "import os\n",
    "parent_dir = os.path.abspath(os.path.join(os.getcwd(), \"..\"))\n",
    "sys.path.append(parent_dir)\n",
    "from utils import *\n",
    "import datasets\n",
    "from inference.inference_utils import extract_predictions\n",
    "\n",
    "FINETUNE_MODEL_OUTPUTS = '../inference/evalute_outputs/adapters/SciLitLLM/score_only/instruction/step-843/review_evaluation_human_annotation'\n",
    "\n",
    "aspects = [ 'actionability', 'grounding_specificity','verifiability', 'helpfulness']\n",
    "\n",
    "gold_data = {}\n",
    "\n",
    "for aspect in aspects:\n",
    "    ds = datasets.load_dataset('boda/review_evaluation_human_annotation', name=aspect, split='gold')\n",
    "    ds = ds.to_pandas()\n",
    "    gold_data[aspect] = ds"
   ]
  },
  {
   "cell_type": "code",
   "execution_count": 7,
   "metadata": {},
   "outputs": [
    {
     "name": "stdout",
     "output_type": "stream",
     "text": [
      "Parsing error: Expecting value: line 1 column 1 (char 0)\n",
      "Problematic string: \n",
      "295\n",
      "392\n",
      "121\n",
      "162\n"
     ]
    }
   ],
   "source": [
    "final_data = {}\n",
    "\n",
    "for aspect in aspects:\n",
    "    finetuning_aspect_outputs_pah = f'{FINETUNE_MODEL_OUTPUTS}/raw_outputs_{aspect}_gold.jsonl'\n",
    "    finetuning_outputs = []\n",
    "    basemodel_outputs = []\n",
    "    with open(finetuning_aspect_outputs_pah, 'r') as f:\n",
    "        for line in f:\n",
    "            finetuning_outputs.append(json.loads(line))\n",
    "    finetuning_outputs = extract_predictions(finetuning_outputs)\n",
    "    finetuning_outputs = pd.DataFrame(finetuning_outputs)\n",
    "    ## drop columns that do not have the aspect in the name\n",
    "    finetuning_outputs = finetuning_outputs.filter(like=aspect, axis=1)\n",
    "\n",
    "    assert len(finetuning_outputs) == len(gold_data[aspect])\n",
    "\n",
    "    final_data[aspect] = []\n",
    "    for i in range(len(gold_data[aspect])):\n",
    "        if not finetuning_outputs.iloc[i][f'{aspect}_label']:\n",
    "            continue\n",
    "        if  finetuning_outputs.iloc[i][f'{aspect}_label'] == 'None':\n",
    "            continue\n",
    "        row_data = gold_data[aspect].iloc[i].copy()\n",
    "        row_data['finetuning_label'] = finetuning_outputs.iloc[i][f'{aspect}_label']\n",
    "        final_data[aspect].append(row_data)\n",
    "\n",
    "## convert final_data to pandas dataframe and save them into a excel file\n",
    "final_data = {k: pd.DataFrame(v) for k,v in final_data.items()}\n",
    "with pd.ExcelWriter('scilit_gold_labels_predictions.xlsx') as writer:\n",
    "    for aspect in aspects:\n",
    "        print(len(final_data[aspect]))\n",
    "        final_data[aspect].to_excel(writer, sheet_name=aspect, index=False)\n",
    "        "
   ]
  },
  {
   "cell_type": "code",
   "execution_count": 8,
   "metadata": {},
   "outputs": [
    {
     "data": {
      "text/html": [
       "<div>\n",
       "<style scoped>\n",
       "    .dataframe tbody tr th:only-of-type {\n",
       "        vertical-align: middle;\n",
       "    }\n",
       "\n",
       "    .dataframe tbody tr th {\n",
       "        vertical-align: top;\n",
       "    }\n",
       "\n",
       "    .dataframe thead th {\n",
       "        text-align: right;\n",
       "    }\n",
       "</style>\n",
       "<table border=\"1\" class=\"dataframe\">\n",
       "  <thead>\n",
       "    <tr style=\"text-align: right;\">\n",
       "      <th></th>\n",
       "      <th>review_point</th>\n",
       "      <th>paper_id</th>\n",
       "      <th>venue</th>\n",
       "      <th>focused_review</th>\n",
       "      <th>batch</th>\n",
       "      <th>verifiability</th>\n",
       "      <th>verifiability_label</th>\n",
       "      <th>verifiability_label_type</th>\n",
       "      <th>id</th>\n",
       "      <th>finetuning_label</th>\n",
       "    </tr>\n",
       "  </thead>\n",
       "  <tbody>\n",
       "    <tr>\n",
       "      <th>0</th>\n",
       "      <td>3. The adopted baseline models are weak. First...</td>\n",
       "      <td>ARR_2022_68_review</td>\n",
       "      <td>ARR_2022</td>\n",
       "      <td>1. Despite the well-motivated problem formulat...</td>\n",
       "      <td>2</td>\n",
       "      <td>{'annotators': ['6740484e188a64793529ee77', '6...</td>\n",
       "      <td>5</td>\n",
       "      <td>gold</td>\n",
       "      <td>50</td>\n",
       "      <td>5</td>\n",
       "    </tr>\n",
       "    <tr>\n",
       "      <th>1</th>\n",
       "      <td>- In section 2.3 the authors use Lample et al....</td>\n",
       "      <td>ACL_2017_71_review</td>\n",
       "      <td>ACL_2017</td>\n",
       "      <td>-The explanation of methods in some paragraphs...</td>\n",
       "      <td>2</td>\n",
       "      <td>{'annotators': ['6740484e188a64793529ee77', '6...</td>\n",
       "      <td>5</td>\n",
       "      <td>gold</td>\n",
       "      <td>56</td>\n",
       "      <td>4</td>\n",
       "    </tr>\n",
       "    <tr>\n",
       "      <th>3</th>\n",
       "      <td>- Two things must be improved in the presentat...</td>\n",
       "      <td>ACL_2017_483_review</td>\n",
       "      <td>ACL_2017</td>\n",
       "      <td>- 071: This formulation of argumentation minin...</td>\n",
       "      <td>2</td>\n",
       "      <td>{'annotators': ['6740484e188a64793529ee77', '6...</td>\n",
       "      <td>5</td>\n",
       "      <td>gold</td>\n",
       "      <td>64</td>\n",
       "      <td>4</td>\n",
       "    </tr>\n",
       "    <tr>\n",
       "      <th>4</th>\n",
       "      <td>3. It would be good to show some empirical evi...</td>\n",
       "      <td>NIPS_2016_9</td>\n",
       "      <td>NIPS_2016</td>\n",
       "      <td>Weakness: The authors do not provide any theor...</td>\n",
       "      <td>3</td>\n",
       "      <td>{'annotators': ['6740484e188a64793529ee77', '6...</td>\n",
       "      <td>3</td>\n",
       "      <td>gold</td>\n",
       "      <td>79</td>\n",
       "      <td>3</td>\n",
       "    </tr>\n",
       "    <tr>\n",
       "      <th>5</th>\n",
       "      <td>2 More analysis and comments are recommended o...</td>\n",
       "      <td>ICLR_2022_1794</td>\n",
       "      <td>ICLR_2022</td>\n",
       "      <td>1 Medical imaging are often obtained in 3D vol...</td>\n",
       "      <td>3</td>\n",
       "      <td>{'annotators': ['6740484e188a64793529ee77', '6...</td>\n",
       "      <td>5</td>\n",
       "      <td>gold</td>\n",
       "      <td>85</td>\n",
       "      <td>4</td>\n",
       "    </tr>\n",
       "    <tr>\n",
       "      <th>...</th>\n",
       "      <td>...</td>\n",
       "      <td>...</td>\n",
       "      <td>...</td>\n",
       "      <td>...</td>\n",
       "      <td>...</td>\n",
       "      <td>...</td>\n",
       "      <td>...</td>\n",
       "      <td>...</td>\n",
       "      <td>...</td>\n",
       "      <td>...</td>\n",
       "    </tr>\n",
       "    <tr>\n",
       "      <th>128</th>\n",
       "      <td>2. The meta solvers seem to be centralized con...</td>\n",
       "      <td>NIPS_2017_401</td>\n",
       "      <td>NIPS_2017</td>\n",
       "      <td>Weakness:\\n1. There are no collaborative games...</td>\n",
       "      <td>8</td>\n",
       "      <td>{'annotators': ['boda', '6686ebe474531e4a19756...</td>\n",
       "      <td>5</td>\n",
       "      <td>gold</td>\n",
       "      <td>1108</td>\n",
       "      <td>3</td>\n",
       "    </tr>\n",
       "    <tr>\n",
       "      <th>129</th>\n",
       "      <td>5) Line 285: a bit confused about the phrase \"...</td>\n",
       "      <td>ACL_2017_49_review</td>\n",
       "      <td>ACL_2017</td>\n",
       "      <td>There are some minor points, listed as follows...</td>\n",
       "      <td>8</td>\n",
       "      <td>{'annotators': ['boda', '6686ebe474531e4a19756...</td>\n",
       "      <td>X</td>\n",
       "      <td>gold</td>\n",
       "      <td>1117</td>\n",
       "      <td>X</td>\n",
       "    </tr>\n",
       "    <tr>\n",
       "      <th>130</th>\n",
       "      <td>- Discrepancy between eq. 9 and Figure 1. From...</td>\n",
       "      <td>NIPS_2019_1338</td>\n",
       "      <td>NIPS_2019</td>\n",
       "      <td>, this paper is a solid submission. The idea i...</td>\n",
       "      <td>8</td>\n",
       "      <td>{'annotators': ['boda', '6686ebe474531e4a19756...</td>\n",
       "      <td>5</td>\n",
       "      <td>gold</td>\n",
       "      <td>1119</td>\n",
       "      <td>X</td>\n",
       "    </tr>\n",
       "    <tr>\n",
       "      <th>131</th>\n",
       "      <td>1. Limited technical novelty. Compare with the...</td>\n",
       "      <td>CsCRTvEZg1</td>\n",
       "      <td>EMNLP_2023</td>\n",
       "      <td>1. Limited technical novelty. Compare with the...</td>\n",
       "      <td>8</td>\n",
       "      <td>{'annotators': ['boda', '6686ebe474531e4a19756...</td>\n",
       "      <td>5</td>\n",
       "      <td>gold</td>\n",
       "      <td>1121</td>\n",
       "      <td>1</td>\n",
       "    </tr>\n",
       "    <tr>\n",
       "      <th>132</th>\n",
       "      <td>3) Lack of fair comparison: In Figure 3, the a...</td>\n",
       "      <td>0DkaimvWs0</td>\n",
       "      <td>EMNLP_2023</td>\n",
       "      <td>1) Inadequate method details: The \"expert ID e...</td>\n",
       "      <td>8</td>\n",
       "      <td>{'annotators': ['boda', '6686ebe474531e4a19756...</td>\n",
       "      <td>5</td>\n",
       "      <td>gold</td>\n",
       "      <td>1134</td>\n",
       "      <td>5</td>\n",
       "    </tr>\n",
       "  </tbody>\n",
       "</table>\n",
       "<p>121 rows × 10 columns</p>\n",
       "</div>"
      ],
      "text/plain": [
       "                                          review_point             paper_id  \\\n",
       "0    3. The adopted baseline models are weak. First...   ARR_2022_68_review   \n",
       "1    - In section 2.3 the authors use Lample et al....   ACL_2017_71_review   \n",
       "3    - Two things must be improved in the presentat...  ACL_2017_483_review   \n",
       "4    3. It would be good to show some empirical evi...          NIPS_2016_9   \n",
       "5    2 More analysis and comments are recommended o...       ICLR_2022_1794   \n",
       "..                                                 ...                  ...   \n",
       "128  2. The meta solvers seem to be centralized con...        NIPS_2017_401   \n",
       "129  5) Line 285: a bit confused about the phrase \"...   ACL_2017_49_review   \n",
       "130  - Discrepancy between eq. 9 and Figure 1. From...       NIPS_2019_1338   \n",
       "131  1. Limited technical novelty. Compare with the...           CsCRTvEZg1   \n",
       "132  3) Lack of fair comparison: In Figure 3, the a...           0DkaimvWs0   \n",
       "\n",
       "          venue                                     focused_review  batch  \\\n",
       "0      ARR_2022  1. Despite the well-motivated problem formulat...      2   \n",
       "1      ACL_2017  -The explanation of methods in some paragraphs...      2   \n",
       "3      ACL_2017  - 071: This formulation of argumentation minin...      2   \n",
       "4     NIPS_2016  Weakness: The authors do not provide any theor...      3   \n",
       "5     ICLR_2022  1 Medical imaging are often obtained in 3D vol...      3   \n",
       "..          ...                                                ...    ...   \n",
       "128   NIPS_2017  Weakness:\\n1. There are no collaborative games...      8   \n",
       "129    ACL_2017  There are some minor points, listed as follows...      8   \n",
       "130   NIPS_2019  , this paper is a solid submission. The idea i...      8   \n",
       "131  EMNLP_2023  1. Limited technical novelty. Compare with the...      8   \n",
       "132  EMNLP_2023  1) Inadequate method details: The \"expert ID e...      8   \n",
       "\n",
       "                                         verifiability verifiability_label  \\\n",
       "0    {'annotators': ['6740484e188a64793529ee77', '6...                   5   \n",
       "1    {'annotators': ['6740484e188a64793529ee77', '6...                   5   \n",
       "3    {'annotators': ['6740484e188a64793529ee77', '6...                   5   \n",
       "4    {'annotators': ['6740484e188a64793529ee77', '6...                   3   \n",
       "5    {'annotators': ['6740484e188a64793529ee77', '6...                   5   \n",
       "..                                                 ...                 ...   \n",
       "128  {'annotators': ['boda', '6686ebe474531e4a19756...                   5   \n",
       "129  {'annotators': ['boda', '6686ebe474531e4a19756...                   X   \n",
       "130  {'annotators': ['boda', '6686ebe474531e4a19756...                   5   \n",
       "131  {'annotators': ['boda', '6686ebe474531e4a19756...                   5   \n",
       "132  {'annotators': ['boda', '6686ebe474531e4a19756...                   5   \n",
       "\n",
       "    verifiability_label_type    id finetuning_label  \n",
       "0                       gold    50                5  \n",
       "1                       gold    56                4  \n",
       "3                       gold    64                4  \n",
       "4                       gold    79                3  \n",
       "5                       gold    85                4  \n",
       "..                       ...   ...              ...  \n",
       "128                     gold  1108                3  \n",
       "129                     gold  1117                X  \n",
       "130                     gold  1119                X  \n",
       "131                     gold  1121                1  \n",
       "132                     gold  1134                5  \n",
       "\n",
       "[121 rows x 10 columns]"
      ]
     },
     "execution_count": 8,
     "metadata": {},
     "output_type": "execute_result"
    }
   ],
   "source": [
    "final_data['verifiability']"
   ]
  }
 ],
 "metadata": {
  "kernelspec": {
   "display_name": "nlp",
   "language": "python",
   "name": "python3"
  },
  "language_info": {
   "codemirror_mode": {
    "name": "ipython",
    "version": 3
   },
   "file_extension": ".py",
   "mimetype": "text/x-python",
   "name": "python",
   "nbconvert_exporter": "python",
   "pygments_lexer": "ipython3",
   "version": "3.10.14"
  }
 },
 "nbformat": 4,
 "nbformat_minor": 2
}
