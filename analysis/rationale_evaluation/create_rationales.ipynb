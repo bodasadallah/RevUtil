{
 "cells": [
  {
   "cell_type": "code",
   "execution_count": 2,
   "metadata": {},
   "outputs": [],
   "source": [
    "import datasets\n",
    "import pandas as pd\n",
    "\n",
    "\n",
    "aspects = [ 'actionability', 'grounding_specificity', 'verifiability', 'helpfulness']\n",
    "\n",
    "# for aspect in aspects:\n",
    "#     df1 = pd.read_excel(f'../../chatgpt/outputs/main_data_batch_gold_results.xlsx', sheet_name=aspect)\n",
    "#     df2 = pd.read_excel(f'../../chatgpt/outputs/main_data_batch_silver_results.xlsx', sheet_name=aspect)\n",
    "\n",
    "#     chatgpt_df = pd.concat([df1, df2])\n",
    "\n",
    "#     chatgpt_df = chatgpt_df [chatgpt_df[f'{aspect}_label'] == chatgpt_df[f'chatgpt_{aspect}_score']]\n",
    "\n",
    "#     print(aspect, len(chatgpt_df['id'].unique()))\n",
    "\n",
    "\n",
    "#     for x in chatgpt_df[f'chatgpt_{aspect}_rationale'].head(5):\n",
    "#         print(x)\n"
   ]
  },
  {
   "cell_type": "code",
   "execution_count": 5,
   "metadata": {},
   "outputs": [],
   "source": [
    "test_set = datasets.load_dataset(\"boda/review_evaluation_automatic_labels\", name= \"all\", split=\"test\")\n",
    "test_set = test_set.to_pandas()"
   ]
  },
  {
   "cell_type": "code",
   "execution_count": 7,
   "metadata": {},
   "outputs": [],
   "source": [
    "\n",
    "\n",
    "sampled_test_set = test_set.sample(n=100, random_state=42)"
   ]
  },
  {
   "cell_type": "code",
   "execution_count": 8,
   "metadata": {},
   "outputs": [],
   "source": [
    "for aspect in aspects:\n",
    "    sampled_test_set[f\"{aspect}_rationale_correctness\"] = None\n",
    "    sampled_test_set[f\"{aspect}_rationale_relevance\"] = None\n",
    "\n",
    "\n",
    "sampled_test_set.to_csv('human_rationale_evaluation.csv', index=False)"
   ]
  }
 ],
 "metadata": {
  "kernelspec": {
   "display_name": "Python 3",
   "language": "python",
   "name": "python3"
  },
  "language_info": {
   "codemirror_mode": {
    "name": "ipython",
    "version": 3
   },
   "file_extension": ".py",
   "mimetype": "text/x-python",
   "name": "python",
   "nbconvert_exporter": "python",
   "pygments_lexer": "ipython3",
   "version": "3.10.14"
  }
 },
 "nbformat": 4,
 "nbformat_minor": 2
}
