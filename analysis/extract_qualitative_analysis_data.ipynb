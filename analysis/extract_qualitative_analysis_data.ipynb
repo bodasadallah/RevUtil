{
 "cells": [
  {
   "cell_type": "code",
   "execution_count": 1,
   "metadata": {},
   "outputs": [],
   "source": [
    "import json\n",
    "import pandas as pd\n",
    "import numpy as np\n",
    "from utils import *\n",
    "import datasets\n",
    "\n",
    "FINETUNE_MODEL_OUTPUTS = '/home/abdelrahman.sadallah/mbzuai/review_rewrite/inference/evalute_outputs/adapters/Llama-3.1-8B/score_rationale/instruction/step-843/review_evaluation_human_annotation'\n",
    "BASE_MODEL_OUTPUTS = '/home/abdelrahman.sadallah/mbzuai/review_rewrite/inference/evalute_outputs/base_model/Llama-3.1-8B/score_rationale/instruction/step-0/review_evaluation_human_annotation' \n",
    "\n",
    "aspects = [ 'actionability', 'grounding_specificity','verifiability', 'helpfulness']\n",
    "\n",
    "gold_data = {}\n",
    "\n",
    "for aspect in aspects:\n",
    "    ds = datasets.load_dataset('boda/review_evaluation_human_annotation', name=aspect, split='gold')\n",
    "    ds = ds.to_pandas()\n",
    "    gold_data[aspect] = ds"
   ]
  },
  {
   "cell_type": "code",
   "execution_count": 2,
   "metadata": {},
   "outputs": [
    {
     "name": "stdout",
     "output_type": "stream",
     "text": [
      "INFO 03-19 22:24:23 __init__.py:194] No platform detected, vLLM is running on UnspecifiedPlatform\n"
     ]
    }
   ],
   "source": [
    "from inference.inference_utils import extract_predictions\n"
   ]
  },
  {
   "cell_type": "code",
   "execution_count": null,
   "metadata": {},
   "outputs": [],
   "source": [
    "chosen_data = {}\n",
    "final_data = {}\n",
    "\n",
    "for aspect in aspects:\n",
    "    finetuning_aspect_outputs_pah = f'{FINETUNE_MODEL_OUTPUTS}/raw_outputs_{aspect}_gold.jsonl'\n",
    "    basemodel_aspect_outputs_pah = f'{BASE_MODEL_OUTPUTS}/raw_outputs_{aspect}_gold.jsonl'\n",
    "    finetuning_outputs = []\n",
    "    basemodel_outputs = []\n",
    "    with open(finetuning_aspect_outputs_pah, 'r') as f:\n",
    "        for line in f:\n",
    "            finetuning_outputs.append(json.loads(line))\n",
    "    with open(basemodel_aspect_outputs_pah, 'r') as f:\n",
    "        for line in f:\n",
    "            basemodel_outputs.append(json.loads(line))\n",
    "\n",
    "    finetuning_outputs = extract_predictions(finetuning_outputs)\n",
    "    basemodel_outputs = extract_predictions(basemodel_outputs)\n",
    "\n",
    "    finetuning_outputs = pd.DataFrame(finetuning_outputs)\n",
    "    basemodel_outputs = pd.DataFrame(basemodel_outputs)\n",
    "\n",
    "    ## drop columns that do not have the aspect in the name\n",
    "    finetuning_outputs = finetuning_outputs.filter(like=aspect, axis=1)\n",
    "    basemodel_outputs = basemodel_outputs.filter(like=aspect, axis=1)\n",
    "\n",
    "    considered = []\n",
    "    chosen = {'correct':[], 'incorrect':[]}\n",
    "    while  (len(chosen['correct']) + len(chosen['incorrect'])) < 10:\n",
    "        idx = np.random.randint(0, len(finetuning_outputs))\n",
    "        if idx in considered:\n",
    "            continue\n",
    "        considered.append(idx)\n",
    "\n",
    "        ## if this row has null values, or empty string skip it\n",
    "        if not finetuning_outputs.iloc[idx][f'{aspect}_rationale'] or not basemodel_outputs.iloc[idx][f'{aspect}_rationale']:\n",
    "            continue\n",
    "        if not finetuning_outputs.iloc[idx][f'{aspect}_label'] or not basemodel_outputs.iloc[idx][f'{aspect}_label']:\n",
    "            continue\n",
    "\n",
    "        assert finetuning_outputs.iloc[idx][f'{aspect}_rationale'] != ''\n",
    "        assert basemodel_outputs.iloc[idx][f'{aspect}_rationale'] != ''\n",
    "\n",
    "        if finetuning_outputs.iloc[idx][f'{aspect}_label'] == gold_data[aspect].iloc[idx][f'{aspect}_label'] and len(chosen['correct']) < 5:\n",
    "            chosen['correct'].append(idx)\n",
    "        elif finetuning_outputs.iloc[idx][f'{aspect}_label'] != gold_data[aspect].iloc[idx][f'{aspect}_label'] and len(chosen['incorrect']) < 5:\n",
    "            chosen['incorrect'].append(idx)\n",
    "    \n",
    "    chosen_data[aspect] = chosen\n",
    "\n",
    "    final_data[aspect] = []\n",
    "    for id in chosen_data[aspect]['correct']:\n",
    "        row_data = gold_data[aspect].iloc[id].copy()\n",
    "        row_data['finetuning_label'] = finetuning_outputs.iloc[id][f'{aspect}_label']\n",
    "        row_data['basemodel_label'] = basemodel_outputs.iloc[id][f'{aspect}_label']\n",
    "        row_data['finetuning_rationale'] = finetuning_outputs.iloc[id][f'{aspect}_rationale']\n",
    "        row_data['basemodel_rationale'] = basemodel_outputs.iloc[id][f'{aspect}_rationale']\n",
    "        row_data['correct_finetuning_label']  = True\n",
    "        row_data['human_finetuning_rationale_score'] = ''\n",
    "        row_data['human_basemodel_raionale_score'] = ''\n",
    "        row_data['Notes'] = ''\n",
    "        row_data['id'] = id\n",
    "        final_data[aspect].append(row_data)\n",
    "    for id in chosen_data[aspect]['incorrect']:\n",
    "        row_data = gold_data[aspect].iloc[id].copy()\n",
    "        row_data['finetuning_label'] = finetuning_outputs.iloc[id][f'{aspect}_label']\n",
    "        row_data['basemodel_label'] = basemodel_outputs.iloc[id][f'{aspect}_label']\n",
    "        row_data['finetuning_rationale'] = finetuning_outputs.iloc[id][f'{aspect}_rationale']\n",
    "        row_data['basemodel_rationale'] = basemodel_outputs.iloc[id][f'{aspect}_rationale']\n",
    "        row_data['correct_finetuning_label']  = False\n",
    "        row_data['human_finetuning_rationale_score'] = ''\n",
    "        row_data['human_basemodel_raionale_score'] = ''\n",
    "        row_data['Notes'] = ''\n",
    "        row_data['id'] = id\n",
    "        final_data[aspect].append(row_data)    "
   ]
  },
  {
   "cell_type": "code",
   "execution_count": 20,
   "metadata": {},
   "outputs": [],
   "source": [
    "## convert final_data to pandas dataframe and save them into a excel file\n",
    "final_data = {k: pd.DataFrame(v) for k,v in final_data.items()}\n",
    "with pd.ExcelWriter('finetuning_vs_basemodel_comparison.xlsx') as writer:\n",
    "    for aspect in aspects:\n",
    "        final_data[aspect].to_excel(writer, sheet_name=aspect, index=False)\n",
    "        "
   ]
  },
  {
   "cell_type": "code",
   "execution_count": null,
   "metadata": {},
   "outputs": [],
   "source": []
  }
 ],
 "metadata": {
  "kernelspec": {
   "display_name": "Python 3",
   "language": "python",
   "name": "python3"
  },
  "language_info": {
   "codemirror_mode": {
    "name": "ipython",
    "version": 3
   },
   "file_extension": ".py",
   "mimetype": "text/x-python",
   "name": "python",
   "nbconvert_exporter": "python",
   "pygments_lexer": "ipython3",
   "version": "3.10.16"
  }
 },
 "nbformat": 4,
 "nbformat_minor": 2
}
