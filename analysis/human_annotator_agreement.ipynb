{
 "cells": [
  {
   "cell_type": "code",
   "execution_count": 6,
   "metadata": {},
   "outputs": [],
   "source": [
    "import pandas as pd\n",
    "import numpy as np\n",
    "import sys\n",
    "import os\n",
    "import json\n",
    "import datasets\n",
    "parent_dir = os.path.abspath(os.path.join(os.getcwd(), \"..\"))\n",
    "sys.path.append(parent_dir)\n",
    "import krippendorff\n",
    "\n",
    "from utils import *\n",
    "\n",
    "aspects = [ 'actionability', 'grounding_specificity', 'verifiability', 'helpfulness']\n",
    "\n",
    "human_data = datasets.load_dataset('boda/review_evaluation_human_annotation', 'combined_main_aspects', split = 'full').to_pandas()\n",
    "\n",
    "\n",
    "\n",
    "TYPE = \"all\"\n",
    "\n",
    "# labels = pd.re{ad_csv('/home/abdelrahman.sadallah/mbzuai/review_rewrite/data/human_annotation_gathered/all_human_annotations_processed.csv')\n",
    "# human_data = {}\n",
    "# for aspect in aspects:\n",
    "#     human_data[aspect] = []\n",
    "#     for conf in ['gold','silver', 'hard']:\n",
    "#         raw_data = datasets.load_dataset('boda/review_evaluation_human_annotation', aspect, split=conf).to_pandas()\n",
    "#         human_data[aspect].append(raw_data)\n",
    "\n",
    "#     human_data[aspect] = pd.concat(human_data[aspect])\n",
    "\n",
    "#     print(len(human_data))\n"
   ]
  },
  {
   "cell_type": "code",
   "execution_count": 7,
   "metadata": {},
   "outputs": [
    {
     "data": {
      "text/plain": [
       "Index(['review_point', 'paper_id', 'venue', 'focused_review', 'batch',\n",
       "       'actionability', 'actionability_label', 'actionability_label_type',\n",
       "       'id', 'grounding_specificity', 'grounding_specificity_label',\n",
       "       'grounding_specificity_label_type', 'verifiability',\n",
       "       'verifiability_label', 'verifiability_label_type', 'helpfulness',\n",
       "       'helpfulness_label', 'helpfulness_label_type'],\n",
       "      dtype='object')"
      ]
     },
     "execution_count": 7,
     "metadata": {},
     "output_type": "execute_result"
    }
   ],
   "source": [
    "human_data.columns"
   ]
  },
  {
   "cell_type": "code",
   "execution_count": 8,
   "metadata": {},
   "outputs": [],
   "source": [
    "def process_stat_dict(stat_dict):\n",
    "    processed_stat_dict = {}\n",
    "    for k, v in stat_dict.items():\n",
    "        if 'accuracy' in k:\n",
    "            continue\n",
    "        if 'spearman' in k or 'pearson' in k or 'tau' in k:\n",
    "\n",
    "            v = v[0] if isinstance(v, tuple) else v\n",
    "        if isinstance(v, float):\n",
    "            v = round(v, 3)\n",
    "        processed_stat_dict[k] = v\n",
    "\n",
    "    return processed_stat_dict"
   ]
  },
  {
   "cell_type": "code",
   "execution_count": 14,
   "metadata": {},
   "outputs": [
    {
     "name": "stdout",
     "output_type": "stream",
     "text": [
      "not valid points for actionability is 0\n",
      "not valid points for grounding_specificity is 0\n",
      "not valid points for verifiability is 0\n",
      "not valid points for helpfulness is 0\n"
     ]
    }
   ],
   "source": [
    "final_data = {\n",
    "}\n",
    "\n",
    "\n",
    "for aspect in aspects:\n",
    "    not_valid_points = 0\n",
    "    final_data[aspect] = {\n",
    "          'boda' : [],\n",
    "    '6686ebe474531e4a1975636f' : [],\n",
    "    '6740484e188a64793529ee77' : [],\n",
    "    }\n",
    "\n",
    "    ### only take the non hard data\n",
    "    # aspect_data = human_data[human_data[f'{aspect}_label_type'] != 'hard']\n",
    "    aspect_data = human_data\n",
    "    \n",
    "    for i, row in aspect_data.iterrows():\n",
    "        # data = row[aspect].replace(\"'\", \"\\\"\")\n",
    "        data = row[aspect]\n",
    "        # data = json.loads(data)\n",
    "        labels = data['labels']\n",
    "        annotators = data['annotators']\n",
    "        for label, annotator in zip(labels, annotators):\n",
    "            found = False\n",
    "            if len(annotators) != 3:\n",
    "                not_valid_points += 1\n",
    "                continue\n",
    "            ## search for the annotator in the unique id map\n",
    "\n",
    "            final_data[aspect][annotator].append(label)\n",
    "\n",
    "               \n",
    "    print(f'not valid points for {aspect} is {not_valid_points}')\n",
    "        \n"
   ]
  },
  {
   "cell_type": "code",
   "execution_count": 15,
   "metadata": {},
   "outputs": [
    {
     "name": "stdout",
     "output_type": "stream",
     "text": [
      "Aspect: actionability\n",
      "Number of data points: 1430\n",
      "Aspect: grounding_specificity\n",
      "Number of data points: 1430\n"
     ]
    },
    {
     "name": "stdout",
     "output_type": "stream",
     "text": [
      "Aspect: verifiability\n",
      "Number of data points: 1430\n",
      "Aspect: helpfulness\n",
      "Number of data points: 1430\n"
     ]
    }
   ],
   "source": [
    "prinaple_name = {\n",
    "    'boda' : 'boda',\n",
    "    '6686ebe474531e4a1975636f' : 'Annotator_X',\n",
    "    '6740484e188a64793529ee77' : 'Annotator_Y',\n",
    "}\n",
    "\n",
    "with open(f'outputs/human_annotators_agreement_{TYPE}.txt', 'w') as f:\n",
    "\n",
    "    for aspect in aspects:\n",
    "        \n",
    "        ## calculate the agreement between each pair of annotators\n",
    "        annotators = ['boda', '6686ebe474531e4a1975636f', '6740484e188a64793529ee77']\n",
    "        print(f'Aspect: {aspect}')\n",
    "        print(f'Number of data points: {len(final_data[aspect][annotators[0]])}')\n",
    "\n",
    "        f.write(f'Aspect: {aspect}\\n')\n",
    "        f.write(f'Number of data points: {len(final_data[aspect][annotators[0]])}\\n')\n",
    "        f.write(f'===================== PAIRWISE AGREEMENT =====================\\n')\n",
    "\n",
    "        aspect_average_results = {}\n",
    "        for i in range(len(annotators)):\n",
    "            for j in range(i+1, len(annotators)):\n",
    "                annotator1 = annotators[i]\n",
    "                annotator2 = annotators[j]\n",
    "\n",
    "                if annotator1 == annotator2:\n",
    "                    continue\n",
    "                data1 = final_data[aspect][annotator1]\n",
    "                data2 = final_data[aspect][annotator2]\n",
    "\n",
    "                annotator1 = prinaple_name[annotator1]\n",
    "                annotator2 = prinaple_name[annotator2]\n",
    "\n",
    "                agreement = process_stat_dict(get_stats(data1, data2, aspect))\n",
    "\n",
    "                for key in agreement:\n",
    "\n",
    "                    if key not in aspect_average_results.keys():\n",
    "                        aspect_average_results[key] = 0.0\n",
    "                    aspect_average_results[key] += agreement[key]\n",
    "\n",
    "                f.write(f'Annotator 1: {prinaple_name[annotators[i]]}\\n')\n",
    "                f.write(f'Annotator 2: {prinaple_name[annotators[j]]}\\n')\n",
    "                f.write(json.dumps(agreement, indent=4))\n",
    "                f.write('\\n\\n')\n",
    "            \n",
    "        for key in aspect_average_results:\n",
    "            aspect_average_results[key] /= 3\n",
    "\n",
    "        aspect_average_results =  process_stat_dict(aspect_average_results)\n",
    "        \n",
    "        ## calcuate krippendorff's alpha\n",
    "\n",
    "        annotators_labels = [\n",
    "            [int(label) if label != \"X\" else 0 for label in final_data[aspect][annotator]]\n",
    "            for annotator in annotators\n",
    "        ]\n",
    "        alpha  = krippendorff.alpha(annotators_labels,level_of_measurement='ordinal')\n",
    "\n",
    "        f.write(f'===================== AVERAGE AGREEMENT =====================\\n')\n",
    "        f.write(json.dumps(aspect_average_results, indent=4))\n",
    "        f.write(f'Krippendorff\\'s alpha: {alpha}')\n",
    "        f.write('\\n\\n')\n",
    "        f.write('============================================================\\n\\n')\n",
    "\n",
    "\n",
    "        \n",
    "\n",
    "\n"
   ]
  }
 ],
 "metadata": {
  "kernelspec": {
   "display_name": "Python 3",
   "language": "python",
   "name": "python3"
  },
  "language_info": {
   "codemirror_mode": {
    "name": "ipython",
    "version": 3
   },
   "file_extension": ".py",
   "mimetype": "text/x-python",
   "name": "python",
   "nbconvert_exporter": "python",
   "pygments_lexer": "ipython3",
   "version": "3.10.14"
  }
 },
 "nbformat": 4,
 "nbformat_minor": 2
}
