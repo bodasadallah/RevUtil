{
 "cells": [
  {
   "cell_type": "code",
   "execution_count": 49,
   "metadata": {},
   "outputs": [],
   "source": [
    "import pandas as pd\n",
    "import datasets\n",
    "import sys\n",
    "import os\n",
    "import json\n",
    "parent_dir = os.path.abspath(os.path.join(os.getcwd(), \"..\"))\n",
    "sys.path.append(parent_dir)\n",
    "import utils\n",
    "aspects = [ 'actionability', 'grounding_specificity', 'verifiability', 'helpfulness']\n",
    "\n",
    "# Load the dataset\n",
    "data_1 = pd.read_excel('../chatgpt/outputs/main_data_batch_1_results.xlsx', sheet_name=None)\n",
    "data_2 = pd.read_excel('../chatgpt/outputs/main_data_batch_2_results.xlsx', sheet_name=None)\n",
    "data_3 = pd.read_excel('../chatgpt/outputs/main_data_batch_3_results.xlsx', sheet_name=None)\n",
    "data_4 = pd.read_excel('../chatgpt/outputs/main_data_batch_4_results.xlsx', sheet_name=None)\n",
    "\n",
    "data =  {}\n",
    "\n",
    "### combine the two batches\n",
    "for key in data_1.keys():\n",
    "    if key in data_2.keys() and key in data_3.keys() and key in data_4.keys():\n",
    "        data[key] = pd.concat([data_1[key], data_2[key], data_3[key], data_4[key]])\n",
    "    elif key in data_2.keys() and key in data_3.keys():\n",
    "        data[key] = pd.concat([data_1[key], data_2[key], data_3[key]])\n",
    "        \n",
    "\n",
    "## remove the verifiability_extraction sheet\n",
    "data.pop('verifiability_extraction')\n",
    "\n",
    "## Remove entries that has NA in the score or rationale columns\n",
    "for key in data.keys():\n",
    "    score = f'chatgpt_{key}_rationale'\n",
    "    ratioanele = f'chatgpt_{key}_rationale'\n",
    "    data[key] = data[key].dropna(subset=[score, ratioanele])\n",
    "    "
   ]
  },
  {
   "cell_type": "code",
   "execution_count": 47,
   "metadata": {},
   "outputs": [],
   "source": [
    "# ## take rpoints that are in all keys but not in helpfullness\n",
    "# rpoints = set(data['actionability']['review_point'])\n",
    "# for key in data.keys():\n",
    "#     if key != 'helpfulness':\n",
    "#         rpoints = rpoints.intersection(set(data[key]['review_point']))\n",
    "# print(f\"Number of review points: {len(rpoints)}\")\n",
    "\n",
    "# ## remove helpfulness points from rpoints\n",
    "# rpoints = rpoints - set(data['helpfulness']['review_point'])\n",
    "\n",
    "# dd = data['actionability'][data['actionability']['review_point'].isin(rpoints)][:50]\n",
    "\n",
    "# print(f\"Number of review points: {len(dd)}\")\n",
    "\n",
    "# dd.to_excel('/home/abdelrahman.sadallah/mbzuai/review_rewrite/chatgpt/main_data/batches/batch_4.xlsx', sheet_name='helpfulness', index=False)\n"
   ]
  },
  {
   "cell_type": "code",
   "execution_count": 50,
   "metadata": {},
   "outputs": [],
   "source": [
    "for aspect in aspects:\n",
    "    data[aspect] = data[aspect].drop_duplicates(subset=['review_point'], keep='first')\n",
    "\n",
    "# Step 1: Find common review points across all dataframes\n",
    "rpoints = set(data['helpfulness']['review_point'])  # Start with one aspect\n",
    "for key in data.keys():\n",
    "    rpoints &= set(data[key]['review_point'])  # Keep only review points that exist in all dataframes\n",
    "\n",
    "# Step 2: Filter dataframes to keep only common review points\n",
    "for key in data.keys():\n",
    "    data[key] = data[key][data[key]['review_point'].isin(rpoints)]  # Filter to common review points\n",
    "\n",
    "# Step 3: Sort and reset index to ensure order is consistent\n",
    "for key in data.keys():\n",
    "    data[key] = data[key].sort_values(by='review_point').reset_index(drop=True)  # Sort and reset index\n",
    "\n",
    "# Step 4: Use 'helpfulness' as a reference to pick the final 10,000 review points\n",
    "selected_review_points = data['helpfulness']['review_point'][:10000].tolist()  # Fixed reference set\n",
    "\n",
    "# Step 5: Filter all dataframes to include only these exact review points and enforce the same order\n",
    "for key in data.keys():\n",
    "    data[key] = data[key][data[key]['review_point'].isin(selected_review_points)]  # Filter for consistency\n",
    "    data[key] = data[key].sort_values(by='review_point').reset_index(drop=True)  # Final sorting\n",
    "\n",
    "# Step 6: Validate alignment with assertions\n",
    "for i, row in data['actionability'].iterrows():\n",
    "    for aspect in data.keys():\n",
    "        assert row['review_point'] == data[aspect].iloc[i]['review_point'], f\"Mismatch at index {i} in aspect {aspect}\"\n"
   ]
  },
  {
   "cell_type": "code",
   "execution_count": 51,
   "metadata": {},
   "outputs": [],
   "source": [
    "### make sure the data is in the same order\n",
    "for i,row in data['actionability'].iterrows():\n",
    "    for aspect in aspects:\n",
    "        \n",
    "        assert row['review_point'] == data[aspect].iloc[i]['review_point']"
   ]
  },
  {
   "cell_type": "code",
   "execution_count": 52,
   "metadata": {},
   "outputs": [
    {
     "name": "stdout",
     "output_type": "stream",
     "text": [
      "helpfulness\n",
      "10000\n",
      "actionability\n",
      "10000\n",
      "grounding_specificity\n",
      "10000\n",
      "verifiability\n",
      "10000\n"
     ]
    }
   ],
   "source": [
    "for key in data.keys():\n",
    "    print(key)\n",
    "    print(len(data[key]))"
   ]
  },
  {
   "cell_type": "code",
   "execution_count": 67,
   "metadata": {},
   "outputs": [
    {
     "data": {
      "application/vnd.jupyter.widget-view+json": {
       "model_id": "579c661df42d4ef9a5defc2dc174dde9",
       "version_major": 2,
       "version_minor": 0
      },
      "text/plain": [
       "Uploading the dataset shards:   0%|          | 0/1 [00:00<?, ?it/s]"
      ]
     },
     "metadata": {},
     "output_type": "display_data"
    },
    {
     "data": {
      "application/vnd.jupyter.widget-view+json": {
       "model_id": "2b3c0cd57f024c169d82def2925f4510",
       "version_major": 2,
       "version_minor": 0
      },
      "text/plain": [
       "Creating parquet from Arrow format:   0%|          | 0/9 [00:00<?, ?ba/s]"
      ]
     },
     "metadata": {},
     "output_type": "display_data"
    },
    {
     "data": {
      "application/vnd.jupyter.widget-view+json": {
       "model_id": "6a440802c34849efbecaa2f37dd8d276",
       "version_major": 2,
       "version_minor": 0
      },
      "text/plain": [
       "Uploading the dataset shards:   0%|          | 0/1 [00:00<?, ?it/s]"
      ]
     },
     "metadata": {},
     "output_type": "display_data"
    },
    {
     "data": {
      "application/vnd.jupyter.widget-view+json": {
       "model_id": "e1e6d21b94164c3abd91c63f8a4765b9",
       "version_major": 2,
       "version_minor": 0
      },
      "text/plain": [
       "Creating parquet from Arrow format:   0%|          | 0/1 [00:00<?, ?ba/s]"
      ]
     },
     "metadata": {},
     "output_type": "display_data"
    },
    {
     "data": {
      "application/vnd.jupyter.widget-view+json": {
       "model_id": "d4883e8e2b594662b86889b4bbac4f7f",
       "version_major": 2,
       "version_minor": 0
      },
      "text/plain": [
       "README.md:   0%|          | 0.00/4.08k [00:00<?, ?B/s]"
      ]
     },
     "metadata": {},
     "output_type": "display_data"
    },
    {
     "data": {
      "application/vnd.jupyter.widget-view+json": {
       "model_id": "38206aa3bcb441fb94460ba9af3d112d",
       "version_major": 2,
       "version_minor": 0
      },
      "text/plain": [
       "Uploading the dataset shards:   0%|          | 0/1 [00:00<?, ?it/s]"
      ]
     },
     "metadata": {},
     "output_type": "display_data"
    },
    {
     "data": {
      "application/vnd.jupyter.widget-view+json": {
       "model_id": "f49c497a7ca74c609438f962fcf89885",
       "version_major": 2,
       "version_minor": 0
      },
      "text/plain": [
       "Creating parquet from Arrow format:   0%|          | 0/9 [00:00<?, ?ba/s]"
      ]
     },
     "metadata": {},
     "output_type": "display_data"
    },
    {
     "data": {
      "application/vnd.jupyter.widget-view+json": {
       "model_id": "13fe7b62fc6c494dabc737fb57a1d6be",
       "version_major": 2,
       "version_minor": 0
      },
      "text/plain": [
       "Uploading the dataset shards:   0%|          | 0/1 [00:00<?, ?it/s]"
      ]
     },
     "metadata": {},
     "output_type": "display_data"
    },
    {
     "data": {
      "application/vnd.jupyter.widget-view+json": {
       "model_id": "00c8ebaec74f4524b2f5811d9315ce0a",
       "version_major": 2,
       "version_minor": 0
      },
      "text/plain": [
       "Creating parquet from Arrow format:   0%|          | 0/1 [00:00<?, ?ba/s]"
      ]
     },
     "metadata": {},
     "output_type": "display_data"
    },
    {
     "data": {
      "application/vnd.jupyter.widget-view+json": {
       "model_id": "5e51b2830b6c4a4f92ab2557e18debcb",
       "version_major": 2,
       "version_minor": 0
      },
      "text/plain": [
       "README.md:   0%|          | 0.00/4.04k [00:00<?, ?B/s]"
      ]
     },
     "metadata": {},
     "output_type": "display_data"
    },
    {
     "data": {
      "application/vnd.jupyter.widget-view+json": {
       "model_id": "fb97f77f9ca640f3aa8c9afebd2fdf27",
       "version_major": 2,
       "version_minor": 0
      },
      "text/plain": [
       "Uploading the dataset shards:   0%|          | 0/1 [00:00<?, ?it/s]"
      ]
     },
     "metadata": {},
     "output_type": "display_data"
    },
    {
     "data": {
      "application/vnd.jupyter.widget-view+json": {
       "model_id": "966c3924d8774facb7fc017ee7b90812",
       "version_major": 2,
       "version_minor": 0
      },
      "text/plain": [
       "Creating parquet from Arrow format:   0%|          | 0/9 [00:00<?, ?ba/s]"
      ]
     },
     "metadata": {},
     "output_type": "display_data"
    },
    {
     "data": {
      "application/vnd.jupyter.widget-view+json": {
       "model_id": "0833059e04bc4002aa5a75753b62d17d",
       "version_major": 2,
       "version_minor": 0
      },
      "text/plain": [
       "Uploading the dataset shards:   0%|          | 0/1 [00:00<?, ?it/s]"
      ]
     },
     "metadata": {},
     "output_type": "display_data"
    },
    {
     "data": {
      "application/vnd.jupyter.widget-view+json": {
       "model_id": "9be155403ca54124af95f12ba6bb27c2",
       "version_major": 2,
       "version_minor": 0
      },
      "text/plain": [
       "Creating parquet from Arrow format:   0%|          | 0/1 [00:00<?, ?ba/s]"
      ]
     },
     "metadata": {},
     "output_type": "display_data"
    },
    {
     "data": {
      "application/vnd.jupyter.widget-view+json": {
       "model_id": "f8609902e5d84c41a0966ac2ee006208",
       "version_major": 2,
       "version_minor": 0
      },
      "text/plain": [
       "README.md:   0%|          | 0.00/4.00k [00:00<?, ?B/s]"
      ]
     },
     "metadata": {},
     "output_type": "display_data"
    },
    {
     "data": {
      "application/vnd.jupyter.widget-view+json": {
       "model_id": "93f97b0f2fc54d528b1c6310ef5362fa",
       "version_major": 2,
       "version_minor": 0
      },
      "text/plain": [
       "Uploading the dataset shards:   0%|          | 0/1 [00:00<?, ?it/s]"
      ]
     },
     "metadata": {},
     "output_type": "display_data"
    },
    {
     "data": {
      "application/vnd.jupyter.widget-view+json": {
       "model_id": "e4a21695b10c45fb97a14cdde80a429b",
       "version_major": 2,
       "version_minor": 0
      },
      "text/plain": [
       "Creating parquet from Arrow format:   0%|          | 0/9 [00:00<?, ?ba/s]"
      ]
     },
     "metadata": {},
     "output_type": "display_data"
    },
    {
     "data": {
      "application/vnd.jupyter.widget-view+json": {
       "model_id": "3bb73b66098c40f2a0ea1ed626b6a70f",
       "version_major": 2,
       "version_minor": 0
      },
      "text/plain": [
       "Uploading the dataset shards:   0%|          | 0/1 [00:00<?, ?it/s]"
      ]
     },
     "metadata": {},
     "output_type": "display_data"
    },
    {
     "data": {
      "application/vnd.jupyter.widget-view+json": {
       "model_id": "67f48ac686774daa94a59f49b1c3e3eb",
       "version_major": 2,
       "version_minor": 0
      },
      "text/plain": [
       "Creating parquet from Arrow format:   0%|          | 0/1 [00:00<?, ?ba/s]"
      ]
     },
     "metadata": {},
     "output_type": "display_data"
    },
    {
     "data": {
      "application/vnd.jupyter.widget-view+json": {
       "model_id": "23c244cbcf834a679c7ba7975bc8bf90",
       "version_major": 2,
       "version_minor": 0
      },
      "text/plain": [
       "README.md:   0%|          | 0.00/3.96k [00:00<?, ?B/s]"
      ]
     },
     "metadata": {},
     "output_type": "display_data"
    }
   ],
   "source": [
    "### convert the df to dataset and store for each aspect\n",
    "for aspect in data.keys():\n",
    "\n",
    "    data[aspect] = data[aspect].drop(columns=['prompt'])\n",
    "\n",
    "\n",
    "    dataset = datasets.Dataset.from_pandas(data[aspect]).train_test_split(test_size=0.1)\n",
    "    ## add new column for the prompt do in sepratately for th train and test\n",
    "    \n",
    "    # dataset['train'] = dataset['train'].map(lambda x: {'prompt': utils.get_prompt(x, aspect, task='train',generation_type='score_only')})\n",
    "    # dataset['test'] = dataset['test'].map(lambda x: {'prompt': utils.get_prompt(x, aspect, task='test',generation_type='score_only')})\n",
    "    dataset.push_to_hub(f'boda/review_evaluation_automatic_labels',config_name=aspect )\n",
    "    \n",
    "\n",
    "\n"
   ]
  },
  {
   "cell_type": "code",
   "execution_count": 69,
   "metadata": {},
   "outputs": [
    {
     "data": {
      "application/vnd.jupyter.widget-view+json": {
       "model_id": "069614005e6f415eac3beebd2f617fd3",
       "version_major": 2,
       "version_minor": 0
      },
      "text/plain": [
       "Uploading the dataset shards:   0%|          | 0/1 [00:00<?, ?it/s]"
      ]
     },
     "metadata": {},
     "output_type": "display_data"
    },
    {
     "data": {
      "application/vnd.jupyter.widget-view+json": {
       "model_id": "4a05636758584eaabb26f3cd0c693575",
       "version_major": 2,
       "version_minor": 0
      },
      "text/plain": [
       "Creating parquet from Arrow format:   0%|          | 0/9 [00:00<?, ?ba/s]"
      ]
     },
     "metadata": {},
     "output_type": "display_data"
    },
    {
     "data": {
      "application/vnd.jupyter.widget-view+json": {
       "model_id": "b2c1940426b947c7b6d79ca6a78ad0e1",
       "version_major": 2,
       "version_minor": 0
      },
      "text/plain": [
       "Uploading the dataset shards:   0%|          | 0/1 [00:00<?, ?it/s]"
      ]
     },
     "metadata": {},
     "output_type": "display_data"
    },
    {
     "data": {
      "application/vnd.jupyter.widget-view+json": {
       "model_id": "d4db64825376496a90918c921aabd2bc",
       "version_major": 2,
       "version_minor": 0
      },
      "text/plain": [
       "Creating parquet from Arrow format:   0%|          | 0/1 [00:00<?, ?ba/s]"
      ]
     },
     "metadata": {},
     "output_type": "display_data"
    },
    {
     "data": {
      "application/vnd.jupyter.widget-view+json": {
       "model_id": "bd8f5536f968419995c9a52c27512500",
       "version_major": 2,
       "version_minor": 0
      },
      "text/plain": [
       "README.md:   0%|          | 0.00/3.92k [00:00<?, ?B/s]"
      ]
     },
     "metadata": {},
     "output_type": "display_data"
    },
    {
     "data": {
      "text/plain": [
       "CommitInfo(commit_url='https://huggingface.co/datasets/boda/review_evaluation_automatic_labels/commit/45293ff015720cfce9138c2daae83155dc15c59c', commit_message='Upload dataset', commit_description='', oid='45293ff015720cfce9138c2daae83155dc15c59c', pr_url=None, repo_url=RepoUrl('https://huggingface.co/datasets/boda/review_evaluation_automatic_labels', endpoint='https://huggingface.co', repo_type='dataset', repo_id='boda/review_evaluation_automatic_labels'), pr_revision=None, pr_num=None)"
      ]
     },
     "execution_count": 69,
     "metadata": {},
     "output_type": "execute_result"
    }
   ],
   "source": [
    "\n",
    "merged_df = []\n",
    "\n",
    "### aggregate the different aspects in one dataset\n",
    "for i,row in data['actionability'].iterrows():\n",
    "    ## remove the prompt column\n",
    "    # row.pop('prompt')\n",
    "    failed = False\n",
    "    for aspect in data.keys():\n",
    "        if aspect == 'actionability':\n",
    "            continue\n",
    "        ### get the same row from the other aspects\n",
    "        ## make sure the row exist\n",
    "        if row['review_point'] not in data[aspect]['review_point'].values:\n",
    "            print(f'row {row[\"id\"]} not found in {aspect}')\n",
    "            ## ignore this row\n",
    "            failed = True\n",
    "            continue\n",
    "\n",
    "        aspect_row = data[aspect][data[aspect]['review_point'] == row['review_point']].iloc[0]\n",
    "        row[f'chatgpt_{aspect}_score'] = aspect_row[f'chatgpt_{aspect}_score']\n",
    "        row[f'chatgpt_{aspect}_rationale'] = aspect_row[f'chatgpt_{aspect}_rationale']\n",
    "        ## if the score or rationale is none then ignore this row\n",
    "        if pd.isna(aspect_row[f'chatgpt_{aspect}_score']):\n",
    "            print(f'row {row[\"id\"]} has no score in {aspect}')\n",
    "            failed = True\n",
    "            continue\n",
    "        # row[f'{aspect}_prompt'] = aspect_row['prompt']\n",
    "    if not failed:\n",
    "        merged_df.append(row)\n",
    "    \n",
    "merged_df = pd.DataFrame(merged_df)\n",
    "\n",
    "\n",
    "## convert the df to dataset and push to hub\n",
    "dataset = datasets.Dataset.from_pandas(merged_df).train_test_split(test_size=0.1)\n",
    "## add new column for the prompt\n",
    "# dataset['train'] = dataset['train'].map(lambda x: {'prompt': utils.get_prompt(x, 'all', task='train',generation_type='score_only')})\n",
    "# dataset['test'] = dataset['test'].map(lambda x: {'prompt': utils.get_prompt(x, 'all', task='test',generation_type='score_only')})\n",
    "dataset.push_to_hub(f'boda/review_evaluation_automatic_labels',config_name='all' )"
   ]
  },
  {
   "cell_type": "code",
   "execution_count": 63,
   "metadata": {},
   "outputs": [
    {
     "name": "stdout",
     "output_type": "stream",
     "text": [
      "[2 5 3 4 1]\n",
      "[5 4 3 1 2]\n",
      "['X' '1' '3' '2' '4' '5']\n",
      "[3 2 4 1 5]\n"
     ]
    }
   ],
   "source": [
    "for aspect in aspects:\n",
    "    print(merged_df[f'chatgpt_{aspect}_score'].unique())\n",
    "\n",
    "### get the rows that has the nan values\n",
    "nan_rows = merged_df[merged_df.isna().any(axis=1)]\n"
   ]
  },
  {
   "cell_type": "code",
   "execution_count": 64,
   "metadata": {},
   "outputs": [
    {
     "data": {
      "text/html": [
       "<div>\n",
       "<style scoped>\n",
       "    .dataframe tbody tr th:only-of-type {\n",
       "        vertical-align: middle;\n",
       "    }\n",
       "\n",
       "    .dataframe tbody tr th {\n",
       "        vertical-align: top;\n",
       "    }\n",
       "\n",
       "    .dataframe thead th {\n",
       "        text-align: right;\n",
       "    }\n",
       "</style>\n",
       "<table border=\"1\" class=\"dataframe\">\n",
       "  <thead>\n",
       "    <tr style=\"text-align: right;\">\n",
       "      <th></th>\n",
       "      <th>paper_id</th>\n",
       "      <th>venue</th>\n",
       "      <th>focused_review</th>\n",
       "      <th>review_point</th>\n",
       "      <th>id</th>\n",
       "      <th>chatgpt_actionability_score</th>\n",
       "      <th>chatgpt_actionability_rationale</th>\n",
       "      <th>chatgpt_helpfulness_score</th>\n",
       "      <th>chatgpt_helpfulness_rationale</th>\n",
       "      <th>chatgpt_grounding_specificity_score</th>\n",
       "      <th>chatgpt_grounding_specificity_rationale</th>\n",
       "      <th>chatgpt_verifiability_score</th>\n",
       "      <th>chatgpt_verifiability_rationale</th>\n",
       "    </tr>\n",
       "  </thead>\n",
       "  <tbody>\n",
       "    <tr>\n",
       "      <th>820</th>\n",
       "      <td>ACL_2017_371_review</td>\n",
       "      <td>ACL_2017</td>\n",
       "      <td>NaN</td>\n",
       "      <td>- Also, regarding section 3.3, please cite app...</td>\n",
       "      <td>209</td>\n",
       "      <td>5</td>\n",
       "      <td>The review point explicitly instructs the auth...</td>\n",
       "      <td>4</td>\n",
       "      <td>The review comment provides specific and actio...</td>\n",
       "      <td>5</td>\n",
       "      <td>The comment is fully grounded as it explicitly...</td>\n",
       "      <td>X</td>\n",
       "      <td>The comment requests the citation of appropria...</td>\n",
       "    </tr>\n",
       "    <tr>\n",
       "      <th>1379</th>\n",
       "      <td>ACL_2017_193_review</td>\n",
       "      <td>ACL_2017</td>\n",
       "      <td>NaN</td>\n",
       "      <td>- How l(u) is chosen in case of several childr...</td>\n",
       "      <td>339</td>\n",
       "      <td>4</td>\n",
       "      <td>The review point raises a question about how \"...</td>\n",
       "      <td>3</td>\n",
       "      <td>The review comment identifies a specific area ...</td>\n",
       "      <td>2</td>\n",
       "      <td>The comment is not fully grounded as it does n...</td>\n",
       "      <td>X</td>\n",
       "      <td>The review point consists of a request for cla...</td>\n",
       "    </tr>\n",
       "    <tr>\n",
       "      <th>1711</th>\n",
       "      <td>ACL_2017_193_review</td>\n",
       "      <td>ACL_2017</td>\n",
       "      <td>NaN</td>\n",
       "      <td>- In the converted graphs in figure 4, some ed...</td>\n",
       "      <td>343</td>\n",
       "      <td>5</td>\n",
       "      <td>The review point identifies a specific issue w...</td>\n",
       "      <td>5</td>\n",
       "      <td>The review comment provides specific and actio...</td>\n",
       "      <td>5</td>\n",
       "      <td>The comment is fully grounded as it explicitly...</td>\n",
       "      <td>3</td>\n",
       "      <td>The review point claims that some edges in the...</td>\n",
       "    </tr>\n",
       "    <tr>\n",
       "      <th>1939</th>\n",
       "      <td>ACL_2017_371_review</td>\n",
       "      <td>ACL_2017</td>\n",
       "      <td>NaN</td>\n",
       "      <td>- It's because if the largest phrase length is...</td>\n",
       "      <td>126</td>\n",
       "      <td>1</td>\n",
       "      <td>The review point describes a potential simplif...</td>\n",
       "      <td>2</td>\n",
       "      <td>The review comment attempts to provide an insi...</td>\n",
       "      <td>1</td>\n",
       "      <td>The comment discusses a potential simplificati...</td>\n",
       "      <td>X</td>\n",
       "      <td>The comment provides an explanation of how a m...</td>\n",
       "    </tr>\n",
       "    <tr>\n",
       "      <th>1946</th>\n",
       "      <td>ACL_2017_371_review</td>\n",
       "      <td>ACL_2017</td>\n",
       "      <td>NaN</td>\n",
       "      <td>- It's not true that the pRNN outperforms both...</td>\n",
       "      <td>199</td>\n",
       "      <td>5</td>\n",
       "      <td>The review point provides explicit instruction...</td>\n",
       "      <td>5</td>\n",
       "      <td>The review comment provides clear and actionab...</td>\n",
       "      <td>5</td>\n",
       "      <td>The comment is fully grounded as it explicitly...</td>\n",
       "      <td>4</td>\n",
       "      <td>The review point challenges the claim that the...</td>\n",
       "    </tr>\n",
       "    <tr>\n",
       "      <th>2955</th>\n",
       "      <td>ACL_2017_371_review</td>\n",
       "      <td>ACL_2017</td>\n",
       "      <td>NaN</td>\n",
       "      <td>- The evaluation on PTB (table 2) isn't a fair...</td>\n",
       "      <td>372</td>\n",
       "      <td>3</td>\n",
       "      <td>The review point highlights a potential issue ...</td>\n",
       "      <td>3</td>\n",
       "      <td>The review comment identifies a critical issue...</td>\n",
       "      <td>5</td>\n",
       "      <td>The comment is fully grounded as it explicitly...</td>\n",
       "      <td>4</td>\n",
       "      <td>The review point claims that the evaluation on...</td>\n",
       "    </tr>\n",
       "    <tr>\n",
       "      <th>3932</th>\n",
       "      <td>ACL_2017_193_review</td>\n",
       "      <td>ACL_2017</td>\n",
       "      <td>NaN</td>\n",
       "      <td>- While it is very complete to provide the pre...</td>\n",
       "      <td>131</td>\n",
       "      <td>4</td>\n",
       "      <td>The review point suggests two actions: first, ...</td>\n",
       "      <td>4</td>\n",
       "      <td>The review comment provides actionable feedbac...</td>\n",
       "      <td>3</td>\n",
       "      <td>The comment suggests including an informal des...</td>\n",
       "      <td>3</td>\n",
       "      <td>The review point suggests that the paper would...</td>\n",
       "    </tr>\n",
       "    <tr>\n",
       "      <th>4362</th>\n",
       "      <td>ICLR_2022_2956</td>\n",
       "      <td>ICLR_2022</td>\n",
       "      <td>NaN</td>\n",
       "      <td>1) Is there any fundamental problem with dropo...</td>\n",
       "      <td>3027</td>\n",
       "      <td>2</td>\n",
       "      <td>The review point poses several questions regar...</td>\n",
       "      <td>2</td>\n",
       "      <td>The comment raises questions about the use of ...</td>\n",
       "      <td>3</td>\n",
       "      <td>The comment raises questions about the use of ...</td>\n",
       "      <td>X</td>\n",
       "      <td>The review point consists of questions asking ...</td>\n",
       "    </tr>\n",
       "    <tr>\n",
       "      <th>4396</th>\n",
       "      <td>NIPS_2018_45</td>\n",
       "      <td>NIPS_2018</td>\n",
       "      <td>NaN</td>\n",
       "      <td>1) Section 4.3 (roughly L267-270) briefly expl...</td>\n",
       "      <td>6188</td>\n",
       "      <td>3</td>\n",
       "      <td>The review point raises questions about the co...</td>\n",
       "      <td>3</td>\n",
       "      <td>The review comment highlights a specific secti...</td>\n",
       "      <td>5</td>\n",
       "      <td>The comment is fully grounded as it explicitly...</td>\n",
       "      <td>X</td>\n",
       "      <td>The review point consists of inquiries about t...</td>\n",
       "    </tr>\n",
       "    <tr>\n",
       "      <th>4424</th>\n",
       "      <td>ICLR_2022_2956</td>\n",
       "      <td>ICLR_2022</td>\n",
       "      <td>NaN</td>\n",
       "      <td>1) The hyperparameter tuning procedure seems p...</td>\n",
       "      <td>3140</td>\n",
       "      <td>3</td>\n",
       "      <td>The review point identifies a potential issue ...</td>\n",
       "      <td>4</td>\n",
       "      <td>The review comment identifies a critical issue...</td>\n",
       "      <td>5</td>\n",
       "      <td>The comment is fully grounded as it provides s...</td>\n",
       "      <td>4</td>\n",
       "      <td>The review comment raises a concern about the ...</td>\n",
       "    </tr>\n",
       "    <tr>\n",
       "      <th>5716</th>\n",
       "      <td>NIPS_2020_1180</td>\n",
       "      <td>NIPS_2020</td>\n",
       "      <td>NaN</td>\n",
       "      <td>1. Universal Texture Synthesis: The paper clai...</td>\n",
       "      <td>7302</td>\n",
       "      <td>1</td>\n",
       "      <td>The comment critiques the claim of universal t...</td>\n",
       "      <td>3</td>\n",
       "      <td>The review comment challenges the paper's clai...</td>\n",
       "      <td>5</td>\n",
       "      <td>The comment is fully grounded as it explicitly...</td>\n",
       "      <td>4</td>\n",
       "      <td>The review point challenges the claim of \"univ...</td>\n",
       "    </tr>\n",
       "    <tr>\n",
       "      <th>5796</th>\n",
       "      <td>ICLR_2021_342</td>\n",
       "      <td>ICLR_2021</td>\n",
       "      <td>NaN</td>\n",
       "      <td>1. “GSGN is a general framework for representi...</td>\n",
       "      <td>2328</td>\n",
       "      <td>4</td>\n",
       "      <td>The comment questions the claim that \"GSGN is ...</td>\n",
       "      <td>4</td>\n",
       "      <td>The review comment questions the claim that GS...</td>\n",
       "      <td>3</td>\n",
       "      <td>The comment questions the claim that \"GSGN is ...</td>\n",
       "      <td>3</td>\n",
       "      <td>The review point challenges the claim that \"GS...</td>\n",
       "    </tr>\n",
       "    <tr>\n",
       "      <th>6040</th>\n",
       "      <td>ICLR_2022_2956</td>\n",
       "      <td>ICLR_2022</td>\n",
       "      <td>NaN</td>\n",
       "      <td>2) Figure 8: Could you give an explanation why...</td>\n",
       "      <td>2875</td>\n",
       "      <td>2</td>\n",
       "      <td>The review point raises a question about Figur...</td>\n",
       "      <td>3</td>\n",
       "      <td>The review comment raises a specific question ...</td>\n",
       "      <td>5</td>\n",
       "      <td>The comment is fully grounded as it explicitly...</td>\n",
       "      <td>X</td>\n",
       "      <td>The comment is primarily a request for clarifi...</td>\n",
       "    </tr>\n",
       "    <tr>\n",
       "      <th>6076</th>\n",
       "      <td>NIPS_2018_553</td>\n",
       "      <td>NIPS_2018</td>\n",
       "      <td>NaN</td>\n",
       "      <td>2) It is not clear if the method would perform...</td>\n",
       "      <td>6501</td>\n",
       "      <td>2</td>\n",
       "      <td>The comment raises a concern about the general...</td>\n",
       "      <td>3</td>\n",
       "      <td>The review point raises a concern about the ge...</td>\n",
       "      <td>2</td>\n",
       "      <td>The comment raises a concern about the general...</td>\n",
       "      <td>X</td>\n",
       "      <td>The review point questions the generalizabilit...</td>\n",
       "    </tr>\n",
       "    <tr>\n",
       "      <th>6101</th>\n",
       "      <td>NIPS_2018_45</td>\n",
       "      <td>NIPS_2018</td>\n",
       "      <td>NaN</td>\n",
       "      <td>2) Presentation. Although the approach is clea...</td>\n",
       "      <td>6120</td>\n",
       "      <td>3</td>\n",
       "      <td>The review point highlights a missing discussi...</td>\n",
       "      <td>3</td>\n",
       "      <td>The review comment acknowledges that the appro...</td>\n",
       "      <td>3</td>\n",
       "      <td>The comment addresses the presentation of the ...</td>\n",
       "      <td>3</td>\n",
       "      <td>The review point raises a claim that the paper...</td>\n",
       "    </tr>\n",
       "    <tr>\n",
       "      <th>6120</th>\n",
       "      <td>ICLR_2022_2956</td>\n",
       "      <td>ICLR_2022</td>\n",
       "      <td>NaN</td>\n",
       "      <td>2) The authors aim to address the overfitting ...</td>\n",
       "      <td>2827</td>\n",
       "      <td>4</td>\n",
       "      <td>The review comment questions the authors' deci...</td>\n",
       "      <td>4</td>\n",
       "      <td>The review comment raises a pertinent question...</td>\n",
       "      <td>3</td>\n",
       "      <td>The comment is specific in its critique, quest...</td>\n",
       "      <td>X</td>\n",
       "      <td>The review point consists of questions and obs...</td>\n",
       "    </tr>\n",
       "    <tr>\n",
       "      <th>6151</th>\n",
       "      <td>NIPS_2018_775</td>\n",
       "      <td>NIPS_2018</td>\n",
       "      <td>NaN</td>\n",
       "      <td>2) The novelty is mostly incremental. === Conc...</td>\n",
       "      <td>6254</td>\n",
       "      <td>1</td>\n",
       "      <td>The review comment states that the novelty of ...</td>\n",
       "      <td>3</td>\n",
       "      <td>The review point presents a mixed message. On ...</td>\n",
       "      <td>1</td>\n",
       "      <td>The comment mentions concerns about the novelt...</td>\n",
       "      <td>2</td>\n",
       "      <td>The review point claims that \"the novelty is m...</td>\n",
       "    </tr>\n",
       "    <tr>\n",
       "      <th>6194</th>\n",
       "      <td>NIPS_2018_45</td>\n",
       "      <td>NIPS_2018</td>\n",
       "      <td>NaN</td>\n",
       "      <td>2) Why are there no quantitative results for t...</td>\n",
       "      <td>6212</td>\n",
       "      <td>4</td>\n",
       "      <td>The review comment questions the absence of qu...</td>\n",
       "      <td>3</td>\n",
       "      <td>The review comment raises a valid concern abou...</td>\n",
       "      <td>4</td>\n",
       "      <td>The comment is fully grounded as it explicitly...</td>\n",
       "      <td>3</td>\n",
       "      <td>The review point questions the absence of quan...</td>\n",
       "    </tr>\n",
       "    <tr>\n",
       "      <th>7525</th>\n",
       "      <td>ICLR_2021_342</td>\n",
       "      <td>ICLR_2021</td>\n",
       "      <td>NaN</td>\n",
       "      <td>2. “Closely follow the rendering process in gr...</td>\n",
       "      <td>2240</td>\n",
       "      <td>1</td>\n",
       "      <td>The review comment critiques the claim that th...</td>\n",
       "      <td>3</td>\n",
       "      <td>The review comment challenges a specific claim...</td>\n",
       "      <td>5</td>\n",
       "      <td>The comment addresses a specific claim in the ...</td>\n",
       "      <td>4</td>\n",
       "      <td>The review point challenges the claim that the...</td>\n",
       "    </tr>\n",
       "    <tr>\n",
       "      <th>7740</th>\n",
       "      <td>NIPS_2018_553</td>\n",
       "      <td>NIPS_2018</td>\n",
       "      <td>NaN</td>\n",
       "      <td>3) The benefit of stacking attention is not en...</td>\n",
       "      <td>6058</td>\n",
       "      <td>4</td>\n",
       "      <td>The reviewer suggests that the authors should ...</td>\n",
       "      <td>4</td>\n",
       "      <td>The review comment highlights a lack of clarit...</td>\n",
       "      <td>5</td>\n",
       "      <td>The comment addresses the benefit of stacking ...</td>\n",
       "      <td>3</td>\n",
       "      <td>The review point questions the clarity of the ...</td>\n",
       "    </tr>\n",
       "    <tr>\n",
       "      <th>7785</th>\n",
       "      <td>ICLR_2022_2956</td>\n",
       "      <td>ICLR_2022</td>\n",
       "      <td>NaN</td>\n",
       "      <td>3) what if you train the model long enough? Do...</td>\n",
       "      <td>2899</td>\n",
       "      <td>2</td>\n",
       "      <td>The comment raises a question about the potent...</td>\n",
       "      <td>3</td>\n",
       "      <td>The comment raises a pertinent question about ...</td>\n",
       "      <td>3</td>\n",
       "      <td>The comment raises a specific question about t...</td>\n",
       "      <td>X</td>\n",
       "      <td>The comment poses questions about the potentia...</td>\n",
       "    </tr>\n",
       "    <tr>\n",
       "      <th>8638</th>\n",
       "      <td>ICLR_2021_342</td>\n",
       "      <td>ICLR_2021</td>\n",
       "      <td>NaN</td>\n",
       "      <td>3. “First deep generative model for unsupervis...</td>\n",
       "      <td>2159</td>\n",
       "      <td>2</td>\n",
       "      <td>The review point challenges the claim of being...</td>\n",
       "      <td>3</td>\n",
       "      <td>The review comment challenges the originality ...</td>\n",
       "      <td>3</td>\n",
       "      <td>The comment critiques the claim of being the \"...</td>\n",
       "      <td>3</td>\n",
       "      <td>The review point challenges the claim of being...</td>\n",
       "    </tr>\n",
       "    <tr>\n",
       "      <th>8789</th>\n",
       "      <td>NIPS_2018_553</td>\n",
       "      <td>NIPS_2018</td>\n",
       "      <td>NaN</td>\n",
       "      <td>4) The following one-shot-learning paper that ...</td>\n",
       "      <td>6324</td>\n",
       "      <td>5</td>\n",
       "      <td>The review comment suggests that a discussion ...</td>\n",
       "      <td>4</td>\n",
       "      <td>The review comment identifies a relevant paper...</td>\n",
       "      <td>3</td>\n",
       "      <td>The comment suggests discussing the difference...</td>\n",
       "      <td>4</td>\n",
       "      <td>The review point suggests that a discussion is...</td>\n",
       "    </tr>\n",
       "  </tbody>\n",
       "</table>\n",
       "</div>"
      ],
      "text/plain": [
       "                 paper_id      venue focused_review  \\\n",
       "820   ACL_2017_371_review   ACL_2017            NaN   \n",
       "1379  ACL_2017_193_review   ACL_2017            NaN   \n",
       "1711  ACL_2017_193_review   ACL_2017            NaN   \n",
       "1939  ACL_2017_371_review   ACL_2017            NaN   \n",
       "1946  ACL_2017_371_review   ACL_2017            NaN   \n",
       "2955  ACL_2017_371_review   ACL_2017            NaN   \n",
       "3932  ACL_2017_193_review   ACL_2017            NaN   \n",
       "4362       ICLR_2022_2956  ICLR_2022            NaN   \n",
       "4396         NIPS_2018_45  NIPS_2018            NaN   \n",
       "4424       ICLR_2022_2956  ICLR_2022            NaN   \n",
       "5716       NIPS_2020_1180  NIPS_2020            NaN   \n",
       "5796        ICLR_2021_342  ICLR_2021            NaN   \n",
       "6040       ICLR_2022_2956  ICLR_2022            NaN   \n",
       "6076        NIPS_2018_553  NIPS_2018            NaN   \n",
       "6101         NIPS_2018_45  NIPS_2018            NaN   \n",
       "6120       ICLR_2022_2956  ICLR_2022            NaN   \n",
       "6151        NIPS_2018_775  NIPS_2018            NaN   \n",
       "6194         NIPS_2018_45  NIPS_2018            NaN   \n",
       "7525        ICLR_2021_342  ICLR_2021            NaN   \n",
       "7740        NIPS_2018_553  NIPS_2018            NaN   \n",
       "7785       ICLR_2022_2956  ICLR_2022            NaN   \n",
       "8638        ICLR_2021_342  ICLR_2021            NaN   \n",
       "8789        NIPS_2018_553  NIPS_2018            NaN   \n",
       "\n",
       "                                           review_point    id  \\\n",
       "820   - Also, regarding section 3.3, please cite app...   209   \n",
       "1379  - How l(u) is chosen in case of several childr...   339   \n",
       "1711  - In the converted graphs in figure 4, some ed...   343   \n",
       "1939  - It's because if the largest phrase length is...   126   \n",
       "1946  - It's not true that the pRNN outperforms both...   199   \n",
       "2955  - The evaluation on PTB (table 2) isn't a fair...   372   \n",
       "3932  - While it is very complete to provide the pre...   131   \n",
       "4362  1) Is there any fundamental problem with dropo...  3027   \n",
       "4396  1) Section 4.3 (roughly L267-270) briefly expl...  6188   \n",
       "4424  1) The hyperparameter tuning procedure seems p...  3140   \n",
       "5716  1. Universal Texture Synthesis: The paper clai...  7302   \n",
       "5796  1. “GSGN is a general framework for representi...  2328   \n",
       "6040  2) Figure 8: Could you give an explanation why...  2875   \n",
       "6076  2) It is not clear if the method would perform...  6501   \n",
       "6101  2) Presentation. Although the approach is clea...  6120   \n",
       "6120  2) The authors aim to address the overfitting ...  2827   \n",
       "6151  2) The novelty is mostly incremental. === Conc...  6254   \n",
       "6194  2) Why are there no quantitative results for t...  6212   \n",
       "7525  2. “Closely follow the rendering process in gr...  2240   \n",
       "7740  3) The benefit of stacking attention is not en...  6058   \n",
       "7785  3) what if you train the model long enough? Do...  2899   \n",
       "8638  3. “First deep generative model for unsupervis...  2159   \n",
       "8789  4) The following one-shot-learning paper that ...  6324   \n",
       "\n",
       "      chatgpt_actionability_score  \\\n",
       "820                             5   \n",
       "1379                            4   \n",
       "1711                            5   \n",
       "1939                            1   \n",
       "1946                            5   \n",
       "2955                            3   \n",
       "3932                            4   \n",
       "4362                            2   \n",
       "4396                            3   \n",
       "4424                            3   \n",
       "5716                            1   \n",
       "5796                            4   \n",
       "6040                            2   \n",
       "6076                            2   \n",
       "6101                            3   \n",
       "6120                            4   \n",
       "6151                            1   \n",
       "6194                            4   \n",
       "7525                            1   \n",
       "7740                            4   \n",
       "7785                            2   \n",
       "8638                            2   \n",
       "8789                            5   \n",
       "\n",
       "                        chatgpt_actionability_rationale  \\\n",
       "820   The review point explicitly instructs the auth...   \n",
       "1379  The review point raises a question about how \"...   \n",
       "1711  The review point identifies a specific issue w...   \n",
       "1939  The review point describes a potential simplif...   \n",
       "1946  The review point provides explicit instruction...   \n",
       "2955  The review point highlights a potential issue ...   \n",
       "3932  The review point suggests two actions: first, ...   \n",
       "4362  The review point poses several questions regar...   \n",
       "4396  The review point raises questions about the co...   \n",
       "4424  The review point identifies a potential issue ...   \n",
       "5716  The comment critiques the claim of universal t...   \n",
       "5796  The comment questions the claim that \"GSGN is ...   \n",
       "6040  The review point raises a question about Figur...   \n",
       "6076  The comment raises a concern about the general...   \n",
       "6101  The review point highlights a missing discussi...   \n",
       "6120  The review comment questions the authors' deci...   \n",
       "6151  The review comment states that the novelty of ...   \n",
       "6194  The review comment questions the absence of qu...   \n",
       "7525  The review comment critiques the claim that th...   \n",
       "7740  The reviewer suggests that the authors should ...   \n",
       "7785  The comment raises a question about the potent...   \n",
       "8638  The review point challenges the claim of being...   \n",
       "8789  The review comment suggests that a discussion ...   \n",
       "\n",
       "      chatgpt_helpfulness_score  \\\n",
       "820                           4   \n",
       "1379                          3   \n",
       "1711                          5   \n",
       "1939                          2   \n",
       "1946                          5   \n",
       "2955                          3   \n",
       "3932                          4   \n",
       "4362                          2   \n",
       "4396                          3   \n",
       "4424                          4   \n",
       "5716                          3   \n",
       "5796                          4   \n",
       "6040                          3   \n",
       "6076                          3   \n",
       "6101                          3   \n",
       "6120                          4   \n",
       "6151                          3   \n",
       "6194                          3   \n",
       "7525                          3   \n",
       "7740                          4   \n",
       "7785                          3   \n",
       "8638                          3   \n",
       "8789                          4   \n",
       "\n",
       "                          chatgpt_helpfulness_rationale  \\\n",
       "820   The review comment provides specific and actio...   \n",
       "1379  The review comment identifies a specific area ...   \n",
       "1711  The review comment provides specific and actio...   \n",
       "1939  The review comment attempts to provide an insi...   \n",
       "1946  The review comment provides clear and actionab...   \n",
       "2955  The review comment identifies a critical issue...   \n",
       "3932  The review comment provides actionable feedbac...   \n",
       "4362  The comment raises questions about the use of ...   \n",
       "4396  The review comment highlights a specific secti...   \n",
       "4424  The review comment identifies a critical issue...   \n",
       "5716  The review comment challenges the paper's clai...   \n",
       "5796  The review comment questions the claim that GS...   \n",
       "6040  The review comment raises a specific question ...   \n",
       "6076  The review point raises a concern about the ge...   \n",
       "6101  The review comment acknowledges that the appro...   \n",
       "6120  The review comment raises a pertinent question...   \n",
       "6151  The review point presents a mixed message. On ...   \n",
       "6194  The review comment raises a valid concern abou...   \n",
       "7525  The review comment challenges a specific claim...   \n",
       "7740  The review comment highlights a lack of clarit...   \n",
       "7785  The comment raises a pertinent question about ...   \n",
       "8638  The review comment challenges the originality ...   \n",
       "8789  The review comment identifies a relevant paper...   \n",
       "\n",
       "      chatgpt_grounding_specificity_score  \\\n",
       "820                                     5   \n",
       "1379                                    2   \n",
       "1711                                    5   \n",
       "1939                                    1   \n",
       "1946                                    5   \n",
       "2955                                    5   \n",
       "3932                                    3   \n",
       "4362                                    3   \n",
       "4396                                    5   \n",
       "4424                                    5   \n",
       "5716                                    5   \n",
       "5796                                    3   \n",
       "6040                                    5   \n",
       "6076                                    2   \n",
       "6101                                    3   \n",
       "6120                                    3   \n",
       "6151                                    1   \n",
       "6194                                    4   \n",
       "7525                                    5   \n",
       "7740                                    5   \n",
       "7785                                    3   \n",
       "8638                                    3   \n",
       "8789                                    3   \n",
       "\n",
       "                chatgpt_grounding_specificity_rationale  \\\n",
       "820   The comment is fully grounded as it explicitly...   \n",
       "1379  The comment is not fully grounded as it does n...   \n",
       "1711  The comment is fully grounded as it explicitly...   \n",
       "1939  The comment discusses a potential simplificati...   \n",
       "1946  The comment is fully grounded as it explicitly...   \n",
       "2955  The comment is fully grounded as it explicitly...   \n",
       "3932  The comment suggests including an informal des...   \n",
       "4362  The comment raises questions about the use of ...   \n",
       "4396  The comment is fully grounded as it explicitly...   \n",
       "4424  The comment is fully grounded as it provides s...   \n",
       "5716  The comment is fully grounded as it explicitly...   \n",
       "5796  The comment questions the claim that \"GSGN is ...   \n",
       "6040  The comment is fully grounded as it explicitly...   \n",
       "6076  The comment raises a concern about the general...   \n",
       "6101  The comment addresses the presentation of the ...   \n",
       "6120  The comment is specific in its critique, quest...   \n",
       "6151  The comment mentions concerns about the novelt...   \n",
       "6194  The comment is fully grounded as it explicitly...   \n",
       "7525  The comment addresses a specific claim in the ...   \n",
       "7740  The comment addresses the benefit of stacking ...   \n",
       "7785  The comment raises a specific question about t...   \n",
       "8638  The comment critiques the claim of being the \"...   \n",
       "8789  The comment suggests discussing the difference...   \n",
       "\n",
       "     chatgpt_verifiability_score  \\\n",
       "820                            X   \n",
       "1379                           X   \n",
       "1711                           3   \n",
       "1939                           X   \n",
       "1946                           4   \n",
       "2955                           4   \n",
       "3932                           3   \n",
       "4362                           X   \n",
       "4396                           X   \n",
       "4424                           4   \n",
       "5716                           4   \n",
       "5796                           3   \n",
       "6040                           X   \n",
       "6076                           X   \n",
       "6101                           3   \n",
       "6120                           X   \n",
       "6151                           2   \n",
       "6194                           3   \n",
       "7525                           4   \n",
       "7740                           3   \n",
       "7785                           X   \n",
       "8638                           3   \n",
       "8789                           4   \n",
       "\n",
       "                        chatgpt_verifiability_rationale  \n",
       "820   The comment requests the citation of appropria...  \n",
       "1379  The review point consists of a request for cla...  \n",
       "1711  The review point claims that some edges in the...  \n",
       "1939  The comment provides an explanation of how a m...  \n",
       "1946  The review point challenges the claim that the...  \n",
       "2955  The review point claims that the evaluation on...  \n",
       "3932  The review point suggests that the paper would...  \n",
       "4362  The review point consists of questions asking ...  \n",
       "4396  The review point consists of inquiries about t...  \n",
       "4424  The review comment raises a concern about the ...  \n",
       "5716  The review point challenges the claim of \"univ...  \n",
       "5796  The review point challenges the claim that \"GS...  \n",
       "6040  The comment is primarily a request for clarifi...  \n",
       "6076  The review point questions the generalizabilit...  \n",
       "6101  The review point raises a claim that the paper...  \n",
       "6120  The review point consists of questions and obs...  \n",
       "6151  The review point claims that \"the novelty is m...  \n",
       "6194  The review point questions the absence of quan...  \n",
       "7525  The review point challenges the claim that the...  \n",
       "7740  The review point questions the clarity of the ...  \n",
       "7785  The comment poses questions about the potentia...  \n",
       "8638  The review point challenges the claim of being...  \n",
       "8789  The review point suggests that a discussion is...  "
      ]
     },
     "execution_count": 64,
     "metadata": {},
     "output_type": "execute_result"
    }
   ],
   "source": [
    "nan_rows"
   ]
  },
  {
   "cell_type": "code",
   "execution_count": 65,
   "metadata": {},
   "outputs": [],
   "source": [
    "# columns_to_keep = ['review_point','paper_id','venue','focused_review']\n",
    "# all_datasets = {}\n",
    "# for aspect in aspects:\n",
    "#     aspect_dataset = []\n",
    "\n",
    "#     aspect_data = all_data[all_data[f'{aspect}_label_type'] == 'gold']\n",
    "#     aspcets_columns_to_keep = columns_to_keep + [f'{aspect}_label']\n",
    "#     aspect_data = aspect_data[aspcets_columns_to_keep]\n",
    "\n",
    "#     for i,row in aspect_data.iterrows():\n",
    "#         row['prompt'] = utils.get_prompt(row, aspect, task='train',generation_type='score_only')\n",
    "#         aspect_dataset.append(row)\n",
    "#     aspect_dataset = pd.DataFrame(aspect_dataset)\n",
    "#     aspect_dataset = datasets.Dataset.from_pandas(aspect_dataset)\n",
    "#     if '__index_level_0__' in aspect_dataset.column_names:\n",
    "#         aspect_dataset = aspect_dataset.remove_columns('__index_level_0__')\n",
    "\n",
    "#     ## split the dataset to train and validation\n",
    "#     aspect_dataset = aspect_dataset.train_test_split(test_size=0.1)\n",
    "#     all_datasets[aspect] = aspect_dataset\n",
    "\n",
    "    \n"
   ]
  },
  {
   "cell_type": "code",
   "execution_count": 66,
   "metadata": {},
   "outputs": [
    {
     "ename": "KeyError",
     "evalue": "\"Column prompt not in the dataset. Current columns in the dataset: ['paper_id', 'venue', 'focused_review', 'review_point', 'id', 'chatgpt_actionability_score', 'chatgpt_actionability_rationale', 'chatgpt_helpfulness_score', 'chatgpt_helpfulness_rationale', 'chatgpt_grounding_specificity_score', 'chatgpt_grounding_specificity_rationale', 'chatgpt_verifiability_score', 'chatgpt_verifiability_rationale', '__index_level_0__']\"",
     "output_type": "error",
     "traceback": [
      "\u001b[0;31m---------------------------------------------------------------------------\u001b[0m",
      "\u001b[0;31mKeyError\u001b[0m                                  Traceback (most recent call last)",
      "Cell \u001b[0;32mIn[66], line 1\u001b[0m\n\u001b[0;32m----> 1\u001b[0m \u001b[38;5;28mprint\u001b[39m(\u001b[43mdataset\u001b[49m\u001b[43m[\u001b[49m\u001b[38;5;124;43m'\u001b[39;49m\u001b[38;5;124;43mtest\u001b[39;49m\u001b[38;5;124;43m'\u001b[39;49m\u001b[43m]\u001b[49m\u001b[43m[\u001b[49m\u001b[38;5;124;43m'\u001b[39;49m\u001b[38;5;124;43mprompt\u001b[39;49m\u001b[38;5;124;43m'\u001b[39;49m\u001b[43m]\u001b[49m[\u001b[38;5;241m0\u001b[39m])\n",
      "File \u001b[0;32m~/mambaforge/envs/nlp/lib/python3.10/site-packages/datasets/arrow_dataset.py:2742\u001b[0m, in \u001b[0;36mDataset.__getitem__\u001b[0;34m(self, key)\u001b[0m\n\u001b[1;32m   2740\u001b[0m \u001b[38;5;28;01mdef\u001b[39;00m \u001b[38;5;21m__getitem__\u001b[39m(\u001b[38;5;28mself\u001b[39m, key):  \u001b[38;5;66;03m# noqa: F811\u001b[39;00m\n\u001b[1;32m   2741\u001b[0m \u001b[38;5;250m    \u001b[39m\u001b[38;5;124;03m\"\"\"Can be used to index columns (by string names) or rows (by integer index or iterable of indices or bools).\"\"\"\u001b[39;00m\n\u001b[0;32m-> 2742\u001b[0m     \u001b[38;5;28;01mreturn\u001b[39;00m \u001b[38;5;28;43mself\u001b[39;49m\u001b[38;5;241;43m.\u001b[39;49m\u001b[43m_getitem\u001b[49m\u001b[43m(\u001b[49m\u001b[43mkey\u001b[49m\u001b[43m)\u001b[49m\n",
      "File \u001b[0;32m~/mambaforge/envs/nlp/lib/python3.10/site-packages/datasets/arrow_dataset.py:2726\u001b[0m, in \u001b[0;36mDataset._getitem\u001b[0;34m(self, key, **kwargs)\u001b[0m\n\u001b[1;32m   2724\u001b[0m format_kwargs \u001b[38;5;241m=\u001b[39m format_kwargs \u001b[38;5;28;01mif\u001b[39;00m format_kwargs \u001b[38;5;129;01mis\u001b[39;00m \u001b[38;5;129;01mnot\u001b[39;00m \u001b[38;5;28;01mNone\u001b[39;00m \u001b[38;5;28;01melse\u001b[39;00m {}\n\u001b[1;32m   2725\u001b[0m formatter \u001b[38;5;241m=\u001b[39m get_formatter(format_type, features\u001b[38;5;241m=\u001b[39m\u001b[38;5;28mself\u001b[39m\u001b[38;5;241m.\u001b[39m_info\u001b[38;5;241m.\u001b[39mfeatures, \u001b[38;5;241m*\u001b[39m\u001b[38;5;241m*\u001b[39mformat_kwargs)\n\u001b[0;32m-> 2726\u001b[0m pa_subtable \u001b[38;5;241m=\u001b[39m \u001b[43mquery_table\u001b[49m\u001b[43m(\u001b[49m\u001b[38;5;28;43mself\u001b[39;49m\u001b[38;5;241;43m.\u001b[39;49m\u001b[43m_data\u001b[49m\u001b[43m,\u001b[49m\u001b[43m \u001b[49m\u001b[43mkey\u001b[49m\u001b[43m,\u001b[49m\u001b[43m \u001b[49m\u001b[43mindices\u001b[49m\u001b[38;5;241;43m=\u001b[39;49m\u001b[38;5;28;43mself\u001b[39;49m\u001b[38;5;241;43m.\u001b[39;49m\u001b[43m_indices\u001b[49m\u001b[43m)\u001b[49m\n\u001b[1;32m   2727\u001b[0m formatted_output \u001b[38;5;241m=\u001b[39m format_table(\n\u001b[1;32m   2728\u001b[0m     pa_subtable, key, formatter\u001b[38;5;241m=\u001b[39mformatter, format_columns\u001b[38;5;241m=\u001b[39mformat_columns, output_all_columns\u001b[38;5;241m=\u001b[39moutput_all_columns\n\u001b[1;32m   2729\u001b[0m )\n\u001b[1;32m   2730\u001b[0m \u001b[38;5;28;01mreturn\u001b[39;00m formatted_output\n",
      "File \u001b[0;32m~/mambaforge/envs/nlp/lib/python3.10/site-packages/datasets/formatting/formatting.py:590\u001b[0m, in \u001b[0;36mquery_table\u001b[0;34m(table, key, indices)\u001b[0m\n\u001b[1;32m    588\u001b[0m         _raise_bad_key_type(key)\n\u001b[1;32m    589\u001b[0m \u001b[38;5;28;01mif\u001b[39;00m \u001b[38;5;28misinstance\u001b[39m(key, \u001b[38;5;28mstr\u001b[39m):\n\u001b[0;32m--> 590\u001b[0m     \u001b[43m_check_valid_column_key\u001b[49m\u001b[43m(\u001b[49m\u001b[43mkey\u001b[49m\u001b[43m,\u001b[49m\u001b[43m \u001b[49m\u001b[43mtable\u001b[49m\u001b[38;5;241;43m.\u001b[39;49m\u001b[43mcolumn_names\u001b[49m\u001b[43m)\u001b[49m\n\u001b[1;32m    591\u001b[0m \u001b[38;5;28;01melse\u001b[39;00m:\n\u001b[1;32m    592\u001b[0m     size \u001b[38;5;241m=\u001b[39m indices\u001b[38;5;241m.\u001b[39mnum_rows \u001b[38;5;28;01mif\u001b[39;00m indices \u001b[38;5;129;01mis\u001b[39;00m \u001b[38;5;129;01mnot\u001b[39;00m \u001b[38;5;28;01mNone\u001b[39;00m \u001b[38;5;28;01melse\u001b[39;00m table\u001b[38;5;241m.\u001b[39mnum_rows\n",
      "File \u001b[0;32m~/mambaforge/envs/nlp/lib/python3.10/site-packages/datasets/formatting/formatting.py:527\u001b[0m, in \u001b[0;36m_check_valid_column_key\u001b[0;34m(key, columns)\u001b[0m\n\u001b[1;32m    525\u001b[0m \u001b[38;5;28;01mdef\u001b[39;00m \u001b[38;5;21m_check_valid_column_key\u001b[39m(key: \u001b[38;5;28mstr\u001b[39m, columns: List[\u001b[38;5;28mstr\u001b[39m]) \u001b[38;5;241m-\u001b[39m\u001b[38;5;241m>\u001b[39m \u001b[38;5;28;01mNone\u001b[39;00m:\n\u001b[1;32m    526\u001b[0m     \u001b[38;5;28;01mif\u001b[39;00m key \u001b[38;5;129;01mnot\u001b[39;00m \u001b[38;5;129;01min\u001b[39;00m columns:\n\u001b[0;32m--> 527\u001b[0m         \u001b[38;5;28;01mraise\u001b[39;00m \u001b[38;5;167;01mKeyError\u001b[39;00m(\u001b[38;5;124mf\u001b[39m\u001b[38;5;124m\"\u001b[39m\u001b[38;5;124mColumn \u001b[39m\u001b[38;5;132;01m{\u001b[39;00mkey\u001b[38;5;132;01m}\u001b[39;00m\u001b[38;5;124m not in the dataset. Current columns in the dataset: \u001b[39m\u001b[38;5;132;01m{\u001b[39;00mcolumns\u001b[38;5;132;01m}\u001b[39;00m\u001b[38;5;124m\"\u001b[39m)\n",
      "\u001b[0;31mKeyError\u001b[0m: \"Column prompt not in the dataset. Current columns in the dataset: ['paper_id', 'venue', 'focused_review', 'review_point', 'id', 'chatgpt_actionability_score', 'chatgpt_actionability_rationale', 'chatgpt_helpfulness_score', 'chatgpt_helpfulness_rationale', 'chatgpt_grounding_specificity_score', 'chatgpt_grounding_specificity_rationale', 'chatgpt_verifiability_score', 'chatgpt_verifiability_rationale', '__index_level_0__']\""
     ]
    }
   ],
   "source": []
  }
 ],
 "metadata": {
  "kernelspec": {
   "display_name": "Python 3",
   "language": "python",
   "name": "python3"
  },
  "language_info": {
   "codemirror_mode": {
    "name": "ipython",
    "version": 3
   },
   "file_extension": ".py",
   "mimetype": "text/x-python",
   "name": "python",
   "nbconvert_exporter": "python",
   "pygments_lexer": "ipython3",
   "version": "3.10.14"
  }
 },
 "nbformat": 4,
 "nbformat_minor": 2
}
