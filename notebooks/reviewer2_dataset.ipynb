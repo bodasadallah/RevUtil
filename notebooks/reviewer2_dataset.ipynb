{
 "cells": [
  {
   "cell_type": "code",
   "execution_count": 1,
   "metadata": {},
   "outputs": [
    {
     "name": "stderr",
     "output_type": "stream",
     "text": [
      "/home/boda/miniforge3/lib/python3.10/site-packages/tqdm/auto.py:21: TqdmWarning: IProgress not found. Please update jupyter and ipywidgets. See https://ipywidgets.readthedocs.io/en/stable/user_install.html\n",
      "  from .autonotebook import tqdm as notebook_tqdm\n"
     ]
    }
   ],
   "source": [
    "import pandas as pd\n",
    "import numpy as np\n",
    "import json\n",
    "from datasets import load_dataset"
   ]
  },
  {
   "cell_type": "code",
   "execution_count": 7,
   "metadata": {},
   "outputs": [],
   "source": [
    "reviewer2_data = load_dataset(\"GitBag/Reviewer2_PGE_cleaned\")\n",
    "df_train = reviewer2_data['train'].to_pandas()"
   ]
  },
  {
   "cell_type": "code",
   "execution_count": 32,
   "metadata": {},
   "outputs": [
    {
     "data": {
      "text/html": [
       "<div>\n",
       "<style scoped>\n",
       "    .dataframe tbody tr th:only-of-type {\n",
       "        vertical-align: middle;\n",
       "    }\n",
       "\n",
       "    .dataframe tbody tr th {\n",
       "        vertical-align: top;\n",
       "    }\n",
       "\n",
       "    .dataframe thead th {\n",
       "        text-align: right;\n",
       "    }\n",
       "</style>\n",
       "<table border=\"1\" class=\"dataframe\">\n",
       "  <thead>\n",
       "    <tr style=\"text-align: right;\">\n",
       "      <th></th>\n",
       "      <th>venue</th>\n",
       "      <th>paper_content</th>\n",
       "      <th>prompt</th>\n",
       "      <th>format</th>\n",
       "      <th>review</th>\n",
       "    </tr>\n",
       "  </thead>\n",
       "  <tbody>\n",
       "    <tr>\n",
       "      <th>0</th>\n",
       "      <td>ICLR</td>\n",
       "      <td>Title\\nLearning Disentangled Representation by...</td>\n",
       "      <td>1. What is the focus and contribution of the p...</td>\n",
       "      <td>Summary Of The Paper\\nReview</td>\n",
       "      <td>Summary Of The Paper\\nThis paper presents a fr...</td>\n",
       "    </tr>\n",
       "    <tr>\n",
       "      <th>1</th>\n",
       "      <td>ICLR</td>\n",
       "      <td>Title\\nLearning Disentangled Representation by...</td>\n",
       "      <td>1. What is the focus and contribution of the p...</td>\n",
       "      <td>Summary Of The Paper\\nReview</td>\n",
       "      <td>Summary Of The Paper\\nThis paper proposes DisC...</td>\n",
       "    </tr>\n",
       "    <tr>\n",
       "      <th>2</th>\n",
       "      <td>ICLR</td>\n",
       "      <td>Title\\nLearning Disentangled Representation by...</td>\n",
       "      <td>1. What is the focus of the paper regarding re...</td>\n",
       "      <td>Summary Of The Paper\\nReview</td>\n",
       "      <td>Summary Of The Paper\\nThe paper proposes a nov...</td>\n",
       "    </tr>\n",
       "    <tr>\n",
       "      <th>3</th>\n",
       "      <td>ICLR</td>\n",
       "      <td>Title\\nLearning Disentangled Representation by...</td>\n",
       "      <td>1. What is the focus of the paper regarding di...</td>\n",
       "      <td>Summary Of The Paper\\nReview</td>\n",
       "      <td>Summary Of The Paper\\nThis paper proposes to l...</td>\n",
       "    </tr>\n",
       "    <tr>\n",
       "      <th>4</th>\n",
       "      <td>ICLR</td>\n",
       "      <td>Title\\nProMP: Proximal Meta-Policy Search\\nAbs...</td>\n",
       "      <td>1. What are the differences in gradient calcul...</td>\n",
       "      <td>Review</td>\n",
       "      <td>Review\\n\\nIn this paper, the authors investiga...</td>\n",
       "    </tr>\n",
       "  </tbody>\n",
       "</table>\n",
       "</div>"
      ],
      "text/plain": [
       "  venue                                      paper_content  \\\n",
       "0  ICLR  Title\\nLearning Disentangled Representation by...   \n",
       "1  ICLR  Title\\nLearning Disentangled Representation by...   \n",
       "2  ICLR  Title\\nLearning Disentangled Representation by...   \n",
       "3  ICLR  Title\\nLearning Disentangled Representation by...   \n",
       "4  ICLR  Title\\nProMP: Proximal Meta-Policy Search\\nAbs...   \n",
       "\n",
       "                                              prompt  \\\n",
       "0  1. What is the focus and contribution of the p...   \n",
       "1  1. What is the focus and contribution of the p...   \n",
       "2  1. What is the focus of the paper regarding re...   \n",
       "3  1. What is the focus of the paper regarding di...   \n",
       "4  1. What are the differences in gradient calcul...   \n",
       "\n",
       "                         format  \\\n",
       "0  Summary Of The Paper\\nReview   \n",
       "1  Summary Of The Paper\\nReview   \n",
       "2  Summary Of The Paper\\nReview   \n",
       "3  Summary Of The Paper\\nReview   \n",
       "4                        Review   \n",
       "\n",
       "                                              review  \n",
       "0  Summary Of The Paper\\nThis paper presents a fr...  \n",
       "1  Summary Of The Paper\\nThis paper proposes DisC...  \n",
       "2  Summary Of The Paper\\nThe paper proposes a nov...  \n",
       "3  Summary Of The Paper\\nThis paper proposes to l...  \n",
       "4  Review\\n\\nIn this paper, the authors investiga...  "
      ]
     },
     "execution_count": 32,
     "metadata": {},
     "output_type": "execute_result"
    }
   ],
   "source": [
    "df_train.head()\n"
   ]
  },
  {
   "cell_type": "code",
   "execution_count": 30,
   "metadata": {},
   "outputs": [],
   "source": [
    "samples = df_train['review'].sample(10)\n",
    "with open('samples.txt', 'w') as f:\n",
    "    for sample in samples:\n",
    "        f.write(sample + '\\n\\n')\n",
    "        f.write('-----------------------------------------------------------------------------\\n\\n')"
   ]
  },
  {
   "cell_type": "code",
   "execution_count": 23,
   "metadata": {},
   "outputs": [],
   "source": [
    "parts = set()\n",
    "\n",
    "for review in df_train['review']:\n",
    "\n",
    "\n",
    "    words = review.split()\n",
    "    for i,w in enumerate(words):\n",
    "        if w.endswith(':')  and w.startswith('\\n'):\n",
    "            parts.add(w)\n"
   ]
  },
  {
   "cell_type": "code",
   "execution_count": 24,
   "metadata": {},
   "outputs": [
    {
     "data": {
      "text/plain": [
       "set()"
      ]
     },
     "execution_count": 24,
     "metadata": {},
     "output_type": "execute_result"
    }
   ],
   "source": [
    "parts"
   ]
  },
  {
   "cell_type": "code",
   "execution_count": 27,
   "metadata": {},
   "outputs": [],
   "source": [
    "t = '''Review\n",
    "Strengths:\n",
    "The approach does not require any specific training.'''\n",
    "words = t.split()\n",
    "for i,w in enumerate(words):\n",
    "    if w.endswith(':')  and w.startswith('\\n'):\n",
    "        parts.add(w)"
   ]
  }
 ],
 "metadata": {
  "kernelspec": {
   "display_name": "base",
   "language": "python",
   "name": "python3"
  },
  "language_info": {
   "codemirror_mode": {
    "name": "ipython",
    "version": 3
   },
   "file_extension": ".py",
   "mimetype": "text/x-python",
   "name": "python",
   "nbconvert_exporter": "python",
   "pygments_lexer": "ipython3",
   "version": "3.10.13"
  }
 },
 "nbformat": 4,
 "nbformat_minor": 2
}
