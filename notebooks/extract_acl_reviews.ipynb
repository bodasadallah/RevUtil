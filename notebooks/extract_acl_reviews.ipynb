{
 "cells": [
  {
   "cell_type": "code",
   "execution_count": 4,
   "metadata": {},
   "outputs": [
    {
     "name": "stdout",
     "output_type": "stream",
     "text": [
      "-------------------\n",
      "-------------------\n",
      "-------------------\n",
      "-------------------\n",
      "-------------------\n",
      "-------------------\n",
      "-------------------\n",
      "-------------------\n",
      "-------------------\n",
      "-------------------\n",
      "-------------------\n",
      "-------------------\n",
      "-------------------\n",
      "-------------------\n",
      "-------------------\n",
      "-------------------\n",
      "-------------------\n",
      "-------------------\n",
      "-------------------\n",
      "-------------------\n",
      "-------------------\n",
      "-------------------\n",
      "-------------------\n",
      "-------------------\n",
      "-------------------\n",
      "-------------------\n",
      "-------------------\n",
      "-------------------\n",
      "-------------------\n",
      "-------------------\n"
     ]
    },
    {
     "name": "stdout",
     "output_type": "stream",
     "text": [
      "-------------------\n",
      "-------------------\n",
      "-------------------\n",
      "-------------------\n",
      "-------------------\n",
      "-------------------\n",
      "-------------------\n",
      "-------------------\n",
      "-------------------\n",
      "-------------------\n",
      "-------------------\n",
      "-------------------\n",
      "-------------------\n",
      "-------------------\n",
      "-------------------\n",
      "-------------------\n",
      "-------------------\n",
      "-------------------\n",
      "-------------------\n",
      "-------------------\n",
      "-------------------\n",
      "-------------------\n",
      "-------------------\n",
      "-------------------\n",
      "-------------------\n",
      "-------------------\n",
      "-------------------\n",
      "-------------------\n",
      "-------------------\n",
      "-------------------\n",
      "-------------------\n",
      "-------------------\n",
      "-------------------\n",
      "-------------------\n",
      "-------------------\n",
      "-------------------\n",
      "-------------------\n"
     ]
    },
    {
     "ename": "",
     "evalue": "",
     "output_type": "error",
     "traceback": [
      "\u001b[1;31mThe Kernel crashed while executing code in the current cell or a previous cell. \n",
      "\u001b[1;31mPlease review the code in the cell(s) to identify a possible cause of the failure. \n",
      "\u001b[1;31mClick <a href='https://aka.ms/vscodeJupyterKernelCrash'>here</a> for more info. \n",
      "\u001b[1;31mView Jupyter <a href='command:jupyter.viewOutput'>log</a> for further details."
     ]
    }
   ],
   "source": [
    "import pandas as pd\n",
    "import numpy as np\n",
    "import matplotlib.pyplot as plt\n",
    "import os\n",
    "\n",
    "# Load the data\n",
    "raw_reviews_path =  '/fsx/hyperpod-input-datasets/AROA6GBMFKRI2VWQAUGYI:Abdelrahman.Sadallah@mbzuai.ac.ae/review_rewrite/ACL/ACL_2017/ACL_2017_review'\n",
    "save_path = '/fsx/homes/Abdelrahman.Sadallah@mbzuai.ac.ae/mbzuai/review_rewrite/data/processed'\n",
    "reviews = []\n",
    "valid_cnt = 0\n",
    "total_cnt = 0\n",
    "## Iterate over files in the directory and load them into a pandas dataframe\n",
    "for root, dirs, files in os.walk(raw_reviews_path):\n",
    "    for file in files:\n",
    "        file_path = os.path.join(root, file)\n",
    "        if file_path.endswith('.json'):\n",
    "            json_data = pd.read_json(file_path)\n",
    "            for i,review in json_data.iterrows():\n",
    "                total_cnt += 1\n",
    "                # print(review.keys())\n",
    "                # break\n",
    "                review_text = review['report']['main']\n",
    "                lower_review_text = review_text.lower()\n",
    "                weakness_pos = lower_review_text.find('weakness') or lower_review_text.find('weaknesses')\n",
    "                if weakness_pos != -1:\n",
    "                    main_text = review_text[weakness_pos:]\n",
    "                    reviews.append([file,main_text])\n",
    "                    valid_cnt += 1\n",
    "                else:\n",
    "                    # print(review_text)\n",
    "                    print('-------------------')\n",
    "\n",
    "\n",
    "\n",
    "df = pd.DataFrame(reviews, columns=['filename', 'focused_review'])\n",
    "\n",
    "df.to_csv(f'{save_path}/acl2017_reviews.csv', index=False)"
   ]
  },
  {
   "cell_type": "code",
   "execution_count": 3,
   "metadata": {},
   "outputs": [
    {
     "name": "stdout",
     "output_type": "stream",
     "text": [
      "Total reviews:  272\n",
      "Valid reviews:  205\n"
     ]
    }
   ],
   "source": [
    "print('Total reviews: ', total_cnt)\n",
    "print('Valid reviews: ', valid_cnt)\n"
   ]
  }
 ],
 "metadata": {
  "kernelspec": {
   "display_name": "base",
   "language": "python",
   "name": "python3"
  },
  "language_info": {
   "codemirror_mode": {
    "name": "ipython",
    "version": 3
   },
   "file_extension": ".py",
   "mimetype": "text/x-python",
   "name": "python",
   "nbconvert_exporter": "python",
   "pygments_lexer": "ipython3",
   "version": "3.10.12"
  }
 },
 "nbformat": 4,
 "nbformat_minor": 2
}
