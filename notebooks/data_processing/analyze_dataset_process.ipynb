{
 "cells": [
  {
   "cell_type": "code",
   "execution_count": 59,
   "metadata": {},
   "outputs": [
    {
     "name": "stdout",
     "output_type": "stream",
     "text": [
      "../data/peer-analyze/Peer-Review-Analyze-1.0/Peer-Review-Analyze-1.0/ICLR-2018-906/Accepted/Bya8fGWAZ/Annotated/ICLR2018-Bya8fGWAZ-R1_annotated.txt\n",
      "../data/peer-analyze/Peer-Review-Analyze-1.0/Peer-Review-Analyze-1.0/ICLR-2018-906/Accepted/BJJLHbb0-/Annotated/ICLR2018-BJJLHbb0--R3_annotated.txt\n",
      "../data/peer-analyze/Peer-Review-Analyze-1.0/Peer-Review-Analyze-1.0/ICLR-2018-906/Accepted/H1VjBebR-/Annotated/ICLR2018-H1VjBebR--R3_annotated.txt\n",
      "../data/peer-analyze/Peer-Review-Analyze-1.0/Peer-Review-Analyze-1.0/ICLR-2018-906/Accepted/H1vEXaxA-/Annotated/ICLR2018-H1vEXaxA--R3_annotated.txt\n",
      "../data/peer-analyze/Peer-Review-Analyze-1.0/Peer-Review-Analyze-1.0/ICLR-2018-906/Accepted/H1WgVz-AZ/Annotated/ICLR2018-H1WgVz-AZ-R1_annotated.txt\n",
      "../data/peer-analyze/Peer-Review-Analyze-1.0/Peer-Review-Analyze-1.0/ICLR-2018-906/Withdrawn/Byni8NLHf/Annotated/ICLR2018-Byni8NLHf-R2_annotated.txt\n",
      "../data/peer-analyze/Peer-Review-Analyze-1.0/Peer-Review-Analyze-1.0/ICLR-2018-906/Withdrawn/Byni8NLHf/Annotated/ICLR2018-Byni8NLHf-R1_annotated.txt\n",
      "Total files: 905\n",
      "Accepted: 433\n",
      "Rejected: 430\n",
      "Withdrawn: 42\n"
     ]
    }
   ],
   "source": [
    "import os\n",
    "import sys\n",
    "import json\n",
    "import pandas as pd\n",
    "import re\n",
    "BASE_DIR = '../data/peer-analyze/Peer-Review-Analyze-1.0/Peer-Review-Analyze-1.0/ICLR-2018-906'\n",
    "\n",
    "sug_data = []\n",
    "ques_data = []\n",
    "cnt =  0\n",
    "acc_cnt = 0\n",
    "rejected_cnt = 0\n",
    "with_cnt = 0\n",
    "all_cats = set()\n",
    "for subdir, dirs, files in os.walk(BASE_DIR):\n",
    "    for file in files:\n",
    "       \n",
    "        if 'annotated' in file and 'txt' in file:\n",
    "            cnt += 1\n",
    "            if 'Accepted' in subdir:\n",
    "                acc_cnt += 1\n",
    "            if 'Rejected' in subdir:\n",
    "                rejected_cnt += 1\n",
    "            if 'Withdrawn' in subdir:\n",
    "                with_cnt += 1\n",
    "            with open(os.path.join(subdir, file), 'r') as f:\n",
    "                data = f.read()\n",
    "\n",
    "\n",
    "                pattern = r'([A-Z]{3}-[A-Z]{3})'\n",
    "                # Find all matches\n",
    "                matches = re.findall(pattern, data)\n",
    "\n",
    "                all_cats.update(matches)\n",
    "\n",
    "\n",
    "                if 'SUG' in data:\n",
    "                    # print(os.path.join(subdir, file))\n",
    "                    print(os.path.join(subdir, file))\n",
    "                    sug_data.append(data)\n",
    "                if 'QSN' in data:\n",
    "                    # print(os.path.join(subdir, file))\n",
    "                    ques_data.append(data)\n",
    "    # break\n",
    "\n",
    "with open('sug_data.txt', 'w') as f:\n",
    "    f.write('\\n'.join(sug_data))\n",
    "\n",
    "with open('ques_data.txt', 'w') as f:\n",
    "    f.write('\\n'.join(ques_data))\n",
    "\n",
    "print('Total files:', cnt)\n",
    "print('Accepted:', acc_cnt)\n",
    "print('Rejected:', rejected_cnt)\n",
    "print('Withdrawn:', with_cnt)\n"
   ]
  },
  {
   "cell_type": "code",
   "execution_count": 57,
   "metadata": {},
   "outputs": [
    {
     "name": "stdout",
     "output_type": "stream",
     "text": [
      "80\n",
      "34\n",
      "WXP\n",
      "PNF\n",
      "CLA\n",
      "WRC\n",
      "ICW\n",
      "CMP\n",
      "ABS\n",
      "DAT\n",
      "EMP\n",
      "MET\n",
      "IMP\n",
      "SUB\n",
      "ELU\n",
      "FWK\n",
      "APR\n",
      "ANA\n",
      "DFC\n",
      "NOV\n",
      "EXP\n",
      "ACD\n",
      "TNF\n",
      "RES\n",
      "OAL\n",
      "PDI\n",
      "VHN\n",
      "IAF\n",
      "PTN\n",
      "LAD\n",
      "BIB\n",
      "EXT\n",
      "INT\n",
      "RWK\n",
      "REC\n",
      "IST\n"
     ]
    }
   ],
   "source": [
    "print(len(all_cats))\n",
    "\n",
    "all_cats = [x.split('-')[0] for x in all_cats]\n",
    "\n",
    "print(len(set(all_cats)))\n",
    "\n",
    "for cat in set(all_cats):\n",
    "    print(cat)\n",
    "\n",
    "    # if cat == 'SUG':\n",
    "    #     print('SUG', all_cats.count(cat))"
   ]
  },
  {
   "cell_type": "code",
   "execution_count": 54,
   "metadata": {},
   "outputs": [
    {
     "name": "stdout",
     "output_type": "stream",
     "text": [
      "['TLM', 'RWK-NEU', 'BIB-NEG', 'SUG']\n"
     ]
    }
   ],
   "source": [
    "example_string = \" This should be moved to the appendix. You should also add a short summary of the TLM architecture to the main paper body.\\[[RWK-NEU,BIB-NEG], [SUG]] n\\n* \"\n",
    "\n",
    "# Regular expression to extract categories\n",
    "pattern = r'\\b([A-Z]{3}(?:-[A-Z]{3})?)\\b'\n",
    "\n",
    "# Find all matches\n",
    "matches = re.findall(pattern, example_string)\n",
    "\n",
    "print(matches)"
   ]
  },
  {
   "cell_type": "code",
   "execution_count": 60,
   "metadata": {},
   "outputs": [],
   "source": [
    "polite_data = pd.read_csv('../data/polite-peer/PolitenessTone-COMBINED.csv')"
   ]
  },
  {
   "cell_type": "code",
   "execution_count": 63,
   "metadata": {},
   "outputs": [
    {
     "data": {
      "text/plain": [
       "0       Please refer to the paper Discovering structur...\n",
       "1       One issue of the use of cross task transfer pe...\n",
       "2       Learning incoherent sparse and low rank patter...\n",
       "3       However , a disadvantage of the proposed metho...\n",
       "4       - Comparison with existing clustered MTL metho...\n",
       "                              ...                        \n",
       "2495          Changes made by the authors are acceptable.\n",
       "2496    In my opinion the new version of the paper is ...\n",
       "2497    This paper presents Power Quality Disturbance ...\n",
       "2498    The paper presentation is good. \\n However, Cr...\n",
       "2499    In this paper it can be seen that authors hard...\n",
       "Name: review, Length: 2500, dtype: object"
      ]
     },
     "execution_count": 63,
     "metadata": {},
     "output_type": "execute_result"
    }
   ],
   "source": [
    "polite_data['review']"
   ]
  },
  {
   "cell_type": "code",
   "execution_count": 66,
   "metadata": {},
   "outputs": [
    {
     "name": "stdout",
     "output_type": "stream",
     "text": [
      "2500\n",
      "Avg length: 21.2876\n"
     ]
    },
    {
     "data": {
      "image/png": "[encoded data removed]",
      "text/plain": [
       "<Figure size 640x480 with 1 Axes>"
      ]
     },
     "metadata": {},
     "output_type": "display_data"
    }
   ],
   "source": [
    "polite_data\n",
    "from matplotlib import pyplot as plt\n",
    "import statistics\n",
    "\n",
    "lengths = [len(str(x).split()) for x in polite_data['review']]\n",
    "avg = statistics.mean(lengths) \n",
    "print(len(lengths))\n",
    "print(f'Avg length: {avg}')\n",
    "plt.hist(lengths,  )\n",
    "plt.show()\n"
   ]
  }
 ],
 "metadata": {
  "kernelspec": {
   "display_name": "base",
   "language": "python",
   "name": "python3"
  },
  "language_info": {
   "codemirror_mode": {
    "name": "ipython",
    "version": 3
   },
   "file_extension": ".py",
   "mimetype": "text/x-python",
   "name": "python",
   "nbconvert_exporter": "python",
   "pygments_lexer": "ipython3",
   "version": "3.10.13"
  }
 },
 "nbformat": 4,
 "nbformat_minor": 2
}
