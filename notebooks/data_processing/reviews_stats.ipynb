{
 "cells": [
  {
   "cell_type": "code",
   "execution_count": 2,
   "metadata": {},
   "outputs": [],
   "source": [
    "\n",
    "import pandas as pd\n",
    "import numpy as np\n",
    "import matplotlib.pyplot as plt\n",
    "df = pd.read_csv('../../data/reviewer2_ARR_2022_manual_split_reviews.csv')"
   ]
  },
  {
   "cell_type": "code",
   "execution_count": 3,
   "metadata": {},
   "outputs": [
    {
     "data": {
      "text/plain": [
       "374"
      ]
     },
     "execution_count": 3,
     "metadata": {},
     "output_type": "execute_result"
    }
   ],
   "source": [
    "len(df)"
   ]
  },
  {
   "cell_type": "code",
   "execution_count": 29,
   "metadata": {},
   "outputs": [
    {
     "name": "stdout",
     "output_type": "stream",
     "text": [
      "mean: 190.8181818181818 std: 69.1400507758936 min: 121.67813104228821 max: 259.9582325940754\n"
     ]
    },
    {
     "data": {
      "image/png": "[encoded data removed]",
      "text/plain": [
       "<Figure size 640x480 with 1 Axes>"
      ]
     },
     "metadata": {},
     "output_type": "display_data"
    }
   ],
   "source": [
    "lengths = [len(x.split()) for x in df['focused_review'].tolist()]\n",
    "lengths = [x for x in lengths if x < 600 and x > 10]\n",
    "\n",
    "lengths = np.array(lengths)\n",
    "mean, std = np.mean(lengths.astype(int)), np.std(lengths.astype(int))\n",
    "\n",
    "min_length, max_length = mean-std, mean+std\n",
    "\n",
    "\n",
    "print('mean:', mean, 'std:', std, 'min:', min_length, 'max:', max_length)\n",
    "\n",
    "hist = plt.hist(lengths, bins=50)\n",
    "\n",
    "plt.show()"
   ]
  },
  {
   "cell_type": "code",
   "execution_count": 30,
   "metadata": {},
   "outputs": [],
   "source": [
    "temp =[]\n",
    "for row in df.iterrows():\n",
    "    row = row[1]\n",
    "    if len(row['focused_review'].split()) > min_length and len(row['focused_review'].split()) < max_length:\n",
    "        temp.append(row['focused_review'])\n",
    "\n",
    "with open('temp.txt', 'w') as f:\n",
    "    for r in temp:\n",
    "        f.write(r + '\\n\\n' + '='*50 + '\\n\\n')\n"
   ]
  },
  {
   "cell_type": "markdown",
   "metadata": {},
   "source": []
  },
  {
   "cell_type": "markdown",
   "metadata": {},
   "source": []
  }
 ],
 "metadata": {
  "kernelspec": {
   "display_name": "Python 3",
   "language": "python",
   "name": "python3"
  },
  "language_info": {
   "codemirror_mode": {
    "name": "ipython",
    "version": 3
   },
   "file_extension": ".py",
   "mimetype": "text/x-python",
   "name": "python",
   "nbconvert_exporter": "python",
   "pygments_lexer": "ipython3",
   "version": "3.10.12"
  }
 },
 "nbformat": 4,
 "nbformat_minor": 2
}
