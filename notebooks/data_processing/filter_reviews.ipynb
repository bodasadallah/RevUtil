{
 "cells": [
  {
   "cell_type": "code",
   "execution_count": 11,
   "metadata": {},
   "outputs": [],
   "source": [
    "\n",
    "import pandas as pd\n",
    "import numpy as np\n",
    "import matplotlib.pyplot as plt\n",
    "df = pd.read_csv('../../data/reviewer2_ARR_2022_reviews_gemma2.csv')"
   ]
  },
  {
   "cell_type": "code",
   "execution_count": 7,
   "metadata": {},
   "outputs": [
    {
     "data": {
      "text/plain": [
       "573"
      ]
     },
     "execution_count": 7,
     "metadata": {},
     "output_type": "execute_result"
    }
   ],
   "source": [
    "len(df)"
   ]
  },
  {
   "cell_type": "code",
   "execution_count": 20,
   "metadata": {},
   "outputs": [
    {
     "name": "stdout",
     "output_type": "stream",
     "text": [
      "mean: 211.1405109489051 std: 124.57447410982289 min: 86.56603683908222 max: 335.71498505872796\n"
     ]
    },
    {
     "data": {
      "image/png": "[encoded data removed]",
      "text/plain": [
       "<Figure size 640x480 with 1 Axes>"
      ]
     },
     "metadata": {},
     "output_type": "display_data"
    }
   ],
   "source": [
    "lengths = [len(x.split()) for x in df['focused_review'].tolist()]\n",
    "lengths = [x for x in lengths if x < 600 and x > 10]\n",
    "\n",
    "lengths = np.array(lengths)\n",
    "mean, std = np.mean(lengths.astype(int)), np.std(lengths.astype(int))\n",
    "\n",
    "min_length, max_length = mean-std, mean+std\n",
    "\n",
    "\n",
    "print('mean:', mean, 'std:', std, 'min:', min_lengt, 'max:', max_length)\n",
    "\n",
    "hist = plt.hist(lengths, bins=50)\n",
    "\n",
    "plt.show()"
   ]
  },
  {
   "cell_type": "code",
   "execution_count": 22,
   "metadata": {},
   "outputs": [],
   "source": [
    "temp =[]\n",
    "for row in df.iterrows():\n",
    "    row = row[1]\n",
    "    if len(row['focused_review'].split()) > min_length and len(row['focused_review'].split()) < max_length:\n",
    "        temp.append(row['focused_review'])\n",
    "\n",
    "with open('temp.txt', 'w') as f:\n",
    "    for r in temp:\n",
    "        f.write(r + '\\n\\n' + '='*50 + '\\n\\n')\n"
   ]
  },
  {
   "cell_type": "code",
   "execution_count": null,
   "metadata": {},
   "outputs": [],
   "source": []
  }
 ],
 "metadata": {
  "kernelspec": {
   "display_name": "Python 3",
   "language": "python",
   "name": "python3"
  },
  "language_info": {
   "codemirror_mode": {
    "name": "ipython",
    "version": 3
   },
   "file_extension": ".py",
   "mimetype": "text/x-python",
   "name": "python",
   "nbconvert_exporter": "python",
   "pygments_lexer": "ipython3",
   "version": "3.10.12"
  }
 },
 "nbformat": 4,
 "nbformat_minor": 2
}
