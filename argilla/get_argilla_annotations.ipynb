{
 "cells": [
  {
   "cell_type": "code",
   "execution_count": 1,
   "metadata": {},
   "outputs": [
    {
     "name": "stderr",
     "output_type": "stream",
     "text": [
      "/home/abdelrahman.sadallah/mambaforge/envs/nlp/lib/python3.10/site-packages/tqdm/auto.py:21: TqdmWarning: IProgress not found. Please update jupyter and ipywidgets. See https://ipywidgets.readthedocs.io/en/stable/user_install.html\n",
      "  from .autonotebook import tqdm as notebook_tqdm\n"
     ]
    },
    {
     "name": "stdout",
     "output_type": "stream",
     "text": [
      "/home/abdelrahman.sadallah/mbzuai/review_rewrite\n"
     ]
    }
   ],
   "source": [
    "import argilla as rg\n",
    "from datasets import load_dataset\n",
    "import os\n",
    "import sys\n",
    "from pathlib import Path\n",
    "module_path = Path(os.path.abspath(\"\")).parent\n",
    "print(module_path)\n",
    "sys.path.append(str(module_path))\n",
    "import inference.utils as utils\n",
    "from dotenv import load_dotenv\n",
    "load_dotenv()\n",
    "\n",
    "argilla_api_url = os.getenv(\"argilla_api_url\")\n",
    "argilla_api_key = os.getenv(\"argilla_api_key\")\n",
    "\n",
    "client = rg.Argilla(\n",
    "  api_url=argilla_api_url,\n",
    "  api_key=argilla_api_key\n",
    ")"
   ]
  },
  {
   "cell_type": "code",
   "execution_count": 2,
   "metadata": {},
   "outputs": [],
   "source": [
    "\n",
    "BATCH = 7\n",
    "## get annotations\n",
    "credentials_file = f'/home/abdelrahman.sadallah/mbzuai/review_rewrite/data/human_annotation_{BATCH}/annotators_credentials.txt'\n",
    "annotators_credentials = utils.read_from_file(credentials_file)\n",
    "NUM_ANNOTATORS = len(annotators_credentials)\n",
    "\n",
    "usernames = []\n",
    "annotators = []\n",
    "datasets = client.datasets.list()\n",
    "human_annotations = []\n",
    "annotations = []\n",
    "# for user in client.users:\n",
    "\n",
    "#     # if user.role != \"annotator\":\n",
    "#     #     continue\n",
    "#     annotators.append({\n",
    "#         'user': user,\n",
    "#     })\n",
    "\n",
    "for user in annotators_credentials:\n",
    "\n",
    "    # if user.role != \"annotator\":\n",
    "    #     continue\n",
    "\n",
    "    annotators.append({\n",
    "        'user': user['username'],\n",
    "    })\n",
    "\n",
    "\n",
    "\n",
    "\n",
    "for ws in client.workspaces:\n",
    "    ws_name = ws.name\n",
    "    ds_name = ws.datasets[0].name\n",
    "\n",
    "    # if ds_name.split('_')[-1] not in [x['username'] for x in annotators_credentials]:\n",
    "    #     continue\n",
    "\n",
    "    ds = client.datasets(workspace=ws_name, name=ds_name)\n",
    "    \n",
    "    if ds.progress()['completed'] >= 10:\n",
    "        human_annotations.append(ds)\n",
    "\n",
    "\n",
    "\n",
    "\n"
   ]
  },
  {
   "cell_type": "code",
   "execution_count": 3,
   "metadata": {},
   "outputs": [
    {
     "data": {
      "text/plain": [
       "'review_evaluation_boda'"
      ]
     },
     "execution_count": 3,
     "metadata": {},
     "output_type": "execute_result"
    }
   ],
   "source": [
    "ds_name"
   ]
  },
  {
   "cell_type": "code",
   "execution_count": 4,
   "metadata": {},
   "outputs": [
    {
     "name": "stderr",
     "output_type": "stream",
     "text": [
      "Saving the dataset (1/1 shards): 100%|██████████| 200/200 [00:00<00:00, 10503.22 examples/s]\n",
      "/home/abdelrahman.sadallah/mambaforge/envs/nlp/lib/python3.10/site-packages/argilla/_models/_record/_response.py:43: UserWarning: `user_id` not provided, so it will be set to `None`. Which is not an issue, unless you're planning to log the response in Argilla, as it will be automatically set to the active `user_id`.\n",
      "  warnings.warn(\n",
      "Saving the dataset (1/1 shards): 100%|██████████| 200/200 [00:00<00:00, 15902.57 examples/s]\n",
      "Saving the dataset (1/1 shards): 100%|██████████| 200/200 [00:00<00:00, 14857.88 examples/s]\n"
     ]
    }
   ],
   "source": [
    "for ds in human_annotations:\n",
    "    annotator_id = ds.name.split('_')[-1]\n",
    "    hf_ds = ds.records.to_datasets()\n",
    "    hf_ds.save_to_disk(f'/home/abdelrahman.sadallah/mbzuai/review_rewrite/data/human_annotation_{BATCH}/{annotator_id}')"
   ]
  }
 ],
 "metadata": {
  "kernelspec": {
   "display_name": "Python 3",
   "language": "python",
   "name": "python3"
  },
  "language_info": {
   "codemirror_mode": {
    "name": "ipython",
    "version": 3
   },
   "file_extension": ".py",
   "mimetype": "text/x-python",
   "name": "python",
   "nbconvert_exporter": "python",
   "pygments_lexer": "ipython3",
   "version": "3.10.14"
  }
 },
 "nbformat": 4,
 "nbformat_minor": 2
}
