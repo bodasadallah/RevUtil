{
 "cells": [
  {
   "cell_type": "code",
   "execution_count": 1,
   "metadata": {},
   "outputs": [
    {
     "name": "stderr",
     "output_type": "stream",
     "text": [
      "/home/abdelrahman.sadallah/mambaforge/envs/nlp/lib/python3.10/site-packages/tqdm/auto.py:21: TqdmWarning: IProgress not found. Please update jupyter and ipywidgets. See https://ipywidgets.readthedocs.io/en/stable/user_install.html\n",
      "  from .autonotebook import tqdm as notebook_tqdm\n"
     ]
    },
    {
     "name": "stdout",
     "output_type": "stream",
     "text": [
      "/home/abdelrahman.sadallah/mbzuai/review_rewrite\n"
     ]
    }
   ],
   "source": [
    "import argilla as rg\n",
    "from datasets import load_dataset\n",
    "import os\n",
    "import sys\n",
    "from pathlib import Path\n",
    "module_path = Path(os.path.abspath(\"\")).parent\n",
    "print(module_path)\n",
    "sys.path.append(str(module_path))\n",
    "import inference.utils as utils\n",
    "from dotenv import load_dotenv\n",
    "load_dotenv()\n",
    "\n",
    "argilla_api_url = os.getenv(\"argilla_api_url\")\n",
    "argilla_api_key = os.getenv(\"argilla_api_key\")\n",
    "\n",
    "client = rg.Argilla(\n",
    "  api_url=argilla_api_url,\n",
    "  api_key=argilla_api_key\n",
    ")\n",
    "\n"
   ]
  },
  {
   "cell_type": "code",
   "execution_count": 2,
   "metadata": {},
   "outputs": [
    {
     "data": {
      "text/plain": [
       "'boda'"
      ]
     },
     "execution_count": 2,
     "metadata": {},
     "output_type": "execute_result"
    }
   ],
   "source": [
    "client.me.username"
   ]
  },
  {
   "cell_type": "code",
   "execution_count": 3,
   "metadata": {},
   "outputs": [],
   "source": [
    "##### Create Admin user\n",
    "owner_user = rg.User(\n",
    "    username=\"tim\",\n",
    "    first_name=\"Tim\",\n",
    "    last_name=\"Baumgärtner\",\n",
    "    role=\"owner\",\n",
    "    password=\"123456789\",\n",
    "    client=client\n",
    ")\n",
    "\n",
    "if not client.users(owner_user.username):\n",
    "    owner_user.create()"
   ]
  },
  {
   "cell_type": "code",
   "execution_count": 4,
   "metadata": {},
   "outputs": [],
   "source": [
    "\n",
    "NUM_ANNOTATORS = 5\n",
    "credentials_file = '../data/human_annotation_6/annotators_credentials.txt'\n",
    "\n",
    "## Create a list of uesrnames and passwords with \n",
    "user_data = utils.generate_username_password_list(NUM_ANNOTATORS)\n",
    "utils.save_to_file( user_data, credentials_file)\n"
   ]
  },
  {
   "cell_type": "code",
   "execution_count": 5,
   "metadata": {},
   "outputs": [
    {
     "name": "stderr",
     "output_type": "stream",
     "text": [
      "/home/abdelrahman.sadallah/mambaforge/envs/nlp/lib/python3.10/site-packages/argilla/client.py:253: UserWarning: Workspace with name 'hgdl9t28' not found.\n",
      "  warnings.warn(f\"Workspace with name {name!r} not found.\")\n"
     ]
    },
    {
     "name": "stdout",
     "output_type": "stream",
     "text": [
      "Created workspace for hgdl9t28\n"
     ]
    },
    {
     "name": "stderr",
     "output_type": "stream",
     "text": [
      "/home/abdelrahman.sadallah/mambaforge/envs/nlp/lib/python3.10/site-packages/argilla/client.py:253: UserWarning: Workspace with name 's46d5sbV' not found.\n",
      "  warnings.warn(f\"Workspace with name {name!r} not found.\")\n"
     ]
    },
    {
     "name": "stdout",
     "output_type": "stream",
     "text": [
      "Created workspace for s46d5sbV\n"
     ]
    },
    {
     "name": "stderr",
     "output_type": "stream",
     "text": [
      "/home/abdelrahman.sadallah/mambaforge/envs/nlp/lib/python3.10/site-packages/argilla/client.py:253: UserWarning: Workspace with name 'fE6PLgbe' not found.\n",
      "  warnings.warn(f\"Workspace with name {name!r} not found.\")\n"
     ]
    },
    {
     "name": "stdout",
     "output_type": "stream",
     "text": [
      "Created workspace for fE6PLgbe\n"
     ]
    },
    {
     "name": "stderr",
     "output_type": "stream",
     "text": [
      "/home/abdelrahman.sadallah/mambaforge/envs/nlp/lib/python3.10/site-packages/argilla/client.py:253: UserWarning: Workspace with name 'm9Ljy7l4' not found.\n",
      "  warnings.warn(f\"Workspace with name {name!r} not found.\")\n"
     ]
    },
    {
     "name": "stdout",
     "output_type": "stream",
     "text": [
      "Created workspace for m9Ljy7l4\n"
     ]
    },
    {
     "name": "stderr",
     "output_type": "stream",
     "text": [
      "/home/abdelrahman.sadallah/mambaforge/envs/nlp/lib/python3.10/site-packages/argilla/client.py:253: UserWarning: Workspace with name 'MQWGFD2n' not found.\n",
      "  warnings.warn(f\"Workspace with name {name!r} not found.\")\n"
     ]
    },
    {
     "name": "stdout",
     "output_type": "stream",
     "text": [
      "Created workspace for MQWGFD2n\n"
     ]
    },
    {
     "name": "stderr",
     "output_type": "stream",
     "text": [
      "/home/abdelrahman.sadallah/mambaforge/envs/nlp/lib/python3.10/site-packages/argilla/client.py:253: UserWarning: Workspace with name 'tim' not found.\n",
      "  warnings.warn(f\"Workspace with name {name!r} not found.\")\n"
     ]
    },
    {
     "name": "stdout",
     "output_type": "stream",
     "text": [
      "Created workspace for tim\n"
     ]
    },
    {
     "name": "stderr",
     "output_type": "stream",
     "text": [
      "/home/abdelrahman.sadallah/mambaforge/envs/nlp/lib/python3.10/site-packages/argilla/client.py:253: UserWarning: Workspace with name 'boda' not found.\n",
      "  warnings.warn(f\"Workspace with name {name!r} not found.\")\n"
     ]
    },
    {
     "name": "stdout",
     "output_type": "stream",
     "text": [
      "Created workspace for boda\n"
     ]
    }
   ],
   "source": [
    "### Create annotator Users\n",
    "\n",
    "annotators = []\n",
    "\n",
    "annotators_credentials = utils.read_from_file(credentials_file)\n",
    "\n",
    "assert len(annotators_credentials) == NUM_ANNOTATORS\n",
    "\n",
    "\n",
    "# delete all users and workspaces\n",
    "for user in client.users:\n",
    "    if user.role == 'annotator':\n",
    "        user.delete()\n",
    "        \n",
    "# Delete all datasets\n",
    "for ds in client.datasets:\n",
    "    ds.delete()\n",
    "for workspace in client.workspaces:\n",
    "    workspace.delete()\n",
    "\n",
    "for i in range(NUM_ANNOTATORS):\n",
    "    \n",
    "    ## Create user\n",
    "\n",
    "    annotator_user = rg.User(\n",
    "        username=annotators_credentials[i]['username'],\n",
    "        password=annotators_credentials[i]['password'],\n",
    "        role=\"annotator\",\n",
    "        client=client\n",
    "    )\n",
    "\n",
    "    annotator_user.create()\n",
    "\n",
    "    ## create workspace per uesr\n",
    "    if not client.workspaces(annotator_user.username):\n",
    "        rg.Workspace(\n",
    "            name=annotator_user.username,\n",
    "            client=client\n",
    "        ).create()\n",
    "        print(f\"Created workspace for {annotator_user.username}\")\n",
    "\n",
    "    ## add user to workspace\n",
    "    client.workspaces(annotator_user.username).add_user(annotator_user.username)\n",
    "\n",
    "    ##\n",
    "    annotators.append({'user': annotator_user, 'workspace': client.workspaces(annotator_user.username)})\n",
    "\n",
    "## Create a workspace for the owner\n",
    "if not client.workspaces(owner_user.username):\n",
    "    rg.Workspace(\n",
    "        name=owner_user.username,\n",
    "        client=client\n",
    "    ).create()\n",
    "    print(f\"Created workspace for {owner_user.username}\")\n",
    "\n",
    "## Create a workspace for the Boda\n",
    "if not client.workspaces('boda'):\n",
    "    rg.Workspace(\n",
    "        name='boda',\n",
    "        client=client\n",
    "    ).create()\n",
    "    print(f\"Created workspace for boda\")\n",
    "    "
   ]
  },
  {
   "cell_type": "code",
   "execution_count": 6,
   "metadata": {},
   "outputs": [],
   "source": [
    "### Define Fields \n",
    "fields = [\n",
    "rg.TextField(\n",
    "    name=\"review_point\",\n",
    "    title=\"Review Point\",\n",
    "    use_markdown=False,\n",
    "    required=True,\n",
    "    description=\"Review point extracted from the full review. You are only required to evalutae this specific review poin, and not the full review.\",\n",
    "),\n",
    "# rg.TextField(\n",
    "#     name=\"review\",\n",
    "#     title=\"Review\",\n",
    "#     use_markdown=False,\n",
    "#     required=True,\n",
    "#     description=\"Full review text. Only use this if you needed context to evaluate the review point.\",\n",
    "# ),\n",
    "]"
   ]
  },
  {
   "cell_type": "code",
   "execution_count": 7,
   "metadata": {},
   "outputs": [],
   "source": [
    "questions = [\n",
    "rg.LabelQuestion(\n",
    "    name=\"actionability\",\n",
    "    labels={\n",
    "    \"1\": \"Unactionable\", \n",
    "    \"2\": \"Borderline Actionable\", \n",
    "    \"3\": \"Somewhat Actionable\", \n",
    "    \"4\": \"Mostly Actionable\", \n",
    "    \"5\": \"Highly Actionable\"\n",
    "    },\n",
    "    title=\"What is the Actiobability of the Review Point?\",\n",
    "    description='''\n",
    "Actionability refers to the clarity and specificity of guidance provided in review comments, ensuring authors know what actions to take to improve their work. Highly actionable feedback is both explicit and concrete, offering direct suggestions or clearly defined steps that authors can easily implement, whereas less actionable feedback may be vague, implicit, or leave authors uncertain about how to proceed. \n",
    "    ''',\n",
    "    required=True,\n",
    "    visible_labels=None\n",
    "),\n",
    "\n",
    "\n",
    "rg.LabelQuestion(\n",
    "    name=\"grounding_specificity\",\n",
    "    labels={\n",
    "        \"1\": \"Not Grounded\",\n",
    "        \"2\": \"Weakly grounded and not specific\",\n",
    "        \"3\": \"Weakly grounded and specific\",\n",
    "        \"4\": \"Fully grounded and not specific\",\n",
    "        \"5\": \"Fully grounded and specific\"},\n",
    "    title=\"How Grounded and Specific is the Review Point?\",\n",
    "    description='''Grounding and specificity refer to how clearly a review comment identifies the specific part of a paper being addressed (grounding) and how detailed the comment is in explaining the issue or suggestion (specificity). These aspects are crucial for ensuring authors can accurately pinpoint and address the feedback, improving the quality and relevance of revisions.''',\n",
    "    required=True,\n",
    "    visible_labels=5),\n",
    "\n",
    "rg.LabelQuestion(\n",
    "    name=\"verifiability\",\n",
    "    labels={\n",
    "        \"1\": \"Unverifiable\",\n",
    "        \"2\": \"Borderline verifiable\",\n",
    "        \"3\": \"Somewhat verifiable\",\n",
    "        \"4\": \"Mostly verifiable\",\n",
    "        \"5\": \"Fully verifiable\",\n",
    "        \"X\": \"No Claim\"},\n",
    "    title=\"How Verifiable is the Review Point?\",\n",
    "    description='''Verifiability refers to assessing whether a comment contains a claim or subjective opinion and, if so, how well that claim is supported with justification. Justification can include logical reasoning, common-sense arguments, or references, ensuring the claim is clear, substantiated, and helpful for authors to act upon.''',\n",
    "    required=True,\n",
    "    visible_labels=6),\n",
    "\n",
    "rg.LabelQuestion(\n",
    "    name=\"helpfulness\",\n",
    "    labels={\n",
    "        \"1\": \"The comment is not helpful at all\",\n",
    "        \"2\": \"The comment is barely helpful\",\n",
    "        \"3\": \"The comment is somewhat helpful\",\n",
    "        \"4\": \"The comment is mostly helpful\",\n",
    "        \"5\": \"The comment is highly helpful\"},\n",
    "    title=\"How Helpful is the Review Point?\",\n",
    "    description='''\n",
    "Helpfulness measures the value of a review comment to authors in improving their work, rated on a scale from 1 (not helpful at all) to 5 (highly helpful). Higher scores correspond to comments that identify weaknesses with clear, actionable suggestions, while lower scores reflect vague or unconstructive feedback that offers little guidance.''',\n",
    "    required=True,\n",
    "    visible_labels=5),\n",
    "\n",
    "rg.LabelQuestion(\n",
    "    name=\"professional_tone\",\n",
    "    labels={\n",
    "        \"0\": \"No\",\n",
    "        \"1\": \"Yes\",},\n",
    "    title=\"Is the review conducted in a Professional Tone?\",\n",
    "    description='''\n",
    "Professional Tone assesses the formality, respect, and clarity of language in peer reviews, ensuring constructive, respectful, and impartial feedback that fosters collaboration and focuses on the work rather than the individual.''',\n",
    "    required=False,\n",
    "    # visible_labels=2\n",
    "    ),\n",
    "\n",
    "rg.LabelQuestion(\n",
    "    name=\"valid_point\",\n",
    "    labels={\n",
    "        \"1\": \"Yes\",\n",
    "        \"0\": \"No\",},\n",
    "    title=\"Is this review point not complete (it can not be evaluated)?\",\n",
    "    description=\"If the review point is not complete, please select 'Yes'. Otherwise, select 'No'.\",\n",
    "    required=False,\n",
    "),\n",
    "rg.LabelQuestion(\n",
    "    name=\"addressed_to_author\",\n",
    "    labels={\n",
    "        \"authors\": \"Authors\",\n",
    "        \"meta_reviewer\": \"Meta Reviewer\",},\n",
    "    title=\"Is this comment addressed to the authors or the meta-reviewer?\",\n",
    "    description=\"Who do you think the comment is addressed to?\",\n",
    "    required=False,\n",
    ")\n",
    "]"
   ]
  },
  {
   "cell_type": "code",
   "execution_count": 8,
   "metadata": {},
   "outputs": [],
   "source": [
    "## read a markdown file and store it into string\n",
    "with open('/home/abdelrahman.sadallah/mbzuai/review_rewrite/data/guidelines_short.md', 'r') as file:\n",
    "    guidelines =  file.read()"
   ]
  },
  {
   "cell_type": "code",
   "execution_count": 9,
   "metadata": {},
   "outputs": [],
   "source": [
    "\n",
    "settings = rg.Settings(\n",
    "    fields=fields,\n",
    "    questions=questions,\n",
    "    guidelines=guidelines,\n",
    "    allow_extra_metadata=True,\n",
    "    distribution=rg.TaskDistribution(min_submitted=1),\n",
    ")\n",
    "\n"
   ]
  },
  {
   "cell_type": "code",
   "execution_count": 10,
   "metadata": {},
   "outputs": [
    {
     "name": "stderr",
     "output_type": "stream",
     "text": [
      "Generating train split: 100%|██████████| 200/200 [00:00<00:00, 7809.17 examples/s]\n"
     ]
    }
   ],
   "source": [
    "hf_dataset = load_dataset(\"boda/review_evaluation_main_4\", split=\"train\")\n",
    "\n",
    "## take only first 25 entries \n",
    "# hf_dataset = hf_dataset.select(range(50))\n",
    "\n",
    "## save the chosen ids to a file\n"
   ]
  },
  {
   "cell_type": "code",
   "execution_count": 11,
   "metadata": {},
   "outputs": [],
   "source": [
    "\n",
    "# hf_dataset = hf_dataset.remove_columns(column_names=['paper_id', 'venue','actionability',\n",
    "#  'grounding_specificity',\n",
    "#  'verifiability',\n",
    "#  'helpfulness',\n",
    "#  'appropriateness',\n",
    "#  'Do you need full review?'])"
   ]
  },
  {
   "cell_type": "code",
   "execution_count": 12,
   "metadata": {},
   "outputs": [
    {
     "name": "stderr",
     "output_type": "stream",
     "text": [
      "/home/abdelrahman.sadallah/mambaforge/envs/nlp/lib/python3.10/site-packages/argilla/client.py:354: UserWarning: Dataset with name 'review_evaluation' not found in workspace 'hgdl9t28'\n",
      "  warnings.warn(f\"Dataset with name {name!r} not found in workspace {workspace.name!r}\")\n",
      "/home/abdelrahman.sadallah/mambaforge/envs/nlp/lib/python3.10/site-packages/argilla/records/_io/_datasets.py:265: UserWarning: Record id column not found in Hugging Face dataset. Using row index and split for record ids.\n",
      "  warnings.warn(\n",
      "Map: 100%|██████████| 200/200 [00:00<00:00, 10072.41 examples/s]\n",
      "/home/abdelrahman.sadallah/mambaforge/envs/nlp/lib/python3.10/site-packages/argilla/records/_mapping/_mapper.py:89: UserWarning: Keys ['paper_id', 'venue', 'focused_review', 'point'] in data are not present in the mapping and will be ignored.\n",
      "  warnings.warn(f\"Keys {unknown_keys} in data are not present in the mapping and will be ignored.\")\n"
     ]
    },
    {
     "data": {
      "text/html": [
       "<pre style=\"white-space:pre;overflow-x:auto;line-height:normal;font-family:Menlo,'DejaVu Sans Mono',consolas,'Courier New',monospace\">DatasetRecords: The provided batch size <span style=\"color: #008080; text-decoration-color: #008080; font-weight: bold\">256</span> was normalized. Using value <span style=\"color: #008080; text-decoration-color: #008080; font-weight: bold\">200</span>.\n",
       "</pre>\n"
      ],
      "text/plain": [
       "DatasetRecords: The provided batch size \u001b[1;36m256\u001b[0m was normalized. Using value \u001b[1;36m200\u001b[0m.\n"
      ]
     },
     "metadata": {},
     "output_type": "display_data"
    },
    {
     "name": "stderr",
     "output_type": "stream",
     "text": [
      "Sending records...: 100%|██████████| 1/1 [00:12<00:00, 12.38s/batch]\n",
      "/home/abdelrahman.sadallah/mambaforge/envs/nlp/lib/python3.10/site-packages/argilla/records/_io/_datasets.py:265: UserWarning: Record id column not found in Hugging Face dataset. Using row index and split for record ids.\n",
      "  warnings.warn(\n"
     ]
    },
    {
     "data": {
      "text/html": [
       "<pre style=\"white-space:pre;overflow-x:auto;line-height:normal;font-family:Menlo,'DejaVu Sans Mono',consolas,'Courier New',monospace\">DatasetRecords: The provided batch size <span style=\"color: #008080; text-decoration-color: #008080; font-weight: bold\">256</span> was normalized. Using value <span style=\"color: #008080; text-decoration-color: #008080; font-weight: bold\">200</span>.\n",
       "</pre>\n"
      ],
      "text/plain": [
       "DatasetRecords: The provided batch size \u001b[1;36m256\u001b[0m was normalized. Using value \u001b[1;36m200\u001b[0m.\n"
      ]
     },
     "metadata": {},
     "output_type": "display_data"
    },
    {
     "name": "stderr",
     "output_type": "stream",
     "text": [
      "Sending records...: 100%|██████████| 1/1 [00:12<00:00, 12.16s/batch]\n"
     ]
    },
    {
     "data": {
      "text/html": [
       "<pre style=\"white-space:pre;overflow-x:auto;line-height:normal;font-family:Menlo,'DejaVu Sans Mono',consolas,'Courier New',monospace\">DatasetRecords: The provided batch size <span style=\"color: #008080; text-decoration-color: #008080; font-weight: bold\">256</span> was normalized. Using value <span style=\"color: #008080; text-decoration-color: #008080; font-weight: bold\">200</span>.\n",
       "</pre>\n"
      ],
      "text/plain": [
       "DatasetRecords: The provided batch size \u001b[1;36m256\u001b[0m was normalized. Using value \u001b[1;36m200\u001b[0m.\n"
      ]
     },
     "metadata": {},
     "output_type": "display_data"
    },
    {
     "name": "stderr",
     "output_type": "stream",
     "text": [
      "Sending records...: 100%|██████████| 1/1 [00:12<00:00, 12.17s/batch]\n"
     ]
    },
    {
     "data": {
      "text/html": [
       "<pre style=\"white-space:pre;overflow-x:auto;line-height:normal;font-family:Menlo,'DejaVu Sans Mono',consolas,'Courier New',monospace\">DatasetRecords: The provided batch size <span style=\"color: #008080; text-decoration-color: #008080; font-weight: bold\">256</span> was normalized. Using value <span style=\"color: #008080; text-decoration-color: #008080; font-weight: bold\">200</span>.\n",
       "</pre>\n"
      ],
      "text/plain": [
       "DatasetRecords: The provided batch size \u001b[1;36m256\u001b[0m was normalized. Using value \u001b[1;36m200\u001b[0m.\n"
      ]
     },
     "metadata": {},
     "output_type": "display_data"
    },
    {
     "name": "stderr",
     "output_type": "stream",
     "text": [
      "Sending records...: 100%|██████████| 1/1 [00:12<00:00, 12.25s/batch]\n"
     ]
    },
    {
     "data": {
      "text/html": [
       "<pre style=\"white-space:pre;overflow-x:auto;line-height:normal;font-family:Menlo,'DejaVu Sans Mono',consolas,'Courier New',monospace\">DatasetRecords: The provided batch size <span style=\"color: #008080; text-decoration-color: #008080; font-weight: bold\">256</span> was normalized. Using value <span style=\"color: #008080; text-decoration-color: #008080; font-weight: bold\">200</span>.\n",
       "</pre>\n"
      ],
      "text/plain": [
       "DatasetRecords: The provided batch size \u001b[1;36m256\u001b[0m was normalized. Using value \u001b[1;36m200\u001b[0m.\n"
      ]
     },
     "metadata": {},
     "output_type": "display_data"
    },
    {
     "name": "stderr",
     "output_type": "stream",
     "text": [
      "Sending records...: 100%|██████████| 1/1 [00:12<00:00, 12.25s/batch]\n"
     ]
    },
    {
     "data": {
      "text/html": [
       "<pre style=\"white-space:pre;overflow-x:auto;line-height:normal;font-family:Menlo,'DejaVu Sans Mono',consolas,'Courier New',monospace\">DatasetRecords: The provided batch size <span style=\"color: #008080; text-decoration-color: #008080; font-weight: bold\">256</span> was normalized. Using value <span style=\"color: #008080; text-decoration-color: #008080; font-weight: bold\">200</span>.\n",
       "</pre>\n"
      ],
      "text/plain": [
       "DatasetRecords: The provided batch size \u001b[1;36m256\u001b[0m was normalized. Using value \u001b[1;36m200\u001b[0m.\n"
      ]
     },
     "metadata": {},
     "output_type": "display_data"
    },
    {
     "name": "stderr",
     "output_type": "stream",
     "text": [
      "Sending records...: 100%|██████████| 1/1 [00:12<00:00, 12.30s/batch]\n"
     ]
    },
    {
     "data": {
      "text/html": [
       "<pre style=\"white-space:pre;overflow-x:auto;line-height:normal;font-family:Menlo,'DejaVu Sans Mono',consolas,'Courier New',monospace\">DatasetRecords: The provided batch size <span style=\"color: #008080; text-decoration-color: #008080; font-weight: bold\">256</span> was normalized. Using value <span style=\"color: #008080; text-decoration-color: #008080; font-weight: bold\">200</span>.\n",
       "</pre>\n"
      ],
      "text/plain": [
       "DatasetRecords: The provided batch size \u001b[1;36m256\u001b[0m was normalized. Using value \u001b[1;36m200\u001b[0m.\n"
      ]
     },
     "metadata": {},
     "output_type": "display_data"
    },
    {
     "name": "stderr",
     "output_type": "stream",
     "text": [
      "Sending records...: 100%|██████████| 1/1 [00:12<00:00, 12.40s/batch]\n"
     ]
    },
    {
     "data": {
      "text/plain": [
       "DatasetRecords(Dataset(id=UUID('9354005c-1691-4626-8c62-dfcf2f566ebc') inserted_at=datetime.datetime(2025, 2, 2, 18, 15, 34, 141300) updated_at=datetime.datetime(2025, 2, 2, 18, 15, 37, 596535) name='review_evaluation_boda' status='ready' guidelines=\"### General instructions:  \\n- For each aspect, classify the review point to the most suitable category it belongs to.  \\n- The review point you are evaluating is addressed to the draft’s authors, who have the best knowledge of the draft's content.  \\n- The primary purpose of the review is to help/guide authors in improving their drafts. Keep this in mind while evaluating the review point. Whenever you encounter a borderline case, think: *“Will this review point help authors improve their draft?”*  \\n- If you don’t have enough context to judge the review point or the review point is not complete, then choose the most suitable labels and mark the review as not complete.  \\n- Ignore statements that are mainly mentioning strengths points. Do this by clicking the **discard** button.  \\n- If you think a review point belongs to multiple categories, give it the **lower** label.\\n- You should evaluate each aspect independently ( a review point can have the highest score on one aspect but the lowest for the other)  \\n\\n\\n# Aspects\\n\\n# Actionability  \\n\\n## Why is it important?  \\nThis aspect is essential because one of the main goals of a review is to provide specific guidance for reviewers on how they can improve the current draft.  \\nAlso, it’s important to note that just giving an action comment is not enough, as sometimes this action is ambiguous and hard to follow. Hence, we should evaluate actionability according to two points:  \\n- **Is the action stated directly, or do you need to infer it? (Explicit vs. Implicit)**  \\n- **After identifying the action, do you know how to apply it, or the action is vague? (Concrete vs. Vague)**  \\n\\n \\nIt’s more important for actions to be **concrete** so the authors know how to apply them. It’s also preferred that actions be stated **directly** rather than inferred.  \\n\\n\\n\\n## Definitions  \\n- **Explicit:** direct, explicit, or apparent actions or suggestions. Authors can directly identify modifications that they should apply to their draft. Clarification questions should be treated as explicit statements if they give a direct action.\\n- **Implicit:** actions that can be deduced. This can be in the form of questions that need to be addressed or missing parts that need to be added. Actions are not stated directly, but the authors can infer what needs to be done after reading the comment.  \\n- **Concrete:** After Identifying the action, the authors know exactly what needs to be done and how to apply the action.  \\n- **Vague:** After Identifying the action, the authors still don’t know how to carry out this action.  \\n\\n---\\n\\n## Categories:  \\n\\n### 1: Unactionable  \\nThe comment lacks any meaningful information to help the authors to improve the paper. After reading the comment, the authors do not know what they should do.  \\n\\n\\n### 2: Borderline Actionable  \\nThe comment includes an implicitly stated action, or the action can be inferred. Further, the action itself is vague and lacks detail on how to apply it.\\n\\n\\n\\n### 3: Somewhat Actionable  \\nThe comment explicitly states an action but is vague on how to execute it. \\n\\n\\n### 4: Mostly Actionable  \\nThe comment implicitly states an action but concretely states how to implement the inferred action.\\n\\n\\n### 5: Highly Actionable  \\nThe comment contains explicit action and concrete details on how to implement it. The authors know exactly how to apply it.\\n\\n# Grounding and Specificity  \\n\\n## Why is this important?  \\nThis aspect measures how explicitly a review comment is based on a part of the paper. This is important so the authors know which part of their paper causes the issue and needs to be revised. Further, it measures how specifically the comment identifies what is the issue with this part of the paper. This aspect has two dimensions: (1) what part of the paper does this comment address, and (2) what is wrong with this part?  \\n\\n### Definitions:  \\n**Grounding:** measures how well the authors can identify what is being addressed by the comment. (This can be no grounding, weak grounding, or full grounding).  \\n- Weak grounding means that the author can’t precisely identify the part of the paper being addressed by the point, but they have some hint or guess about it.  \\n- Full grounding means the authors can accurately identify which part is being addressed. This can be done by:  \\n  - Making literal mentions of sections, tables, figures, etc.  \\n  - The point discusses something unique to the paper that the authors can identify.  \\n  - General comments that do not need to mention specific parts of the paper, but the authors can easily infer which parts are addressed.  \\n\\n**Specificity:** measures how much the reviewer detailed what is wrong/missing in this area. If the comment mentions some external work, it also measures whether it mentions specific examples.  \\n\\n### Categories:  \\n#### 1: Not Grounded  \\nThis comment is not grounded at all. It does not identify a specific area in the paper. The comment is highly unspecific.  \\n\\n\\n#### 2: Weakly grounded and not specific  \\nThe authors can not confidently determine which part the comment addresses. Further, the comment does not specify what needs to be addressed in this part.  \\n\\n#### 3: Weakly grounded and specific  \\nThe authors can not confidently determine which part the comment addresses. However, the comment clearly specifies what needs to be addressed in this part.  \\n\\n#### 4: Fully grounded and under-specific  \\nThe comment explicitly mentions which part of that paper it addresses, or it should be obvious to the authors. However, this comment does not specify what needs to be addressed in this part.  \\n\\n#### 5: Fully grounded and specific  \\nThe comment explicitly mentions which part of that paper it addresses, it is obvious to the authors. The comment specifies what needs to be addressed in this part.  \\n\\n---\\n\\n# Verifiability:\\n\\n## Why is this important?\\nThis aspect measures whether there is a claim (i.e. a subjective opinion) in the comment and how well it is verified. You need to detect first whether this review comment contains any claims. If there are any, evaluate how well the reviewer justifies or proves this claim by providing logical reasoning, using common sense or providing references. The claims' justification or validation can come before or after the claim. Claims don’t need to be stated directly; they can also be inferred.\\n\\n## Definitions:\\n\\n### Opinion & Claims\\n- Subjective statements. For example, an opinion or a stand that the reviewer takes (like a disagreement with an experimental choice).\\n- Any suggestions or requests for changes. For example, stating that something is worth discussing, should be removed, or added.\\n- Any comments judging some parts of the paper. For example, stating something is hard to read, not detailed enough, or comments about how good or bad some section of the paper is.\\n- Any deductions or inferred observations that go beyond just stating facts or results from the paper.\\n- Generally, any phrases where the reviewer should provide evidence to back up their claim and help the authors understand it better. This can be direct or indirect:\\n  **Ex:** “Important methods like X are not discussed”. We can infer that the reviewer suggests that method X should be discussed. Hence, the reviewer should state why this method should be discussed.\\n\\n### Verification\\n- The claim is verified by providing logical reasoning.\\n- The claim is verified through common sense knowledge in the field. For example, referring to certain commonly used practices or standards.\\n- The claim is verified by providing external references.\\n\\n### Normal Statements\\n- General statements about the paper, that don’t include an opinion.\\n- Objective and factual statements that don’t need any kind of verification.\\n- Asking for clarifications and general questions.\\n- Logical statements, or things that can be inferred directly.\\n- We treat positive claims as normal sentences, as they are of little use to the authors to improve their paper.\\n  **Example:** This paper is well written, and the experimentation methods are well designed.\\n\\n---\\n\\n## Categories\\n\\n### 1: Unverifiable\\nThe comment contains a claim without any supporting evidence or justification.  \\n\\n\\n\\n### 2: Borderline Verifiable\\nThe comment provides some support for its claim, but it is insufficient, vague, or not fully articulated. The authors will struggle to follow the justification.  \\n\\n\\n\\n### 3: Somewhat Verifiable\\nThe comment provides support for its claim, but one or more key elements are missing, such as specific examples, detailed explanations, or supporting references. It requires significant effort from the authors to follow the justification.  \\n\\n\\n### 4: Mostly Verifiable\\nThe comment’s claim is sufficiently supported but has minor gaps. The reviewer could provide a more detailed explanation or reference to support their claims.  \\n\\n\\n### 5: Fully Verifiable\\nThe claim is thoroughly supported by explicit, sufficient, and robust evidence. This can be done by:\\n- Clear and precise reasoning or explanation.\\n- References to external works/data, when applicable, are specific and relevant.\\n- Common-sense arguments are logically unassailable.  \\n\\n\\n---\\n\\n### X - No Claim\\nThe comment does not contain any claim, opinion, or suggestion and consists of only factual, descriptive statements that do not require any justification.  \\n\\n--- \\n# Helpfulness:  \\nAssign a subjective score (1–5) to reflect the value of the review comment to the authors.  \\n\\n---   \\n\\n# Professional Tone\\nThis evaluates the professionalism of peer review feedback, focusing on formality, respect, and clarity. It ensures constructive, respectful, and impartial feedback that avoids personal attacks and centers on the work, fostering collaboration and improvement.\" allow_extra_metadata=True distribution=OverlapTaskDistributionModel(strategy='overlap', min_submitted=1) workspace_id=UUID('ebc4e7ca-f749-473d-a4d6-0f6af2daef6a') last_activity_at=datetime.datetime(2025, 2, 2, 18, 15, 37, 596535)))"
      ]
     },
     "execution_count": 12,
     "metadata": {},
     "output_type": "execute_result"
    }
   ],
   "source": [
    "DATA = client.datasets(name=\"review_evaluation\")\n",
    "\n",
    "\n",
    "## Delete all datasets\n",
    "# for ds in client.datasets:\n",
    "#     ds.delete()\n",
    "\n",
    "### Create dataset for each user\n",
    "for i in range(NUM_ANNOTATORS):\n",
    "    dataset = rg.Dataset(\n",
    "        name=f\"review_evaluation_{annotators[i]['user'].username}\",\n",
    "        workspace=annotators[i]['workspace'],\n",
    "        settings=settings,\n",
    "    )\n",
    "    dataset.create()\n",
    "    dataset.records.log(records=hf_dataset, mapping={\"point\": \"review_point\"})\n",
    "    # dataset.records.log(records=hf_dataset, mapping={\"focused_review\": \"review\", \"point\": \"review_point\"})\n",
    "\n",
    "## Create dataset for Boda, and Tim\n",
    "dataset = rg.Dataset(\n",
    "    name=f\"review_evaluation_tim\",\n",
    "    workspace=client.workspaces('tim'),\n",
    "    settings=settings,\n",
    ")\n",
    "dataset.create()\n",
    "dataset.records.log(records=hf_dataset, mapping={\"point\": \"review_point\"})\n",
    "dataset = rg.Dataset(\n",
    "    name=f\"review_evaluation_boda\",\n",
    "    workspace=client.workspaces('boda'),\n",
    "    settings=settings,\n",
    ")\n",
    "dataset.create()\n",
    "dataset.records.log(records=hf_dataset, mapping={\"point\": \"review_point\"})\n",
    "\n",
    "\n",
    "\n"
   ]
  },
  {
   "cell_type": "code",
   "execution_count": 13,
   "metadata": {},
   "outputs": [
    {
     "data": {
      "text/html": [
       "<h3>Datasets</h3><table><tr><th>name</th><th>id</th><th>workspace_id</th><th>updated_at</th></tr><tr><td>review_evaluation_hgdl9t28</td><td>0ce7bd4d-80b1-465e-b519-77e1d814cebe</td><td>fa6654f4-eb46-49f5-81ff-d8c5ed937b31</td><td>2025-02-02T18:13:44.741974</td></tr><tr><td>review_evaluation_s46d5sbV</td><td>a16b5311-3035-4ebb-8026-d23c48374978</td><td>b05f0bbf-1103-4b8b-a598-cd24e6f2a1aa</td><td>2025-02-02T18:14:07.044780</td></tr><tr><td>review_evaluation_fE6PLgbe</td><td>abc941ac-6c15-47b0-a1c0-14c8e5c01634</td><td>d5ae0abd-7e17-4fad-b46d-910e59df1f7c</td><td>2025-02-02T18:14:24.943928</td></tr><tr><td>review_evaluation_m9Ljy7l4</td><td>038ed6c4-7feb-4d62-af47-bc87a3ec2f3f</td><td>1bf37c02-1b15-4749-ab37-fcdb3fe4031e</td><td>2025-02-02T18:14:42.838243</td></tr><tr><td>review_evaluation_MQWGFD2n</td><td>d1eea6fc-02b4-4789-9be5-3ea8a45435cc</td><td>11b80cf8-5039-4c4a-88e8-71615ef49359</td><td>2025-02-02T18:15:00.850674</td></tr><tr><td>review_evaluation_tim</td><td>5a31b10a-67b5-468a-8c03-0d3887e8a72d</td><td>64397f8c-ea22-4def-b520-6861aa6f5749</td><td>2025-02-02T18:15:19.309552</td></tr><tr><td>review_evaluation_boda</td><td>9354005c-1691-4626-8c62-dfcf2f566ebc</td><td>ebc4e7ca-f749-473d-a4d6-0f6af2daef6a</td><td>2025-02-02T18:15:37.596535</td></tr></table>"
      ],
      "text/plain": [
       "<argilla.client.Datasets at 0x7fa1a16907f0>"
      ]
     },
     "execution_count": 13,
     "metadata": {},
     "output_type": "execute_result"
    }
   ],
   "source": [
    "client.datasets"
   ]
  }
 ],
 "metadata": {
  "kernelspec": {
   "display_name": "Python 3",
   "language": "python",
   "name": "python3"
  },
  "language_info": {
   "codemirror_mode": {
    "name": "ipython",
    "version": 3
   },
   "file_extension": ".py",
   "mimetype": "text/x-python",
   "name": "python",
   "nbconvert_exporter": "python",
   "pygments_lexer": "ipython3",
   "version": "3.10.14"
  }
 },
 "nbformat": 4,
 "nbformat_minor": 2
}
